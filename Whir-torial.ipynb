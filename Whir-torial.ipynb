{
 "metadata": {
  "name": "",
  "signature": "sha256:1ac5f10b10d85707c15360d4acaa0312d715140f02bd3cf43c8be2da6c3263b2"
 },
 "nbformat": 3,
 "nbformat_minor": 0,
 "worksheets": [
  {
   "cells": [
    {
     "cell_type": "heading",
     "level": 1,
     "metadata": {},
     "source": [
      "Whirlwind Introduction to Pandas!"
     ]
    },
    {
     "cell_type": "markdown",
     "metadata": {},
     "source": [
      "``pandas`` is a (*the*?) Python library for data analysis\n",
      "\n",
      "If you've ever found yourself looking for a way to read a CSV file into an expressive, easy-to-use container then look no further!"
     ]
    },
    {
     "cell_type": "heading",
     "level": 3,
     "metadata": {},
     "source": [
      "This is what I felt like after I discovered pandas."
     ]
    },
    {
     "cell_type": "markdown",
     "metadata": {},
     "source": [
      "<img src=\"matlab-is-over.jpg\" width=\"50%\" height=\"50%\" />"
     ]
    },
    {
     "cell_type": "markdown",
     "metadata": {},
     "source": [
      "``pandas`` functions like an in memory database, with support for operations like\n",
      "\n",
      "* ``groupby``\n",
      "* ``merge``/``join``\n",
      "* aggregations (``mean``, ``sum``, etc.)\n",
      "* advanced indexing capabilities\n",
      "* automatic data alignment during e.g., arithmetic operations\n",
      "* powerful vectorized text manipulation\n",
      "* missing data handling\n",
      "\n",
      "in addition to playing nice with *most* ``numpy`` functions (``sin``, ``log``, etc.)"
     ]
    },
    {
     "cell_type": "heading",
     "level": 3,
     "metadata": {},
     "source": [
      "Let's dive right in:"
     ]
    },
    {
     "cell_type": "heading",
     "level": 1,
     "metadata": {},
     "source": [
      "``DataFrame``"
     ]
    },
    {
     "cell_type": "markdown",
     "metadata": {},
     "source": [
      "``DataFrame`` is the flagship data structure in ``pandas`` and is what you'll be dealing with most of the time"
     ]
    },
    {
     "cell_type": "code",
     "collapsed": true,
     "input": [
      "import numpy as np\n",
      "from pandas import DataFrame\n",
      "from numpy.random import randn, randint, rand, choice"
     ],
     "language": "python",
     "metadata": {},
     "outputs": [],
     "prompt_number": 2
    },
    {
     "cell_type": "code",
     "collapsed": false,
     "input": [
      "df = DataFrame(randn(10, 2), columns=list('ab'))\n",
      "df  # IPython has an awesome custom display mechanism!"
     ],
     "language": "python",
     "metadata": {},
     "outputs": [
      {
       "html": [
        "<div style=\"max-height:1000px;max-width:1500px;overflow:auto;\">\n",
        "<table border=\"1\" class=\"dataframe\">\n",
        "  <thead>\n",
        "    <tr style=\"text-align: right;\">\n",
        "      <th></th>\n",
        "      <th>a</th>\n",
        "      <th>b</th>\n",
        "    </tr>\n",
        "  </thead>\n",
        "  <tbody>\n",
        "    <tr>\n",
        "      <th>0</th>\n",
        "      <td>-1.3997</td>\n",
        "      <td>-1.2106</td>\n",
        "    </tr>\n",
        "    <tr>\n",
        "      <th>1</th>\n",
        "      <td>-0.2551</td>\n",
        "      <td> 0.3231</td>\n",
        "    </tr>\n",
        "    <tr>\n",
        "      <th>2</th>\n",
        "      <td>-0.6010</td>\n",
        "      <td>-0.8230</td>\n",
        "    </tr>\n",
        "    <tr>\n",
        "      <th>3</th>\n",
        "      <td>-0.9748</td>\n",
        "      <td>-0.2470</td>\n",
        "    </tr>\n",
        "    <tr>\n",
        "      <th>4</th>\n",
        "      <td>-2.0816</td>\n",
        "      <td> 0.7703</td>\n",
        "    </tr>\n",
        "    <tr>\n",
        "      <th>5</th>\n",
        "      <td>-1.6227</td>\n",
        "      <td> 0.1816</td>\n",
        "    </tr>\n",
        "    <tr>\n",
        "      <th>6</th>\n",
        "      <td> 0.8961</td>\n",
        "      <td>-1.0338</td>\n",
        "    </tr>\n",
        "    <tr>\n",
        "      <th>7</th>\n",
        "      <td>-0.3277</td>\n",
        "      <td> 1.1963</td>\n",
        "    </tr>\n",
        "    <tr>\n",
        "      <th>8</th>\n",
        "      <td> 0.8845</td>\n",
        "      <td>-1.4501</td>\n",
        "    </tr>\n",
        "    <tr>\n",
        "      <th>9</th>\n",
        "      <td>-0.4361</td>\n",
        "      <td> 0.7536</td>\n",
        "    </tr>\n",
        "  </tbody>\n",
        "</table>\n",
        "<p>10 rows \u00d7 2 columns</p>\n",
        "</div>"
       ],
       "metadata": {},
       "output_type": "pyout",
       "prompt_number": 7,
       "text": [
        "        a       b\n",
        "0 -1.3997 -1.2106\n",
        "1 -0.2551  0.3231\n",
        "2 -0.6010 -0.8230\n",
        "3 -0.9748 -0.2470\n",
        "4 -2.0816  0.7703\n",
        "5 -1.6227  0.1816\n",
        "6  0.8961 -1.0338\n",
        "7 -0.3277  1.1963\n",
        "8  0.8845 -1.4501\n",
        "9 -0.4361  0.7536\n",
        "\n",
        "[10 rows x 2 columns]"
       ]
      }
     ],
     "prompt_number": 7
    },
    {
     "cell_type": "markdown",
     "metadata": {},
     "source": [
      "You can have columns of any ``dtype`` that ``numpy`` supports except ``numpy``'s string dtype. Strings are represented with the ``object`` ``dtype`` in pandas."
     ]
    },
    {
     "cell_type": "code",
     "collapsed": false,
     "input": [
      "df = DataFrame({'int': randint(3, size=10),\n",
      "                'str': choice(list('abc'), size=10),\n",
      "                'float32': randn(10).astype(np.float32),\n",
      "                'not-a-variable': choice(['green eggs', 'spam'], size=10)})\n",
      "df"
     ],
     "language": "python",
     "metadata": {},
     "outputs": [
      {
       "html": [
        "<div style=\"max-height:1000px;max-width:1500px;overflow:auto;\">\n",
        "<table border=\"1\" class=\"dataframe\">\n",
        "  <thead>\n",
        "    <tr style=\"text-align: right;\">\n",
        "      <th></th>\n",
        "      <th>float32</th>\n",
        "      <th>int</th>\n",
        "      <th>not-a-variable</th>\n",
        "      <th>str</th>\n",
        "    </tr>\n",
        "  </thead>\n",
        "  <tbody>\n",
        "    <tr>\n",
        "      <th>0</th>\n",
        "      <td> 0.5467</td>\n",
        "      <td> 2</td>\n",
        "      <td> green eggs</td>\n",
        "      <td> b</td>\n",
        "    </tr>\n",
        "    <tr>\n",
        "      <th>1</th>\n",
        "      <td> 0.2513</td>\n",
        "      <td> 2</td>\n",
        "      <td>       spam</td>\n",
        "      <td> b</td>\n",
        "    </tr>\n",
        "    <tr>\n",
        "      <th>2</th>\n",
        "      <td>-0.2159</td>\n",
        "      <td> 2</td>\n",
        "      <td> green eggs</td>\n",
        "      <td> c</td>\n",
        "    </tr>\n",
        "    <tr>\n",
        "      <th>3</th>\n",
        "      <td> 0.8580</td>\n",
        "      <td> 0</td>\n",
        "      <td> green eggs</td>\n",
        "      <td> b</td>\n",
        "    </tr>\n",
        "    <tr>\n",
        "      <th>4</th>\n",
        "      <td>-0.4599</td>\n",
        "      <td> 2</td>\n",
        "      <td> green eggs</td>\n",
        "      <td> c</td>\n",
        "    </tr>\n",
        "    <tr>\n",
        "      <th>5</th>\n",
        "      <td>-0.0736</td>\n",
        "      <td> 1</td>\n",
        "      <td> green eggs</td>\n",
        "      <td> a</td>\n",
        "    </tr>\n",
        "    <tr>\n",
        "      <th>6</th>\n",
        "      <td>-0.7343</td>\n",
        "      <td> 1</td>\n",
        "      <td>       spam</td>\n",
        "      <td> c</td>\n",
        "    </tr>\n",
        "    <tr>\n",
        "      <th>7</th>\n",
        "      <td> 0.6471</td>\n",
        "      <td> 0</td>\n",
        "      <td>       spam</td>\n",
        "      <td> b</td>\n",
        "    </tr>\n",
        "    <tr>\n",
        "      <th>8</th>\n",
        "      <td> 1.9098</td>\n",
        "      <td> 2</td>\n",
        "      <td> green eggs</td>\n",
        "      <td> a</td>\n",
        "    </tr>\n",
        "    <tr>\n",
        "      <th>9</th>\n",
        "      <td>-0.8043</td>\n",
        "      <td> 0</td>\n",
        "      <td>       spam</td>\n",
        "      <td> c</td>\n",
        "    </tr>\n",
        "  </tbody>\n",
        "</table>\n",
        "<p>10 rows \u00d7 4 columns</p>\n",
        "</div>"
       ],
       "metadata": {},
       "output_type": "pyout",
       "prompt_number": 15,
       "text": [
        "   float32  int not-a-variable str\n",
        "0   0.5467    2     green eggs   b\n",
        "1   0.2513    2           spam   b\n",
        "2  -0.2159    2     green eggs   c\n",
        "3   0.8580    0     green eggs   b\n",
        "4  -0.4599    2     green eggs   c\n",
        "5  -0.0736    1     green eggs   a\n",
        "6  -0.7343    1           spam   c\n",
        "7   0.6471    0           spam   b\n",
        "8   1.9098    2     green eggs   a\n",
        "9  -0.8043    0           spam   c\n",
        "\n",
        "[10 rows x 4 columns]"
       ]
      }
     ],
     "prompt_number": 15
    },
    {
     "cell_type": "code",
     "collapsed": false,
     "input": [
      "df.dtypes"
     ],
     "language": "python",
     "metadata": {},
     "outputs": [
      {
       "metadata": {},
       "output_type": "pyout",
       "prompt_number": 12,
       "text": [
        "float32    float32\n",
        "int          int64\n",
        "str         object\n",
        "dtype: object"
       ]
      }
     ],
     "prompt_number": 12
    },
    {
     "cell_type": "markdown",
     "metadata": {},
     "source": [
      "One of ``pandas``' most useful and powerful features is its ability to slice and dice data in almost any way you can think of. We'll see some advanced examples of indexing later that illustrate this.\n",
      "\n",
      "For now we'll review the basics."
     ]
    },
    {
     "cell_type": "code",
     "collapsed": false,
     "input": [
      "# column access by name\n",
      "df['int']"
     ],
     "language": "python",
     "metadata": {},
     "outputs": [
      {
       "metadata": {},
       "output_type": "pyout",
       "prompt_number": 13,
       "text": [
        "0    0\n",
        "1    2\n",
        "2    2\n",
        "3    0\n",
        "4    0\n",
        "5    2\n",
        "6    2\n",
        "7    1\n",
        "8    0\n",
        "9    1\n",
        "Name: int, dtype: int64"
       ]
      }
     ],
     "prompt_number": 13
    },
    {
     "cell_type": "code",
     "collapsed": false,
     "input": [
      "# by attribute\n",
      "df.int"
     ],
     "language": "python",
     "metadata": {},
     "outputs": [
      {
       "metadata": {},
       "output_type": "pyout",
       "prompt_number": 14,
       "text": [
        "0    0\n",
        "1    2\n",
        "2    2\n",
        "3    0\n",
        "4    0\n",
        "5    2\n",
        "6    2\n",
        "7    1\n",
        "8    0\n",
        "9    1\n",
        "Name: int, dtype: int64"
       ]
      }
     ],
     "prompt_number": 14
    },
    {
     "cell_type": "code",
     "collapsed": false,
     "input": [
      "# have to use the former for invalid variable names\n",
      "df['not-a-variable']"
     ],
     "language": "python",
     "metadata": {},
     "outputs": [
      {
       "metadata": {},
       "output_type": "pyout",
       "prompt_number": 16,
       "text": [
        "0    green eggs\n",
        "1          spam\n",
        "2    green eggs\n",
        "3    green eggs\n",
        "4    green eggs\n",
        "5    green eggs\n",
        "6          spam\n",
        "7          spam\n",
        "8    green eggs\n",
        "9          spam\n",
        "Name: not-a-variable, dtype: object"
       ]
      }
     ],
     "prompt_number": 16
    },
    {
     "cell_type": "code",
     "collapsed": false,
     "input": [
      "# iloc, iat, loc, at\n",
      "import string\n",
      "df = DataFrame(df.values, index=list(string.ascii_lowercase[:len(df)]), columns=df.columns)\n",
      "df"
     ],
     "language": "python",
     "metadata": {},
     "outputs": [
      {
       "html": [
        "<div style=\"max-height:1000px;max-width:1500px;overflow:auto;\">\n",
        "<table border=\"1\" class=\"dataframe\">\n",
        "  <thead>\n",
        "    <tr style=\"text-align: right;\">\n",
        "      <th></th>\n",
        "      <th>float32</th>\n",
        "      <th>int</th>\n",
        "      <th>not-a-variable</th>\n",
        "      <th>str</th>\n",
        "    </tr>\n",
        "  </thead>\n",
        "  <tbody>\n",
        "    <tr>\n",
        "      <th>a</th>\n",
        "      <td>  0.54666</td>\n",
        "      <td> 2</td>\n",
        "      <td> green eggs</td>\n",
        "      <td> b</td>\n",
        "    </tr>\n",
        "    <tr>\n",
        "      <th>b</th>\n",
        "      <td>   0.2513</td>\n",
        "      <td> 2</td>\n",
        "      <td>       spam</td>\n",
        "      <td> b</td>\n",
        "    </tr>\n",
        "    <tr>\n",
        "      <th>c</th>\n",
        "      <td>  -0.2159</td>\n",
        "      <td> 2</td>\n",
        "      <td> green eggs</td>\n",
        "      <td> c</td>\n",
        "    </tr>\n",
        "    <tr>\n",
        "      <th>d</th>\n",
        "      <td>  0.85799</td>\n",
        "      <td> 0</td>\n",
        "      <td> green eggs</td>\n",
        "      <td> b</td>\n",
        "    </tr>\n",
        "    <tr>\n",
        "      <th>e</th>\n",
        "      <td> -0.45987</td>\n",
        "      <td> 2</td>\n",
        "      <td> green eggs</td>\n",
        "      <td> c</td>\n",
        "    </tr>\n",
        "    <tr>\n",
        "      <th>f</th>\n",
        "      <td>-0.073571</td>\n",
        "      <td> 1</td>\n",
        "      <td> green eggs</td>\n",
        "      <td> a</td>\n",
        "    </tr>\n",
        "    <tr>\n",
        "      <th>g</th>\n",
        "      <td> -0.73428</td>\n",
        "      <td> 1</td>\n",
        "      <td>       spam</td>\n",
        "      <td> c</td>\n",
        "    </tr>\n",
        "    <tr>\n",
        "      <th>h</th>\n",
        "      <td>  0.64708</td>\n",
        "      <td> 0</td>\n",
        "      <td>       spam</td>\n",
        "      <td> b</td>\n",
        "    </tr>\n",
        "    <tr>\n",
        "      <th>i</th>\n",
        "      <td>   1.9098</td>\n",
        "      <td> 2</td>\n",
        "      <td> green eggs</td>\n",
        "      <td> a</td>\n",
        "    </tr>\n",
        "    <tr>\n",
        "      <th>j</th>\n",
        "      <td> -0.80425</td>\n",
        "      <td> 0</td>\n",
        "      <td>       spam</td>\n",
        "      <td> c</td>\n",
        "    </tr>\n",
        "  </tbody>\n",
        "</table>\n",
        "<p>10 rows \u00d7 4 columns</p>\n",
        "</div>"
       ],
       "metadata": {},
       "output_type": "pyout",
       "prompt_number": 20,
       "text": [
        "    float32 int not-a-variable str\n",
        "a   0.54666   2     green eggs   b\n",
        "b    0.2513   2           spam   b\n",
        "c   -0.2159   2     green eggs   c\n",
        "d   0.85799   0     green eggs   b\n",
        "e  -0.45987   2     green eggs   c\n",
        "f -0.073571   1     green eggs   a\n",
        "g  -0.73428   1           spam   c\n",
        "h   0.64708   0           spam   b\n",
        "i    1.9098   2     green eggs   a\n",
        "j  -0.80425   0           spam   c\n",
        "\n",
        "[10 rows x 4 columns]"
       ]
      }
     ],
     "prompt_number": 20
    },
    {
     "cell_type": "code",
     "collapsed": false,
     "input": [
      "df.iloc[0]"
     ],
     "language": "python",
     "metadata": {},
     "outputs": [
      {
       "metadata": {},
       "output_type": "pyout",
       "prompt_number": 21,
       "text": [
        "float32              0.54666\n",
        "int                        2\n",
        "not-a-variable    green eggs\n",
        "str                        b\n",
        "Name: a, dtype: object"
       ]
      }
     ],
     "prompt_number": 21
    },
    {
     "cell_type": "code",
     "collapsed": false,
     "input": [
      "df.loc['a']"
     ],
     "language": "python",
     "metadata": {},
     "outputs": [
      {
       "metadata": {},
       "output_type": "pyout",
       "prompt_number": 22,
       "text": [
        "float32              0.54666\n",
        "int                        2\n",
        "not-a-variable    green eggs\n",
        "str                        b\n",
        "Name: a, dtype: object"
       ]
      }
     ],
     "prompt_number": 22
    },
    {
     "cell_type": "code",
     "collapsed": false,
     "input": [
      "df.at['a', 'not-a-variable']"
     ],
     "language": "python",
     "metadata": {},
     "outputs": [
      {
       "metadata": {},
       "output_type": "pyout",
       "prompt_number": 23,
       "text": [
        "'green eggs'"
       ]
      }
     ],
     "prompt_number": 23
    },
    {
     "cell_type": "code",
     "collapsed": false,
     "input": [
      "df.iat[0, 2]"
     ],
     "language": "python",
     "metadata": {},
     "outputs": [
      {
       "metadata": {},
       "output_type": "pyout",
       "prompt_number": 27,
       "text": [
        "'green eggs'"
       ]
      }
     ],
     "prompt_number": 27
    },
    {
     "cell_type": "code",
     "collapsed": false,
     "input": [
      "df.loc[:, 'int'] # same as df.int, more with loc later"
     ],
     "language": "python",
     "metadata": {},
     "outputs": [
      {
       "metadata": {},
       "output_type": "pyout",
       "prompt_number": 25,
       "text": [
        "a    2\n",
        "b    2\n",
        "c    2\n",
        "d    0\n",
        "e    2\n",
        "f    1\n",
        "g    1\n",
        "h    0\n",
        "i    2\n",
        "j    0\n",
        "Name: int, dtype: object"
       ]
      }
     ],
     "prompt_number": 25
    },
    {
     "cell_type": "code",
     "collapsed": false,
     "input": [
      "df.iloc[:, 1]"
     ],
     "language": "python",
     "metadata": {},
     "outputs": [
      {
       "metadata": {},
       "output_type": "pyout",
       "prompt_number": 28,
       "text": [
        "a    2\n",
        "b    2\n",
        "c    2\n",
        "d    0\n",
        "e    2\n",
        "f    1\n",
        "g    1\n",
        "h    0\n",
        "i    2\n",
        "j    0\n",
        "Name: int, dtype: object"
       ]
      }
     ],
     "prompt_number": 28
    },
    {
     "cell_type": "markdown",
     "metadata": {},
     "source": [
      "This may seem like a lot to remember, but there's really just two things here:\n",
      "\n",
      "* *label*-based selection ``loc``/``at``\n",
      "* *integer index*-based selection ``iloc``/``iat``"
     ]
    },
    {
     "cell_type": "markdown",
     "metadata": {},
     "source": [
      "The ``DataFrame.sum()`` method results in a ``Series`` object and by default sums across the rows. If you want to sum across the columns pass ``axis=1``, similar to the ``numpy`` convention.a"
     ]
    },
    {
     "cell_type": "markdown",
     "metadata": {},
     "source": [
      "In general, reduction operations result in a ``Series`` object.\n",
      "\n",
      "Some example reduction functions:\n",
      "\n",
      "* ``mean``\n",
      "* ``median``\n",
      "* ``mode``\n",
      "* ``count``"
     ]
    },
    {
     "cell_type": "code",
     "collapsed": false,
     "input": [
      "df.count()"
     ],
     "language": "python",
     "metadata": {},
     "outputs": [
      {
       "metadata": {},
       "output_type": "pyout",
       "prompt_number": 5,
       "text": [
        "a    10\n",
        "b    10\n",
        "dtype: int64"
       ]
      }
     ],
     "prompt_number": 5
    },
    {
     "cell_type": "heading",
     "level": 1,
     "metadata": {},
     "source": [
      "Next Up:\n",
      "\n",
      "[Teh Featurez!](Features.ipynb)"
     ]
    }
   ],
   "metadata": {}
  }
 ]
}