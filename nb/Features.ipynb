{
 "metadata": {
  "name": "",
  "signature": "sha256:2615de44ba06a02c1f702463196cedc24f69328d243d8d5230964e663da40228"
 },
 "nbformat": 3,
 "nbformat_minor": 0,
 "worksheets": [
  {
   "cells": [
    {
     "cell_type": "heading",
     "level": 2,
     "metadata": {},
     "source": [
      "Back: [Whirl-torial](Whirl-torial.ipynb)"
     ]
    },
    {
     "cell_type": "code",
     "collapsed": false,
     "input": [
      "from __future__ import division, print_function"
     ],
     "language": "python",
     "metadata": {},
     "outputs": [],
     "prompt_number": 224
    },
    {
     "cell_type": "code",
     "collapsed": false,
     "input": [
      "import os\n",
      "import operator\n",
      "import json\n",
      "import tokenize\n",
      "\n",
      "from itertools import imap, ifilter, islice, cycle\n",
      "from functools import partial\n",
      "\n",
      "import sh\n",
      "import requests\n",
      "\n",
      "import matplotlib.pyplot as plt\n",
      "\n",
      "import numpy as np\n",
      "from numpy.random import randn, randint, rand, choice\n",
      "\n",
      "import pandas as pd\n",
      "from pandas import DataFrame, Series, Index\n",
      "from pandas.compat import map, StringIO\n",
      "import pandas.util.testing as tm"
     ],
     "language": "python",
     "metadata": {},
     "outputs": [],
     "prompt_number": 225
    },
    {
     "cell_type": "code",
     "collapsed": false,
     "input": [
      "pd.options.display.max_rows = 10\n",
      "pd.options.display.max_columns = 7\n",
      "\n",
      "try:\n",
      "    from mpltools import style\n",
      "    style.use('ggplot')\n",
      "except ImportError:\n",
      "    pass\n",
      "\n",
      "# because of our bg color\n",
      "plt.rc('text', color='white')\n",
      "plt.rc('axes', labelcolor='white')\n",
      "plt.rc('xtick', color='white')\n",
      "plt.rc('ytick', color='white')"
     ],
     "language": "python",
     "metadata": {},
     "outputs": [],
     "prompt_number": 226
    },
    {
     "cell_type": "code",
     "collapsed": false,
     "input": [
      "%matplotlib inline"
     ],
     "language": "python",
     "metadata": {},
     "outputs": [],
     "prompt_number": 227
    },
    {
     "cell_type": "code",
     "collapsed": false,
     "input": [
      "def insert_page(url):\n",
      "    \"\"\"Embed a webpage in the notebook\"\"\"\n",
      "    disp(HTML('<iframe src=%r width=700 height=350></iframe>' % url))\n",
      "\n",
      "\n",
      "def read_text(*args, **kwargs):\n",
      "    \"\"\"Simple text reader because I don't like typing ``with`` every time\"\"\"\n",
      "    \n",
      "    with open(*args, **kwargs) as f:\n",
      "        return f.read()\n",
      "    \n",
      "    \n",
      "def highlight(filename, style='fruity'):\n",
      "    \"\"\"Syntax highlight a file based on its extension\"\"\"\n",
      "    \n",
      "    from pygments import highlight as h\n",
      "    from pygments.lexers import guess_lexer_for_filename\n",
      "    from pygments.formatters import HtmlFormatter\n",
      "\n",
      "    code = read_text(filename, mode='rt')\n",
      "\n",
      "    formatter = HtmlFormatter(style=style)\n",
      "    lexer = guess_lexer_for_filename(filename, code)\n",
      "    disp(HTML('<style type=\"text/css\">{0}</style>{1}'.format(\n",
      "            formatter.get_style_defs('.highlight'),\n",
      "            h(code, lexer, formatter))))\n",
      "    \n",
      "    \n",
      "def gen_frames(n, size, f=randn):\n",
      "    \"\"\"Generate `n` frames of size `size` using the function `f`.\"\"\"\n",
      "    return (DataFrame(f(*sz)) for sz in [size] * n)"
     ],
     "language": "python",
     "metadata": {},
     "outputs": [],
     "prompt_number": 228
    },
    {
     "cell_type": "heading",
     "level": 1,
     "metadata": {},
     "source": [
      "New Features since v0.11.0"
     ]
    },
    {
     "cell_type": "heading",
     "level": 2,
     "metadata": {},
     "source": [
      "(or Interactive Release Notes)"
     ]
    },
    {
     "cell_type": "markdown",
     "metadata": {},
     "source": [
      "# v0.11\n",
      "\n",
      "* indexers ``loc``/``at``, ``iloc``/``iat``\n",
      "* all dtypes allowed\n",
      "* now we use [``numexpr``](https://github.com/pydata/numexpr) to evaluate arithmetic expressions where possible (with objects whose ``len`` is `>` 10k elements)"
     ]
    },
    {
     "cell_type": "heading",
     "level": 2,
     "metadata": {},
     "source": [
      "``numexpr`` speedups"
     ]
    },
    {
     "cell_type": "heading",
     "level": 3,
     "metadata": {},
     "source": [
      "More apparent for long(ish) expressions with large(ish) arrays"
     ]
    },
    {
     "cell_type": "code",
     "collapsed": false,
     "input": [
      "x, y, z, w = gen_frames(4, size=(1e6, 20))"
     ],
     "language": "python",
     "metadata": {},
     "outputs": [],
     "prompt_number": 229
    },
    {
     "cell_type": "code",
     "collapsed": false,
     "input": [
      "def show_faster(num, denom):\n",
      "    ratio = num / denom\n",
      "    disp(HTML('numexpr is <b>%.2g</b>&times; as fast' % ratio))\n",
      "    \n",
      "    \n",
      "def biggish():\n",
      "    disp(HTML('<b>biggish</b>'))\n",
      "    with tm.use_numexpr(True):\n",
      "        Y = %timeit -r 1 -n 1 -o x + y + z + w ** 3\n",
      "\n",
      "    with tm.use_numexpr(False):\n",
      "        N = %timeit -r 1 -n 1 -o x + y + z + w ** 3\n",
      "\n",
      "    show_faster(N.best, Y.best)\n",
      "    \n",
      "    \n",
      "def smallish():\n",
      "    disp(HTML('<b>smallish</b>'))\n",
      "    with tm.use_numexpr(False):\n",
      "        Y = %timeit -r 1 -n 1 -o x + y\n",
      "\n",
      "    with tm.use_numexpr(False):\n",
      "        N = %timeit -r 1 -n 1 -o x + y\n",
      "\n",
      "    show_faster(N.best, Y.best)\n",
      "\n",
      "\n",
      "biggish()\n",
      "smallish()"
     ],
     "language": "python",
     "metadata": {},
     "outputs": [
      {
       "html": [
        "<b>biggish</b>"
       ],
       "metadata": {},
       "output_type": "display_data",
       "text": [
        "<IPython.core.display.HTML object>"
       ]
      },
      {
       "output_type": "stream",
       "stream": "stdout",
       "text": [
        "1 loops, best of 1: 469 ms per loop\n",
        "1 loops, best of 1: 1.64 s per loop"
       ]
      },
      {
       "output_type": "stream",
       "stream": "stdout",
       "text": [
        "\n"
       ]
      },
      {
       "html": [
        "numexpr is <b>3.5</b>&times; as fast"
       ],
       "metadata": {},
       "output_type": "display_data",
       "text": [
        "<IPython.core.display.HTML object>"
       ]
      },
      {
       "html": [
        "<b>smallish</b>"
       ],
       "metadata": {},
       "output_type": "display_data",
       "text": [
        "<IPython.core.display.HTML object>"
       ]
      },
      {
       "output_type": "stream",
       "stream": "stdout",
       "text": [
        "1 loops, best of 1: 43.4 ms per loop\n",
        "1 loops, best of 1: 59.8 ms per loop"
       ]
      },
      {
       "output_type": "stream",
       "stream": "stdout",
       "text": [
        "\n"
       ]
      },
      {
       "html": [
        "numexpr is <b>1.4</b>&times; as fast"
       ],
       "metadata": {},
       "output_type": "display_data",
       "text": [
        "<IPython.core.display.HTML object>"
       ]
      }
     ],
     "prompt_number": 230
    },
    {
     "cell_type": "markdown",
     "metadata": {},
     "source": [
      "# v0.12\n",
      "\n",
      "* [``read_html``](http://pandas.pydata.org/pandas-docs/stable/generated/pandas.read_html.html#pandas.read_html)\n",
      "* [``read_json``](http://pandas.pydata.org/pandas-docs/stable/generated/pandas.read_json.html#pandas.read_json)\n",
      "* [``read_csv``](http://pandas.pydata.org/pandas-docs/stable/generated/pandas.read_csv.html#pandas.read_csv) accepts S3 URLs\n",
      "* ``DataFrame.replace()`` with regular expressions\n",
      "* ``Series.str`` iteration\n",
      "* ``MultiIndex`` column reading and writing in ``read_csv``\n",
      "* ``GroupBy.filter()``"
     ]
    },
    {
     "cell_type": "heading",
     "level": 2,
     "metadata": {},
     "source": [
      "[``read_html``](http://pandas.pydata.org/pandas-docs/stable/generated/pandas.io.html.read_html.html#pandas.io.html.read_html)"
     ]
    },
    {
     "cell_type": "code",
     "collapsed": false,
     "input": [
      "insert_page(\"http://www.fdic.gov/bank/individual/failed/banklist.html\")"
     ],
     "language": "python",
     "metadata": {},
     "outputs": [
      {
       "html": [
        "<iframe src='http://www.fdic.gov/bank/individual/failed/banklist.html' width=700 height=350></iframe>"
       ],
       "metadata": {},
       "output_type": "display_data",
       "text": [
        "<IPython.core.display.HTML object>"
       ]
      }
     ],
     "prompt_number": 231
    },
    {
     "cell_type": "code",
     "collapsed": false,
     "input": [
      "url = '../data/banklist.html'\n",
      "dfs = pd.read_html(url)  # returns a list of all tables found on the page"
     ],
     "language": "python",
     "metadata": {},
     "outputs": [],
     "prompt_number": 232
    },
    {
     "cell_type": "code",
     "collapsed": false,
     "input": [
      "assert len(dfs) == 1, \"you're wrong about me\"\n",
      "df = dfs.pop()"
     ],
     "language": "python",
     "metadata": {},
     "outputs": [],
     "prompt_number": 233
    },
    {
     "cell_type": "code",
     "collapsed": false,
     "input": [
      "# not sure where those extra columns are from ...\n",
      "df"
     ],
     "language": "python",
     "metadata": {},
     "outputs": [
      {
       "html": [
        "<div style=\"max-height:1000px;max-width:1500px;overflow:auto;\">\n",
        "<table border=\"1\" class=\"dataframe\">\n",
        "  <thead>\n",
        "    <tr style=\"text-align: right;\">\n",
        "      <th></th>\n",
        "      <th>Bank Name</th>\n",
        "      <th>City</th>\n",
        "      <th>ST</th>\n",
        "      <th>...</th>\n",
        "      <th>Loss Share Type</th>\n",
        "      <th>Agreement Terminated</th>\n",
        "      <th>Termination Date</th>\n",
        "    </tr>\n",
        "  </thead>\n",
        "  <tbody>\n",
        "    <tr>\n",
        "      <th>0  </th>\n",
        "      <td>                 Columbia Savings Bank</td>\n",
        "      <td> Cincinnati</td>\n",
        "      <td> OH</td>\n",
        "      <td>...</td>\n",
        "      <td>  NaN</td>\n",
        "      <td> NaN</td>\n",
        "      <td>NaT</td>\n",
        "    </tr>\n",
        "    <tr>\n",
        "      <th>1  </th>\n",
        "      <td>          AztecAmerica Bank En Espanol</td>\n",
        "      <td>     Berwyn</td>\n",
        "      <td> IL</td>\n",
        "      <td>...</td>\n",
        "      <td>  NaN</td>\n",
        "      <td> NaN</td>\n",
        "      <td>NaT</td>\n",
        "    </tr>\n",
        "    <tr>\n",
        "      <th>2  </th>\n",
        "      <td>                 Allendale County Bank</td>\n",
        "      <td>    Fairfax</td>\n",
        "      <td> SC</td>\n",
        "      <td>...</td>\n",
        "      <td> none</td>\n",
        "      <td> NaN</td>\n",
        "      <td>NaT</td>\n",
        "    </tr>\n",
        "    <tr>\n",
        "      <th>3  </th>\n",
        "      <td>                    Vantage Point Bank</td>\n",
        "      <td>    Horsham</td>\n",
        "      <td> PA</td>\n",
        "      <td>...</td>\n",
        "      <td> none</td>\n",
        "      <td> NaN</td>\n",
        "      <td>NaT</td>\n",
        "    </tr>\n",
        "    <tr>\n",
        "      <th>4  </th>\n",
        "      <td> Millennium Bank, National Association</td>\n",
        "      <td>   Sterling</td>\n",
        "      <td> VA</td>\n",
        "      <td>...</td>\n",
        "      <td> none</td>\n",
        "      <td> NaN</td>\n",
        "      <td>NaT</td>\n",
        "    </tr>\n",
        "    <tr>\n",
        "      <th>...</th>\n",
        "      <td>...</td>\n",
        "      <td>...</td>\n",
        "      <td>...</td>\n",
        "      <td>...</td>\n",
        "      <td>...</td>\n",
        "      <td>...</td>\n",
        "      <td>...</td>\n",
        "    </tr>\n",
        "    <tr>\n",
        "      <th>519</th>\n",
        "      <td>                    Superior Bank, FSB</td>\n",
        "      <td>   Hinsdale</td>\n",
        "      <td> IL</td>\n",
        "      <td>...</td>\n",
        "      <td> none</td>\n",
        "      <td> NaN</td>\n",
        "      <td>NaT</td>\n",
        "    </tr>\n",
        "    <tr>\n",
        "      <th>520</th>\n",
        "      <td>                   Malta National Bank</td>\n",
        "      <td>      Malta</td>\n",
        "      <td> OH</td>\n",
        "      <td>...</td>\n",
        "      <td> none</td>\n",
        "      <td> NaN</td>\n",
        "      <td>NaT</td>\n",
        "    </tr>\n",
        "    <tr>\n",
        "      <th>521</th>\n",
        "      <td>       First Alliance Bank &amp; Trust Co.</td>\n",
        "      <td> Manchester</td>\n",
        "      <td> NH</td>\n",
        "      <td>...</td>\n",
        "      <td> none</td>\n",
        "      <td> NaN</td>\n",
        "      <td>NaT</td>\n",
        "    </tr>\n",
        "    <tr>\n",
        "      <th>522</th>\n",
        "      <td>     National State Bank of Metropolis</td>\n",
        "      <td> Metropolis</td>\n",
        "      <td> IL</td>\n",
        "      <td>...</td>\n",
        "      <td> none</td>\n",
        "      <td> NaN</td>\n",
        "      <td>NaT</td>\n",
        "    </tr>\n",
        "    <tr>\n",
        "      <th>523</th>\n",
        "      <td>                      Bank of Honolulu</td>\n",
        "      <td>   Honolulu</td>\n",
        "      <td> HI</td>\n",
        "      <td>...</td>\n",
        "      <td> none</td>\n",
        "      <td> NaN</td>\n",
        "      <td>NaT</td>\n",
        "    </tr>\n",
        "  </tbody>\n",
        "</table>\n",
        "<p>524 rows \u00d7 10 columns</p>\n",
        "</div>"
       ],
       "metadata": {},
       "output_type": "pyout",
       "prompt_number": 234,
       "text": [
        "                                 Bank Name        City  ST ...  \\\n",
        "0                    Columbia Savings Bank  Cincinnati  OH ...   \n",
        "1             AztecAmerica Bank En Espanol      Berwyn  IL ...   \n",
        "2                    Allendale County Bank     Fairfax  SC ...   \n",
        "3                       Vantage Point Bank     Horsham  PA ...   \n",
        "4    Millennium Bank, National Association    Sterling  VA ...   \n",
        "..                                     ...         ...  .. ...   \n",
        "519                     Superior Bank, FSB    Hinsdale  IL ...   \n",
        "520                    Malta National Bank       Malta  OH ...   \n",
        "521        First Alliance Bank & Trust Co.  Manchester  NH ...   \n",
        "522      National State Bank of Metropolis  Metropolis  IL ...   \n",
        "523                       Bank of Honolulu    Honolulu  HI ...   \n",
        "\n",
        "     Loss Share Type Agreement Terminated Termination Date  \n",
        "0                NaN                  NaN              NaT  \n",
        "1                NaN                  NaN              NaT  \n",
        "2               none                  NaN              NaT  \n",
        "3               none                  NaN              NaT  \n",
        "4               none                  NaN              NaT  \n",
        "..               ...                  ...              ...  \n",
        "519             none                  NaN              NaT  \n",
        "520             none                  NaN              NaT  \n",
        "521             none                  NaN              NaT  \n",
        "522             none                  NaN              NaT  \n",
        "523             none                  NaN              NaT  \n",
        "\n",
        "[524 rows x 10 columns]"
       ]
      }
     ],
     "prompt_number": 234
    },
    {
     "cell_type": "heading",
     "level": 3,
     "metadata": {},
     "source": [
      "Select tables based on class"
     ]
    },
    {
     "cell_type": "code",
     "collapsed": false,
     "input": [
      "dat_url = 'tmp.html'\n",
      "with open(dat_url, 'w') as f:\n",
      "    DataFrame(randn(2, 2)).to_html(f, classes=['first'])\n",
      "    f.write('\\n\\n')\n",
      "    DataFrame(randn(2, 2)).to_html(f, classes=['second'])"
     ],
     "language": "python",
     "metadata": {},
     "outputs": [],
     "prompt_number": 235
    },
    {
     "cell_type": "code",
     "collapsed": false,
     "input": [
      "highlight(dat_url)"
     ],
     "language": "python",
     "metadata": {},
     "outputs": [
      {
       "html": [
        "<style type=\"text/css\">.highlight .hll { background-color: #333333 }\n",
        ".highlight  { background: #111111; color: #ffffff }\n",
        ".highlight .c { color: #008800; font-style: italic; background-color: #0f140f } /* Comment */\n",
        ".highlight .err { color: #ffffff } /* Error */\n",
        ".highlight .g { color: #ffffff } /* Generic */\n",
        ".highlight .k { color: #fb660a; font-weight: bold } /* Keyword */\n",
        ".highlight .l { color: #ffffff } /* Literal */\n",
        ".highlight .n { color: #ffffff } /* Name */\n",
        ".highlight .o { color: #ffffff } /* Operator */\n",
        ".highlight .x { color: #ffffff } /* Other */\n",
        ".highlight .p { color: #ffffff } /* Punctuation */\n",
        ".highlight .cm { color: #008800; font-style: italic; background-color: #0f140f } /* Comment.Multiline */\n",
        ".highlight .cp { color: #ff0007; font-weight: bold; font-style: italic; background-color: #0f140f } /* Comment.Preproc */\n",
        ".highlight .c1 { color: #008800; font-style: italic; background-color: #0f140f } /* Comment.Single */\n",
        ".highlight .cs { color: #008800; font-style: italic; background-color: #0f140f } /* Comment.Special */\n",
        ".highlight .gd { color: #ffffff } /* Generic.Deleted */\n",
        ".highlight .ge { color: #ffffff } /* Generic.Emph */\n",
        ".highlight .gr { color: #ffffff } /* Generic.Error */\n",
        ".highlight .gh { color: #ffffff; font-weight: bold } /* Generic.Heading */\n",
        ".highlight .gi { color: #ffffff } /* Generic.Inserted */\n",
        ".highlight .go { color: #444444; background-color: #222222 } /* Generic.Output */\n",
        ".highlight .gp { color: #ffffff } /* Generic.Prompt */\n",
        ".highlight .gs { color: #ffffff } /* Generic.Strong */\n",
        ".highlight .gu { color: #ffffff; font-weight: bold } /* Generic.Subheading */\n",
        ".highlight .gt { color: #ffffff } /* Generic.Traceback */\n",
        ".highlight .kc { color: #fb660a; font-weight: bold } /* Keyword.Constant */\n",
        ".highlight .kd { color: #fb660a; font-weight: bold } /* Keyword.Declaration */\n",
        ".highlight .kn { color: #fb660a; font-weight: bold } /* Keyword.Namespace */\n",
        ".highlight .kp { color: #fb660a } /* Keyword.Pseudo */\n",
        ".highlight .kr { color: #fb660a; font-weight: bold } /* Keyword.Reserved */\n",
        ".highlight .kt { color: #cdcaa9; font-weight: bold } /* Keyword.Type */\n",
        ".highlight .ld { color: #ffffff } /* Literal.Date */\n",
        ".highlight .m { color: #0086f7; font-weight: bold } /* Literal.Number */\n",
        ".highlight .s { color: #0086d2 } /* Literal.String */\n",
        ".highlight .na { color: #ff0086; font-weight: bold } /* Name.Attribute */\n",
        ".highlight .nb { color: #ffffff } /* Name.Builtin */\n",
        ".highlight .nc { color: #ffffff } /* Name.Class */\n",
        ".highlight .no { color: #0086d2 } /* Name.Constant */\n",
        ".highlight .nd { color: #ffffff } /* Name.Decorator */\n",
        ".highlight .ni { color: #ffffff } /* Name.Entity */\n",
        ".highlight .ne { color: #ffffff } /* Name.Exception */\n",
        ".highlight .nf { color: #ff0086; font-weight: bold } /* Name.Function */\n",
        ".highlight .nl { color: #ffffff } /* Name.Label */\n",
        ".highlight .nn { color: #ffffff } /* Name.Namespace */\n",
        ".highlight .nx { color: #ffffff } /* Name.Other */\n",
        ".highlight .py { color: #ffffff } /* Name.Property */\n",
        ".highlight .nt { color: #fb660a; font-weight: bold } /* Name.Tag */\n",
        ".highlight .nv { color: #fb660a } /* Name.Variable */\n",
        ".highlight .ow { color: #ffffff } /* Operator.Word */\n",
        ".highlight .w { color: #888888 } /* Text.Whitespace */\n",
        ".highlight .mf { color: #0086f7; font-weight: bold } /* Literal.Number.Float */\n",
        ".highlight .mh { color: #0086f7; font-weight: bold } /* Literal.Number.Hex */\n",
        ".highlight .mi { color: #0086f7; font-weight: bold } /* Literal.Number.Integer */\n",
        ".highlight .mo { color: #0086f7; font-weight: bold } /* Literal.Number.Oct */\n",
        ".highlight .sb { color: #0086d2 } /* Literal.String.Backtick */\n",
        ".highlight .sc { color: #0086d2 } /* Literal.String.Char */\n",
        ".highlight .sd { color: #0086d2 } /* Literal.String.Doc */\n",
        ".highlight .s2 { color: #0086d2 } /* Literal.String.Double */\n",
        ".highlight .se { color: #0086d2 } /* Literal.String.Escape */\n",
        ".highlight .sh { color: #0086d2 } /* Literal.String.Heredoc */\n",
        ".highlight .si { color: #0086d2 } /* Literal.String.Interpol */\n",
        ".highlight .sx { color: #0086d2 } /* Literal.String.Other */\n",
        ".highlight .sr { color: #0086d2 } /* Literal.String.Regex */\n",
        ".highlight .s1 { color: #0086d2 } /* Literal.String.Single */\n",
        ".highlight .ss { color: #0086d2 } /* Literal.String.Symbol */\n",
        ".highlight .bp { color: #ffffff } /* Name.Builtin.Pseudo */\n",
        ".highlight .vc { color: #fb660a } /* Name.Variable.Class */\n",
        ".highlight .vg { color: #fb660a } /* Name.Variable.Global */\n",
        ".highlight .vi { color: #fb660a } /* Name.Variable.Instance */\n",
        ".highlight .il { color: #0086f7; font-weight: bold } /* Literal.Number.Integer.Long */</style><div class=\"highlight\"><pre><span class=\"nt\">&lt;table</span> <span class=\"na\">border=</span><span class=\"s\">&quot;1&quot;</span> <span class=\"na\">class=</span><span class=\"s\">&quot;dataframe first&quot;</span><span class=\"nt\">&gt;</span>\n",
        "  <span class=\"nt\">&lt;thead&gt;</span>\n",
        "    <span class=\"nt\">&lt;tr</span> <span class=\"na\">style=</span><span class=\"s\">&quot;text-align: right;&quot;</span><span class=\"nt\">&gt;</span>\n",
        "      <span class=\"nt\">&lt;th&gt;&lt;/th&gt;</span>\n",
        "      <span class=\"nt\">&lt;th&gt;</span>0<span class=\"nt\">&lt;/th&gt;</span>\n",
        "      <span class=\"nt\">&lt;th&gt;</span>1<span class=\"nt\">&lt;/th&gt;</span>\n",
        "    <span class=\"nt\">&lt;/tr&gt;</span>\n",
        "  <span class=\"nt\">&lt;/thead&gt;</span>\n",
        "  <span class=\"nt\">&lt;tbody&gt;</span>\n",
        "    <span class=\"nt\">&lt;tr&gt;</span>\n",
        "      <span class=\"nt\">&lt;th&gt;</span>0<span class=\"nt\">&lt;/th&gt;</span>\n",
        "      <span class=\"nt\">&lt;td&gt;</span> 2.132491<span class=\"nt\">&lt;/td&gt;</span>\n",
        "      <span class=\"nt\">&lt;td&gt;</span>-0.124995<span class=\"nt\">&lt;/td&gt;</span>\n",
        "    <span class=\"nt\">&lt;/tr&gt;</span>\n",
        "    <span class=\"nt\">&lt;tr&gt;</span>\n",
        "      <span class=\"nt\">&lt;th&gt;</span>1<span class=\"nt\">&lt;/th&gt;</span>\n",
        "      <span class=\"nt\">&lt;td&gt;</span> 0.814750<span class=\"nt\">&lt;/td&gt;</span>\n",
        "      <span class=\"nt\">&lt;td&gt;</span>-0.898513<span class=\"nt\">&lt;/td&gt;</span>\n",
        "    <span class=\"nt\">&lt;/tr&gt;</span>\n",
        "  <span class=\"nt\">&lt;/tbody&gt;</span>\n",
        "<span class=\"nt\">&lt;/table&gt;</span>\n",
        "\n",
        "<span class=\"nt\">&lt;table</span> <span class=\"na\">border=</span><span class=\"s\">&quot;1&quot;</span> <span class=\"na\">class=</span><span class=\"s\">&quot;dataframe second&quot;</span><span class=\"nt\">&gt;</span>\n",
        "  <span class=\"nt\">&lt;thead&gt;</span>\n",
        "    <span class=\"nt\">&lt;tr</span> <span class=\"na\">style=</span><span class=\"s\">&quot;text-align: right;&quot;</span><span class=\"nt\">&gt;</span>\n",
        "      <span class=\"nt\">&lt;th&gt;&lt;/th&gt;</span>\n",
        "      <span class=\"nt\">&lt;th&gt;</span>0<span class=\"nt\">&lt;/th&gt;</span>\n",
        "      <span class=\"nt\">&lt;th&gt;</span>1<span class=\"nt\">&lt;/th&gt;</span>\n",
        "    <span class=\"nt\">&lt;/tr&gt;</span>\n",
        "  <span class=\"nt\">&lt;/thead&gt;</span>\n",
        "  <span class=\"nt\">&lt;tbody&gt;</span>\n",
        "    <span class=\"nt\">&lt;tr&gt;</span>\n",
        "      <span class=\"nt\">&lt;th&gt;</span>0<span class=\"nt\">&lt;/th&gt;</span>\n",
        "      <span class=\"nt\">&lt;td&gt;</span>-0.044222<span class=\"nt\">&lt;/td&gt;</span>\n",
        "      <span class=\"nt\">&lt;td&gt;</span> 0.674117<span class=\"nt\">&lt;/td&gt;</span>\n",
        "    <span class=\"nt\">&lt;/tr&gt;</span>\n",
        "    <span class=\"nt\">&lt;tr&gt;</span>\n",
        "      <span class=\"nt\">&lt;th&gt;</span>1<span class=\"nt\">&lt;/th&gt;</span>\n",
        "      <span class=\"nt\">&lt;td&gt;</span>-0.305143<span class=\"nt\">&lt;/td&gt;</span>\n",
        "      <span class=\"nt\">&lt;td&gt;</span>-0.902017<span class=\"nt\">&lt;/td&gt;</span>\n",
        "    <span class=\"nt\">&lt;/tr&gt;</span>\n",
        "  <span class=\"nt\">&lt;/tbody&gt;</span>\n",
        "<span class=\"nt\">&lt;/table&gt;</span>\n",
        "</pre></div>\n"
       ],
       "metadata": {},
       "output_type": "display_data",
       "text": [
        "<IPython.core.display.HTML object>"
       ]
      }
     ],
     "prompt_number": 236
    },
    {
     "cell_type": "code",
     "collapsed": false,
     "input": [
      "df, = pd.read_html(dat_url, attrs={'class': 'first'}, index_col=0)\n",
      "df"
     ],
     "language": "python",
     "metadata": {},
     "outputs": [
      {
       "html": [
        "<div style=\"max-height:1000px;max-width:1500px;overflow:auto;\">\n",
        "<table border=\"1\" class=\"dataframe\">\n",
        "  <thead>\n",
        "    <tr style=\"text-align: right;\">\n",
        "      <th></th>\n",
        "      <th>0</th>\n",
        "      <th>1</th>\n",
        "    </tr>\n",
        "  </thead>\n",
        "  <tbody>\n",
        "    <tr>\n",
        "      <th>0</th>\n",
        "      <td> 2.132491</td>\n",
        "      <td>-0.124995</td>\n",
        "    </tr>\n",
        "    <tr>\n",
        "      <th>1</th>\n",
        "      <td> 0.814750</td>\n",
        "      <td>-0.898513</td>\n",
        "    </tr>\n",
        "  </tbody>\n",
        "</table>\n",
        "</div>"
       ],
       "metadata": {},
       "output_type": "pyout",
       "prompt_number": 237,
       "text": [
        "          0         1\n",
        "0  2.132491 -0.124995\n",
        "1  0.814750 -0.898513"
       ]
      }
     ],
     "prompt_number": 237
    },
    {
     "cell_type": "code",
     "collapsed": false,
     "input": [
      "dfs = pd.read_html(dat_url, index_col=0)\n",
      "\n",
      "for df in dfs:\n",
      "    disp(df)\n",
      "# not really a way to tell which table is which; ordered by appearance in HTML"
     ],
     "language": "python",
     "metadata": {},
     "outputs": [
      {
       "html": [
        "<div style=\"max-height:1000px;max-width:1500px;overflow:auto;\">\n",
        "<table border=\"1\" class=\"dataframe\">\n",
        "  <thead>\n",
        "    <tr style=\"text-align: right;\">\n",
        "      <th></th>\n",
        "      <th>0</th>\n",
        "      <th>1</th>\n",
        "    </tr>\n",
        "  </thead>\n",
        "  <tbody>\n",
        "    <tr>\n",
        "      <th>0</th>\n",
        "      <td> 2.132491</td>\n",
        "      <td>-0.124995</td>\n",
        "    </tr>\n",
        "    <tr>\n",
        "      <th>1</th>\n",
        "      <td> 0.814750</td>\n",
        "      <td>-0.898513</td>\n",
        "    </tr>\n",
        "  </tbody>\n",
        "</table>\n",
        "</div>"
       ],
       "metadata": {},
       "output_type": "display_data",
       "text": [
        "          0         1\n",
        "0  2.132491 -0.124995\n",
        "1  0.814750 -0.898513"
       ]
      },
      {
       "html": [
        "<div style=\"max-height:1000px;max-width:1500px;overflow:auto;\">\n",
        "<table border=\"1\" class=\"dataframe\">\n",
        "  <thead>\n",
        "    <tr style=\"text-align: right;\">\n",
        "      <th></th>\n",
        "      <th>0</th>\n",
        "      <th>1</th>\n",
        "    </tr>\n",
        "  </thead>\n",
        "  <tbody>\n",
        "    <tr>\n",
        "      <th>0</th>\n",
        "      <td>-0.044222</td>\n",
        "      <td> 0.674117</td>\n",
        "    </tr>\n",
        "    <tr>\n",
        "      <th>1</th>\n",
        "      <td>-0.305143</td>\n",
        "      <td>-0.902017</td>\n",
        "    </tr>\n",
        "  </tbody>\n",
        "</table>\n",
        "</div>"
       ],
       "metadata": {},
       "output_type": "display_data",
       "text": [
        "          0         1\n",
        "0 -0.044222  0.674117\n",
        "1 -0.305143 -0.902017"
       ]
      }
     ],
     "prompt_number": 238
    },
    {
     "cell_type": "code",
     "collapsed": false,
     "input": [
      "top_url = 'http://www.tylervigen.com'\n",
      "url = 'http://www.tylervigen.com/view_correlation?id=1703'"
     ],
     "language": "python",
     "metadata": {},
     "outputs": [],
     "prompt_number": 239
    },
    {
     "cell_type": "code",
     "collapsed": false,
     "input": [
      "insert_page(top_url)"
     ],
     "language": "python",
     "metadata": {},
     "outputs": [
      {
       "html": [
        "<iframe src='http://www.tylervigen.com' width=700 height=350></iframe>"
       ],
       "metadata": {},
       "output_type": "display_data",
       "text": [
        "<IPython.core.display.HTML object>"
       ]
      }
     ],
     "prompt_number": 240
    },
    {
     "cell_type": "code",
     "collapsed": false,
     "input": [
      "insert_page(url)"
     ],
     "language": "python",
     "metadata": {},
     "outputs": [
      {
       "html": [
        "<iframe src='http://www.tylervigen.com/view_correlation?id=1703' width=700 height=350></iframe>"
       ],
       "metadata": {},
       "output_type": "display_data",
       "text": [
        "<IPython.core.display.HTML object>"
       ]
      }
     ],
     "prompt_number": 241
    },
    {
     "cell_type": "code",
     "collapsed": false,
     "input": [
      "raw = requests.get(url).text\n",
      "match = r'Divorce rate in Maine'\n",
      "dfs = pd.read_html(raw, match=match, header=0, index_col=0)"
     ],
     "language": "python",
     "metadata": {},
     "outputs": [],
     "prompt_number": 242
    },
    {
     "cell_type": "code",
     "collapsed": true,
     "input": [
      "dfs[-1]"
     ],
     "language": "python",
     "metadata": {},
     "outputs": [
      {
       "html": [
        "<div style=\"max-height:1000px;max-width:1500px;overflow:auto;\">\n",
        "<table border=\"1\" class=\"dataframe\">\n",
        "  <thead>\n",
        "    <tr style=\"text-align: right;\">\n",
        "      <th></th>\n",
        "      <th>2000</th>\n",
        "      <th>2001</th>\n",
        "      <th>2002</th>\n",
        "      <th>...</th>\n",
        "      <th>2008</th>\n",
        "      <th>2009</th>\n",
        "      <th>Unnamed: 11</th>\n",
        "    </tr>\n",
        "  </thead>\n",
        "  <tbody>\n",
        "    <tr>\n",
        "      <th>Divorce rate in MaineDivorces per 1000 people (US Census)</th>\n",
        "      <td> 5.0</td>\n",
        "      <td> 4.7</td>\n",
        "      <td> 4.6</td>\n",
        "      <td>...</td>\n",
        "      <td> 4.2</td>\n",
        "      <td> 4.1</td>\n",
        "      <td>NaN</td>\n",
        "    </tr>\n",
        "    <tr>\n",
        "      <th>Per capita consumption of margarine (US)Pounds (USDA)</th>\n",
        "      <td> 8.2</td>\n",
        "      <td> 7.0</td>\n",
        "      <td> 6.5</td>\n",
        "      <td>...</td>\n",
        "      <td> 4.2</td>\n",
        "      <td> 3.7</td>\n",
        "      <td>NaN</td>\n",
        "    </tr>\n",
        "    <tr>\n",
        "      <th>Correlation: 0.992558</th>\n",
        "      <td> NaN</td>\n",
        "      <td> NaN</td>\n",
        "      <td> NaN</td>\n",
        "      <td>...</td>\n",
        "      <td> NaN</td>\n",
        "      <td> NaN</td>\n",
        "      <td>NaN</td>\n",
        "    </tr>\n",
        "  </tbody>\n",
        "</table>\n",
        "<p>3 rows \u00d7 11 columns</p>\n",
        "</div>"
       ],
       "metadata": {},
       "output_type": "pyout",
       "prompt_number": 243,
       "text": [
        "                                                           2000  2001  2002  \\\n",
        "Divorce rate in MaineDivorces per 1000 people (US Census)   5.0   4.7   4.6   \n",
        "Per capita consumption of margarine (US)Pounds (USDA)       8.2   7.0   6.5   \n",
        "Correlation: 0.992558                                       NaN   NaN   NaN   \n",
        "\n",
        "                                                           ...   2008  2009  \\\n",
        "Divorce rate in MaineDivorces per 1000 people (US Census)  ...    4.2   4.1   \n",
        "Per capita consumption of margarine (US)Pounds (USDA)      ...    4.2   3.7   \n",
        "Correlation: 0.992558                                      ...    NaN   NaN   \n",
        "\n",
        "                                                           Unnamed: 11  \n",
        "Divorce rate in MaineDivorces per 1000 people (US Census)          NaN  \n",
        "Per capita consumption of margarine (US)Pounds (USDA)              NaN  \n",
        "Correlation: 0.992558                                              NaN  \n",
        "\n",
        "[3 rows x 11 columns]"
       ]
      }
     ],
     "prompt_number": 243
    },
    {
     "cell_type": "code",
     "collapsed": false,
     "input": [
      "# get rid of junk columns\n",
      "df = dfs[-1].dropna(how='all', axis=(0, 1)).T\n",
      "\n",
      "# better names\n",
      "df.columns = ['mn_divorce_rate', 'per_capita_marg']\n",
      "\n",
      "# rename generic index name to year\n",
      "df = df.reset_index().rename(columns={'index': 'year'})\n",
      "\n",
      "# make years integers\n",
      "df = df.convert_objects(convert_numeric=True)\n",
      "df"
     ],
     "language": "python",
     "metadata": {},
     "outputs": [
      {
       "html": [
        "<div style=\"max-height:1000px;max-width:1500px;overflow:auto;\">\n",
        "<table border=\"1\" class=\"dataframe\">\n",
        "  <thead>\n",
        "    <tr style=\"text-align: right;\">\n",
        "      <th></th>\n",
        "      <th>year</th>\n",
        "      <th>mn_divorce_rate</th>\n",
        "      <th>per_capita_marg</th>\n",
        "    </tr>\n",
        "  </thead>\n",
        "  <tbody>\n",
        "    <tr>\n",
        "      <th>0</th>\n",
        "      <td> 2000</td>\n",
        "      <td> 5.0</td>\n",
        "      <td> 8.2</td>\n",
        "    </tr>\n",
        "    <tr>\n",
        "      <th>1</th>\n",
        "      <td> 2001</td>\n",
        "      <td> 4.7</td>\n",
        "      <td> 7.0</td>\n",
        "    </tr>\n",
        "    <tr>\n",
        "      <th>2</th>\n",
        "      <td> 2002</td>\n",
        "      <td> 4.6</td>\n",
        "      <td> 6.5</td>\n",
        "    </tr>\n",
        "    <tr>\n",
        "      <th>3</th>\n",
        "      <td> 2003</td>\n",
        "      <td> 4.4</td>\n",
        "      <td> 5.3</td>\n",
        "    </tr>\n",
        "    <tr>\n",
        "      <th>4</th>\n",
        "      <td> 2004</td>\n",
        "      <td> 4.3</td>\n",
        "      <td> 5.2</td>\n",
        "    </tr>\n",
        "    <tr>\n",
        "      <th>5</th>\n",
        "      <td> 2005</td>\n",
        "      <td> 4.1</td>\n",
        "      <td> 4.0</td>\n",
        "    </tr>\n",
        "    <tr>\n",
        "      <th>6</th>\n",
        "      <td> 2006</td>\n",
        "      <td> 4.2</td>\n",
        "      <td> 4.6</td>\n",
        "    </tr>\n",
        "    <tr>\n",
        "      <th>7</th>\n",
        "      <td> 2007</td>\n",
        "      <td> 4.2</td>\n",
        "      <td> 4.5</td>\n",
        "    </tr>\n",
        "    <tr>\n",
        "      <th>8</th>\n",
        "      <td> 2008</td>\n",
        "      <td> 4.2</td>\n",
        "      <td> 4.2</td>\n",
        "    </tr>\n",
        "    <tr>\n",
        "      <th>9</th>\n",
        "      <td> 2009</td>\n",
        "      <td> 4.1</td>\n",
        "      <td> 3.7</td>\n",
        "    </tr>\n",
        "  </tbody>\n",
        "</table>\n",
        "</div>"
       ],
       "metadata": {},
       "output_type": "pyout",
       "prompt_number": 244,
       "text": [
        "   year  mn_divorce_rate  per_capita_marg\n",
        "0  2000              5.0              8.2\n",
        "1  2001              4.7              7.0\n",
        "2  2002              4.6              6.5\n",
        "3  2003              4.4              5.3\n",
        "4  2004              4.3              5.2\n",
        "5  2005              4.1              4.0\n",
        "6  2006              4.2              4.6\n",
        "7  2007              4.2              4.5\n",
        "8  2008              4.2              4.2\n",
        "9  2009              4.1              3.7"
       ]
      }
     ],
     "prompt_number": 244
    },
    {
     "cell_type": "code",
     "collapsed": false,
     "input": [
      "def blacken_legend_text(leg):\n",
      "    for t in leg.get_texts():\n",
      "        t.set_color('k')\n",
      "        \n",
      "        \n",
      "fig, (ax, ax2) = plt.subplots(2, 1, figsize=(8, 6))\n",
      "\n",
      "# maine divorces\n",
      "ln = ax.plot(df.mn_divorce_rate.values, r'ro-', label='Divorce Rate / 1000 People')\n",
      "ax.set_xticklabels(df.year)\n",
      "ax.set_xlabel('Year')\n",
      "ax.set_ylabel(ln[0].get_label())\n",
      "\n",
      "# butter eating\n",
      "axt = ax.twinx()\n",
      "lt = axt.plot(df.per_capita_marg.values, r'bo-', label='Per Capita Lbs of Margarine')\n",
      "axt.set_ylabel(lt[0].get_label())\n",
      "\n",
      "# scatter plot\n",
      "ax2.scatter(df.mn_divorce_rate.values, df.per_capita_marg.values, s=100)\n",
      "ax2.set_xlabel('MN Divorce Rate')\n",
      "ax2.set_ylabel('Margarine')\n",
      "ax2.set_title(r'Divorce vs. Margarine, $r = %.2g$' % df.mn_divorce_rate.corr(df.per_capita_marg))\n",
      "ax2.axis('tight')\n",
      "\n",
      "# legend madness\n",
      "lns = ln + lt\n",
      "leg = ax.legend(lns, [l.get_label() for l in lns], loc=0)\n",
      "blacken_legend_text(leg)\n",
      "\n",
      "fig.tight_layout()"
     ],
     "language": "python",
     "metadata": {},
     "outputs": [
      {
       "metadata": {},
       "output_type": "display_data",
       "png": "[encoded data removed]",
       "text": [
        "<matplotlib.figure.Figure at 0xdbc9b90>"
       ]
      }
     ],
     "prompt_number": 245
    },
    {
     "cell_type": "heading",
     "level": 2,
     "metadata": {},
     "source": [
      "``DataFrame.replace()`` with regular expressions"
     ]
    },
    {
     "cell_type": "code",
     "collapsed": false,
     "input": [
      "tips = pd.read_csv('s3://nyqpug/tips.csv')"
     ],
     "language": "python",
     "metadata": {},
     "outputs": [],
     "prompt_number": 246
    },
    {
     "cell_type": "code",
     "collapsed": false,
     "input": [
      "# add some random lower cased versions of yes and no\n",
      "nrows = len(tips)\n",
      "tips.loc[(rand(nrows) > 0.5) & (tips.smoker == 'Yes'), 'smoker'] = 'yes'\n",
      "tips.loc[(rand(nrows) > 0.5) & (tips.smoker == 'No'), 'smoker'] = 'no'"
     ],
     "language": "python",
     "metadata": {},
     "outputs": [],
     "prompt_number": 247
    },
    {
     "cell_type": "code",
     "collapsed": false,
     "input": [
      "# sanity check\n",
      "tips.smoker.value_counts()"
     ],
     "language": "python",
     "metadata": {},
     "outputs": [
      {
       "metadata": {},
       "output_type": "pyout",
       "prompt_number": 248,
       "text": [
        "no     84\n",
        "No     67\n",
        "Yes    49\n",
        "yes    44\n",
        "dtype: int64"
       ]
      }
     ],
     "prompt_number": 248
    },
    {
     "cell_type": "code",
     "collapsed": true,
     "input": [
      "repd = tips.replace(regex={'smoker': {'[yY]es': True, '[nN]o': False}})\n",
      "repd"
     ],
     "language": "python",
     "metadata": {},
     "outputs": [
      {
       "html": [
        "<div style=\"max-height:1000px;max-width:1500px;overflow:auto;\">\n",
        "<table border=\"1\" class=\"dataframe\">\n",
        "  <thead>\n",
        "    <tr style=\"text-align: right;\">\n",
        "      <th></th>\n",
        "      <th>total_bill</th>\n",
        "      <th>tip</th>\n",
        "      <th>sex</th>\n",
        "      <th>smoker</th>\n",
        "      <th>day</th>\n",
        "      <th>time</th>\n",
        "      <th>size</th>\n",
        "    </tr>\n",
        "  </thead>\n",
        "  <tbody>\n",
        "    <tr>\n",
        "      <th>0  </th>\n",
        "      <td> 16.99</td>\n",
        "      <td> 1.01</td>\n",
        "      <td> Female</td>\n",
        "      <td> False</td>\n",
        "      <td>  Sun</td>\n",
        "      <td> Dinner</td>\n",
        "      <td> 2</td>\n",
        "    </tr>\n",
        "    <tr>\n",
        "      <th>1  </th>\n",
        "      <td> 10.34</td>\n",
        "      <td> 1.66</td>\n",
        "      <td>   Male</td>\n",
        "      <td> False</td>\n",
        "      <td>  Sun</td>\n",
        "      <td> Dinner</td>\n",
        "      <td> 3</td>\n",
        "    </tr>\n",
        "    <tr>\n",
        "      <th>2  </th>\n",
        "      <td> 21.01</td>\n",
        "      <td> 3.50</td>\n",
        "      <td>   Male</td>\n",
        "      <td> False</td>\n",
        "      <td>  Sun</td>\n",
        "      <td> Dinner</td>\n",
        "      <td> 3</td>\n",
        "    </tr>\n",
        "    <tr>\n",
        "      <th>3  </th>\n",
        "      <td> 23.68</td>\n",
        "      <td> 3.31</td>\n",
        "      <td>   Male</td>\n",
        "      <td> False</td>\n",
        "      <td>  Sun</td>\n",
        "      <td> Dinner</td>\n",
        "      <td> 2</td>\n",
        "    </tr>\n",
        "    <tr>\n",
        "      <th>4  </th>\n",
        "      <td> 24.59</td>\n",
        "      <td> 3.61</td>\n",
        "      <td> Female</td>\n",
        "      <td> False</td>\n",
        "      <td>  Sun</td>\n",
        "      <td> Dinner</td>\n",
        "      <td> 4</td>\n",
        "    </tr>\n",
        "    <tr>\n",
        "      <th>...</th>\n",
        "      <td>...</td>\n",
        "      <td>...</td>\n",
        "      <td>...</td>\n",
        "      <td>...</td>\n",
        "      <td>...</td>\n",
        "      <td>...</td>\n",
        "      <td>...</td>\n",
        "    </tr>\n",
        "    <tr>\n",
        "      <th>239</th>\n",
        "      <td> 29.03</td>\n",
        "      <td> 5.92</td>\n",
        "      <td>   Male</td>\n",
        "      <td> False</td>\n",
        "      <td>  Sat</td>\n",
        "      <td> Dinner</td>\n",
        "      <td> 3</td>\n",
        "    </tr>\n",
        "    <tr>\n",
        "      <th>240</th>\n",
        "      <td> 27.18</td>\n",
        "      <td> 2.00</td>\n",
        "      <td> Female</td>\n",
        "      <td>  True</td>\n",
        "      <td>  Sat</td>\n",
        "      <td> Dinner</td>\n",
        "      <td> 2</td>\n",
        "    </tr>\n",
        "    <tr>\n",
        "      <th>241</th>\n",
        "      <td> 22.67</td>\n",
        "      <td> 2.00</td>\n",
        "      <td>   Male</td>\n",
        "      <td>  True</td>\n",
        "      <td>  Sat</td>\n",
        "      <td> Dinner</td>\n",
        "      <td> 2</td>\n",
        "    </tr>\n",
        "    <tr>\n",
        "      <th>242</th>\n",
        "      <td> 17.82</td>\n",
        "      <td> 1.75</td>\n",
        "      <td>   Male</td>\n",
        "      <td> False</td>\n",
        "      <td>  Sat</td>\n",
        "      <td> Dinner</td>\n",
        "      <td> 2</td>\n",
        "    </tr>\n",
        "    <tr>\n",
        "      <th>243</th>\n",
        "      <td> 18.78</td>\n",
        "      <td> 3.00</td>\n",
        "      <td> Female</td>\n",
        "      <td> False</td>\n",
        "      <td> Thur</td>\n",
        "      <td> Dinner</td>\n",
        "      <td> 2</td>\n",
        "    </tr>\n",
        "  </tbody>\n",
        "</table>\n",
        "<p>244 rows \u00d7 7 columns</p>\n",
        "</div>"
       ],
       "metadata": {},
       "output_type": "pyout",
       "prompt_number": 249,
       "text": [
        "     total_bill   tip     sex smoker   day    time  size\n",
        "0         16.99  1.01  Female  False   Sun  Dinner     2\n",
        "1         10.34  1.66    Male  False   Sun  Dinner     3\n",
        "2         21.01  3.50    Male  False   Sun  Dinner     3\n",
        "3         23.68  3.31    Male  False   Sun  Dinner     2\n",
        "4         24.59  3.61  Female  False   Sun  Dinner     4\n",
        "..          ...   ...     ...    ...   ...     ...   ...\n",
        "239       29.03  5.92    Male  False   Sat  Dinner     3\n",
        "240       27.18  2.00  Female   True   Sat  Dinner     2\n",
        "241       22.67  2.00    Male   True   Sat  Dinner     2\n",
        "242       17.82  1.75    Male  False   Sat  Dinner     2\n",
        "243       18.78  3.00  Female  False  Thur  Dinner     2\n",
        "\n",
        "[244 rows x 7 columns]"
       ]
      }
     ],
     "prompt_number": 249
    },
    {
     "cell_type": "code",
     "collapsed": true,
     "input": [
      "repd_all = tips.replace(regex={'[yY]es': True, '[nN]o': False})\n",
      "repd_all"
     ],
     "language": "python",
     "metadata": {},
     "outputs": [
      {
       "html": [
        "<div style=\"max-height:1000px;max-width:1500px;overflow:auto;\">\n",
        "<table border=\"1\" class=\"dataframe\">\n",
        "  <thead>\n",
        "    <tr style=\"text-align: right;\">\n",
        "      <th></th>\n",
        "      <th>total_bill</th>\n",
        "      <th>tip</th>\n",
        "      <th>sex</th>\n",
        "      <th>smoker</th>\n",
        "      <th>day</th>\n",
        "      <th>time</th>\n",
        "      <th>size</th>\n",
        "    </tr>\n",
        "  </thead>\n",
        "  <tbody>\n",
        "    <tr>\n",
        "      <th>0  </th>\n",
        "      <td> 16.99</td>\n",
        "      <td> 1.01</td>\n",
        "      <td> Female</td>\n",
        "      <td> False</td>\n",
        "      <td>  Sun</td>\n",
        "      <td> Dinner</td>\n",
        "      <td> 2</td>\n",
        "    </tr>\n",
        "    <tr>\n",
        "      <th>1  </th>\n",
        "      <td> 10.34</td>\n",
        "      <td> 1.66</td>\n",
        "      <td>   Male</td>\n",
        "      <td> False</td>\n",
        "      <td>  Sun</td>\n",
        "      <td> Dinner</td>\n",
        "      <td> 3</td>\n",
        "    </tr>\n",
        "    <tr>\n",
        "      <th>2  </th>\n",
        "      <td> 21.01</td>\n",
        "      <td> 3.50</td>\n",
        "      <td>   Male</td>\n",
        "      <td> False</td>\n",
        "      <td>  Sun</td>\n",
        "      <td> Dinner</td>\n",
        "      <td> 3</td>\n",
        "    </tr>\n",
        "    <tr>\n",
        "      <th>3  </th>\n",
        "      <td> 23.68</td>\n",
        "      <td> 3.31</td>\n",
        "      <td>   Male</td>\n",
        "      <td> False</td>\n",
        "      <td>  Sun</td>\n",
        "      <td> Dinner</td>\n",
        "      <td> 2</td>\n",
        "    </tr>\n",
        "    <tr>\n",
        "      <th>4  </th>\n",
        "      <td> 24.59</td>\n",
        "      <td> 3.61</td>\n",
        "      <td> Female</td>\n",
        "      <td> False</td>\n",
        "      <td>  Sun</td>\n",
        "      <td> Dinner</td>\n",
        "      <td> 4</td>\n",
        "    </tr>\n",
        "    <tr>\n",
        "      <th>...</th>\n",
        "      <td>...</td>\n",
        "      <td>...</td>\n",
        "      <td>...</td>\n",
        "      <td>...</td>\n",
        "      <td>...</td>\n",
        "      <td>...</td>\n",
        "      <td>...</td>\n",
        "    </tr>\n",
        "    <tr>\n",
        "      <th>239</th>\n",
        "      <td> 29.03</td>\n",
        "      <td> 5.92</td>\n",
        "      <td>   Male</td>\n",
        "      <td> False</td>\n",
        "      <td>  Sat</td>\n",
        "      <td> Dinner</td>\n",
        "      <td> 3</td>\n",
        "    </tr>\n",
        "    <tr>\n",
        "      <th>240</th>\n",
        "      <td> 27.18</td>\n",
        "      <td> 2.00</td>\n",
        "      <td> Female</td>\n",
        "      <td>  True</td>\n",
        "      <td>  Sat</td>\n",
        "      <td> Dinner</td>\n",
        "      <td> 2</td>\n",
        "    </tr>\n",
        "    <tr>\n",
        "      <th>241</th>\n",
        "      <td> 22.67</td>\n",
        "      <td> 2.00</td>\n",
        "      <td>   Male</td>\n",
        "      <td>  True</td>\n",
        "      <td>  Sat</td>\n",
        "      <td> Dinner</td>\n",
        "      <td> 2</td>\n",
        "    </tr>\n",
        "    <tr>\n",
        "      <th>242</th>\n",
        "      <td> 17.82</td>\n",
        "      <td> 1.75</td>\n",
        "      <td>   Male</td>\n",
        "      <td> False</td>\n",
        "      <td>  Sat</td>\n",
        "      <td> Dinner</td>\n",
        "      <td> 2</td>\n",
        "    </tr>\n",
        "    <tr>\n",
        "      <th>243</th>\n",
        "      <td> 18.78</td>\n",
        "      <td> 3.00</td>\n",
        "      <td> Female</td>\n",
        "      <td> False</td>\n",
        "      <td> Thur</td>\n",
        "      <td> Dinner</td>\n",
        "      <td> 2</td>\n",
        "    </tr>\n",
        "  </tbody>\n",
        "</table>\n",
        "<p>244 rows \u00d7 7 columns</p>\n",
        "</div>"
       ],
       "metadata": {},
       "output_type": "pyout",
       "prompt_number": 250,
       "text": [
        "     total_bill   tip     sex smoker   day    time  size\n",
        "0         16.99  1.01  Female  False   Sun  Dinner     2\n",
        "1         10.34  1.66    Male  False   Sun  Dinner     3\n",
        "2         21.01  3.50    Male  False   Sun  Dinner     3\n",
        "3         23.68  3.31    Male  False   Sun  Dinner     2\n",
        "4         24.59  3.61  Female  False   Sun  Dinner     4\n",
        "..          ...   ...     ...    ...   ...     ...   ...\n",
        "239       29.03  5.92    Male  False   Sat  Dinner     3\n",
        "240       27.18  2.00  Female   True   Sat  Dinner     2\n",
        "241       22.67  2.00    Male   True   Sat  Dinner     2\n",
        "242       17.82  1.75    Male  False   Sat  Dinner     2\n",
        "243       18.78  3.00  Female  False  Thur  Dinner     2\n",
        "\n",
        "[244 rows x 7 columns]"
       ]
      }
     ],
     "prompt_number": 250
    },
    {
     "cell_type": "heading",
     "level": 2,
     "metadata": {},
     "source": [
      "[``read_json``](http://pandas.pydata.org/pandas-docs/stable/io.html#io-json-reader) (simple)"
     ]
    },
    {
     "cell_type": "code",
     "collapsed": false,
     "input": [
      "jsfile = 'data.json'"
     ],
     "language": "python",
     "metadata": {},
     "outputs": [],
     "prompt_number": 251
    },
    {
     "cell_type": "code",
     "collapsed": false,
     "input": [
      "%%writefile $jsfile\n",
      "{\n",
      "    \"name\": [\"Bob Jones\", \"Karen Smith\"],\n",
      "    \"age\": [28, 26],\n",
      "    \"gender\": [\"M\", \"F\"]\n",
      "}"
     ],
     "language": "python",
     "metadata": {},
     "outputs": [
      {
       "output_type": "stream",
       "stream": "stdout",
       "text": [
        "Overwriting data.json\n"
       ]
      }
     ],
     "prompt_number": 252
    },
    {
     "cell_type": "code",
     "collapsed": false,
     "input": [
      "pd.read_json(jsfile)  # no problemo"
     ],
     "language": "python",
     "metadata": {},
     "outputs": [
      {
       "html": [
        "<div style=\"max-height:1000px;max-width:1500px;overflow:auto;\">\n",
        "<table border=\"1\" class=\"dataframe\">\n",
        "  <thead>\n",
        "    <tr style=\"text-align: right;\">\n",
        "      <th></th>\n",
        "      <th>age</th>\n",
        "      <th>gender</th>\n",
        "      <th>name</th>\n",
        "    </tr>\n",
        "  </thead>\n",
        "  <tbody>\n",
        "    <tr>\n",
        "      <th>0</th>\n",
        "      <td> 28</td>\n",
        "      <td> M</td>\n",
        "      <td>   Bob Jones</td>\n",
        "    </tr>\n",
        "    <tr>\n",
        "      <th>1</th>\n",
        "      <td> 26</td>\n",
        "      <td> F</td>\n",
        "      <td> Karen Smith</td>\n",
        "    </tr>\n",
        "  </tbody>\n",
        "</table>\n",
        "</div>"
       ],
       "metadata": {},
       "output_type": "pyout",
       "prompt_number": 253,
       "text": [
        "   age gender         name\n",
        "0   28      M    Bob Jones\n",
        "1   26      F  Karen Smith"
       ]
      }
     ],
     "prompt_number": 253
    },
    {
     "cell_type": "code",
     "collapsed": false,
     "input": [
      "# can also use keys as the rows instead of columns\n",
      "pd.read_json(jsfile, orient='index')"
     ],
     "language": "python",
     "metadata": {},
     "outputs": [
      {
       "html": [
        "<div style=\"max-height:1000px;max-width:1500px;overflow:auto;\">\n",
        "<table border=\"1\" class=\"dataframe\">\n",
        "  <thead>\n",
        "    <tr style=\"text-align: right;\">\n",
        "      <th></th>\n",
        "      <th>0</th>\n",
        "      <th>1</th>\n",
        "    </tr>\n",
        "  </thead>\n",
        "  <tbody>\n",
        "    <tr>\n",
        "      <th>age</th>\n",
        "      <td>        28</td>\n",
        "      <td>          26</td>\n",
        "    </tr>\n",
        "    <tr>\n",
        "      <th>gender</th>\n",
        "      <td>         M</td>\n",
        "      <td>           F</td>\n",
        "    </tr>\n",
        "    <tr>\n",
        "      <th>name</th>\n",
        "      <td> Bob Jones</td>\n",
        "      <td> Karen Smith</td>\n",
        "    </tr>\n",
        "  </tbody>\n",
        "</table>\n",
        "</div>"
       ],
       "metadata": {},
       "output_type": "pyout",
       "prompt_number": 254,
       "text": [
        "                0            1\n",
        "age            28           26\n",
        "gender          M            F\n",
        "name    Bob Jones  Karen Smith"
       ]
      }
     ],
     "prompt_number": 254
    },
    {
     "cell_type": "code",
     "collapsed": false,
     "input": [
      "%%writefile $jsfile\n",
      "{\n",
      "    \"region\": {\n",
      "        \"Canada\": {\n",
      "            \"name\": \"Bob Jones\",\n",
      "            \"age\": 28,\n",
      "            \"gender\": \"M\"\n",
      "        },\n",
      "        \"USA\": {\n",
      "            \"name\": \"Karen Smith\",\n",
      "            \"age\": 26,\n",
      "            \"gender\": \"F\"\n",
      "        }\n",
      "    }\n",
      "}"
     ],
     "language": "python",
     "metadata": {},
     "outputs": [
      {
       "output_type": "stream",
       "stream": "stdout",
       "text": [
        "Overwriting data.json\n"
       ]
      }
     ],
     "prompt_number": 255
    },
    {
     "cell_type": "code",
     "collapsed": false,
     "input": [
      "disp(pd.read_json(jsfile, orient='records'))\n",
      "disp(Audio(os.path.join(os.pardir, 'mp3', 'w.mp3'), autoplay=True))"
     ],
     "language": "python",
     "metadata": {},
     "outputs": [
      {
       "html": [
        "<div style=\"max-height:1000px;max-width:1500px;overflow:auto;\">\n",
        "<table border=\"1\" class=\"dataframe\">\n",
        "  <thead>\n",
        "    <tr style=\"text-align: right;\">\n",
        "      <th></th>\n",
        "      <th>region</th>\n",
        "    </tr>\n",
        "  </thead>\n",
        "  <tbody>\n",
        "    <tr>\n",
        "      <th>Canada</th>\n",
        "      <td> {u'gender': u'M', u'age': 28, u'name': u'Bob J...</td>\n",
        "    </tr>\n",
        "    <tr>\n",
        "      <th>USA</th>\n",
        "      <td> {u'gender': u'F', u'age': 26, u'name': u'Karen...</td>\n",
        "    </tr>\n",
        "  </tbody>\n",
        "</table>\n",
        "</div>"
       ],
       "metadata": {},
       "output_type": "display_data",
       "text": [
        "                                                   region\n",
        "Canada  {u'gender': u'M', u'age': 28, u'name': u'Bob J...\n",
        "USA     {u'gender': u'F', u'age': 26, u'name': u'Karen..."
       ]
      },
      {
       "html": [
        "\n",
        "                <audio controls=\"controls\" autoplay=\"autoplay\">\n",
        "                    <source src=\"data:audio/mpeg;base64,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\" type=\"audio/mpeg\" />\n",
        "                    Your browser does not support the audio element.\n",
        "                </audio>\n",
        "              "
       ],
       "metadata": {},
       "output_type": "display_data",
       "text": [
        "<IPython.lib.display.Audio object>"
       ]
      }
     ],
     "prompt_number": 256
    },
    {
     "cell_type": "heading",
     "level": 2,
     "metadata": {},
     "source": [
      "``read_json`` (not so simple)"
     ]
    },
    {
     "cell_type": "heading",
     "level": 3,
     "metadata": {},
     "source": [
      "pandas plays nicely with other libraries"
     ]
    },
    {
     "cell_type": "code",
     "collapsed": false,
     "input": [
      "with open(jsfile, 'rt') as f:\n",
      "    data = f.read()"
     ],
     "language": "python",
     "metadata": {},
     "outputs": [],
     "prompt_number": 257
    },
    {
     "cell_type": "code",
     "collapsed": false,
     "input": [
      "# avoid read_json entirely :)\n",
      "# get transposed\n",
      "df = DataFrame(json.loads(data)[\"region\"])\n",
      "df"
     ],
     "language": "python",
     "metadata": {},
     "outputs": [
      {
       "html": [
        "<div style=\"max-height:1000px;max-width:1500px;overflow:auto;\">\n",
        "<table border=\"1\" class=\"dataframe\">\n",
        "  <thead>\n",
        "    <tr style=\"text-align: right;\">\n",
        "      <th></th>\n",
        "      <th>Canada</th>\n",
        "      <th>USA</th>\n",
        "    </tr>\n",
        "  </thead>\n",
        "  <tbody>\n",
        "    <tr>\n",
        "      <th>age</th>\n",
        "      <td>        28</td>\n",
        "      <td>          26</td>\n",
        "    </tr>\n",
        "    <tr>\n",
        "      <th>gender</th>\n",
        "      <td>         M</td>\n",
        "      <td>           F</td>\n",
        "    </tr>\n",
        "    <tr>\n",
        "      <th>name</th>\n",
        "      <td> Bob Jones</td>\n",
        "      <td> Karen Smith</td>\n",
        "    </tr>\n",
        "  </tbody>\n",
        "</table>\n",
        "</div>"
       ],
       "metadata": {},
       "output_type": "pyout",
       "prompt_number": 258,
       "text": [
        "           Canada          USA\n",
        "age            28           26\n",
        "gender          M            F\n",
        "name    Bob Jones  Karen Smith"
       ]
      }
     ],
     "prompt_number": 258
    },
    {
     "cell_type": "code",
     "collapsed": false,
     "input": [
      "jq = sh.jq.bake('-M')  # -M disables colorizing"
     ],
     "language": "python",
     "metadata": {},
     "outputs": [],
     "prompt_number": 259
    },
    {
     "cell_type": "code",
     "collapsed": false,
     "input": [
      "rule = \"(.region)\"  # this rule is essentially data[\"region\"]\n",
      "out = jq(rule, _in=data).stdout\n",
      "res = pd.read_json(out, orient='')\n",
      "res"
     ],
     "language": "python",
     "metadata": {},
     "outputs": [
      {
       "html": [
        "<div style=\"max-height:1000px;max-width:1500px;overflow:auto;\">\n",
        "<table border=\"1\" class=\"dataframe\">\n",
        "  <thead>\n",
        "    <tr style=\"text-align: right;\">\n",
        "      <th></th>\n",
        "      <th>Canada</th>\n",
        "      <th>USA</th>\n",
        "    </tr>\n",
        "  </thead>\n",
        "  <tbody>\n",
        "    <tr>\n",
        "      <th>age</th>\n",
        "      <td>        28</td>\n",
        "      <td>          26</td>\n",
        "    </tr>\n",
        "    <tr>\n",
        "      <th>gender</th>\n",
        "      <td>         M</td>\n",
        "      <td>           F</td>\n",
        "    </tr>\n",
        "    <tr>\n",
        "      <th>name</th>\n",
        "      <td> Bob Jones</td>\n",
        "      <td> Karen Smith</td>\n",
        "    </tr>\n",
        "  </tbody>\n",
        "</table>\n",
        "</div>"
       ],
       "metadata": {},
       "output_type": "pyout",
       "prompt_number": 260,
       "text": [
        "           Canada          USA\n",
        "age            28           26\n",
        "gender          M            F\n",
        "name    Bob Jones  Karen Smith"
       ]
      }
     ],
     "prompt_number": 260
    },
    {
     "cell_type": "heading",
     "level": 2,
     "metadata": {},
     "source": [
      "Let's try something a bit hairier..."
     ]
    },
    {
     "cell_type": "heading",
     "level": 4,
     "metadata": {},
     "source": [
      "adapted from [this StackOverflow question](http://stackoverflow.com/q/21494030/564538)"
     ]
    },
    {
     "cell_type": "code",
     "collapsed": false,
     "input": [
      "%%writefile $jsfile\n",
      "{\n",
      "  \"intervals\": [\n",
      "    {\n",
      "      \"pivots\": \"Jane Smith\",\n",
      "      \"series\": [\n",
      "        {\n",
      "          \"interval_id\": 0,\n",
      "          \"p_value\": 1\n",
      "        },\n",
      "        {\n",
      "          \"interval_id\": 1,\n",
      "          \"p_value\": 1.1162791357932633e-8\n",
      "        },\n",
      "        {\n",
      "          \"interval_id\": 2,\n",
      "          \"p_value\": 0.0000028675012051504467\n",
      "        }\n",
      "      ]\n",
      "    },\n",
      "    {\n",
      "      \"pivots\": \"Bob Smith\",\n",
      "      \"series\": [\n",
      "        {\n",
      "          \"interval_id\": 0,\n",
      "          \"p_value\": 1\n",
      "        },\n",
      "        {\n",
      "          \"interval_id\": 1,\n",
      "          \"p_value\": 1.1162791357932633e-8\n",
      "        },\n",
      "        {\n",
      "          \"interval_id\": 2,\n",
      "          \"p_value\": 0.0000028675012051504467\n",
      "        }\n",
      "      ]\n",
      "    }\n",
      "  ]\n",
      "}"
     ],
     "language": "python",
     "metadata": {},
     "outputs": [
      {
       "output_type": "stream",
       "stream": "stdout",
       "text": [
        "Overwriting data.json\n"
       ]
      }
     ],
     "prompt_number": 261
    },
    {
     "cell_type": "code",
     "collapsed": false,
     "input": [
      "%%writefile rule.txt\n",
      "[{pivots: .intervals[].pivots, \n",
      "  interval_id: .intervals[].series[].interval_id,\n",
      "  p_value: .intervals[].series[].p_value}] | unique"
     ],
     "language": "python",
     "metadata": {},
     "outputs": [
      {
       "output_type": "stream",
       "stream": "stdout",
       "text": [
        "Overwriting rule.txt\n"
       ]
      }
     ],
     "prompt_number": 262
    },
    {
     "cell_type": "code",
     "collapsed": false,
     "input": [
      "data = read_text(jsfile)\n",
      "\n",
      "# check out http://stedolan.github.io/jq/manual for more details on these rules\n",
      "rule = read_text('rule.txt')\n",
      "out = jq(rule, _in=data).stdout\n",
      "js = json.loads(out)"
     ],
     "language": "python",
     "metadata": {},
     "outputs": [],
     "prompt_number": 263
    },
    {
     "cell_type": "code",
     "collapsed": false,
     "input": [
      "js[:2]"
     ],
     "language": "python",
     "metadata": {},
     "outputs": [
      {
       "metadata": {},
       "output_type": "pyout",
       "prompt_number": 264,
       "text": [
        "[{u'interval_id': 0,\n",
        "  u'p_value': 1.1162791357932633e-08,\n",
        "  u'pivots': u'Bob Smith'},\n",
        " {u'interval_id': 0,\n",
        "  u'p_value': 1.1162791357932633e-08,\n",
        "  u'pivots': u'Jane Smith'}]"
       ]
      }
     ],
     "prompt_number": 264
    },
    {
     "cell_type": "code",
     "collapsed": false,
     "input": [
      "res = pd.read_json(out)\n",
      "res"
     ],
     "language": "python",
     "metadata": {},
     "outputs": [
      {
       "html": [
        "<div style=\"max-height:1000px;max-width:1500px;overflow:auto;\">\n",
        "<table border=\"1\" class=\"dataframe\">\n",
        "  <thead>\n",
        "    <tr style=\"text-align: right;\">\n",
        "      <th></th>\n",
        "      <th>interval_id</th>\n",
        "      <th>p_value</th>\n",
        "      <th>pivots</th>\n",
        "    </tr>\n",
        "  </thead>\n",
        "  <tbody>\n",
        "    <tr>\n",
        "      <th>0 </th>\n",
        "      <td> 0</td>\n",
        "      <td> 1.116279e-08</td>\n",
        "      <td>  Bob Smith</td>\n",
        "    </tr>\n",
        "    <tr>\n",
        "      <th>1 </th>\n",
        "      <td> 0</td>\n",
        "      <td> 1.116279e-08</td>\n",
        "      <td> Jane Smith</td>\n",
        "    </tr>\n",
        "    <tr>\n",
        "      <th>2 </th>\n",
        "      <td> 0</td>\n",
        "      <td> 2.867501e-06</td>\n",
        "      <td>  Bob Smith</td>\n",
        "    </tr>\n",
        "    <tr>\n",
        "      <th>3 </th>\n",
        "      <td> 0</td>\n",
        "      <td> 2.867501e-06</td>\n",
        "      <td> Jane Smith</td>\n",
        "    </tr>\n",
        "    <tr>\n",
        "      <th>4 </th>\n",
        "      <td> 0</td>\n",
        "      <td> 1.000000e+00</td>\n",
        "      <td>  Bob Smith</td>\n",
        "    </tr>\n",
        "    <tr>\n",
        "      <th>...</th>\n",
        "      <td>...</td>\n",
        "      <td>...</td>\n",
        "      <td>...</td>\n",
        "    </tr>\n",
        "    <tr>\n",
        "      <th>13</th>\n",
        "      <td> 2</td>\n",
        "      <td> 1.116279e-08</td>\n",
        "      <td> Jane Smith</td>\n",
        "    </tr>\n",
        "    <tr>\n",
        "      <th>14</th>\n",
        "      <td> 2</td>\n",
        "      <td> 2.867501e-06</td>\n",
        "      <td>  Bob Smith</td>\n",
        "    </tr>\n",
        "    <tr>\n",
        "      <th>15</th>\n",
        "      <td> 2</td>\n",
        "      <td> 2.867501e-06</td>\n",
        "      <td> Jane Smith</td>\n",
        "    </tr>\n",
        "    <tr>\n",
        "      <th>16</th>\n",
        "      <td> 2</td>\n",
        "      <td> 1.000000e+00</td>\n",
        "      <td>  Bob Smith</td>\n",
        "    </tr>\n",
        "    <tr>\n",
        "      <th>17</th>\n",
        "      <td> 2</td>\n",
        "      <td> 1.000000e+00</td>\n",
        "      <td> Jane Smith</td>\n",
        "    </tr>\n",
        "  </tbody>\n",
        "</table>\n",
        "<p>18 rows \u00d7 3 columns</p>\n",
        "</div>"
       ],
       "metadata": {},
       "output_type": "pyout",
       "prompt_number": 265,
       "text": [
        "    interval_id       p_value      pivots\n",
        "0             0  1.116279e-08   Bob Smith\n",
        "1             0  1.116279e-08  Jane Smith\n",
        "2             0  2.867501e-06   Bob Smith\n",
        "3             0  2.867501e-06  Jane Smith\n",
        "4             0  1.000000e+00   Bob Smith\n",
        "..          ...           ...         ...\n",
        "13            2  1.116279e-08  Jane Smith\n",
        "14            2  2.867501e-06   Bob Smith\n",
        "15            2  2.867501e-06  Jane Smith\n",
        "16            2  1.000000e+00   Bob Smith\n",
        "17            2  1.000000e+00  Jane Smith\n",
        "\n",
        "[18 rows x 3 columns]"
       ]
      }
     ],
     "prompt_number": 265
    },
    {
     "cell_type": "code",
     "collapsed": false,
     "input": [
      "res.dtypes"
     ],
     "language": "python",
     "metadata": {},
     "outputs": [
      {
       "metadata": {},
       "output_type": "pyout",
       "prompt_number": 266,
       "text": [
        "interval_id      int64\n",
        "p_value        float64\n",
        "pivots          object\n",
        "dtype: object"
       ]
      }
     ],
     "prompt_number": 266
    },
    {
     "cell_type": "markdown",
     "metadata": {},
     "source": [
      "# v0.13\n",
      "* ``DataFrame.isin()``\n",
      "* [``str.extract()``](http://pandas.pydata.org/pandas-docs/stable/generated/pandas.core.strings.StringMethods.extract.html#pandas.core.strings.StringMethods.extract)\n",
      "* Experimental Features\n",
      "  * ``query``/``eval``\n",
      "  * ``msgpack`` IO\n",
      "  * ``Google BigQuery`` IO"
     ]
    },
    {
     "cell_type": "code",
     "collapsed": false,
     "input": [
      "names = list(filter(None, read_text('names.txt').split('\\n')))\n",
      "names"
     ],
     "language": "python",
     "metadata": {},
     "outputs": [
      {
       "metadata": {},
       "output_type": "pyout",
       "prompt_number": 267,
       "text": [
        "['Latoyia',\n",
        " 'Sarah',\n",
        " 'Jutta',\n",
        " 'Jayne',\n",
        " 'Brook',\n",
        " 'Brittani',\n",
        " 'Shayla',\n",
        " 'Erika',\n",
        " 'Bradley',\n",
        " 'Nichelle',\n",
        " 'Ana',\n",
        " 'Suzi',\n",
        " 'Jeramy',\n",
        " 'Amie',\n",
        " 'Farrah',\n",
        " 'Dorthy',\n",
        " 'Richie']"
       ]
      }
     ],
     "prompt_number": 267
    },
    {
     "cell_type": "code",
     "collapsed": false,
     "input": [
      "df = DataFrame(dict(zip(['math', 'physics'], \n",
      "                        [names[:5], names[-5:]])))\n",
      "df"
     ],
     "language": "python",
     "metadata": {},
     "outputs": [
      {
       "html": [
        "<div style=\"max-height:1000px;max-width:1500px;overflow:auto;\">\n",
        "<table border=\"1\" class=\"dataframe\">\n",
        "  <thead>\n",
        "    <tr style=\"text-align: right;\">\n",
        "      <th></th>\n",
        "      <th>math</th>\n",
        "      <th>physics</th>\n",
        "    </tr>\n",
        "  </thead>\n",
        "  <tbody>\n",
        "    <tr>\n",
        "      <th>0</th>\n",
        "      <td> Latoyia</td>\n",
        "      <td> Jeramy</td>\n",
        "    </tr>\n",
        "    <tr>\n",
        "      <th>1</th>\n",
        "      <td>   Sarah</td>\n",
        "      <td>   Amie</td>\n",
        "    </tr>\n",
        "    <tr>\n",
        "      <th>2</th>\n",
        "      <td>   Jutta</td>\n",
        "      <td> Farrah</td>\n",
        "    </tr>\n",
        "    <tr>\n",
        "      <th>3</th>\n",
        "      <td>   Jayne</td>\n",
        "      <td> Dorthy</td>\n",
        "    </tr>\n",
        "    <tr>\n",
        "      <th>4</th>\n",
        "      <td>   Brook</td>\n",
        "      <td> Richie</td>\n",
        "    </tr>\n",
        "  </tbody>\n",
        "</table>\n",
        "</div>"
       ],
       "metadata": {},
       "output_type": "pyout",
       "prompt_number": 268,
       "text": [
        "      math physics\n",
        "0  Latoyia  Jeramy\n",
        "1    Sarah    Amie\n",
        "2    Jutta  Farrah\n",
        "3    Jayne  Dorthy\n",
        "4    Brook  Richie"
       ]
      }
     ],
     "prompt_number": 268
    },
    {
     "cell_type": "code",
     "collapsed": false,
     "input": [
      "df.isin(['Brook', 'Bradley', 'Richie', 'Sarah'])"
     ],
     "language": "python",
     "metadata": {},
     "outputs": [
      {
       "html": [
        "<div style=\"max-height:1000px;max-width:1500px;overflow:auto;\">\n",
        "<table border=\"1\" class=\"dataframe\">\n",
        "  <thead>\n",
        "    <tr style=\"text-align: right;\">\n",
        "      <th></th>\n",
        "      <th>math</th>\n",
        "      <th>physics</th>\n",
        "    </tr>\n",
        "  </thead>\n",
        "  <tbody>\n",
        "    <tr>\n",
        "      <th>0</th>\n",
        "      <td> False</td>\n",
        "      <td> False</td>\n",
        "    </tr>\n",
        "    <tr>\n",
        "      <th>1</th>\n",
        "      <td>  True</td>\n",
        "      <td> False</td>\n",
        "    </tr>\n",
        "    <tr>\n",
        "      <th>2</th>\n",
        "      <td> False</td>\n",
        "      <td> False</td>\n",
        "    </tr>\n",
        "    <tr>\n",
        "      <th>3</th>\n",
        "      <td> False</td>\n",
        "      <td> False</td>\n",
        "    </tr>\n",
        "    <tr>\n",
        "      <th>4</th>\n",
        "      <td>  True</td>\n",
        "      <td>  True</td>\n",
        "    </tr>\n",
        "  </tbody>\n",
        "</table>\n",
        "</div>"
       ],
       "metadata": {},
       "output_type": "pyout",
       "prompt_number": 269,
       "text": [
        "    math physics\n",
        "0  False   False\n",
        "1   True   False\n",
        "2  False   False\n",
        "3  False   False\n",
        "4   True    True"
       ]
      }
     ],
     "prompt_number": 269
    },
    {
     "cell_type": "heading",
     "level": 3,
     "metadata": {},
     "source": [
      "``str.extract()``"
     ]
    },
    {
     "cell_type": "code",
     "collapsed": false,
     "input": [
      "!grep -P '^[a-zA-Z_]\\w*$' /usr/share/dict/cracklib-small | head -10"
     ],
     "language": "python",
     "metadata": {},
     "outputs": [
      {
       "output_type": "stream",
       "stream": "stdout",
       "text": [
        "a\r\n",
        "aaa\r\n",
        "aaas\r\n",
        "aarhus\r\n",
        "aaron\r\n",
        "aau\r\n",
        "aba\r\n",
        "ababa\r\n",
        "aback\r\n",
        "abacus\r\n",
        "grep: write error\r\n"
       ]
      }
     ],
     "prompt_number": 270
    },
    {
     "cell_type": "code",
     "collapsed": false,
     "input": [
      "def gen_filenames(n, pattern='%d_%s', dict_file='/usr/share/dict/words'):\n",
      "    matches_id = partial(re.match, '^%s$' % tokenize.Name)\n",
      "    interpolator = partial(operator.mod, pattern)\n",
      "    \n",
      "    with open(dict_file, 'rt') as f:\n",
      "        only_valid_names = ifilter(matches_id, cycle(f))\n",
      "        n_matches = islice(only_valid_names, 0, n)\n",
      "        \n",
      "        for el in imap(interpolator, enumerate(imap(str.strip, n_matches))):\n",
      "            yield el"
     ],
     "language": "python",
     "metadata": {},
     "outputs": [],
     "prompt_number": 271
    },
    {
     "cell_type": "code",
     "collapsed": false,
     "input": [
      "vids = Series(list(gen_filenames(30, pattern='%d_%s.mp4')))\n",
      "vids"
     ],
     "language": "python",
     "metadata": {},
     "outputs": [
      {
       "metadata": {},
       "output_type": "pyout",
       "prompt_number": 272,
       "text": [
        "0      0_A.mp4\n",
        "1     1_AA.mp4\n",
        "2    2_AAA.mp4\n",
        "...\n",
        "27      27_AIDS.mp4\n",
        "28    28_AIDSes.mp4\n",
        "29       29_AIs.mp4\n",
        "Length: 30, dtype: object"
       ]
      }
     ],
     "prompt_number": 272
    },
    {
     "cell_type": "code",
     "collapsed": false,
     "input": [
      "ext = vids.str.extract('(?P<num>\\d+)_(?P<name>.+)')\n",
      "ext"
     ],
     "language": "python",
     "metadata": {},
     "outputs": [
      {
       "html": [
        "<div style=\"max-height:1000px;max-width:1500px;overflow:auto;\">\n",
        "<table border=\"1\" class=\"dataframe\">\n",
        "  <thead>\n",
        "    <tr style=\"text-align: right;\">\n",
        "      <th></th>\n",
        "      <th>num</th>\n",
        "      <th>name</th>\n",
        "    </tr>\n",
        "  </thead>\n",
        "  <tbody>\n",
        "    <tr>\n",
        "      <th>0 </th>\n",
        "      <td>  0</td>\n",
        "      <td>      A.mp4</td>\n",
        "    </tr>\n",
        "    <tr>\n",
        "      <th>1 </th>\n",
        "      <td>  1</td>\n",
        "      <td>     AA.mp4</td>\n",
        "    </tr>\n",
        "    <tr>\n",
        "      <th>2 </th>\n",
        "      <td>  2</td>\n",
        "      <td>    AAA.mp4</td>\n",
        "    </tr>\n",
        "    <tr>\n",
        "      <th>3 </th>\n",
        "      <td>  3</td>\n",
        "      <td>     AB.mp4</td>\n",
        "    </tr>\n",
        "    <tr>\n",
        "      <th>4 </th>\n",
        "      <td>  4</td>\n",
        "      <td>    ABA.mp4</td>\n",
        "    </tr>\n",
        "    <tr>\n",
        "      <th>...</th>\n",
        "      <td>...</td>\n",
        "      <td>...</td>\n",
        "    </tr>\n",
        "    <tr>\n",
        "      <th>25</th>\n",
        "      <td> 25</td>\n",
        "      <td>    AFT.mp4</td>\n",
        "    </tr>\n",
        "    <tr>\n",
        "      <th>26</th>\n",
        "      <td> 26</td>\n",
        "      <td>     AI.mp4</td>\n",
        "    </tr>\n",
        "    <tr>\n",
        "      <th>27</th>\n",
        "      <td> 27</td>\n",
        "      <td>   AIDS.mp4</td>\n",
        "    </tr>\n",
        "    <tr>\n",
        "      <th>28</th>\n",
        "      <td> 28</td>\n",
        "      <td> AIDSes.mp4</td>\n",
        "    </tr>\n",
        "    <tr>\n",
        "      <th>29</th>\n",
        "      <td> 29</td>\n",
        "      <td>    AIs.mp4</td>\n",
        "    </tr>\n",
        "  </tbody>\n",
        "</table>\n",
        "<p>30 rows \u00d7 2 columns</p>\n",
        "</div>"
       ],
       "metadata": {},
       "output_type": "pyout",
       "prompt_number": 273,
       "text": [
        "   num        name\n",
        "0    0       A.mp4\n",
        "1    1      AA.mp4\n",
        "2    2     AAA.mp4\n",
        "3    3      AB.mp4\n",
        "4    4     ABA.mp4\n",
        "..  ..         ...\n",
        "25  25     AFT.mp4\n",
        "26  26      AI.mp4\n",
        "27  27    AIDS.mp4\n",
        "28  28  AIDSes.mp4\n",
        "29  29     AIs.mp4\n",
        "\n",
        "[30 rows x 2 columns]"
       ]
      }
     ],
     "prompt_number": 273
    },
    {
     "cell_type": "code",
     "collapsed": false,
     "input": [
      "ext = ext.convert_objects(convert_numeric=True)\n",
      "disp(ext.dtypes)\n",
      "ext"
     ],
     "language": "python",
     "metadata": {},
     "outputs": [
      {
       "metadata": {},
       "output_type": "display_data",
       "text": [
        "num      int64\n",
        "name    object\n",
        "dtype: object"
       ]
      },
      {
       "html": [
        "<div style=\"max-height:1000px;max-width:1500px;overflow:auto;\">\n",
        "<table border=\"1\" class=\"dataframe\">\n",
        "  <thead>\n",
        "    <tr style=\"text-align: right;\">\n",
        "      <th></th>\n",
        "      <th>num</th>\n",
        "      <th>name</th>\n",
        "    </tr>\n",
        "  </thead>\n",
        "  <tbody>\n",
        "    <tr>\n",
        "      <th>0 </th>\n",
        "      <td>  0</td>\n",
        "      <td>      A.mp4</td>\n",
        "    </tr>\n",
        "    <tr>\n",
        "      <th>1 </th>\n",
        "      <td>  1</td>\n",
        "      <td>     AA.mp4</td>\n",
        "    </tr>\n",
        "    <tr>\n",
        "      <th>2 </th>\n",
        "      <td>  2</td>\n",
        "      <td>    AAA.mp4</td>\n",
        "    </tr>\n",
        "    <tr>\n",
        "      <th>3 </th>\n",
        "      <td>  3</td>\n",
        "      <td>     AB.mp4</td>\n",
        "    </tr>\n",
        "    <tr>\n",
        "      <th>4 </th>\n",
        "      <td>  4</td>\n",
        "      <td>    ABA.mp4</td>\n",
        "    </tr>\n",
        "    <tr>\n",
        "      <th>...</th>\n",
        "      <td>...</td>\n",
        "      <td>...</td>\n",
        "    </tr>\n",
        "    <tr>\n",
        "      <th>25</th>\n",
        "      <td> 25</td>\n",
        "      <td>    AFT.mp4</td>\n",
        "    </tr>\n",
        "    <tr>\n",
        "      <th>26</th>\n",
        "      <td> 26</td>\n",
        "      <td>     AI.mp4</td>\n",
        "    </tr>\n",
        "    <tr>\n",
        "      <th>27</th>\n",
        "      <td> 27</td>\n",
        "      <td>   AIDS.mp4</td>\n",
        "    </tr>\n",
        "    <tr>\n",
        "      <th>28</th>\n",
        "      <td> 28</td>\n",
        "      <td> AIDSes.mp4</td>\n",
        "    </tr>\n",
        "    <tr>\n",
        "      <th>29</th>\n",
        "      <td> 29</td>\n",
        "      <td>    AIs.mp4</td>\n",
        "    </tr>\n",
        "  </tbody>\n",
        "</table>\n",
        "<p>30 rows \u00d7 2 columns</p>\n",
        "</div>"
       ],
       "metadata": {},
       "output_type": "pyout",
       "prompt_number": 274,
       "text": [
        "    num        name\n",
        "0     0       A.mp4\n",
        "1     1      AA.mp4\n",
        "2     2     AAA.mp4\n",
        "3     3      AB.mp4\n",
        "4     4     ABA.mp4\n",
        "..  ...         ...\n",
        "25   25     AFT.mp4\n",
        "26   26      AI.mp4\n",
        "27   27    AIDS.mp4\n",
        "28   28  AIDSes.mp4\n",
        "29   29     AIs.mp4\n",
        "\n",
        "[30 rows x 2 columns]"
       ]
      }
     ],
     "prompt_number": 274
    },
    {
     "cell_type": "heading",
     "level": 3,
     "metadata": {},
     "source": [
      "v0.13 Experimental Features"
     ]
    },
    {
     "cell_type": "markdown",
     "metadata": {},
     "source": [
      "* ``query``/``eval``\n",
      "* msgpack IO\n",
      "* Google BigQuery IO"
     ]
    },
    {
     "cell_type": "heading",
     "level": 3,
     "metadata": {},
     "source": [
      "[``query``](http://pandas.pydata.org/pandas-docs/stable/generated/pandas.DataFrame.query.html#pandas.DataFrame.query)/[``eval``](http://pandas.pydata.org/pandas-docs/stable/generated/pandas.DataFrame.eval.html#pandas.DataFrame.eval)"
     ]
    },
    {
     "cell_type": "code",
     "collapsed": false,
     "input": [
      "n = 1e6\n",
      "df = DataFrame({'a': randint(10, size=n),\n",
      "                'b': rand(n),\n",
      "                'c': rand(n)})\n",
      "df.head()"
     ],
     "language": "python",
     "metadata": {},
     "outputs": [
      {
       "html": [
        "<div style=\"max-height:1000px;max-width:1500px;overflow:auto;\">\n",
        "<table border=\"1\" class=\"dataframe\">\n",
        "  <thead>\n",
        "    <tr style=\"text-align: right;\">\n",
        "      <th></th>\n",
        "      <th>a</th>\n",
        "      <th>b</th>\n",
        "      <th>c</th>\n",
        "    </tr>\n",
        "  </thead>\n",
        "  <tbody>\n",
        "    <tr>\n",
        "      <th>0</th>\n",
        "      <td> 3</td>\n",
        "      <td> 0.043415</td>\n",
        "      <td> 0.637118</td>\n",
        "    </tr>\n",
        "    <tr>\n",
        "      <th>1</th>\n",
        "      <td> 6</td>\n",
        "      <td> 0.335502</td>\n",
        "      <td> 0.437750</td>\n",
        "    </tr>\n",
        "    <tr>\n",
        "      <th>2</th>\n",
        "      <td> 8</td>\n",
        "      <td> 0.268465</td>\n",
        "      <td> 0.644932</td>\n",
        "    </tr>\n",
        "    <tr>\n",
        "      <th>3</th>\n",
        "      <td> 0</td>\n",
        "      <td> 0.786485</td>\n",
        "      <td> 0.917776</td>\n",
        "    </tr>\n",
        "    <tr>\n",
        "      <th>4</th>\n",
        "      <td> 1</td>\n",
        "      <td> 0.940055</td>\n",
        "      <td> 0.527623</td>\n",
        "    </tr>\n",
        "  </tbody>\n",
        "</table>\n",
        "</div>"
       ],
       "metadata": {},
       "output_type": "pyout",
       "prompt_number": 275,
       "text": [
        "   a         b         c\n",
        "0  3  0.043415  0.637118\n",
        "1  6  0.335502  0.437750\n",
        "2  8  0.268465  0.644932\n",
        "3  0  0.786485  0.917776\n",
        "4  1  0.940055  0.527623"
       ]
      }
     ],
     "prompt_number": 275
    },
    {
     "cell_type": "code",
     "collapsed": false,
     "input": [
      "sub = df.query('1 <= a <= 5 and 0.1 < b < 0.4 and 0.5 <= c <= 0.95')\n",
      "sub"
     ],
     "language": "python",
     "metadata": {},
     "outputs": [
      {
       "html": [
        "<div style=\"max-height:1000px;max-width:1500px;overflow:auto;\">\n",
        "<table border=\"1\" class=\"dataframe\">\n",
        "  <thead>\n",
        "    <tr style=\"text-align: right;\">\n",
        "      <th></th>\n",
        "      <th>a</th>\n",
        "      <th>b</th>\n",
        "      <th>c</th>\n",
        "    </tr>\n",
        "  </thead>\n",
        "  <tbody>\n",
        "    <tr>\n",
        "      <th>12    </th>\n",
        "      <td> 1</td>\n",
        "      <td> 0.262660</td>\n",
        "      <td> 0.728776</td>\n",
        "    </tr>\n",
        "    <tr>\n",
        "      <th>25    </th>\n",
        "      <td> 4</td>\n",
        "      <td> 0.196683</td>\n",
        "      <td> 0.768778</td>\n",
        "    </tr>\n",
        "    <tr>\n",
        "      <th>36    </th>\n",
        "      <td> 1</td>\n",
        "      <td> 0.281330</td>\n",
        "      <td> 0.583744</td>\n",
        "    </tr>\n",
        "    <tr>\n",
        "      <th>54    </th>\n",
        "      <td> 3</td>\n",
        "      <td> 0.167547</td>\n",
        "      <td> 0.758749</td>\n",
        "    </tr>\n",
        "    <tr>\n",
        "      <th>55    </th>\n",
        "      <td> 1</td>\n",
        "      <td> 0.188368</td>\n",
        "      <td> 0.667235</td>\n",
        "    </tr>\n",
        "    <tr>\n",
        "      <th>...</th>\n",
        "      <td>...</td>\n",
        "      <td>...</td>\n",
        "      <td>...</td>\n",
        "    </tr>\n",
        "    <tr>\n",
        "      <th>999921</th>\n",
        "      <td> 3</td>\n",
        "      <td> 0.205631</td>\n",
        "      <td> 0.537613</td>\n",
        "    </tr>\n",
        "    <tr>\n",
        "      <th>999927</th>\n",
        "      <td> 2</td>\n",
        "      <td> 0.348284</td>\n",
        "      <td> 0.629526</td>\n",
        "    </tr>\n",
        "    <tr>\n",
        "      <th>999952</th>\n",
        "      <td> 5</td>\n",
        "      <td> 0.355339</td>\n",
        "      <td> 0.885569</td>\n",
        "    </tr>\n",
        "    <tr>\n",
        "      <th>999978</th>\n",
        "      <td> 3</td>\n",
        "      <td> 0.202137</td>\n",
        "      <td> 0.898296</td>\n",
        "    </tr>\n",
        "    <tr>\n",
        "      <th>999980</th>\n",
        "      <td> 5</td>\n",
        "      <td> 0.202393</td>\n",
        "      <td> 0.746006</td>\n",
        "    </tr>\n",
        "  </tbody>\n",
        "</table>\n",
        "<p>67554 rows \u00d7 3 columns</p>\n",
        "</div>"
       ],
       "metadata": {},
       "output_type": "pyout",
       "prompt_number": 276,
       "text": [
        "        a         b         c\n",
        "12      1  0.262660  0.728776\n",
        "25      4  0.196683  0.768778\n",
        "36      1  0.281330  0.583744\n",
        "54      3  0.167547  0.758749\n",
        "55      1  0.188368  0.667235\n",
        "...    ..       ...       ...\n",
        "999921  3  0.205631  0.537613\n",
        "999927  2  0.348284  0.629526\n",
        "999952  5  0.355339  0.885569\n",
        "999978  3  0.202137  0.898296\n",
        "999980  5  0.202393  0.746006\n",
        "\n",
        "[67554 rows x 3 columns]"
       ]
      }
     ],
     "prompt_number": 276
    },
    {
     "cell_type": "code",
     "collapsed": false,
     "input": [
      "qtime = %timeit -o df.query('1 <= a <= 5 and 0.1 < b < 0.4 and 0.5 <= c <= 0.95')\n",
      "pytime = %timeit -o df.loc[(1 <= df.a) & (df.a <= 5) & (0.1 <= df.b) & (df.b <= 0.4) & (0.5 <= df.c) & (df.c <= 0.9)]\n",
      "\n",
      "print('query is %.2gx faster than pure Python' % (pytime.best / qtime.best))"
     ],
     "language": "python",
     "metadata": {},
     "outputs": [
      {
       "output_type": "stream",
       "stream": "stdout",
       "text": [
        "100 loops, best of 3: 12.5 ms per loop\n",
        "10 loops, best of 3: 18.2 ms per loop"
       ]
      },
      {
       "output_type": "stream",
       "stream": "stdout",
       "text": [
        "\n",
        "query is 1.5x faster than pure Python\n"
       ]
      }
     ],
     "prompt_number": 277
    },
    {
     "cell_type": "code",
     "collapsed": false,
     "input": [
      "A, B, C, D = (DataFrame(randn(n, 40)) for _ in range(4))"
     ],
     "language": "python",
     "metadata": {},
     "outputs": [],
     "prompt_number": 278
    },
    {
     "cell_type": "code",
     "collapsed": false,
     "input": [
      "qtime = %timeit -r 1 -n 1 -o pd.eval('A + B * 2 + C / D ** 3 * B / C + A ** 10 < A ** 5')"
     ],
     "language": "python",
     "metadata": {},
     "outputs": [
      {
       "output_type": "stream",
       "stream": "stdout",
       "text": [
        "1 loops, best of 1: 1.47 s per loop\n"
       ]
      }
     ],
     "prompt_number": 279
    },
    {
     "cell_type": "code",
     "collapsed": false,
     "input": [
      "pytime = %timeit -r 1 -n 1 -o A + B * 2 + C / D ** 3 * B / C + A ** 10 < A ** 5\n",
      "print('query is %.2gx faster than pure Python' % (pytime.best / qtime.best))"
     ],
     "language": "python",
     "metadata": {},
     "outputs": [
      {
       "output_type": "stream",
       "stream": "stdout",
       "text": [
        "1 loops, best of 1: 2.91 s per loop\n",
        "query is 2x faster than pure Python\n"
       ]
      }
     ],
     "prompt_number": 280
    },
    {
     "cell_type": "heading",
     "level": 3,
     "metadata": {},
     "source": [
      "Local variables"
     ]
    },
    {
     "cell_type": "code",
     "collapsed": false,
     "input": [
      "a = rand()\n",
      "df.query('a <= @a <= b')"
     ],
     "language": "python",
     "metadata": {},
     "outputs": [
      {
       "html": [
        "<div style=\"max-height:1000px;max-width:1500px;overflow:auto;\">\n",
        "<table border=\"1\" class=\"dataframe\">\n",
        "  <thead>\n",
        "    <tr style=\"text-align: right;\">\n",
        "      <th></th>\n",
        "      <th>a</th>\n",
        "      <th>b</th>\n",
        "      <th>c</th>\n",
        "    </tr>\n",
        "  </thead>\n",
        "  <tbody>\n",
        "    <tr>\n",
        "      <th>3     </th>\n",
        "      <td> 0</td>\n",
        "      <td> 0.786485</td>\n",
        "      <td> 0.917776</td>\n",
        "    </tr>\n",
        "    <tr>\n",
        "      <th>67    </th>\n",
        "      <td> 0</td>\n",
        "      <td> 0.967493</td>\n",
        "      <td> 0.082070</td>\n",
        "    </tr>\n",
        "    <tr>\n",
        "      <th>75    </th>\n",
        "      <td> 0</td>\n",
        "      <td> 0.953006</td>\n",
        "      <td> 0.643359</td>\n",
        "    </tr>\n",
        "    <tr>\n",
        "      <th>143   </th>\n",
        "      <td> 0</td>\n",
        "      <td> 0.968817</td>\n",
        "      <td> 0.499510</td>\n",
        "    </tr>\n",
        "    <tr>\n",
        "      <th>144   </th>\n",
        "      <td> 0</td>\n",
        "      <td> 0.977449</td>\n",
        "      <td> 0.432992</td>\n",
        "    </tr>\n",
        "    <tr>\n",
        "      <th>...</th>\n",
        "      <td>...</td>\n",
        "      <td>...</td>\n",
        "      <td>...</td>\n",
        "    </tr>\n",
        "    <tr>\n",
        "      <th>999754</th>\n",
        "      <td> 0</td>\n",
        "      <td> 0.954190</td>\n",
        "      <td> 0.438598</td>\n",
        "    </tr>\n",
        "    <tr>\n",
        "      <th>999759</th>\n",
        "      <td> 0</td>\n",
        "      <td> 0.973893</td>\n",
        "      <td> 0.988852</td>\n",
        "    </tr>\n",
        "    <tr>\n",
        "      <th>999863</th>\n",
        "      <td> 0</td>\n",
        "      <td> 0.751531</td>\n",
        "      <td> 0.230645</td>\n",
        "    </tr>\n",
        "    <tr>\n",
        "      <th>999907</th>\n",
        "      <td> 0</td>\n",
        "      <td> 0.760187</td>\n",
        "      <td> 0.617079</td>\n",
        "    </tr>\n",
        "    <tr>\n",
        "      <th>999983</th>\n",
        "      <td> 0</td>\n",
        "      <td> 0.899482</td>\n",
        "      <td> 0.084140</td>\n",
        "    </tr>\n",
        "  </tbody>\n",
        "</table>\n",
        "<p>24690 rows \u00d7 3 columns</p>\n",
        "</div>"
       ],
       "metadata": {},
       "output_type": "pyout",
       "prompt_number": 281,
       "text": [
        "        a         b         c\n",
        "3       0  0.786485  0.917776\n",
        "67      0  0.967493  0.082070\n",
        "75      0  0.953006  0.643359\n",
        "143     0  0.968817  0.499510\n",
        "144     0  0.977449  0.432992\n",
        "...    ..       ...       ...\n",
        "999754  0  0.954190  0.438598\n",
        "999759  0  0.973893  0.988852\n",
        "999863  0  0.751531  0.230645\n",
        "999907  0  0.760187  0.617079\n",
        "999983  0  0.899482  0.084140\n",
        "\n",
        "[24690 rows x 3 columns]"
       ]
      }
     ],
     "prompt_number": 281
    },
    {
     "cell_type": "heading",
     "level": 3,
     "metadata": {},
     "source": [
      "[``MessagePack``](http://msgpack.org/) IO (``to_msgpack``/``read_msgpack``)"
     ]
    },
    {
     "cell_type": "markdown",
     "metadata": {},
     "source": [
      "#### MessagePack is like JSON but smaller and it's a binary format.\n",
      "\n",
      "#### Support for this is experimental.\n",
      "#### Serialization of large objects is not recommended as they are converted to Python ``list``s before writing"
     ]
    },
    {
     "cell_type": "code",
     "collapsed": false,
     "input": [
      "df.head().to_msgpack()"
     ],
     "language": "python",
     "metadata": {},
     "outputs": [
      {
       "metadata": {},
       "output_type": "pyout",
       "prompt_number": 282,
       "text": [
        "'\\x84\\xa6blocks\\x92\\x86\\xa5items\\x85\\xa5dtype\\x11\\xa3typ\\xa5index\\xa5klass\\xa5Index\\xa4data\\x92\\xa1b\\xa1c\\xa4name\\xc0\\xa8compress\\xc0\\xa5shape\\x92\\x02\\x05\\xa6values\\xda\\x00P0\\xf9\\xb4\\xd1q:\\xa6?\\xd4\\xfe\\xd4\\x14\\xdex\\xd5?\\x96\\x84%\\xd5\\x86.\\xd1?\\xbb\\x9eEM\\xe2*\\xe9?\\xe7\\xb0\\xc6>\\xed\\x14\\xee?\\xeaF\\x11\\x1dFc\\xe4?\\xf8\\xfa\\xb5T\\x17\\x04\\xdc?\\xca\\x01E\\x0cI\\xa3\\xe4?f>B\\x9al^\\xed?kW\\x825J\\xe2\\xe0?\\xa5klass\\xaaFloatBlock\\xa5dtype\\x0c\\x86\\xa5items\\x85\\xa5dtype\\x11\\xa3typ\\xa5index\\xa5klass\\xa5Index\\xa4data\\x91\\xa1a\\xa4name\\xc0\\xa8compress\\xc0\\xa5shape\\x92\\x01\\x05\\xa6values\\xda\\x00(\\x03\\x00\\x00\\x00\\x00\\x00\\x00\\x00\\x06\\x00\\x00\\x00\\x00\\x00\\x00\\x00\\x08\\x00\\x00\\x00\\x00\\x00\\x00\\x00\\x00\\x00\\x00\\x00\\x00\\x00\\x00\\x00\\x01\\x00\\x00\\x00\\x00\\x00\\x00\\x00\\xa5klass\\xa8IntBlock\\xa5dtype\\x07\\xa4axes\\x92\\x85\\xa5dtype\\x11\\xa3typ\\xa5index\\xa5klass\\xa5Index\\xa4data\\x93\\xa1a\\xa1b\\xa1c\\xa4name\\xc0\\x85\\xa5dtype\\x07\\xa3typ\\xa5index\\xa5klass\\xaaInt64Index\\xa4data\\xda\\x00(\\x00\\x00\\x00\\x00\\x00\\x00\\x00\\x00\\x01\\x00\\x00\\x00\\x00\\x00\\x00\\x00\\x02\\x00\\x00\\x00\\x00\\x00\\x00\\x00\\x03\\x00\\x00\\x00\\x00\\x00\\x00\\x00\\x04\\x00\\x00\\x00\\x00\\x00\\x00\\x00\\xa4name\\xc0\\xa3typ\\xadblock_manager\\xa5klass\\xa9DataFrame'"
       ]
      }
     ],
     "prompt_number": 282
    },
    {
     "cell_type": "code",
     "collapsed": false,
     "input": [
      "s = pd.to_msgpack(None,  # we want the raw bytes output so pass None\n",
      "                  Series(randn(2)), \n",
      "                  ['yep', 'a', 'list'], \n",
      "                  randn(2), \n",
      "                  {'a': 2, 'b': 3})\n",
      "sio = StringIO(s)\n",
      "pd.read_msgpack(sio)"
     ],
     "language": "python",
     "metadata": {},
     "outputs": [
      {
       "metadata": {},
       "output_type": "pyout",
       "prompt_number": 283,
       "text": [
        "[0    0.861633\n",
        " 1   -0.036237\n",
        " dtype: float64,\n",
        " (u'yep', u'a', u'list'),\n",
        " array([ 0.53527142, -0.78886347]),\n",
        " {u'a': 2, u'b': 3}]"
       ]
      }
     ],
     "prompt_number": 283
    },
    {
     "cell_type": "heading",
     "level": 3,
     "metadata": {},
     "source": [
      "Google BigQuery IO"
     ]
    },
    {
     "cell_type": "markdown",
     "metadata": {},
     "source": [
      "You need to\n",
      "\n",
      "```sh\n",
      "pip install bigquery\n",
      "```\n",
      "\n",
      "as well as set up a Google BigQuery account before this will work\n",
      "\n",
      "#### Data can be found [here](https://bigquery.cloud.google.com/table/publicdata:samples.github_timeline)"
     ]
    },
    {
     "cell_type": "code",
     "collapsed": false,
     "input": [
      "highlight('query.sql')"
     ],
     "language": "python",
     "metadata": {},
     "outputs": [
      {
       "html": [
        "<style type=\"text/css\">.highlight .hll { background-color: #333333 }\n",
        ".highlight  { background: #111111; color: #ffffff }\n",
        ".highlight .c { color: #008800; font-style: italic; background-color: #0f140f } /* Comment */\n",
        ".highlight .err { color: #ffffff } /* Error */\n",
        ".highlight .g { color: #ffffff } /* Generic */\n",
        ".highlight .k { color: #fb660a; font-weight: bold } /* Keyword */\n",
        ".highlight .l { color: #ffffff } /* Literal */\n",
        ".highlight .n { color: #ffffff } /* Name */\n",
        ".highlight .o { color: #ffffff } /* Operator */\n",
        ".highlight .x { color: #ffffff } /* Other */\n",
        ".highlight .p { color: #ffffff } /* Punctuation */\n",
        ".highlight .cm { color: #008800; font-style: italic; background-color: #0f140f } /* Comment.Multiline */\n",
        ".highlight .cp { color: #ff0007; font-weight: bold; font-style: italic; background-color: #0f140f } /* Comment.Preproc */\n",
        ".highlight .c1 { color: #008800; font-style: italic; background-color: #0f140f } /* Comment.Single */\n",
        ".highlight .cs { color: #008800; font-style: italic; background-color: #0f140f } /* Comment.Special */\n",
        ".highlight .gd { color: #ffffff } /* Generic.Deleted */\n",
        ".highlight .ge { color: #ffffff } /* Generic.Emph */\n",
        ".highlight .gr { color: #ffffff } /* Generic.Error */\n",
        ".highlight .gh { color: #ffffff; font-weight: bold } /* Generic.Heading */\n",
        ".highlight .gi { color: #ffffff } /* Generic.Inserted */\n",
        ".highlight .go { color: #444444; background-color: #222222 } /* Generic.Output */\n",
        ".highlight .gp { color: #ffffff } /* Generic.Prompt */\n",
        ".highlight .gs { color: #ffffff } /* Generic.Strong */\n",
        ".highlight .gu { color: #ffffff; font-weight: bold } /* Generic.Subheading */\n",
        ".highlight .gt { color: #ffffff } /* Generic.Traceback */\n",
        ".highlight .kc { color: #fb660a; font-weight: bold } /* Keyword.Constant */\n",
        ".highlight .kd { color: #fb660a; font-weight: bold } /* Keyword.Declaration */\n",
        ".highlight .kn { color: #fb660a; font-weight: bold } /* Keyword.Namespace */\n",
        ".highlight .kp { color: #fb660a } /* Keyword.Pseudo */\n",
        ".highlight .kr { color: #fb660a; font-weight: bold } /* Keyword.Reserved */\n",
        ".highlight .kt { color: #cdcaa9; font-weight: bold } /* Keyword.Type */\n",
        ".highlight .ld { color: #ffffff } /* Literal.Date */\n",
        ".highlight .m { color: #0086f7; font-weight: bold } /* Literal.Number */\n",
        ".highlight .s { color: #0086d2 } /* Literal.String */\n",
        ".highlight .na { color: #ff0086; font-weight: bold } /* Name.Attribute */\n",
        ".highlight .nb { color: #ffffff } /* Name.Builtin */\n",
        ".highlight .nc { color: #ffffff } /* Name.Class */\n",
        ".highlight .no { color: #0086d2 } /* Name.Constant */\n",
        ".highlight .nd { color: #ffffff } /* Name.Decorator */\n",
        ".highlight .ni { color: #ffffff } /* Name.Entity */\n",
        ".highlight .ne { color: #ffffff } /* Name.Exception */\n",
        ".highlight .nf { color: #ff0086; font-weight: bold } /* Name.Function */\n",
        ".highlight .nl { color: #ffffff } /* Name.Label */\n",
        ".highlight .nn { color: #ffffff } /* Name.Namespace */\n",
        ".highlight .nx { color: #ffffff } /* Name.Other */\n",
        ".highlight .py { color: #ffffff } /* Name.Property */\n",
        ".highlight .nt { color: #fb660a; font-weight: bold } /* Name.Tag */\n",
        ".highlight .nv { color: #fb660a } /* Name.Variable */\n",
        ".highlight .ow { color: #ffffff } /* Operator.Word */\n",
        ".highlight .w { color: #888888 } /* Text.Whitespace */\n",
        ".highlight .mf { color: #0086f7; font-weight: bold } /* Literal.Number.Float */\n",
        ".highlight .mh { color: #0086f7; font-weight: bold } /* Literal.Number.Hex */\n",
        ".highlight .mi { color: #0086f7; font-weight: bold } /* Literal.Number.Integer */\n",
        ".highlight .mo { color: #0086f7; font-weight: bold } /* Literal.Number.Oct */\n",
        ".highlight .sb { color: #0086d2 } /* Literal.String.Backtick */\n",
        ".highlight .sc { color: #0086d2 } /* Literal.String.Char */\n",
        ".highlight .sd { color: #0086d2 } /* Literal.String.Doc */\n",
        ".highlight .s2 { color: #0086d2 } /* Literal.String.Double */\n",
        ".highlight .se { color: #0086d2 } /* Literal.String.Escape */\n",
        ".highlight .sh { color: #0086d2 } /* Literal.String.Heredoc */\n",
        ".highlight .si { color: #0086d2 } /* Literal.String.Interpol */\n",
        ".highlight .sx { color: #0086d2 } /* Literal.String.Other */\n",
        ".highlight .sr { color: #0086d2 } /* Literal.String.Regex */\n",
        ".highlight .s1 { color: #0086d2 } /* Literal.String.Single */\n",
        ".highlight .ss { color: #0086d2 } /* Literal.String.Symbol */\n",
        ".highlight .bp { color: #ffffff } /* Name.Builtin.Pseudo */\n",
        ".highlight .vc { color: #fb660a } /* Name.Variable.Class */\n",
        ".highlight .vg { color: #fb660a } /* Name.Variable.Global */\n",
        ".highlight .vi { color: #fb660a } /* Name.Variable.Instance */\n",
        ".highlight .il { color: #0086f7; font-weight: bold } /* Literal.Number.Integer.Long */</style><div class=\"highlight\"><pre><span class=\"k\">SELECT</span> <span class=\"n\">payload_pull_request_additions</span><span class=\"p\">,</span> <span class=\"n\">payload_pull_request_created_at</span>\n",
        "           <span class=\"k\">FROM</span> <span class=\"p\">[</span><span class=\"n\">publicdata</span><span class=\"p\">:</span><span class=\"n\">samples</span><span class=\"p\">.</span><span class=\"n\">github_timeline</span><span class=\"p\">]</span>\n",
        "           <span class=\"k\">WHERE</span> <span class=\"n\">repository_name</span> <span class=\"o\">=</span> <span class=\"s1\">&#39;pandas&#39;</span> <span class=\"k\">and</span>\n",
        "           <span class=\"n\">payload_pull_request_additions</span> <span class=\"k\">is</span> <span class=\"k\">not</span> <span class=\"k\">null</span> <span class=\"k\">and</span>\n",
        "           <span class=\"n\">payload_pull_request_created_at</span> <span class=\"k\">is</span> <span class=\"k\">not</span> <span class=\"k\">null</span>\n",
        "</pre></div>\n"
       ],
       "metadata": {},
       "output_type": "display_data",
       "text": [
        "<IPython.core.display.HTML object>"
       ]
      }
     ],
     "prompt_number": 284
    },
    {
     "cell_type": "code",
     "collapsed": false,
     "input": [
      "query = read_text('query.sql')"
     ],
     "language": "python",
     "metadata": {},
     "outputs": [],
     "prompt_number": 285
    },
    {
     "cell_type": "code",
     "collapsed": false,
     "input": [
      "df = pd.read_gbq(query, project_id='metal-lantern-572')"
     ],
     "language": "python",
     "metadata": {},
     "outputs": [
      {
       "output_type": "stream",
       "stream": "stdout",
       "text": [
        "\r",
        "Waiting on bqjob_r61cbc738877f083c_0000014643f6b129_3 ... (0s) Current status: DONE   \n"
       ]
      }
     ],
     "prompt_number": 286
    },
    {
     "cell_type": "markdown",
     "metadata": {},
     "source": [
      "Notice the `NaT`s and `NaN`s. Those are where other repositories have valid pull request dates"
     ]
    },
    {
     "cell_type": "code",
     "collapsed": false,
     "input": [
      "df = df.rename(columns=lambda x: x.replace('payload_pull_request_', ''))"
     ],
     "language": "python",
     "metadata": {},
     "outputs": [],
     "prompt_number": 287
    },
    {
     "cell_type": "code",
     "collapsed": false,
     "input": [
      "df.dtypes\n",
      "df"
     ],
     "language": "python",
     "metadata": {},
     "outputs": [
      {
       "html": [
        "<div style=\"max-height:1000px;max-width:1500px;overflow:auto;\">\n",
        "<table border=\"1\" class=\"dataframe\">\n",
        "  <thead>\n",
        "    <tr style=\"text-align: right;\">\n",
        "      <th></th>\n",
        "      <th>additions</th>\n",
        "      <th>created_at</th>\n",
        "    </tr>\n",
        "  </thead>\n",
        "  <tbody>\n",
        "    <tr>\n",
        "      <th>0 </th>\n",
        "      <td> 14</td>\n",
        "      <td> 2012-05-01 00:36:00</td>\n",
        "    </tr>\n",
        "    <tr>\n",
        "      <th>1 </th>\n",
        "      <td>  9</td>\n",
        "      <td> 2012-03-15 05:17:14</td>\n",
        "    </tr>\n",
        "    <tr>\n",
        "      <th>2 </th>\n",
        "      <td> 10</td>\n",
        "      <td> 2012-03-08 09:37:18</td>\n",
        "    </tr>\n",
        "    <tr>\n",
        "      <th>3 </th>\n",
        "      <td>  1</td>\n",
        "      <td> 2012-03-12 14:17:04</td>\n",
        "    </tr>\n",
        "    <tr>\n",
        "      <th>4 </th>\n",
        "      <td> 28</td>\n",
        "      <td> 2012-04-19 21:06:47</td>\n",
        "    </tr>\n",
        "    <tr>\n",
        "      <th>...</th>\n",
        "      <td>...</td>\n",
        "      <td>...</td>\n",
        "    </tr>\n",
        "    <tr>\n",
        "      <th>69</th>\n",
        "      <td> 60</td>\n",
        "      <td> 2012-03-18 07:32:32</td>\n",
        "    </tr>\n",
        "    <tr>\n",
        "      <th>70</th>\n",
        "      <td> 67</td>\n",
        "      <td> 2012-03-24 17:28:57</td>\n",
        "    </tr>\n",
        "    <tr>\n",
        "      <th>71</th>\n",
        "      <td> 66</td>\n",
        "      <td> 2012-03-22 21:34:41</td>\n",
        "    </tr>\n",
        "    <tr>\n",
        "      <th>72</th>\n",
        "      <td> 10</td>\n",
        "      <td> 2012-04-05 23:00:27</td>\n",
        "    </tr>\n",
        "    <tr>\n",
        "      <th>73</th>\n",
        "      <td> 39</td>\n",
        "      <td> 2012-04-10 18:57:31</td>\n",
        "    </tr>\n",
        "  </tbody>\n",
        "</table>\n",
        "<p>74 rows \u00d7 2 columns</p>\n",
        "</div>"
       ],
       "metadata": {},
       "output_type": "pyout",
       "prompt_number": 288,
       "text": [
        "    additions           created_at\n",
        "0          14  2012-05-01 00:36:00\n",
        "1           9  2012-03-15 05:17:14\n",
        "2          10  2012-03-08 09:37:18\n",
        "3           1  2012-03-12 14:17:04\n",
        "4          28  2012-04-19 21:06:47\n",
        "..        ...                  ...\n",
        "69         60  2012-03-18 07:32:32\n",
        "70         67  2012-03-24 17:28:57\n",
        "71         66  2012-03-22 21:34:41\n",
        "72         10  2012-04-05 23:00:27\n",
        "73         39  2012-04-10 18:57:31\n",
        "\n",
        "[74 rows x 2 columns]"
       ]
      }
     ],
     "prompt_number": 288
    },
    {
     "cell_type": "code",
     "collapsed": false,
     "input": [
      "df['created_at'] = pd.to_datetime(df.created_at)"
     ],
     "language": "python",
     "metadata": {},
     "outputs": [],
     "prompt_number": 289
    },
    {
     "cell_type": "code",
     "collapsed": false,
     "input": [
      "df"
     ],
     "language": "python",
     "metadata": {},
     "outputs": [
      {
       "html": [
        "<div style=\"max-height:1000px;max-width:1500px;overflow:auto;\">\n",
        "<table border=\"1\" class=\"dataframe\">\n",
        "  <thead>\n",
        "    <tr style=\"text-align: right;\">\n",
        "      <th></th>\n",
        "      <th>additions</th>\n",
        "      <th>created_at</th>\n",
        "    </tr>\n",
        "  </thead>\n",
        "  <tbody>\n",
        "    <tr>\n",
        "      <th>0 </th>\n",
        "      <td> 14</td>\n",
        "      <td>2012-05-01 00:36:00</td>\n",
        "    </tr>\n",
        "    <tr>\n",
        "      <th>1 </th>\n",
        "      <td>  9</td>\n",
        "      <td>2012-03-15 05:17:14</td>\n",
        "    </tr>\n",
        "    <tr>\n",
        "      <th>2 </th>\n",
        "      <td> 10</td>\n",
        "      <td>2012-03-08 09:37:18</td>\n",
        "    </tr>\n",
        "    <tr>\n",
        "      <th>3 </th>\n",
        "      <td>  1</td>\n",
        "      <td>2012-03-12 14:17:04</td>\n",
        "    </tr>\n",
        "    <tr>\n",
        "      <th>4 </th>\n",
        "      <td> 28</td>\n",
        "      <td>2012-04-19 21:06:47</td>\n",
        "    </tr>\n",
        "    <tr>\n",
        "      <th>...</th>\n",
        "      <td>...</td>\n",
        "      <td>...</td>\n",
        "    </tr>\n",
        "    <tr>\n",
        "      <th>69</th>\n",
        "      <td> 60</td>\n",
        "      <td>2012-03-18 07:32:32</td>\n",
        "    </tr>\n",
        "    <tr>\n",
        "      <th>70</th>\n",
        "      <td> 67</td>\n",
        "      <td>2012-03-24 17:28:57</td>\n",
        "    </tr>\n",
        "    <tr>\n",
        "      <th>71</th>\n",
        "      <td> 66</td>\n",
        "      <td>2012-03-22 21:34:41</td>\n",
        "    </tr>\n",
        "    <tr>\n",
        "      <th>72</th>\n",
        "      <td> 10</td>\n",
        "      <td>2012-04-05 23:00:27</td>\n",
        "    </tr>\n",
        "    <tr>\n",
        "      <th>73</th>\n",
        "      <td> 39</td>\n",
        "      <td>2012-04-10 18:57:31</td>\n",
        "    </tr>\n",
        "  </tbody>\n",
        "</table>\n",
        "<p>74 rows \u00d7 2 columns</p>\n",
        "</div>"
       ],
       "metadata": {},
       "output_type": "pyout",
       "prompt_number": 290,
       "text": [
        "    additions          created_at\n",
        "0          14 2012-05-01 00:36:00\n",
        "1           9 2012-03-15 05:17:14\n",
        "2          10 2012-03-08 09:37:18\n",
        "3           1 2012-03-12 14:17:04\n",
        "4          28 2012-04-19 21:06:47\n",
        "..        ...                 ...\n",
        "69         60 2012-03-18 07:32:32\n",
        "70         67 2012-03-24 17:28:57\n",
        "71         66 2012-03-22 21:34:41\n",
        "72         10 2012-04-05 23:00:27\n",
        "73         39 2012-04-10 18:57:31\n",
        "\n",
        "[74 rows x 2 columns]"
       ]
      }
     ],
     "prompt_number": 290
    },
    {
     "cell_type": "code",
     "collapsed": true,
     "input": [
      "# set the index to the datetime column just created\n",
      "df = df.set_index('created_at').sort_index()\n",
      "df"
     ],
     "language": "python",
     "metadata": {},
     "outputs": [
      {
       "html": [
        "<div style=\"max-height:1000px;max-width:1500px;overflow:auto;\">\n",
        "<table border=\"1\" class=\"dataframe\">\n",
        "  <thead>\n",
        "    <tr style=\"text-align: right;\">\n",
        "      <th></th>\n",
        "      <th>additions</th>\n",
        "    </tr>\n",
        "    <tr>\n",
        "      <th>created_at</th>\n",
        "      <th></th>\n",
        "    </tr>\n",
        "  </thead>\n",
        "  <tbody>\n",
        "    <tr>\n",
        "      <th>2012-03-08 09:37:18</th>\n",
        "      <td> 10</td>\n",
        "    </tr>\n",
        "    <tr>\n",
        "      <th>2012-03-09 06:46:25</th>\n",
        "      <td>  9</td>\n",
        "    </tr>\n",
        "    <tr>\n",
        "      <th>2012-03-12 05:14:41</th>\n",
        "      <td> 61</td>\n",
        "    </tr>\n",
        "    <tr>\n",
        "      <th>2012-03-12 09:15:15</th>\n",
        "      <td>  1</td>\n",
        "    </tr>\n",
        "    <tr>\n",
        "      <th>2012-03-12 09:15:15</th>\n",
        "      <td>  1</td>\n",
        "    </tr>\n",
        "    <tr>\n",
        "      <th>...</th>\n",
        "      <td>...</td>\n",
        "    </tr>\n",
        "    <tr>\n",
        "      <th>2012-04-20 17:33:19</th>\n",
        "      <td> 11</td>\n",
        "    </tr>\n",
        "    <tr>\n",
        "      <th>2012-04-20 22:37:23</th>\n",
        "      <td> 57</td>\n",
        "    </tr>\n",
        "    <tr>\n",
        "      <th>2012-04-26 22:39:11</th>\n",
        "      <td> 36</td>\n",
        "    </tr>\n",
        "    <tr>\n",
        "      <th>2012-04-26 22:39:11</th>\n",
        "      <td> 36</td>\n",
        "    </tr>\n",
        "    <tr>\n",
        "      <th>2012-05-01 00:36:00</th>\n",
        "      <td> 14</td>\n",
        "    </tr>\n",
        "  </tbody>\n",
        "</table>\n",
        "<p>74 rows \u00d7 1 columns</p>\n",
        "</div>"
       ],
       "metadata": {},
       "output_type": "pyout",
       "prompt_number": 291,
       "text": [
        "                     additions\n",
        "created_at                    \n",
        "2012-03-08 09:37:18         10\n",
        "2012-03-09 06:46:25          9\n",
        "2012-03-12 05:14:41         61\n",
        "2012-03-12 09:15:15          1\n",
        "2012-03-12 09:15:15          1\n",
        "...                        ...\n",
        "2012-04-20 17:33:19         11\n",
        "2012-04-20 22:37:23         57\n",
        "2012-04-26 22:39:11         36\n",
        "2012-04-26 22:39:11         36\n",
        "2012-05-01 00:36:00         14\n",
        "\n",
        "[74 rows x 1 columns]"
       ]
      }
     ],
     "prompt_number": 291
    },
    {
     "cell_type": "code",
     "collapsed": true,
     "input": [
      "s = df.additions"
     ],
     "language": "python",
     "metadata": {},
     "outputs": [],
     "prompt_number": 292
    },
    {
     "cell_type": "code",
     "collapsed": false,
     "input": [
      "def remove_time(ax):\n",
      "    replacer = lambda x: x.get_text().replace(' 00:00:00', '')\n",
      "    ax.set_xticklabels(list(map(replacer, ax.get_xticklabels())))"
     ],
     "language": "python",
     "metadata": {},
     "outputs": [],
     "prompt_number": 293
    },
    {
     "cell_type": "code",
     "collapsed": false,
     "input": [
      "r = s.resample('B', how='sum')\n",
      "r.index.name = 'Pull Request Day'\n",
      "ax = r.plot(kind='bar', figsize=(18, 5))\n",
      "\n",
      "remove_time(ax)\n",
      "ax.set_ylabel('Pull Request Additions per Business Day')\n",
      "ax.get_figure().autofmt_xdate()"
     ],
     "language": "python",
     "metadata": {},
     "outputs": [
      {
       "metadata": {},
       "output_type": "display_data",
       "png": "[encoded data removed]",
       "text": [
        "<matplotlib.figure.Figure at 0x13d58210>"
       ]
      }
     ],
     "prompt_number": 294
    },
    {
     "cell_type": "heading",
     "level": 3,
     "metadata": {},
     "source": [
      "Non user facing but worth mentioning:"
     ]
    },
    {
     "cell_type": "heading",
     "level": 4,
     "metadata": {},
     "source": [
      "Jeff Reback's refactor of ``Series`` to use composition instead of inheriting from ``numpy.ndarray``. Bravo!"
     ]
    },
    {
     "cell_type": "heading",
     "level": 1,
     "metadata": {},
     "source": [
      "v0.14 (soon to be released)"
     ]
    },
    {
     "cell_type": "markdown",
     "metadata": {},
     "source": [
      "* ``MultiIndex`` slicing\n",
      "* ``nlargest``/``nsmallest``\n",
      "* hexbin, pie, and table plotting"
     ]
    },
    {
     "cell_type": "heading",
     "level": 2,
     "metadata": {},
     "source": [
      "Prelude to `MultiIndex` slicing"
     ]
    },
    {
     "cell_type": "markdown",
     "metadata": {},
     "source": [
      "<img src=\"../img/biosemi.jpg\"/>"
     ]
    },
    {
     "cell_type": "markdown",
     "metadata": {},
     "source": [
      "<img src=\"../img/biosemi.png\"/>"
     ]
    },
    {
     "cell_type": "markdown",
     "metadata": {},
     "source": [
      "<img src=\"../img/biosemi_dataset.jpg\" />"
     ]
    },
    {
     "cell_type": "heading",
     "level": 2,
     "metadata": {},
     "source": [
      "``MultiIndex`` Slicing"
     ]
    },
    {
     "cell_type": "code",
     "collapsed": false,
     "input": [
      "def channel_index(name, nchannels):\n",
      "    return list(zip(np.repeat(name, nchannels), range(nchannels)))"
     ],
     "language": "python",
     "metadata": {},
     "outputs": [],
     "prompt_number": 295
    },
    {
     "cell_type": "code",
     "collapsed": false,
     "input": [
      "# simulate our EEG data set\n",
      "\n",
      "fs = 256  # sampling rate\n",
      "neeg = 8  # number of EEG channels\n",
      "nex = 4  # number of auxiliary channels\n",
      "nsensors = 2  # number of gsr channels\n",
      "\n",
      "eeg_chan = channel_index('eeg', neeg)\n",
      "ex_chan = channel_index('ex', nex)\n",
      "sens_chan = channel_index('gsr', nsensors)\n",
      "\n",
      "disp(eeg_chan)\n",
      "disp(ex_chan)\n",
      "disp(sens_chan)"
     ],
     "language": "python",
     "metadata": {},
     "outputs": [
      {
       "metadata": {},
       "output_type": "display_data",
       "text": [
        "[('eeg', 0),\n",
        " ('eeg', 1),\n",
        " ('eeg', 2),\n",
        " ('eeg', 3),\n",
        " ('eeg', 4),\n",
        " ('eeg', 5),\n",
        " ('eeg', 6),\n",
        " ('eeg', 7)]"
       ]
      },
      {
       "metadata": {},
       "output_type": "display_data",
       "text": [
        "[('ex', 0), ('ex', 1), ('ex', 2), ('ex', 3)]"
       ]
      },
      {
       "metadata": {},
       "output_type": "display_data",
       "text": [
        "[('gsr', 0), ('gsr', 1)]"
       ]
      }
     ],
     "prompt_number": 296
    },
    {
     "cell_type": "code",
     "collapsed": false,
     "input": [
      "columns = pd.MultiIndex.from_tuples(eeg_chan + ex_chan + sens_chan,\n",
      "                                    names=['signal', 'channel'])\n",
      "\n",
      "# 10 seconds of fake data\n",
      "df = pd.DataFrame(np.random.randn(fs * 10, columns.labels[0].size), columns=columns)\n",
      "\n",
      "# add in some nans (e.g., a person moved around during these samples)\n",
      "df.loc[rand(len(df)) < 0.20, 'eeg'] = np.nan\n",
      "df.head()"
     ],
     "language": "python",
     "metadata": {},
     "outputs": [
      {
       "html": [
        "<div style=\"max-height:1000px;max-width:1500px;overflow:auto;\">\n",
        "<table border=\"1\" class=\"dataframe\">\n",
        "  <thead>\n",
        "    <tr>\n",
        "      <th>signal</th>\n",
        "      <th colspan=\"3\" halign=\"left\">eeg</th>\n",
        "      <th>...</th>\n",
        "      <th>ex</th>\n",
        "      <th colspan=\"2\" halign=\"left\">gsr</th>\n",
        "    </tr>\n",
        "    <tr>\n",
        "      <th>channel</th>\n",
        "      <th>0</th>\n",
        "      <th>1</th>\n",
        "      <th>2</th>\n",
        "      <th>...</th>\n",
        "      <th>3</th>\n",
        "      <th>0</th>\n",
        "      <th>1</th>\n",
        "    </tr>\n",
        "  </thead>\n",
        "  <tbody>\n",
        "    <tr>\n",
        "      <th>0</th>\n",
        "      <td> 1.102759</td>\n",
        "      <td>-0.633905</td>\n",
        "      <td>-0.001969</td>\n",
        "      <td>...</td>\n",
        "      <td> 0.371498</td>\n",
        "      <td>-0.343964</td>\n",
        "      <td> 0.791624</td>\n",
        "    </tr>\n",
        "    <tr>\n",
        "      <th>1</th>\n",
        "      <td> 0.627784</td>\n",
        "      <td>-0.335780</td>\n",
        "      <td>-1.127081</td>\n",
        "      <td>...</td>\n",
        "      <td> 1.009974</td>\n",
        "      <td> 0.909157</td>\n",
        "      <td>-0.053880</td>\n",
        "    </tr>\n",
        "    <tr>\n",
        "      <th>2</th>\n",
        "      <td>      NaN</td>\n",
        "      <td>      NaN</td>\n",
        "      <td>      NaN</td>\n",
        "      <td>...</td>\n",
        "      <td> 0.320984</td>\n",
        "      <td> 0.563877</td>\n",
        "      <td> 0.460921</td>\n",
        "    </tr>\n",
        "    <tr>\n",
        "      <th>3</th>\n",
        "      <td>      NaN</td>\n",
        "      <td>      NaN</td>\n",
        "      <td>      NaN</td>\n",
        "      <td>...</td>\n",
        "      <td> 1.303395</td>\n",
        "      <td>-1.716858</td>\n",
        "      <td> 0.081066</td>\n",
        "    </tr>\n",
        "    <tr>\n",
        "      <th>4</th>\n",
        "      <td>-1.122204</td>\n",
        "      <td> 1.113139</td>\n",
        "      <td> 0.295180</td>\n",
        "      <td>...</td>\n",
        "      <td> 1.403548</td>\n",
        "      <td> 0.154769</td>\n",
        "      <td>-1.671550</td>\n",
        "    </tr>\n",
        "  </tbody>\n",
        "</table>\n",
        "<p>5 rows \u00d7 14 columns</p>\n",
        "</div>"
       ],
       "metadata": {},
       "output_type": "pyout",
       "prompt_number": 297,
       "text": [
        "signal        eeg                        ...           ex       gsr          \n",
        "channel         0         1         2    ...            3         0         1\n",
        "0        1.102759 -0.633905 -0.001969    ...     0.371498 -0.343964  0.791624\n",
        "1        0.627784 -0.335780 -1.127081    ...     1.009974  0.909157 -0.053880\n",
        "2             NaN       NaN       NaN    ...     0.320984  0.563877  0.460921\n",
        "3             NaN       NaN       NaN    ...     1.303395 -1.716858  0.081066\n",
        "4       -1.122204  1.113139  0.295180    ...     1.403548  0.154769 -1.671550\n",
        "\n",
        "[5 rows x 14 columns]"
       ]
      }
     ],
     "prompt_number": 297
    },
    {
     "cell_type": "code",
     "collapsed": false,
     "input": [
      "# simulate a stimulus marker\n",
      "df['stim'] = np.sort(randint(10, size=len(df)))\n",
      "df"
     ],
     "language": "python",
     "metadata": {},
     "outputs": [
      {
       "html": [
        "<div style=\"max-height:1000px;max-width:1500px;overflow:auto;\">\n",
        "<table border=\"1\" class=\"dataframe\">\n",
        "  <thead>\n",
        "    <tr>\n",
        "      <th>signal</th>\n",
        "      <th colspan=\"3\" halign=\"left\">eeg</th>\n",
        "      <th>...</th>\n",
        "      <th colspan=\"2\" halign=\"left\">gsr</th>\n",
        "      <th>stim</th>\n",
        "    </tr>\n",
        "    <tr>\n",
        "      <th>channel</th>\n",
        "      <th>0</th>\n",
        "      <th>1</th>\n",
        "      <th>2</th>\n",
        "      <th>...</th>\n",
        "      <th>0</th>\n",
        "      <th>1</th>\n",
        "      <th></th>\n",
        "    </tr>\n",
        "  </thead>\n",
        "  <tbody>\n",
        "    <tr>\n",
        "      <th>0   </th>\n",
        "      <td> 1.102759</td>\n",
        "      <td>-0.633905</td>\n",
        "      <td>-0.001969</td>\n",
        "      <td>...</td>\n",
        "      <td>-0.343964</td>\n",
        "      <td> 0.791624</td>\n",
        "      <td> 0</td>\n",
        "    </tr>\n",
        "    <tr>\n",
        "      <th>1   </th>\n",
        "      <td> 0.627784</td>\n",
        "      <td>-0.335780</td>\n",
        "      <td>-1.127081</td>\n",
        "      <td>...</td>\n",
        "      <td> 0.909157</td>\n",
        "      <td>-0.053880</td>\n",
        "      <td> 0</td>\n",
        "    </tr>\n",
        "    <tr>\n",
        "      <th>2   </th>\n",
        "      <td>      NaN</td>\n",
        "      <td>      NaN</td>\n",
        "      <td>      NaN</td>\n",
        "      <td>...</td>\n",
        "      <td> 0.563877</td>\n",
        "      <td> 0.460921</td>\n",
        "      <td> 0</td>\n",
        "    </tr>\n",
        "    <tr>\n",
        "      <th>3   </th>\n",
        "      <td>      NaN</td>\n",
        "      <td>      NaN</td>\n",
        "      <td>      NaN</td>\n",
        "      <td>...</td>\n",
        "      <td>-1.716858</td>\n",
        "      <td> 0.081066</td>\n",
        "      <td> 0</td>\n",
        "    </tr>\n",
        "    <tr>\n",
        "      <th>4   </th>\n",
        "      <td>-1.122204</td>\n",
        "      <td> 1.113139</td>\n",
        "      <td> 0.295180</td>\n",
        "      <td>...</td>\n",
        "      <td> 0.154769</td>\n",
        "      <td>-1.671550</td>\n",
        "      <td> 0</td>\n",
        "    </tr>\n",
        "    <tr>\n",
        "      <th>...</th>\n",
        "      <td>...</td>\n",
        "      <td>...</td>\n",
        "      <td>...</td>\n",
        "      <td>...</td>\n",
        "      <td>...</td>\n",
        "      <td>...</td>\n",
        "      <td>...</td>\n",
        "    </tr>\n",
        "    <tr>\n",
        "      <th>2555</th>\n",
        "      <td> 0.038716</td>\n",
        "      <td> 1.197902</td>\n",
        "      <td>-0.533567</td>\n",
        "      <td>...</td>\n",
        "      <td> 0.698867</td>\n",
        "      <td> 1.595187</td>\n",
        "      <td> 9</td>\n",
        "    </tr>\n",
        "    <tr>\n",
        "      <th>2556</th>\n",
        "      <td>      NaN</td>\n",
        "      <td>      NaN</td>\n",
        "      <td>      NaN</td>\n",
        "      <td>...</td>\n",
        "      <td>-0.510745</td>\n",
        "      <td> 0.964874</td>\n",
        "      <td> 9</td>\n",
        "    </tr>\n",
        "    <tr>\n",
        "      <th>2557</th>\n",
        "      <td> 0.300395</td>\n",
        "      <td>-0.027784</td>\n",
        "      <td> 1.964595</td>\n",
        "      <td>...</td>\n",
        "      <td>-0.194747</td>\n",
        "      <td>-0.529588</td>\n",
        "      <td> 9</td>\n",
        "    </tr>\n",
        "    <tr>\n",
        "      <th>2558</th>\n",
        "      <td> 1.158620</td>\n",
        "      <td>-0.038491</td>\n",
        "      <td> 0.936686</td>\n",
        "      <td>...</td>\n",
        "      <td> 1.299800</td>\n",
        "      <td> 0.380690</td>\n",
        "      <td> 9</td>\n",
        "    </tr>\n",
        "    <tr>\n",
        "      <th>2559</th>\n",
        "      <td>-2.154728</td>\n",
        "      <td> 0.627790</td>\n",
        "      <td> 1.735262</td>\n",
        "      <td>...</td>\n",
        "      <td> 1.489192</td>\n",
        "      <td> 2.938795</td>\n",
        "      <td> 9</td>\n",
        "    </tr>\n",
        "  </tbody>\n",
        "</table>\n",
        "<p>2560 rows \u00d7 15 columns</p>\n",
        "</div>"
       ],
       "metadata": {},
       "output_type": "pyout",
       "prompt_number": 298,
       "text": [
        "signal        eeg                        ...          gsr            stim\n",
        "channel         0         1         2    ...            0         1      \n",
        "0        1.102759 -0.633905 -0.001969    ...    -0.343964  0.791624     0\n",
        "1        0.627784 -0.335780 -1.127081    ...     0.909157 -0.053880     0\n",
        "2             NaN       NaN       NaN    ...     0.563877  0.460921     0\n",
        "3             NaN       NaN       NaN    ...    -1.716858  0.081066     0\n",
        "4       -1.122204  1.113139  0.295180    ...     0.154769 -1.671550     0\n",
        "...           ...       ...       ...    ...          ...       ...   ...\n",
        "2555     0.038716  1.197902 -0.533567    ...     0.698867  1.595187     9\n",
        "2556          NaN       NaN       NaN    ...    -0.510745  0.964874     9\n",
        "2557     0.300395 -0.027784  1.964595    ...    -0.194747 -0.529588     9\n",
        "2558     1.158620 -0.038491  0.936686    ...     1.299800  0.380690     9\n",
        "2559    -2.154728  0.627790  1.735262    ...     1.489192  2.938795     9\n",
        "\n",
        "[2560 rows x 15 columns]"
       ]
      }
     ],
     "prompt_number": 298
    },
    {
     "cell_type": "code",
     "collapsed": false,
     "input": [
      "df.loc[:, np.s_[('ex', 'stim'), :]].head()"
     ],
     "language": "python",
     "metadata": {},
     "outputs": [
      {
       "html": [
        "<div style=\"max-height:1000px;max-width:1500px;overflow:auto;\">\n",
        "<table border=\"1\" class=\"dataframe\">\n",
        "  <thead>\n",
        "    <tr>\n",
        "      <th>signal</th>\n",
        "      <th colspan=\"4\" halign=\"left\">ex</th>\n",
        "      <th>stim</th>\n",
        "    </tr>\n",
        "    <tr>\n",
        "      <th>channel</th>\n",
        "      <th>0</th>\n",
        "      <th>1</th>\n",
        "      <th>2</th>\n",
        "      <th>3</th>\n",
        "      <th></th>\n",
        "    </tr>\n",
        "  </thead>\n",
        "  <tbody>\n",
        "    <tr>\n",
        "      <th>0</th>\n",
        "      <td> 0.545246</td>\n",
        "      <td>-0.542585</td>\n",
        "      <td> 0.307332</td>\n",
        "      <td> 0.371498</td>\n",
        "      <td> 0</td>\n",
        "    </tr>\n",
        "    <tr>\n",
        "      <th>1</th>\n",
        "      <td> 1.191834</td>\n",
        "      <td> 1.001182</td>\n",
        "      <td> 0.293370</td>\n",
        "      <td> 1.009974</td>\n",
        "      <td> 0</td>\n",
        "    </tr>\n",
        "    <tr>\n",
        "      <th>2</th>\n",
        "      <td>-0.447986</td>\n",
        "      <td>-0.643964</td>\n",
        "      <td> 1.651760</td>\n",
        "      <td> 0.320984</td>\n",
        "      <td> 0</td>\n",
        "    </tr>\n",
        "    <tr>\n",
        "      <th>3</th>\n",
        "      <td>-0.983067</td>\n",
        "      <td>-2.814547</td>\n",
        "      <td> 1.644137</td>\n",
        "      <td> 1.303395</td>\n",
        "      <td> 0</td>\n",
        "    </tr>\n",
        "    <tr>\n",
        "      <th>4</th>\n",
        "      <td> 1.073948</td>\n",
        "      <td>-2.228023</td>\n",
        "      <td>-0.455494</td>\n",
        "      <td> 1.403548</td>\n",
        "      <td> 0</td>\n",
        "    </tr>\n",
        "  </tbody>\n",
        "</table>\n",
        "</div>"
       ],
       "metadata": {},
       "output_type": "pyout",
       "prompt_number": 299,
       "text": [
        "signal         ex                                stim\n",
        "channel         0         1         2         3      \n",
        "0        0.545246 -0.542585  0.307332  0.371498     0\n",
        "1        1.191834  1.001182  0.293370  1.009974     0\n",
        "2       -0.447986 -0.643964  1.651760  0.320984     0\n",
        "3       -0.983067 -2.814547  1.644137  1.303395     0\n",
        "4        1.073948 -2.228023 -0.455494  1.403548     0"
       ]
      }
     ],
     "prompt_number": 299
    },
    {
     "cell_type": "code",
     "collapsed": false,
     "input": [
      "# the EX and STIM channels where EEG channels 0 and 1 are not null\n",
      "row_idx = df.eeg[[0, 1]].notnull().all(axis=1)\n",
      "col_idx = np.s_[('ex', 'stim'), :]"
     ],
     "language": "python",
     "metadata": {},
     "outputs": [],
     "prompt_number": 300
    },
    {
     "cell_type": "code",
     "collapsed": false,
     "input": [
      "col_idx"
     ],
     "language": "python",
     "metadata": {},
     "outputs": [
      {
       "metadata": {},
       "output_type": "pyout",
       "prompt_number": 301,
       "text": [
        "(('ex', 'stim'), slice(None, None, None))"
       ]
      }
     ],
     "prompt_number": 301
    },
    {
     "cell_type": "code",
     "collapsed": false,
     "input": [
      "res = df.loc[row_idx, col_idx]\n",
      "res"
     ],
     "language": "python",
     "metadata": {},
     "outputs": [
      {
       "html": [
        "<div style=\"max-height:1000px;max-width:1500px;overflow:auto;\">\n",
        "<table border=\"1\" class=\"dataframe\">\n",
        "  <thead>\n",
        "    <tr>\n",
        "      <th>signal</th>\n",
        "      <th colspan=\"4\" halign=\"left\">ex</th>\n",
        "      <th>stim</th>\n",
        "    </tr>\n",
        "    <tr>\n",
        "      <th>channel</th>\n",
        "      <th>0</th>\n",
        "      <th>1</th>\n",
        "      <th>2</th>\n",
        "      <th>3</th>\n",
        "      <th></th>\n",
        "    </tr>\n",
        "  </thead>\n",
        "  <tbody>\n",
        "    <tr>\n",
        "      <th>0   </th>\n",
        "      <td> 0.545246</td>\n",
        "      <td>-0.542585</td>\n",
        "      <td> 0.307332</td>\n",
        "      <td> 0.371498</td>\n",
        "      <td> 0</td>\n",
        "    </tr>\n",
        "    <tr>\n",
        "      <th>1   </th>\n",
        "      <td> 1.191834</td>\n",
        "      <td> 1.001182</td>\n",
        "      <td> 0.293370</td>\n",
        "      <td> 1.009974</td>\n",
        "      <td> 0</td>\n",
        "    </tr>\n",
        "    <tr>\n",
        "      <th>4   </th>\n",
        "      <td> 1.073948</td>\n",
        "      <td>-2.228023</td>\n",
        "      <td>-0.455494</td>\n",
        "      <td> 1.403548</td>\n",
        "      <td> 0</td>\n",
        "    </tr>\n",
        "    <tr>\n",
        "      <th>5   </th>\n",
        "      <td> 0.444844</td>\n",
        "      <td> 0.644907</td>\n",
        "      <td>-0.323006</td>\n",
        "      <td> 1.367529</td>\n",
        "      <td> 0</td>\n",
        "    </tr>\n",
        "    <tr>\n",
        "      <th>6   </th>\n",
        "      <td> 0.738043</td>\n",
        "      <td> 0.137819</td>\n",
        "      <td> 0.583483</td>\n",
        "      <td> 1.160288</td>\n",
        "      <td> 0</td>\n",
        "    </tr>\n",
        "    <tr>\n",
        "      <th>...</th>\n",
        "      <td>...</td>\n",
        "      <td>...</td>\n",
        "      <td>...</td>\n",
        "      <td>...</td>\n",
        "      <td>...</td>\n",
        "    </tr>\n",
        "    <tr>\n",
        "      <th>2554</th>\n",
        "      <td> 0.547508</td>\n",
        "      <td> 0.203195</td>\n",
        "      <td>-2.106077</td>\n",
        "      <td>-1.132731</td>\n",
        "      <td> 9</td>\n",
        "    </tr>\n",
        "    <tr>\n",
        "      <th>2555</th>\n",
        "      <td>-1.169473</td>\n",
        "      <td> 0.477194</td>\n",
        "      <td> 0.459395</td>\n",
        "      <td>-0.236195</td>\n",
        "      <td> 9</td>\n",
        "    </tr>\n",
        "    <tr>\n",
        "      <th>2557</th>\n",
        "      <td>-0.009145</td>\n",
        "      <td>-0.254508</td>\n",
        "      <td> 0.679718</td>\n",
        "      <td> 1.225648</td>\n",
        "      <td> 9</td>\n",
        "    </tr>\n",
        "    <tr>\n",
        "      <th>2558</th>\n",
        "      <td> 2.108817</td>\n",
        "      <td> 0.285359</td>\n",
        "      <td>-0.229961</td>\n",
        "      <td> 1.267828</td>\n",
        "      <td> 9</td>\n",
        "    </tr>\n",
        "    <tr>\n",
        "      <th>2559</th>\n",
        "      <td> 2.269522</td>\n",
        "      <td> 0.428090</td>\n",
        "      <td> 1.756059</td>\n",
        "      <td>-1.784458</td>\n",
        "      <td> 9</td>\n",
        "    </tr>\n",
        "  </tbody>\n",
        "</table>\n",
        "<p>2073 rows \u00d7 5 columns</p>\n",
        "</div>"
       ],
       "metadata": {},
       "output_type": "pyout",
       "prompt_number": 302,
       "text": [
        "signal         ex                                stim\n",
        "channel         0         1         2         3      \n",
        "0        0.545246 -0.542585  0.307332  0.371498     0\n",
        "1        1.191834  1.001182  0.293370  1.009974     0\n",
        "4        1.073948 -2.228023 -0.455494  1.403548     0\n",
        "5        0.444844  0.644907 -0.323006  1.367529     0\n",
        "6        0.738043  0.137819  0.583483  1.160288     0\n",
        "...           ...       ...       ...       ...   ...\n",
        "2554     0.547508  0.203195 -2.106077 -1.132731     9\n",
        "2555    -1.169473  0.477194  0.459395 -0.236195     9\n",
        "2557    -0.009145 -0.254508  0.679718  1.225648     9\n",
        "2558     2.108817  0.285359 -0.229961  1.267828     9\n",
        "2559     2.269522  0.428090  1.756059 -1.784458     9\n",
        "\n",
        "[2073 rows x 5 columns]"
       ]
      }
     ],
     "prompt_number": 302
    },
    {
     "cell_type": "code",
     "collapsed": false,
     "input": [
      "# use np.s_ to construct slices\n",
      "assert slice(None, 1000, 2) == np.s_[:1000:2]  # Which would you prefer?\n",
      "assert slice(900, None, -1) == np.s_[900::-1]"
     ],
     "language": "python",
     "metadata": {},
     "outputs": [],
     "prompt_number": 303
    },
    {
     "cell_type": "markdown",
     "metadata": {},
     "source": [
      "The expression\n",
      "\n",
      "```python\n",
      "np.s_[('ex', 'stim'), :]\n",
      "```\n",
      "\n",
      "says select `'ex'` and `'stim'` from the first level of the `MultiIndex` and the `:` as saying give me all columns from the second level"
     ]
    },
    {
     "cell_type": "heading",
     "level": 2,
     "metadata": {},
     "source": [
      "``nlargest``/``nsmallest``"
     ]
    },
    {
     "cell_type": "heading",
     "level": 3,
     "metadata": {},
     "source": [
      "If $n << $ ``len(s)`` you'll see a performance improvement"
     ]
    },
    {
     "cell_type": "code",
     "collapsed": false,
     "input": [
      "s = Series(randn(1000000), name='a')"
     ],
     "language": "python",
     "metadata": {},
     "outputs": [],
     "prompt_number": 304
    },
    {
     "cell_type": "code",
     "collapsed": false,
     "input": [
      "a = %timeit -o s.nlargest(5) # 5 << 1,000,000\n",
      "b = %timeit -o s.order(ascending=False).head()\n",
      "print('nlargest is %.2gx faster than order + head' % (b.best / a.best))"
     ],
     "language": "python",
     "metadata": {},
     "outputs": [
      {
       "output_type": "stream",
       "stream": "stdout",
       "text": [
        "100 loops, best of 3: 20.2 ms per loop\n",
        "10 loops, best of 3: 155 ms per loop"
       ]
      },
      {
       "output_type": "stream",
       "stream": "stdout",
       "text": [
        "\n",
        "nlargest is 7.7x faster than order + head\n"
       ]
      }
     ],
     "prompt_number": 305
    },
    {
     "cell_type": "code",
     "collapsed": false,
     "input": [
      "a = %timeit -o s.nsmallest(5)\n",
      "b = %timeit -o s.order().head()\n",
      "print('nsmallest is %.2gx faster than order + head' % (b.best / a.best))"
     ],
     "language": "python",
     "metadata": {},
     "outputs": [
      {
       "output_type": "stream",
       "stream": "stdout",
       "text": [
        "100 loops, best of 3: 12.4 ms per loop\n",
        "10 loops, best of 3: 147 ms per loop"
       ]
      },
      {
       "output_type": "stream",
       "stream": "stdout",
       "text": [
        "\n",
        "nsmallest is 12x faster than order + head\n"
       ]
      }
     ],
     "prompt_number": 306
    },
    {
     "cell_type": "heading",
     "level": 1,
     "metadata": {},
     "source": [
      "Thanks!"
     ]
    },
    {
     "cell_type": "heading",
     "level": 1,
     "metadata": {},
     "source": [
      "Questions?"
     ]
    },
    {
     "cell_type": "code",
     "collapsed": false,
     "input": [
      "from IPython.display import HTML, display as disp, Audio\n",
      "with open(\"../css/css.css\", \"r\") as f:\n",
      "    styles = f.read()\n",
      "HTML(styles)"
     ],
     "language": "python",
     "metadata": {},
     "outputs": [
      {
       "html": [
        "<link href='http://fonts.googleapis.com/css?family=Source+Code+Pro' rel='stylesheet' type='text/css'>\n",
        "<link href='http://fonts.googleapis.com/css?family=Raleway' rel='stylesheet' type='text/css'>\n",
        "<style>\n",
        "/*\n",
        "Rob's custom notebook CSS\n",
        "*/\n",
        "\n",
        "/*Fonts*/\n",
        "\n",
        "\n",
        "/*\n",
        "\n",
        "    Name:       Base16 Ocean Dark\n",
        "    Author:     Chris Kempson (http://chriskempson.com)\n",
        "\n",
        "    CodeMirror template adapted for IPython Notebook by Nikhil Sonnad (https://github.com/nsonnad/base16-ipython-notebook)\n",
        "    CodeMirror template by Jan T. Sott (https://github.com/idleberg/base16-chrome-devtools)\n",
        "    Original Base16 color scheme by Chris Kempson (https://github.com/chriskempson/base16)\n",
        "\n",
        "*/\n",
        "\n",
        "/* Uncomment to use a custom font\n",
        "div#notebook, div.CodeMirror, div.output_area pre, div.output_wrapper, div.prompt {\n",
        "  font-family: 'Custom Font Name', monospace !important;\n",
        "}\n",
        "*/\n",
        "body {\n",
        "    font-family: 'Raleway', sans-serif;\n",
        "}\n",
        "\n",
        ".rendered_html pre, .rendered_html code {\n",
        "    background-color: #2b303b;\n",
        "    color: #8fb1bf;\n",
        "    font-weight: bold:\n",
        "}\n",
        "\n",
        "\n",
        ".rendered_html table, .rendered_html th, .rendered_html tr, .rendered_html td {\n",
        "border: 1px #4f5b66 solid;\n",
        "white-space: nowrap;\n",
        "}\n",
        ".rendered_html thead {\n",
        "background-color: #43515c;\n",
        "color: white;\n",
        "}\n",
        ".rendered_html th {font-weight: bold;}\n",
        "table.dataframe tr {border: 1px #4f5b66;}\n",
        "\n",
        "/* GLOBALS */\n",
        "body {background-color: #2b303b;}\n",
        "a {color: #8fa1b3;}\n",
        "\n",
        "/* INTRO PAGE */\n",
        ".toolbar_info, .list_container {color: #dfe1e8;}\n",
        "\n",
        "/* NOTEBOOK */\n",
        "\n",
        "/* comment out this line to bring the toolbar back */\n",
        "div#maintoolbar, div#header {display: none !important;}\n",
        "\n",
        "div#notebook {border-top: none;}\n",
        "\n",
        "div.input_prompt {color: #ab7967;}\n",
        "div.output_prompt {color: #b48ead;}\n",
        "div.input_area {\n",
        "\n",
        "  font-size: 16px !important;\n",
        "  border-radius: 0px;\n",
        "  border: 1px solid #4f5b66;\n",
        "}\n",
        "div.output_area pre {font-weight: normal; color: #c0c5ce;}\n",
        "\n",
        ".rendered_html table, .rendered_html th, .rendered_html tr, .rendered_html td {\n",
        "  border: 1px  #c0c5ce solid;\n",
        "  color: #c0c5ce;\n",
        "}\n",
        "div.output_html { font-family: sans-serif; }\n",
        "table.dataframe tr {border: 1px #c0c5ce;}\n",
        "\n",
        "div.cell.selected {border-radius: 0px;}\n",
        "div.cell.edit_mode {border-radius: 0px; border: thin solid #b48ead;}\n",
        "div.text_cell_render, div.output_html {color: #c0c5ce;}\n",
        "\n",
        "span.ansiblack {color: #343d46;}\n",
        "span.ansiblue {color: #96b5b4;}\n",
        "span.ansigray {color: #a7adba;}\n",
        "span.ansigreen {color: #a3be8c;}\n",
        "span.ansipurple {color: #b48ead;}\n",
        "span.ansired {color: #bf616a;}\n",
        "span.ansiyellow {color: #ebcb8b;}\n",
        "\n",
        "div.output_stderr {background-color: #bf616a;}\n",
        "div.output_stderr pre {color: #dfe1e8;}\n",
        "\n",
        ".cm-s-ipython.CodeMirror {background: #2b303b; color: #dfe1e8;}\n",
        ".cm-s-ipython div.CodeMirror-selected {background: #343d46 !important;}\n",
        ".cm-s-ipython .CodeMirror-gutters {background: #2b303b; border-right: 0px;}\n",
        ".cm-s-ipython .CodeMirror-linenumber {color: #65737e;}\n",
        ".cm-s-ipython .CodeMirror-cursor {border-left: 1px solid #a7adba !important;}\n",
        "\n",
        ".cm-s-ipython span.cm-comment {color: #ab7967;}\n",
        ".cm-s-ipython span.cm-atom {color: #b48ead;}\n",
        ".cm-s-ipython span.cm-number {color: #b48ead;}\n",
        "\n",
        ".cm-s-ipython span.cm-property, .cm-s-ipython span.cm-attribute {color: #a3be8c;}\n",
        ".cm-s-ipython span.cm-keyword {color: #bf616a;}\n",
        ".cm-s-ipython span.cm-string {color: #ebcb8b;}\n",
        ".cm-s-ipython span.cm-operator {color: #ab7967;}\n",
        ".cm-s-ipython span.cm-builtin {color: #b48ead;}\n",
        "\n",
        ".cm-s-ipython span.cm-variable {color: #a3be8c;}\n",
        ".cm-s-ipython span.cm-variable-2 {color: #8fa1b3;}\n",
        ".cm-s-ipython span.cm-def {color: #d08770;}\n",
        ".cm-s-ipython span.cm-error {background: #bf616a; color: #a7adba;}\n",
        ".cm-s-ipython span.cm-bracket {color: #c0c5ce;}\n",
        ".cm-s-ipython span.cm-tag {color: #bf616a;}\n",
        ".cm-s-ipython span.cm-link {color: #b48ead;}\n",
        ".cm-s-ipython span.cm-meta {color: #b49391;}\n",
        "\n",
        ".cm-s-ipython .CodeMirror-matchingbracket { text-decoration: underline; color: #dfe1e8 !important;}\n",
        "</style>\n"
       ],
       "metadata": {},
       "output_type": "pyout",
       "prompt_number": 307,
       "text": [
        "<IPython.core.display.HTML object>"
       ]
      }
     ],
     "prompt_number": 307
    }
   ],
   "metadata": {}
  }
 ]
}