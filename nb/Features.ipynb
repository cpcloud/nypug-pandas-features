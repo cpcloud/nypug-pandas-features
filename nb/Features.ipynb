{
 "metadata": {
  "name": "",
  "signature": "sha256:9e3111ddb6c0ab516bcbaecdcae31556eba3e480b2038754b0170a2fa0326477"
 },
 "nbformat": 3,
 "nbformat_minor": 0,
 "worksheets": [
  {
   "cells": [
    {
     "cell_type": "heading",
     "level": 2,
     "metadata": {},
     "source": [
      "Back: [Whirl-torial](Whirl-torial.ipynb)"
     ]
    },
    {
     "cell_type": "code",
     "collapsed": false,
     "input": [
      "from __future__ import division, print_function"
     ],
     "language": "python",
     "metadata": {},
     "outputs": [],
     "prompt_number": 131
    },
    {
     "cell_type": "code",
     "collapsed": false,
     "input": [
      "from IPython.display import HTML, display as disp, Audio\n",
      "with open(\"../css/css.css\", \"r\") as f:\n",
      "    styles = f.read()\n",
      "HTML(styles)"
     ],
     "language": "python",
     "metadata": {},
     "outputs": [
      {
       "html": [
        "<link href='http://fonts.googleapis.com/css?family=Source+Code+Pro' rel='stylesheet' type='text/css'>\n",
        "<link href='http://fonts.googleapis.com/css?family=Raleway' rel='stylesheet' type='text/css'>\n",
        "<style>\n",
        "/*\n",
        "Rob's custom notebook CSS\n",
        "*/\n",
        "\n",
        "/*Fonts*/\n",
        "\n",
        "\n",
        "/*\n",
        "\n",
        "    Name:       Base16 Ocean Dark\n",
        "    Author:     Chris Kempson (http://chriskempson.com)\n",
        "\n",
        "    CodeMirror template adapted for IPython Notebook by Nikhil Sonnad (https://github.com/nsonnad/base16-ipython-notebook)\n",
        "    CodeMirror template by Jan T. Sott (https://github.com/idleberg/base16-chrome-devtools)\n",
        "    Original Base16 color scheme by Chris Kempson (https://github.com/chriskempson/base16)\n",
        "\n",
        "*/\n",
        "\n",
        "/* Uncomment to use a custom font\n",
        "div#notebook, div.CodeMirror, div.output_area pre, div.output_wrapper, div.prompt {\n",
        "  font-family: 'Custom Font Name', monospace !important;\n",
        "}\n",
        "*/\n",
        "body {\n",
        "    font-family: 'Raleway', sans-serif;\n",
        "}\n",
        "\n",
        ".rendered_html pre, .rendered_html code {\n",
        "    background-color: #2b303b;\n",
        "    color: #8fb1bf;\n",
        "    font-weight: bold:\n",
        "}\n",
        "\n",
        "\n",
        ".rendered_html table, .rendered_html th, .rendered_html tr, .rendered_html td {\n",
        "border: 1px #4f5b66 solid;\n",
        "white-space: nowrap;\n",
        "}\n",
        ".rendered_html thead {\n",
        "background-color: #43515c;\n",
        "color: white;\n",
        "}\n",
        ".rendered_html th {font-weight: bold;}\n",
        "table.dataframe tr {border: 1px #4f5b66;}\n",
        "\n",
        "/* GLOBALS */\n",
        "body {background-color: #2b303b;}\n",
        "a {color: #8fa1b3;}\n",
        "\n",
        "/* INTRO PAGE */\n",
        ".toolbar_info, .list_container {color: #dfe1e8;}\n",
        "\n",
        "/* NOTEBOOK */\n",
        "\n",
        "/* comment out this line to bring the toolbar back */\n",
        "div#maintoolbar, div#header {display: none !important;}\n",
        "\n",
        "div#notebook {border-top: none;}\n",
        "\n",
        "div.input_prompt {color: #ab7967;}\n",
        "div.output_prompt {color: #b48ead;}\n",
        "div.input_area {\n",
        "\n",
        "  font-size: 16px !important;\n",
        "  border-radius: 0px;\n",
        "  border: 1px solid #4f5b66;\n",
        "}\n",
        "div.output_area pre {font-weight: normal; color: #c0c5ce;}\n",
        "\n",
        ".rendered_html table, .rendered_html th, .rendered_html tr, .rendered_html td {\n",
        "  border: 1px  #c0c5ce solid;\n",
        "  color: #c0c5ce;\n",
        "}\n",
        "div.output_html { font-family: sans-serif; }\n",
        "table.dataframe tr {border: 1px #c0c5ce;}\n",
        "\n",
        "div.cell.selected {border-radius: 0px;}\n",
        "div.cell.edit_mode {border-radius: 0px; border: thin solid #b48ead;}\n",
        "div.text_cell_render, div.output_html {color: #c0c5ce;}\n",
        "\n",
        "span.ansiblack {color: #343d46;}\n",
        "span.ansiblue {color: #96b5b4;}\n",
        "span.ansigray {color: #a7adba;}\n",
        "span.ansigreen {color: #a3be8c;}\n",
        "span.ansipurple {color: #b48ead;}\n",
        "span.ansired {color: #bf616a;}\n",
        "span.ansiyellow {color: #ebcb8b;}\n",
        "\n",
        "div.output_stderr {background-color: #bf616a;}\n",
        "div.output_stderr pre {color: #dfe1e8;}\n",
        "\n",
        ".cm-s-ipython.CodeMirror {background: #2b303b; color: #dfe1e8;}\n",
        ".cm-s-ipython div.CodeMirror-selected {background: #343d46 !important;}\n",
        ".cm-s-ipython .CodeMirror-gutters {background: #2b303b; border-right: 0px;}\n",
        ".cm-s-ipython .CodeMirror-linenumber {color: #65737e;}\n",
        ".cm-s-ipython .CodeMirror-cursor {border-left: 1px solid #a7adba !important;}\n",
        "\n",
        ".cm-s-ipython span.cm-comment {color: #ab7967;}\n",
        ".cm-s-ipython span.cm-atom {color: #b48ead;}\n",
        ".cm-s-ipython span.cm-number {color: #b48ead;}\n",
        "\n",
        ".cm-s-ipython span.cm-property, .cm-s-ipython span.cm-attribute {color: #a3be8c;}\n",
        ".cm-s-ipython span.cm-keyword {color: #bf616a;}\n",
        ".cm-s-ipython span.cm-string {color: #ebcb8b;}\n",
        ".cm-s-ipython span.cm-operator {color: #ab7967;}\n",
        ".cm-s-ipython span.cm-builtin {color: #b48ead;}\n",
        "\n",
        ".cm-s-ipython span.cm-variable {color: #a3be8c;}\n",
        ".cm-s-ipython span.cm-variable-2 {color: #8fa1b3;}\n",
        ".cm-s-ipython span.cm-def {color: #d08770;}\n",
        ".cm-s-ipython span.cm-error {background: #bf616a; color: #a7adba;}\n",
        ".cm-s-ipython span.cm-bracket {color: #c0c5ce;}\n",
        ".cm-s-ipython span.cm-tag {color: #bf616a;}\n",
        ".cm-s-ipython span.cm-link {color: #b48ead;}\n",
        ".cm-s-ipython span.cm-meta {color: #b49391;}\n",
        "\n",
        ".cm-s-ipython .CodeMirror-matchingbracket { text-decoration: underline; color: #dfe1e8 !important;}\n",
        "</style>\n"
       ],
       "metadata": {},
       "output_type": "pyout",
       "prompt_number": 132,
       "text": [
        "<IPython.core.display.HTML object>"
       ]
      }
     ],
     "prompt_number": 132
    },
    {
     "cell_type": "code",
     "collapsed": false,
     "input": [
      "import os\n",
      "import operator\n",
      "import sh\n",
      "import json\n",
      "import requests\n",
      "\n",
      "import matplotlib.pyplot as plt\n",
      "\n",
      "import numpy as np\n",
      "from numpy.random import randn, randint, rand, choice\n",
      "\n",
      "import pandas as pd\n",
      "from pandas import DataFrame, Series, Index\n",
      "from pandas.compat import map, StringIO\n",
      "import pandas.util.testing as tm\n",
      "\n",
      "pd.options.display.max_rows = 10\n",
      "pd.options.display.max_columns = 7\n",
      "\n",
      "try:\n",
      "    from mpltools import style\n",
      "    style.use('ggplot')\n",
      "except ImportError:\n",
      "    pass\n",
      "\n",
      "# because of our bg color\n",
      "plt.rc('text', color='white')\n",
      "plt.rc('axes', labelcolor='white')\n",
      "plt.rc('xtick', color='white')\n",
      "plt.rc('ytick', color='white')"
     ],
     "language": "python",
     "metadata": {},
     "outputs": [],
     "prompt_number": 133
    },
    {
     "cell_type": "code",
     "collapsed": false,
     "input": [
      "%matplotlib inline"
     ],
     "language": "python",
     "metadata": {},
     "outputs": [],
     "prompt_number": 134
    },
    {
     "cell_type": "code",
     "collapsed": false,
     "input": [
      "def inline_page(url):\n",
      "    disp(HTML('<iframe src=%r width=700 height=350></iframe>' % url))\n",
      "\n",
      "\n",
      "def read_text(*args, **kwargs):\n",
      "    \"\"\"Simple text reader because I don't like typing ``with`` every time\"\"\"\n",
      "    with open(*args, **kwargs) as f:\n",
      "        return f.read()\n",
      "    \n",
      "    \n",
      "def highlight(filename, style='fruity'):\n",
      "    \"\"\"Syntax highlight a file based on its extension\"\"\"\n",
      "    from pygments import highlight as h\n",
      "    from pygments.lexers import guess_lexer_for_filename\n",
      "    from pygments.formatters import HtmlFormatter\n",
      "\n",
      "    code = read_text(filename, mode='rt')\n",
      "\n",
      "    formatter = HtmlFormatter(style=style)\n",
      "    lexer = guess_lexer_for_filename(filename, code)\n",
      "    disp(HTML('<style type=\"text/css\">{0}</style>{1}'.format(\n",
      "            formatter.get_style_defs('.highlight'),\n",
      "            h(code, lexer, formatter))))"
     ],
     "language": "python",
     "metadata": {},
     "outputs": [],
     "prompt_number": 142
    },
    {
     "cell_type": "heading",
     "level": 1,
     "metadata": {},
     "source": [
      "New Features since v0.11.0"
     ]
    },
    {
     "cell_type": "heading",
     "level": 2,
     "metadata": {},
     "source": [
      "(or Interactive Release Notes)"
     ]
    },
    {
     "cell_type": "markdown",
     "metadata": {},
     "source": [
      "# v0.11\n",
      "\n",
      "* indexers ``loc``/``at``, ``iloc``/``iat``\n",
      "* all dtypes allowed\n",
      "* now we use [``numexpr``](https://github.com/pydata/numexpr) to evaluate arithmetic expressions where possible (with objects whose ``len`` is `>` 10k elements)"
     ]
    },
    {
     "cell_type": "heading",
     "level": 2,
     "metadata": {},
     "source": [
      "``numexpr`` speedups"
     ]
    },
    {
     "cell_type": "heading",
     "level": 3,
     "metadata": {},
     "source": [
      "More apparent for long(ish) expressions with large(ish) arrays"
     ]
    },
    {
     "cell_type": "code",
     "collapsed": false,
     "input": [
      "def gen_frames(n, size, f=randn):\n",
      "    return (DataFrame(f(*sz)) for sz in [size] * n)\n",
      "\n",
      "\n",
      "x, y, z, w = gen_frames(4, size=(1e6, 20))"
     ],
     "language": "python",
     "metadata": {},
     "outputs": []
    },
    {
     "cell_type": "code",
     "collapsed": false,
     "input": [
      "def biggish():\n",
      "    disp(HTML('<b>biggish</b>'))\n",
      "    with tm.use_numexpr(True):\n",
      "        Y = %timeit -r 1 -n 1 -o x + y + z + w ** 3\n",
      "\n",
      "    with tm.use_numexpr(False):\n",
      "        N = %timeit -r 1 -n 1 -o x + y + z + w ** 3\n",
      "\n",
      "    disp(HTML('numexpr is <b>%.2g</b>x faster' % (N.best / Y.best)))\n",
      "    print()\n",
      "    \n",
      "    \n",
      "def smallish():\n",
      "    disp(HTML('<b>smallish</b>'))\n",
      "    with tm.use_numexpr(False):\n",
      "        Y = %timeit -r 1 -n 1 -o x + y\n",
      "\n",
      "    with tm.use_numexpr(False):\n",
      "        N = %timeit -r 1 -n 1 -o x + y\n",
      "\n",
      "    disp(HTML('numexpr is <b>%.2g</b>x faster' % (N.best / Y.best)))\n",
      "\n",
      "\n",
      "biggish()\n",
      "smallish()"
     ],
     "language": "python",
     "metadata": {},
     "outputs": []
    },
    {
     "cell_type": "markdown",
     "metadata": {},
     "source": [
      "# v0.12\n",
      "\n",
      "* [``read_html``](http://pandas.pydata.org/pandas-docs/stable/generated/pandas.read_html.html#pandas.read_html)\n",
      "* [``read_json``](http://pandas.pydata.org/pandas-docs/stable/generated/pandas.read_json.html#pandas.read_json)\n",
      "* [``read_csv``](http://pandas.pydata.org/pandas-docs/stable/generated/pandas.read_csv.html#pandas.read_csv) accepts S3 URLs\n",
      "* ``DataFrame.replace()`` with regular expressions\n",
      "* ``Series.str`` iteration\n",
      "* ``MultiIndex`` column reading and writing in ``read_csv``\n",
      "* ``GroupBy.filter()``"
     ]
    },
    {
     "cell_type": "heading",
     "level": 2,
     "metadata": {},
     "source": [
      "[``read_html``](http://pandas.pydata.org/pandas-docs/stable/generated/pandas.io.html.read_html.html#pandas.io.html.read_html)"
     ]
    },
    {
     "cell_type": "code",
     "collapsed": false,
     "input": [
      "inline_page(\"http://www.fdic.gov/bank/individual/failed/banklist.html\")"
     ],
     "language": "python",
     "metadata": {},
     "outputs": [
      {
       "html": [
        "<iframe src='http://www.fdic.gov/bank/individual/failed/banklist.html' width=700 height=350></iframe>"
       ],
       "metadata": {},
       "output_type": "display_data",
       "text": [
        "<IPython.core.display.HTML object>"
       ]
      }
     ],
     "prompt_number": 143
    },
    {
     "cell_type": "code",
     "collapsed": false,
     "input": [
      "url = '../data/banklist.html'\n",
      "dfs = pd.read_html(url)  # returns a list of all tables found on the page"
     ],
     "language": "python",
     "metadata": {},
     "outputs": [],
     "prompt_number": 144
    },
    {
     "cell_type": "code",
     "collapsed": false,
     "input": [
      "assert len(dfs) == 1, \"you're wrong about me\"\n",
      "df = dfs.pop()"
     ],
     "language": "python",
     "metadata": {},
     "outputs": []
    },
    {
     "cell_type": "code",
     "collapsed": false,
     "input": [
      "# not sure where those extra columns are from ...\n",
      "df"
     ],
     "language": "python",
     "metadata": {},
     "outputs": []
    },
    {
     "cell_type": "heading",
     "level": 3,
     "metadata": {},
     "source": [
      "Select tables based on class"
     ]
    },
    {
     "cell_type": "code",
     "collapsed": false,
     "input": [
      "dat_url = 'tmp.html'\n",
      "with open(dat_url, 'w') as f:\n",
      "    DataFrame(randn(2, 2)).to_html(f, classes=['first'])\n",
      "    f.write('\\n\\n')\n",
      "    DataFrame(randn(2, 2)).to_html(f, classes=['second'])"
     ],
     "language": "python",
     "metadata": {},
     "outputs": []
    },
    {
     "cell_type": "code",
     "collapsed": false,
     "input": [
      "highlight(dat_url)"
     ],
     "language": "python",
     "metadata": {},
     "outputs": []
    },
    {
     "cell_type": "code",
     "collapsed": false,
     "input": [
      "df, = pd.read_html(dat_url, attrs={'class': 'first'}, index_col=0)\n",
      "df"
     ],
     "language": "python",
     "metadata": {},
     "outputs": []
    },
    {
     "cell_type": "code",
     "collapsed": false,
     "input": [
      "dfs = pd.read_html(dat_url, index_col=0)\n",
      "\n",
      "for df in dfs:\n",
      "    disp(df)\n",
      "# not really a way to tell which table is which; ordered by appearance in HTML"
     ],
     "language": "python",
     "metadata": {},
     "outputs": []
    },
    {
     "cell_type": "code",
     "collapsed": false,
     "input": [
      "top_url = 'http://www.tylervigen.com'\n",
      "url = 'http://www.tylervigen.com/view_correlation?id=1703'"
     ],
     "language": "python",
     "metadata": {},
     "outputs": []
    },
    {
     "cell_type": "code",
     "collapsed": false,
     "input": [
      "HTML('<iframe src=%r width=700 height=350></iframe>' % top_url)"
     ],
     "language": "python",
     "metadata": {},
     "outputs": []
    },
    {
     "cell_type": "code",
     "collapsed": false,
     "input": [
      "raw = requests.get(url).text\n",
      "match = r'Divorce rate in Maine'\n",
      "dfs = pd.read_html(raw, match=match, header=0, index_col=0)"
     ],
     "language": "python",
     "metadata": {},
     "outputs": []
    },
    {
     "cell_type": "code",
     "collapsed": true,
     "input": [
      "dfs[-1]"
     ],
     "language": "python",
     "metadata": {},
     "outputs": []
    },
    {
     "cell_type": "code",
     "collapsed": false,
     "input": [
      "# get rid of junk columns\n",
      "df = dfs[-1].dropna(how='all', axis=(0, 1)).T\n",
      "\n",
      "# better names\n",
      "df.columns = ['mn_divorce_rate', 'per_capita_marg']\n",
      "\n",
      "# rename generic index name to year\n",
      "df = df.reset_index().rename(columns={'index': 'year'})\n",
      "\n",
      "# make years integers\n",
      "df = df.convert_objects(convert_numeric=True)\n",
      "df"
     ],
     "language": "python",
     "metadata": {},
     "outputs": []
    },
    {
     "cell_type": "code",
     "collapsed": false,
     "input": [
      "df"
     ],
     "language": "python",
     "metadata": {},
     "outputs": []
    },
    {
     "cell_type": "code",
     "collapsed": false,
     "input": [
      "def blacken_legend_text(leg):\n",
      "    for t in leg.get_texts():\n",
      "        t.set_color('k')\n",
      "        \n",
      "        \n",
      "fig, (ax, ax2) = plt.subplots(2, 1, figsize=(8, 6))\n",
      "\n",
      "# maine divorces\n",
      "ln = ax.plot(df.mn_divorce_rate.values, r'ro-', label='Divorce Rate / 1000 People')\n",
      "ax.set_xticklabels(df.year)\n",
      "ax.set_xlabel('Year')\n",
      "ax.set_ylabel(ln[0].get_label())\n",
      "\n",
      "# butter eating\n",
      "axt = ax.twinx()\n",
      "lt = axt.plot(df.per_capita_marg.values, r'bo-', label='Per Capita Lbs of Margarine')\n",
      "axt.set_ylabel(lt[0].get_label())\n",
      "\n",
      "# scatter plot\n",
      "ax2.scatter(df.mn_divorce_rate.values, df.per_capita_marg.values, s=100)\n",
      "ax2.set_xlabel('MN Divorce Rate')\n",
      "ax2.set_ylabel('Margarine')\n",
      "ax2.set_title(r'Divorce vs. Margarine, $r = %.2g$' % df.mn_divorce_rate.corr(df.per_capita_marg))\n",
      "ax2.axis('tight')\n",
      "\n",
      "# legend madness\n",
      "lns = ln + lt\n",
      "leg = ax.legend(lns, [l.get_label() for l in lns], loc=0)\n",
      "blacken_legend_text(leg)\n",
      "\n",
      "fig.tight_layout()"
     ],
     "language": "python",
     "metadata": {},
     "outputs": []
    },
    {
     "cell_type": "markdown",
     "metadata": {},
     "source": [
      "## ``read_csv`` with S3 URLs\n",
      "\n",
      "needs a ``pip install boto``"
     ]
    },
    {
     "cell_type": "code",
     "collapsed": false,
     "input": [
      "# you need the boto library to use this: pip install boto\n",
      "\n",
      "# URL is s3://<bucket>/<key1>/.../<keyN>\n",
      "tips = pd.read_csv('s3://nypug/tips.csv')\n",
      "tips.head()"
     ],
     "language": "python",
     "metadata": {},
     "outputs": []
    },
    {
     "cell_type": "heading",
     "level": 2,
     "metadata": {},
     "source": [
      "[``read_json``](http://pandas.pydata.org/pandas-docs/stable/io.html#io-json-reader) (simple)"
     ]
    },
    {
     "cell_type": "code",
     "collapsed": false,
     "input": [
      "jsfile = 'data.json'"
     ],
     "language": "python",
     "metadata": {},
     "outputs": []
    },
    {
     "cell_type": "code",
     "collapsed": false,
     "input": [
      "%%writefile $jsfile\n",
      "{\n",
      "    \"name\": [\"Bob Jones\", \"Karen Smith\"],\n",
      "    \"age\": [28, 26],\n",
      "    \"gender\": [\"M\", \"F\"]\n",
      "}"
     ],
     "language": "python",
     "metadata": {},
     "outputs": []
    },
    {
     "cell_type": "code",
     "collapsed": false,
     "input": [
      "pd.read_json(jsfile)  # no problemo"
     ],
     "language": "python",
     "metadata": {},
     "outputs": []
    },
    {
     "cell_type": "code",
     "collapsed": false,
     "input": [
      "# can also use keys as the rows instead of columns\n",
      "pd.read_json(jsfile, orient='index')"
     ],
     "language": "python",
     "metadata": {},
     "outputs": []
    },
    {
     "cell_type": "code",
     "collapsed": false,
     "input": [
      "%%writefile $jsfile\n",
      "{\n",
      "    \"region\": {\n",
      "        \"Canada\": {\n",
      "            \"name\": \"Bob Jones\",\n",
      "            \"age\": 28,\n",
      "            \"gender\": \"M\"\n",
      "        },\n",
      "        \"USA\": {\n",
      "            \"name\": \"Karen Smith\",\n",
      "            \"age\": 26,\n",
      "            \"gender\": \"F\"\n",
      "        }\n",
      "    }\n",
      "}"
     ],
     "language": "python",
     "metadata": {},
     "outputs": []
    },
    {
     "cell_type": "code",
     "collapsed": false,
     "input": [
      "disp(pd.read_json(jsfile, orient='records'))\n",
      "disp(Audio(os.path.join(os.pardir, 'mp3', 'w.mp3'), autoplay=True))"
     ],
     "language": "python",
     "metadata": {},
     "outputs": []
    },
    {
     "cell_type": "heading",
     "level": 2,
     "metadata": {},
     "source": [
      "``read_json`` (not so simple)"
     ]
    },
    {
     "cell_type": "heading",
     "level": 3,
     "metadata": {},
     "source": [
      "pandas plays nicely with other libraries"
     ]
    },
    {
     "cell_type": "code",
     "collapsed": false,
     "input": [
      "with open(jsfile, 'rt') as f:\n",
      "    data = f.read()"
     ],
     "language": "python",
     "metadata": {},
     "outputs": []
    },
    {
     "cell_type": "code",
     "collapsed": false,
     "input": [
      "# avoid read_json entirely :)\n",
      "# get transposed\n",
      "df = DataFrame(json.loads(data)[\"region\"])\n",
      "df"
     ],
     "language": "python",
     "metadata": {},
     "outputs": []
    },
    {
     "cell_type": "code",
     "collapsed": false,
     "input": [
      "jq = sh.jq.bake('-M')  # -M disables colorizing"
     ],
     "language": "python",
     "metadata": {},
     "outputs": []
    },
    {
     "cell_type": "code",
     "collapsed": false,
     "input": [
      "rule = \"(.region)\"  # this rule is essentially data[\"region\"]\n",
      "out = jq(rule, _in=data).stdout\n",
      "res = pd.read_json(out, orient='')\n",
      "res"
     ],
     "language": "python",
     "metadata": {},
     "outputs": []
    },
    {
     "cell_type": "heading",
     "level": 2,
     "metadata": {},
     "source": [
      "Let's try something a bit hairier..."
     ]
    },
    {
     "cell_type": "heading",
     "level": 4,
     "metadata": {},
     "source": [
      "adapted from [this StackOverflow question](http://stackoverflow.com/q/21494030/564538)"
     ]
    },
    {
     "cell_type": "code",
     "collapsed": false,
     "input": [
      "%%writefile $jsfile\n",
      "{\n",
      "  \"intervals\": [\n",
      "    {\n",
      "      \"pivots\": \"Jane Smith\",\n",
      "      \"series\": [\n",
      "        {\n",
      "          \"interval_id\": 0,\n",
      "          \"p_value\": 1\n",
      "        },\n",
      "        {\n",
      "          \"interval_id\": 1,\n",
      "          \"p_value\": 1.1162791357932633e-8\n",
      "        },\n",
      "        {\n",
      "          \"interval_id\": 2,\n",
      "          \"p_value\": 0.0000028675012051504467\n",
      "        }\n",
      "      ]\n",
      "    },\n",
      "    {\n",
      "      \"pivots\": \"Bob Smith\",\n",
      "      \"series\": [\n",
      "        {\n",
      "          \"interval_id\": 0,\n",
      "          \"p_value\": 1\n",
      "        },\n",
      "        {\n",
      "          \"interval_id\": 1,\n",
      "          \"p_value\": 1.1162791357932633e-8\n",
      "        },\n",
      "        {\n",
      "          \"interval_id\": 2,\n",
      "          \"p_value\": 0.0000028675012051504467\n",
      "        }\n",
      "      ]\n",
      "    }\n",
      "  ]\n",
      "}"
     ],
     "language": "python",
     "metadata": {},
     "outputs": []
    },
    {
     "cell_type": "code",
     "collapsed": false,
     "input": [
      "with open(jsfile, 'r') as f:\n",
      "    data = f.read()\n",
      "\n",
      "# check out http://stedolan.github.io/jq/manual for more details on these rules\n",
      "rule = \"\"\"[{pivots: .intervals[].pivots,\n",
      "            interval_id: .intervals[].series[].interval_id,\n",
      "            p_value: .intervals[].series[].p_value}] | unique\"\"\"\n",
      "out = jq(rule, _in=data).stdout\n",
      "js = json.loads(out)"
     ],
     "language": "python",
     "metadata": {},
     "outputs": []
    },
    {
     "cell_type": "code",
     "collapsed": false,
     "input": [
      "js[:2]"
     ],
     "language": "python",
     "metadata": {},
     "outputs": []
    },
    {
     "cell_type": "code",
     "collapsed": false,
     "input": [
      "res = pd.read_json(out)\n",
      "res"
     ],
     "language": "python",
     "metadata": {},
     "outputs": []
    },
    {
     "cell_type": "code",
     "collapsed": false,
     "input": [
      "res.dtypes"
     ],
     "language": "python",
     "metadata": {},
     "outputs": []
    },
    {
     "cell_type": "markdown",
     "metadata": {},
     "source": [
      "# v0.13\n",
      "* ``DataFrame.isin()``\n",
      "* [``str.extract()``](http://pandas.pydata.org/pandas-docs/stable/generated/pandas.core.strings.StringMethods.extract.html#pandas.core.strings.StringMethods.extract)\n",
      "* ``GroupBy.cumcount()``\n",
      "* Experimental Features\n",
      "  * ``query``/``eval``\n",
      "  * ``msgpack`` IO\n",
      "  * ``Google BigQuery`` IO"
     ]
    },
    {
     "cell_type": "code",
     "collapsed": false,
     "input": [
      "# better example here"
     ],
     "language": "python",
     "metadata": {},
     "outputs": []
    },
    {
     "cell_type": "code",
     "collapsed": false,
     "input": [
      "n = 5\n",
      "df = DataFrame({'a': randint(3, size=n), 'b': rand(n)})\n",
      "df2 = DataFrame({'a': randint(4, size=n),\n",
      "                 'b': df.b + (rand(n) > 0.5).astype('f8')})"
     ],
     "language": "python",
     "metadata": {},
     "outputs": []
    },
    {
     "cell_type": "code",
     "collapsed": false,
     "input": [
      "df"
     ],
     "language": "python",
     "metadata": {},
     "outputs": []
    },
    {
     "cell_type": "code",
     "collapsed": false,
     "input": [
      "df2"
     ],
     "language": "python",
     "metadata": {},
     "outputs": []
    },
    {
     "cell_type": "code",
     "collapsed": false,
     "input": [
      "df.isin({'a': [1]})"
     ],
     "language": "python",
     "metadata": {},
     "outputs": []
    },
    {
     "cell_type": "heading",
     "level": 3,
     "metadata": {},
     "source": [
      "``str.extract()``"
     ]
    },
    {
     "cell_type": "heading",
     "level": 1,
     "metadata": {},
     "source": [
      "use superbowl example here"
     ]
    },
    {
     "cell_type": "code",
     "collapsed": false,
     "input": [
      "ext = ext.convert_objects(convert_numeric=True)\n",
      "disp(ext.dtypes)\n",
      "ext"
     ],
     "language": "python",
     "metadata": {},
     "outputs": []
    },
    {
     "cell_type": "heading",
     "level": 3,
     "metadata": {},
     "source": [
      "v0.13 Experimental Features"
     ]
    },
    {
     "cell_type": "markdown",
     "metadata": {},
     "source": [
      "* ``query``/``eval``\n",
      "* msgpack IO\n",
      "* Google BigQuery IO"
     ]
    },
    {
     "cell_type": "heading",
     "level": 3,
     "metadata": {},
     "source": [
      "[``query``](http://pandas.pydata.org/pandas-docs/stable/generated/pandas.DataFrame.query.html#pandas.DataFrame.query)/[``eval``](http://pandas.pydata.org/pandas-docs/stable/generated/pandas.DataFrame.eval.html#pandas.DataFrame.eval)"
     ]
    },
    {
     "cell_type": "code",
     "collapsed": false,
     "input": [
      "n = 1e6\n",
      "df = DataFrame({'a': randint(10, size=n),\n",
      "                'b': rand(n),\n",
      "                'c': rand(n)})\n",
      "df = df.join(DataFrame(randn(n, 30)))\n",
      "df.head()"
     ],
     "language": "python",
     "metadata": {},
     "outputs": []
    },
    {
     "cell_type": "code",
     "collapsed": false,
     "input": [
      "sub = df.query('1 <= a <= 5 and 0.1 < b < 0.4 and 0.5 <= c <= 0.95')\n",
      "sub"
     ],
     "language": "python",
     "metadata": {},
     "outputs": []
    },
    {
     "cell_type": "code",
     "collapsed": false,
     "input": [
      "qtime = %timeit -o df.query('1 <= a <= 5 and 0.1 < b < 0.4 and 0.5 <= c <= 0.95')\n",
      "pytime = %timeit -o df.loc[(1 <= df.a) & (df.a <= 5) & (0.1 <= df.b) & (df.b <= 0.4) & (0.5 <= df.c) & (df.c <= 0.9)]\n",
      "\n",
      "print('query is %.2gx faster than pure Python' % (pytime.best / qtime.best))"
     ],
     "language": "python",
     "metadata": {},
     "outputs": []
    },
    {
     "cell_type": "code",
     "collapsed": false,
     "input": [
      "A, B, C, D = (DataFrame(randn(n, 40)) for _ in range(4))"
     ],
     "language": "python",
     "metadata": {},
     "outputs": []
    },
    {
     "cell_type": "code",
     "collapsed": false,
     "input": [
      "qtime = %timeit -r 1 -n 1 -o pd.eval('A + B * 2 + C / D ** 3 * B / C + A ** 10 < A ** 5')\n",
      "pytime = %timeit -r 1 -n 1 -o A + B * 2 + C / D ** 3 * B / C + A ** 10 < A ** 5\n",
      "print('query is %.2gx faster than pure Python' % (pytime.best / qtime.best))"
     ],
     "language": "python",
     "metadata": {},
     "outputs": []
    },
    {
     "cell_type": "heading",
     "level": 3,
     "metadata": {},
     "source": [
      "Local variables"
     ]
    },
    {
     "cell_type": "code",
     "collapsed": false,
     "input": [
      "a = rand()\n",
      "df.query('a <= @a <= b')"
     ],
     "language": "python",
     "metadata": {},
     "outputs": []
    },
    {
     "cell_type": "heading",
     "level": 3,
     "metadata": {},
     "source": [
      "[``MessagePack``](http://msgpack.org/) IO (``to_msgpack``/``read_msgpack``)"
     ]
    },
    {
     "cell_type": "markdown",
     "metadata": {},
     "source": [
      "#### MessagePack is like JSON but smaller and it's a binary format.\n",
      "\n",
      "#### Support for this is experimental.\n",
      "#### Serialization of large objects is not recommended as they are converted to Python ``list``s before writing"
     ]
    },
    {
     "cell_type": "code",
     "collapsed": false,
     "input": [
      "df.head().to_msgpack()"
     ],
     "language": "python",
     "metadata": {},
     "outputs": []
    },
    {
     "cell_type": "code",
     "collapsed": false,
     "input": [
      "s = pd.to_msgpack(None,  # we want the raw bytes output so pass None\n",
      "                  Series(randn(2)), \n",
      "                  ['yep', 'a', 'list'], \n",
      "                  randn(2), \n",
      "                  {'a': 2, 'b': 3})\n",
      "sio = StringIO(s)\n",
      "pd.read_msgpack(sio)"
     ],
     "language": "python",
     "metadata": {},
     "outputs": []
    },
    {
     "cell_type": "heading",
     "level": 3,
     "metadata": {},
     "source": [
      "Google BigQuery IO"
     ]
    },
    {
     "cell_type": "markdown",
     "metadata": {},
     "source": [
      "You need to\n",
      "\n",
      "```sh\n",
      "pip install bigquery\n",
      "```\n",
      "\n",
      "as well as set up a Google BigQuery account before this will work\n",
      "\n",
      "#### Data can be found [here](https://bigquery.cloud.google.com/table/publicdata:samples.github_timeline)"
     ]
    },
    {
     "cell_type": "code",
     "collapsed": false,
     "input": [
      "%%writefile query.sql\n",
      "SELECT payload_pull_request_additions, payload_pull_request_created_at\n",
      "       FROM [publicdata:samples.github_timeline] \n",
      "       WHERE repository_name = 'pandas'"
     ],
     "language": "python",
     "metadata": {},
     "outputs": [
      {
       "output_type": "stream",
       "stream": "stdout",
       "text": [
        "Writing query.sql\n"
       ]
      }
     ],
     "prompt_number": 138
    },
    {
     "cell_type": "code",
     "collapsed": false,
     "input": [
      "highlight('query.sql')"
     ],
     "language": "python",
     "metadata": {},
     "outputs": [
      {
       "html": [
        "<style type=\"text/css\">.highlight .hll { background-color: #333333 }\n",
        ".highlight  { background: #111111; color: #ffffff }\n",
        ".highlight .c { color: #008800; font-style: italic; background-color: #0f140f } /* Comment */\n",
        ".highlight .err { color: #ffffff } /* Error */\n",
        ".highlight .g { color: #ffffff } /* Generic */\n",
        ".highlight .k { color: #fb660a; font-weight: bold } /* Keyword */\n",
        ".highlight .l { color: #ffffff } /* Literal */\n",
        ".highlight .n { color: #ffffff } /* Name */\n",
        ".highlight .o { color: #ffffff } /* Operator */\n",
        ".highlight .x { color: #ffffff } /* Other */\n",
        ".highlight .p { color: #ffffff } /* Punctuation */\n",
        ".highlight .cm { color: #008800; font-style: italic; background-color: #0f140f } /* Comment.Multiline */\n",
        ".highlight .cp { color: #ff0007; font-weight: bold; font-style: italic; background-color: #0f140f } /* Comment.Preproc */\n",
        ".highlight .c1 { color: #008800; font-style: italic; background-color: #0f140f } /* Comment.Single */\n",
        ".highlight .cs { color: #008800; font-style: italic; background-color: #0f140f } /* Comment.Special */\n",
        ".highlight .gd { color: #ffffff } /* Generic.Deleted */\n",
        ".highlight .ge { color: #ffffff } /* Generic.Emph */\n",
        ".highlight .gr { color: #ffffff } /* Generic.Error */\n",
        ".highlight .gh { color: #ffffff; font-weight: bold } /* Generic.Heading */\n",
        ".highlight .gi { color: #ffffff } /* Generic.Inserted */\n",
        ".highlight .go { color: #444444; background-color: #222222 } /* Generic.Output */\n",
        ".highlight .gp { color: #ffffff } /* Generic.Prompt */\n",
        ".highlight .gs { color: #ffffff } /* Generic.Strong */\n",
        ".highlight .gu { color: #ffffff; font-weight: bold } /* Generic.Subheading */\n",
        ".highlight .gt { color: #ffffff } /* Generic.Traceback */\n",
        ".highlight .kc { color: #fb660a; font-weight: bold } /* Keyword.Constant */\n",
        ".highlight .kd { color: #fb660a; font-weight: bold } /* Keyword.Declaration */\n",
        ".highlight .kn { color: #fb660a; font-weight: bold } /* Keyword.Namespace */\n",
        ".highlight .kp { color: #fb660a } /* Keyword.Pseudo */\n",
        ".highlight .kr { color: #fb660a; font-weight: bold } /* Keyword.Reserved */\n",
        ".highlight .kt { color: #cdcaa9; font-weight: bold } /* Keyword.Type */\n",
        ".highlight .ld { color: #ffffff } /* Literal.Date */\n",
        ".highlight .m { color: #0086f7; font-weight: bold } /* Literal.Number */\n",
        ".highlight .s { color: #0086d2 } /* Literal.String */\n",
        ".highlight .na { color: #ff0086; font-weight: bold } /* Name.Attribute */\n",
        ".highlight .nb { color: #ffffff } /* Name.Builtin */\n",
        ".highlight .nc { color: #ffffff } /* Name.Class */\n",
        ".highlight .no { color: #0086d2 } /* Name.Constant */\n",
        ".highlight .nd { color: #ffffff } /* Name.Decorator */\n",
        ".highlight .ni { color: #ffffff } /* Name.Entity */\n",
        ".highlight .ne { color: #ffffff } /* Name.Exception */\n",
        ".highlight .nf { color: #ff0086; font-weight: bold } /* Name.Function */\n",
        ".highlight .nl { color: #ffffff } /* Name.Label */\n",
        ".highlight .nn { color: #ffffff } /* Name.Namespace */\n",
        ".highlight .nx { color: #ffffff } /* Name.Other */\n",
        ".highlight .py { color: #ffffff } /* Name.Property */\n",
        ".highlight .nt { color: #fb660a; font-weight: bold } /* Name.Tag */\n",
        ".highlight .nv { color: #fb660a } /* Name.Variable */\n",
        ".highlight .ow { color: #ffffff } /* Operator.Word */\n",
        ".highlight .w { color: #888888 } /* Text.Whitespace */\n",
        ".highlight .mf { color: #0086f7; font-weight: bold } /* Literal.Number.Float */\n",
        ".highlight .mh { color: #0086f7; font-weight: bold } /* Literal.Number.Hex */\n",
        ".highlight .mi { color: #0086f7; font-weight: bold } /* Literal.Number.Integer */\n",
        ".highlight .mo { color: #0086f7; font-weight: bold } /* Literal.Number.Oct */\n",
        ".highlight .sb { color: #0086d2 } /* Literal.String.Backtick */\n",
        ".highlight .sc { color: #0086d2 } /* Literal.String.Char */\n",
        ".highlight .sd { color: #0086d2 } /* Literal.String.Doc */\n",
        ".highlight .s2 { color: #0086d2 } /* Literal.String.Double */\n",
        ".highlight .se { color: #0086d2 } /* Literal.String.Escape */\n",
        ".highlight .sh { color: #0086d2 } /* Literal.String.Heredoc */\n",
        ".highlight .si { color: #0086d2 } /* Literal.String.Interpol */\n",
        ".highlight .sx { color: #0086d2 } /* Literal.String.Other */\n",
        ".highlight .sr { color: #0086d2 } /* Literal.String.Regex */\n",
        ".highlight .s1 { color: #0086d2 } /* Literal.String.Single */\n",
        ".highlight .ss { color: #0086d2 } /* Literal.String.Symbol */\n",
        ".highlight .bp { color: #ffffff } /* Name.Builtin.Pseudo */\n",
        ".highlight .vc { color: #fb660a } /* Name.Variable.Class */\n",
        ".highlight .vg { color: #fb660a } /* Name.Variable.Global */\n",
        ".highlight .vi { color: #fb660a } /* Name.Variable.Instance */\n",
        ".highlight .il { color: #0086f7; font-weight: bold } /* Literal.Number.Integer.Long */</style><div class=\"highlight\"><pre><span class=\"k\">SELECT</span> <span class=\"n\">payload_pull_request_additions</span><span class=\"p\">,</span> <span class=\"n\">payload_pull_request_created_at</span>\n",
        "       <span class=\"k\">FROM</span> <span class=\"p\">[</span><span class=\"n\">publicdata</span><span class=\"p\">:</span><span class=\"n\">samples</span><span class=\"p\">.</span><span class=\"n\">github_timeline</span><span class=\"p\">]</span> \n",
        "       <span class=\"k\">WHERE</span> <span class=\"n\">repository_name</span> <span class=\"o\">=</span> <span class=\"s1\">&#39;pandas&#39;</span>\n",
        "</pre></div>\n"
       ],
       "metadata": {},
       "output_type": "display_data",
       "text": [
        "<IPython.core.display.HTML object>"
       ]
      }
     ],
     "prompt_number": 139
    },
    {
     "cell_type": "code",
     "collapsed": false,
     "input": [
      "with open('query.sql', 'rt') as f:\n",
      "    query = f.read()"
     ],
     "language": "python",
     "metadata": {},
     "outputs": [],
     "prompt_number": 140
    },
    {
     "cell_type": "code",
     "collapsed": false,
     "input": [
      "df = pd.read_gbq(query, project_id='metal-lantern-572')"
     ],
     "language": "python",
     "metadata": {},
     "outputs": []
    },
    {
     "cell_type": "code",
     "collapsed": false,
     "input": [
      "df = df.dropna().reset_index(drop=True)\n",
      "df"
     ],
     "language": "python",
     "metadata": {},
     "outputs": []
    },
    {
     "cell_type": "code",
     "collapsed": false,
     "input": [
      "df.dtypes"
     ],
     "language": "python",
     "metadata": {},
     "outputs": []
    },
    {
     "cell_type": "code",
     "collapsed": false,
     "input": [
      "df['payload_pull_request_created_at'] = pd.to_datetime(df.payload_pull_request_created_at)"
     ],
     "language": "python",
     "metadata": {},
     "outputs": []
    },
    {
     "cell_type": "code",
     "collapsed": false,
     "input": [
      "df"
     ],
     "language": "python",
     "metadata": {},
     "outputs": []
    },
    {
     "cell_type": "code",
     "collapsed": true,
     "input": [
      "# set the index to the datetime column just created\n",
      "df = df.set_index('payload_pull_request_created_at').sort_index()\n",
      "df"
     ],
     "language": "python",
     "metadata": {},
     "outputs": []
    },
    {
     "cell_type": "code",
     "collapsed": true,
     "input": [
      "s = df.payload_pull_request_additions"
     ],
     "language": "python",
     "metadata": {},
     "outputs": []
    },
    {
     "cell_type": "code",
     "collapsed": false,
     "input": [
      "def remove_time(ax):\n",
      "    replacer = lambda x: x.get_text().replace(' 00:00:00', '')\n",
      "    ax.set_xticklabels(list(map(replacer, ax.get_xticklabels())))"
     ],
     "language": "python",
     "metadata": {},
     "outputs": []
    },
    {
     "cell_type": "code",
     "collapsed": false,
     "input": [
      "r = s.resample('B', how='sum')\n",
      "r.index.name = 'Pull Request Day'\n",
      "ax = r.plot(kind='bar', figsize=(18, 5))\n",
      "\n",
      "remove_time(ax)\n",
      "ax.set_ylabel('Pull Request Additions per Business Day')\n",
      "ax.get_figure().autofmt_xdate()"
     ],
     "language": "python",
     "metadata": {},
     "outputs": []
    },
    {
     "cell_type": "heading",
     "level": 3,
     "metadata": {},
     "source": [
      "Non user facing but worth mentioning:"
     ]
    },
    {
     "cell_type": "heading",
     "level": 4,
     "metadata": {},
     "source": [
      "Jeff Reback's refactor of ``Series`` to use composition instead of inheriting from ``numpy.ndarray``. Bravo!"
     ]
    },
    {
     "cell_type": "heading",
     "level": 1,
     "metadata": {},
     "source": [
      "v0.14 (soon to be released)"
     ]
    },
    {
     "cell_type": "markdown",
     "metadata": {},
     "source": [
      "* hexbin and pie plotting\n",
      "* table plotting\n",
      "* ``MultiIndex`` slicing\n",
      "* ``nlargest``/``nsmallest``"
     ]
    },
    {
     "cell_type": "heading",
     "level": 2,
     "metadata": {},
     "source": [
      "New Plotting Fun!"
     ]
    },
    {
     "cell_type": "heading",
     "level": 3,
     "metadata": {},
     "source": [
      "``hexbin``"
     ]
    },
    {
     "cell_type": "heading",
     "level": 3,
     "metadata": {},
     "source": [
      "``pie``"
     ]
    },
    {
     "cell_type": "heading",
     "level": 3,
     "metadata": {},
     "source": [
      "``table``"
     ]
    },
    {
     "cell_type": "heading",
     "level": 2,
     "metadata": {},
     "source": [
      "Prelude to `MultiIndex` slicing"
     ]
    },
    {
     "cell_type": "markdown",
     "metadata": {},
     "source": [
      "<img src=\"../img/biosemi.jpg\"/>"
     ]
    },
    {
     "cell_type": "markdown",
     "metadata": {},
     "source": [
      "<img src=\"../img/biosemi.png\"/>"
     ]
    },
    {
     "cell_type": "markdown",
     "metadata": {},
     "source": [
      "<img src=\"../img/biosemi_dataset.jpg\" />"
     ]
    },
    {
     "cell_type": "heading",
     "level": 2,
     "metadata": {},
     "source": [
      "``MultiIndex`` Slicing"
     ]
    },
    {
     "cell_type": "code",
     "collapsed": false,
     "input": [
      "def channel_index(name, nchannels):\n",
      "    return list(zip(np.repeat(name, nchannels), range(nchannels)))"
     ],
     "language": "python",
     "metadata": {},
     "outputs": []
    },
    {
     "cell_type": "code",
     "collapsed": false,
     "input": [
      "# add other channels"
     ],
     "language": "python",
     "metadata": {},
     "outputs": []
    },
    {
     "cell_type": "code",
     "collapsed": false,
     "input": [
      "# simulate our EEG data set\n",
      "\n",
      "fs = 256  # sampling rate\n",
      "neeg = 8  # number of EEG channels\n",
      "nex = 4  # number of auxiliary channels\n",
      "\n",
      "eeg_chan = channel_index('eeg', neeg)\n",
      "ex_chan = channel_index('ex', nex)\n",
      "\n",
      "disp(eeg_chan)\n",
      "columns = pd.MultiIndex.from_tuples(eeg_chan + ex_chan, names=['signal', 'channel'])\n",
      "\n",
      "# 10 seconds of fake data\n",
      "df = pd.DataFrame(np.random.randn(fs * 10, columns.labels[0].size), columns=columns)\n",
      "\n",
      "# add in some nans (e.g., a person moved around during these samples)\n",
      "df.loc[rand(len(df)) < 0.10, 'eeg'] = np.nan\n",
      "df.head()"
     ],
     "language": "python",
     "metadata": {},
     "outputs": []
    },
    {
     "cell_type": "code",
     "collapsed": false,
     "input": [
      "# simulate a stimulus marker\n",
      "df['stim'] = np.sort(randint(10, size=len(df)))\n",
      "df"
     ],
     "language": "python",
     "metadata": {},
     "outputs": []
    },
    {
     "cell_type": "code",
     "collapsed": false,
     "input": [
      "df.loc[:, np.s_[('ex', 'stim'), :]].head()"
     ],
     "language": "python",
     "metadata": {},
     "outputs": []
    },
    {
     "cell_type": "code",
     "collapsed": false,
     "input": [
      "# the EX and STIM channels where EEG channels 0 and 1 are not null\n",
      "row_idx = df.eeg[[0, 1]].notnull().all(axis=1)\n",
      "col_idx = np.s_[('ex', 'stim'), :]"
     ],
     "language": "python",
     "metadata": {},
     "outputs": []
    },
    {
     "cell_type": "code",
     "collapsed": false,
     "input": [
      "col_idx"
     ],
     "language": "python",
     "metadata": {},
     "outputs": []
    },
    {
     "cell_type": "code",
     "collapsed": false,
     "input": [
      "res = df.loc[row_idx, col_idx]\n",
      "res"
     ],
     "language": "python",
     "metadata": {},
     "outputs": []
    },
    {
     "cell_type": "code",
     "collapsed": false,
     "input": [
      "# use np.s_ to construct slices\n",
      "assert slice(None, 1000, 2) == np.s_[:1000:2]  # Which would you prefer?\n",
      "assert slice(900, None, -1) == np.s_[900::-1]"
     ],
     "language": "python",
     "metadata": {},
     "outputs": []
    },
    {
     "cell_type": "markdown",
     "metadata": {},
     "source": [
      "Think of the expression\n",
      "\n",
      "```python\n",
      "np.s_[('ex', 'stim'), :]\n",
      "```\n",
      "\n",
      "as saying select `'ex'` and `'stim'` from the first level of the `MultiIndex` and the `:` as saying give me all columns from the second level"
     ]
    },
    {
     "cell_type": "heading",
     "level": 2,
     "metadata": {},
     "source": [
      "``nlargest``/``nsmallest``"
     ]
    },
    {
     "cell_type": "heading",
     "level": 3,
     "metadata": {},
     "source": [
      "If $n << $ ``len(s)`` you'll see a performance improvement"
     ]
    },
    {
     "cell_type": "code",
     "collapsed": false,
     "input": [
      "s = Series(randn(1000000), name='a')"
     ],
     "language": "python",
     "metadata": {},
     "outputs": []
    },
    {
     "cell_type": "code",
     "collapsed": false,
     "input": [
      "a = %timeit -o s.nlargest(5) # 5 << 1,000,000\n",
      "b = %timeit -o s.order(ascending=False).head()\n",
      "print('nlargest is %.2gx faster than order + head' % (b.best / a.best))"
     ],
     "language": "python",
     "metadata": {},
     "outputs": []
    },
    {
     "cell_type": "code",
     "collapsed": false,
     "input": [
      "a = %timeit -o s.nsmallest(5)\n",
      "b = %timeit -o s.order().head()\n",
      "print('nsmallest is %.2gx faster than order + head' % (b.best / a.best))"
     ],
     "language": "python",
     "metadata": {},
     "outputs": []
    },
    {
     "cell_type": "markdown",
     "metadata": {},
     "source": [
      "### \"Hidden\" methods\n",
      "\n",
      "\n",
      "Well, okay, they *are* public as per Python convention, but I don't find myself calling them that often."
     ]
    },
    {
     "cell_type": "code",
     "collapsed": false,
     "input": [
      "df = DataFrame(randn(10, 2), columns=list('ab'))"
     ],
     "language": "python",
     "metadata": {},
     "outputs": []
    },
    {
     "cell_type": "heading",
     "level": 3,
     "metadata": {},
     "source": [
      "``align``"
     ]
    },
    {
     "cell_type": "heading",
     "level": 3,
     "metadata": {},
     "source": [
      "Not that complex, and useful"
     ]
    },
    {
     "cell_type": "code",
     "collapsed": false,
     "input": [
      "df = DataFrame({'a': randn(10)})\n",
      "s = Series(randn(20), name='b')\n",
      "new_df, new_s = df.align(s, axis=0)"
     ],
     "language": "python",
     "metadata": {},
     "outputs": []
    },
    {
     "cell_type": "code",
     "collapsed": false,
     "input": [
      "new_df"
     ],
     "language": "python",
     "metadata": {},
     "outputs": []
    },
    {
     "cell_type": "code",
     "collapsed": false,
     "input": [
      "new_s"
     ],
     "language": "python",
     "metadata": {},
     "outputs": []
    },
    {
     "cell_type": "heading",
     "level": 3,
     "metadata": {},
     "source": [
      "``reindex`` and friends"
     ]
    },
    {
     "cell_type": "heading",
     "level": 4,
     "metadata": {},
     "source": [
      "``reindex``"
     ]
    },
    {
     "cell_type": "heading",
     "level": 4,
     "metadata": {},
     "source": [
      "``reindex_like``"
     ]
    },
    {
     "cell_type": "heading",
     "level": 3,
     "metadata": {},
     "source": [
      "``between_time``"
     ]
    },
    {
     "cell_type": "heading",
     "level": 3,
     "metadata": {},
     "source": [
      "``at_time``"
     ]
    },
    {
     "cell_type": "heading",
     "level": 3,
     "metadata": {},
     "source": [
      "``combine``"
     ]
    }
   ],
   "metadata": {}
  }
 ]
}