{
 "metadata": {
  "name": "",
  "signature": "sha256:8a81e615c722e2976e4e941803e7386324a0866a5506c39a1484d591f127f6bc"
 },
 "nbformat": 3,
 "nbformat_minor": 0,
 "worksheets": [
  {
   "cells": [
    {
     "cell_type": "heading",
     "level": 2,
     "metadata": {},
     "source": [
      "Back: [Whirl-torial](Whirl-torial.ipynb)"
     ]
    },
    {
     "cell_type": "code",
     "collapsed": false,
     "input": [
      "from IPython.core.display import HTML\n",
      "with open(\"../css/css.css\", \"r\") as f:\n",
      "    styles = f.read()\n",
      "HTML(styles)"
     ],
     "language": "python",
     "metadata": {},
     "outputs": [
      {
       "html": [
        "<link href='http://fonts.googleapis.com/css?family=Source+Code+Pro' rel='stylesheet' type='text/css'>\n",
        "<link href='http://fonts.googleapis.com/css?family=Raleway' rel='stylesheet' type='text/css'>\n",
        "<style>\n",
        "/*\n",
        "Rob's custom notebook CSS\n",
        "*/\n",
        "\n",
        "/*Fonts*/\n",
        "\n",
        "\n",
        "/*\n",
        "\n",
        "    Name:       Base16 Ocean Dark\n",
        "    Author:     Chris Kempson (http://chriskempson.com)\n",
        "\n",
        "    CodeMirror template adapted for IPython Notebook by Nikhil Sonnad (https://github.com/nsonnad/base16-ipython-notebook)\n",
        "    CodeMirror template by Jan T. Sott (https://github.com/idleberg/base16-chrome-devtools)\n",
        "    Original Base16 color scheme by Chris Kempson (https://github.com/chriskempson/base16)\n",
        "\n",
        "*/\n",
        "\n",
        "/* Uncomment to use a custom font\n",
        "div#notebook, div.CodeMirror, div.output_area pre, div.output_wrapper, div.prompt {\n",
        "  font-family: 'Custom Font Name', monospace !important;\n",
        "}\n",
        "*/\n",
        "body {\n",
        "    font-family: 'Raleway', sans-serif;\n",
        "}\n",
        "\n",
        ".rendered_html pre, .rendered_html code {\n",
        "    background-color: #2b303b;\n",
        "    color: #8fb1bf;\n",
        "    font-weight: bold:\n",
        "}\n",
        "\n",
        "\n",
        ".rendered_html table, .rendered_html th, .rendered_html tr, .rendered_html td {\n",
        "border: 1px #4f5b66 solid;\n",
        "white-space: nowrap;\n",
        "}\n",
        ".rendered_html thead {\n",
        "background-color: #43515c;\n",
        "color: white;\n",
        "}\n",
        ".rendered_html th {font-weight: bold;}\n",
        "table.dataframe tr {border: 1px #4f5b66;}\n",
        "\n",
        "/* GLOBALS */\n",
        "body {background-color: #2b303b;}\n",
        "a {color: #8fa1b3;}\n",
        "\n",
        "/* INTRO PAGE */\n",
        ".toolbar_info, .list_container {color: #dfe1e8;}\n",
        "\n",
        "/* NOTEBOOK */\n",
        "\n",
        "/* comment out this line to bring the toolbar back */\n",
        "div#maintoolbar, div#header {display: none !important;}\n",
        "\n",
        "div#notebook {border-top: none;}\n",
        "\n",
        "div.input_prompt {color: #ab7967;}\n",
        "div.output_prompt {color: #b48ead;}\n",
        "div.input_area {\n",
        "\n",
        "  font-size: 16px !important;\n",
        "  border-radius: 0px;\n",
        "  border: 1px solid #4f5b66;\n",
        "}\n",
        "div.output_area pre {font-weight: normal; color: #c0c5ce;}\n",
        "\n",
        ".rendered_html table, .rendered_html th, .rendered_html tr, .rendered_html td {\n",
        "  border: 1px  #c0c5ce solid;\n",
        "  color: #c0c5ce;\n",
        "}\n",
        "div.output_html { font-family: sans-serif; }\n",
        "table.dataframe tr {border: 1px #c0c5ce;}\n",
        "\n",
        "div.cell.selected {border-radius: 0px;}\n",
        "div.cell.edit_mode {border-radius: 0px; border: thin solid #b48ead;}\n",
        "div.text_cell_render, div.output_html {color: #c0c5ce;}\n",
        "\n",
        "span.ansiblack {color: #343d46;}\n",
        "span.ansiblue {color: #96b5b4;}\n",
        "span.ansigray {color: #a7adba;}\n",
        "span.ansigreen {color: #a3be8c;}\n",
        "span.ansipurple {color: #b48ead;}\n",
        "span.ansired {color: #bf616a;}\n",
        "span.ansiyellow {color: #ebcb8b;}\n",
        "\n",
        "div.output_stderr {background-color: #bf616a;}\n",
        "div.output_stderr pre {color: #dfe1e8;}\n",
        "\n",
        ".cm-s-ipython.CodeMirror {background: #2b303b; color: #dfe1e8;}\n",
        ".cm-s-ipython div.CodeMirror-selected {background: #343d46 !important;}\n",
        ".cm-s-ipython .CodeMirror-gutters {background: #2b303b; border-right: 0px;}\n",
        ".cm-s-ipython .CodeMirror-linenumber {color: #65737e;}\n",
        ".cm-s-ipython .CodeMirror-cursor {border-left: 1px solid #a7adba !important;}\n",
        "\n",
        ".cm-s-ipython span.cm-comment {color: #ab7967;}\n",
        ".cm-s-ipython span.cm-atom {color: #b48ead;}\n",
        ".cm-s-ipython span.cm-number {color: #b48ead;}\n",
        "\n",
        ".cm-s-ipython span.cm-property, .cm-s-ipython span.cm-attribute {color: #a3be8c;}\n",
        ".cm-s-ipython span.cm-keyword {color: #bf616a;}\n",
        ".cm-s-ipython span.cm-string {color: #ebcb8b;}\n",
        ".cm-s-ipython span.cm-operator {color: #ab7967;}\n",
        ".cm-s-ipython span.cm-builtin {color: #b48ead;}\n",
        "\n",
        ".cm-s-ipython span.cm-variable {color: #a3be8c;}\n",
        ".cm-s-ipython span.cm-variable-2 {color: #8fa1b3;}\n",
        ".cm-s-ipython span.cm-def {color: #d08770;}\n",
        ".cm-s-ipython span.cm-error {background: #bf616a; color: #a7adba;}\n",
        ".cm-s-ipython span.cm-bracket {color: #c0c5ce;}\n",
        ".cm-s-ipython span.cm-tag {color: #bf616a;}\n",
        ".cm-s-ipython span.cm-link {color: #b48ead;}\n",
        "\n",
        ".cm-s-ipython .CodeMirror-matchingbracket { text-decoration: underline; color: #dfe1e8 !important;}\n",
        "</style>\n"
       ],
       "metadata": {},
       "output_type": "pyout",
       "prompt_number": 28,
       "text": [
        "<IPython.core.display.HTML object>"
       ]
      }
     ],
     "prompt_number": 28
    },
    {
     "cell_type": "code",
     "collapsed": false,
     "input": [
      "%matplotlib inline"
     ],
     "language": "python",
     "metadata": {},
     "outputs": [],
     "prompt_number": 29
    },
    {
     "cell_type": "code",
     "collapsed": false,
     "input": [
      "from IPython.display import display as disp, Audio\n",
      "\n",
      "import os\n",
      "import operator\n",
      "import sh\n",
      "import json\n",
      "\n",
      "import matplotlib.pyplot as plt\n",
      "\n",
      "import numpy as np\n",
      "from numpy.random import randn, randint, rand, choice\n",
      "\n",
      "import pandas as pd\n",
      "from pandas import DataFrame, Series, Index"
     ],
     "language": "python",
     "metadata": {},
     "outputs": [],
     "prompt_number": 30
    },
    {
     "cell_type": "heading",
     "level": 1,
     "metadata": {},
     "source": [
      "New Features since v0.11.0"
     ]
    },
    {
     "cell_type": "heading",
     "level": 2,
     "metadata": {},
     "source": [
      "(or Interactive Release Notes)"
     ]
    },
    {
     "cell_type": "heading",
     "level": 1,
     "metadata": {},
     "source": [
      "v0.11"
     ]
    },
    {
     "cell_type": "markdown",
     "metadata": {},
     "source": [
      "* indexers ``loc``/``at``, ``iloc``/``iat``\n",
      "* all dtypes allowed\n",
      "* now we use [``numexpr``](https://github.com/pydata/numexpr) to evaluate arithmetic expressions where possible (with objects whose ``len`` is `>` 10k elements)\n",
      "* [``to_series()``](http://pandas.pydata.org/pandas-docs/stable/generated/pandas.Index.to_series.html#pandas.Index.to_series) for ``Index`` objects"
     ]
    },
    {
     "cell_type": "heading",
     "level": 1,
     "metadata": {},
     "source": [
      "v0.12"
     ]
    },
    {
     "cell_type": "markdown",
     "metadata": {},
     "source": [
      "* [``read_html``](http://pandas.pydata.org/pandas-docs/stable/generated/pandas.read_html.html#pandas.read_html)\n",
      "* [``read_json``](http://pandas.pydata.org/pandas-docs/stable/generated/pandas.read_json.html#pandas.read_json)\n",
      "* [``read_stata``](http://pandas.pydata.org/pandas-docs/stable/generated/pandas.read_stata.html#pandas.read_stata)\n",
      "* [``read_csv``](http://pandas.pydata.org/pandas-docs/stable/generated/pandas.read_csv.html#pandas.read_csv) accepts S3 URLs\n",
      "* ``str`` iteration\n",
      "* ``MultiIndex`` column reading and writing in ``read_csv``\n",
      "* ``GroupBy.filter()``"
     ]
    },
    {
     "cell_type": "heading",
     "level": 2,
     "metadata": {},
     "source": [
      "``to_series()``"
     ]
    },
    {
     "cell_type": "code",
     "collapsed": false,
     "input": [
      "index = Index(np.arange(10))\n",
      "index"
     ],
     "language": "python",
     "metadata": {},
     "outputs": [
      {
       "metadata": {},
       "output_type": "pyout",
       "prompt_number": 35,
       "text": [
        "Int64Index([0, 1, 2, 3, 4, 5, 6, 7, 8, 9], dtype='int64')"
       ]
      }
     ],
     "prompt_number": 35
    },
    {
     "cell_type": "code",
     "collapsed": false,
     "input": [
      "index.to_series()"
     ],
     "language": "python",
     "metadata": {},
     "outputs": [
      {
       "metadata": {},
       "output_type": "pyout",
       "prompt_number": 38,
       "text": [
        "0    0\n",
        "1    1\n",
        "2    2\n",
        "3    3\n",
        "4    4\n",
        "5    5\n",
        "6    6\n",
        "7    7\n",
        "8    8\n",
        "9    9\n",
        "dtype: int64"
       ]
      }
     ],
     "prompt_number": 38
    },
    {
     "cell_type": "code",
     "collapsed": false,
     "input": [
      "Index(list('abcde')).to_series()"
     ],
     "language": "python",
     "metadata": {},
     "outputs": [
      {
       "metadata": {},
       "output_type": "pyout",
       "prompt_number": 39,
       "text": [
        "a    a\n",
        "b    b\n",
        "c    c\n",
        "d    d\n",
        "e    e\n",
        "dtype: object"
       ]
      }
     ],
     "prompt_number": 39
    },
    {
     "cell_type": "code",
     "collapsed": false,
     "input": [
      "index = pd.date_range('now', periods=5, freq='D')\n",
      "index.to_series()"
     ],
     "language": "python",
     "metadata": {},
     "outputs": [
      {
       "metadata": {},
       "output_type": "pyout",
       "prompt_number": 40,
       "text": [
        "2014-05-25 03:27:06   2014-05-25 03:27:06\n",
        "2014-05-26 03:27:06   2014-05-26 03:27:06\n",
        "2014-05-27 03:27:06   2014-05-27 03:27:06\n",
        "2014-05-28 03:27:06   2014-05-28 03:27:06\n",
        "2014-05-29 03:27:06   2014-05-29 03:27:06\n",
        "Freq: D, dtype: datetime64[ns]"
       ]
      }
     ],
     "prompt_number": 40
    },
    {
     "cell_type": "heading",
     "level": 2,
     "metadata": {},
     "source": [
      "[``read_html``](http://pandas.pydata.org/pandas-docs/stable/generated/pandas.io.html.read_html.html#pandas.io.html.read_html)"
     ]
    },
    {
     "cell_type": "code",
     "collapsed": false,
     "input": [
      "url = 'http://www.fdic.gov/bank/individual/failed/banklist.html'\n",
      "dfs = pd.read_html(url)\n",
      "df = dfs.pop()"
     ],
     "language": "python",
     "metadata": {},
     "outputs": []
    },
    {
     "cell_type": "code",
     "collapsed": false,
     "input": [
      "pd.read_html(url, match=r'.+')"
     ],
     "language": "python",
     "metadata": {},
     "outputs": []
    },
    {
     "cell_type": "heading",
     "level": 2,
     "metadata": {},
     "source": [
      "``read_csv`` with S3"
     ]
    },
    {
     "cell_type": "code",
     "collapsed": false,
     "input": [
      "# you need the boto library to use this\n",
      "\n",
      "# URL is s3://<bucket>/<key1>/.../<keyN>\n",
      "tips = pd.read_csv('s3://nypug/tips.csv')\n",
      "tips.head()"
     ],
     "language": "python",
     "metadata": {},
     "outputs": []
    },
    {
     "cell_type": "heading",
     "level": 2,
     "metadata": {},
     "source": [
      "[``read_json``](http://pandas.pydata.org/pandas-docs/stable/io.html#io-json-reader) (simple)"
     ]
    },
    {
     "cell_type": "code",
     "collapsed": false,
     "input": [
      "%%writefile data.json\n",
      "{\n",
      "    \"name\": [\"Bob Jones\", \"Karen Smith\"],\n",
      "    \"age\": [28, 26],\n",
      "    \"gender\": [\"M\", \"F\"]\n",
      "}"
     ],
     "language": "python",
     "metadata": {},
     "outputs": []
    },
    {
     "cell_type": "code",
     "collapsed": false,
     "input": [
      "pd.read_json('data.json')  # no problemo"
     ],
     "language": "python",
     "metadata": {},
     "outputs": []
    },
    {
     "cell_type": "code",
     "collapsed": true,
     "input": [
      "# can also use keys as the rows instead of columns\n",
      "pd.read_json('data.json', orient='index')"
     ],
     "language": "python",
     "metadata": {},
     "outputs": []
    },
    {
     "cell_type": "code",
     "collapsed": false,
     "input": [
      "%%writefile data.json\n",
      "{\n",
      "    \"region\": {\n",
      "        \"Canada\": {\n",
      "            \"name\": \"Bob Jones\",\n",
      "            \"age\": 28,\n",
      "            \"gender\": \"M\"\n",
      "        },\n",
      "        \"USA\": {\n",
      "            \"name\": \"Karen Smith\",\n",
      "            \"age\": 26,\n",
      "            \"gender\": \"F\"\n",
      "        }\n",
      "    }\n",
      "}"
     ],
     "language": "python",
     "metadata": {},
     "outputs": []
    },
    {
     "cell_type": "code",
     "collapsed": false,
     "input": [
      "disp(pd.read_json('data.json', orient='records'))\n",
      "disp(Audio(os.path.join(os.pardir, 'mp3', 'w.mp3'), autoplay=True))"
     ],
     "language": "python",
     "metadata": {},
     "outputs": [
      {
       "ename": "NameError",
       "evalue": "name 'disp' is not defined",
       "output_type": "pyerr",
       "traceback": [
        "\u001b[1;31m---------------------------------------------------------------------------\u001b[0m\n\u001b[1;31mNameError\u001b[0m                                 Traceback (most recent call last)",
        "\u001b[1;32m<ipython-input-1-b5a2064683fc>\u001b[0m in \u001b[0;36m<module>\u001b[1;34m()\u001b[0m\n\u001b[1;32m----> 1\u001b[1;33m \u001b[0mdisp\u001b[0m\u001b[1;33m(\u001b[0m\u001b[0mpd\u001b[0m\u001b[1;33m.\u001b[0m\u001b[0mread_json\u001b[0m\u001b[1;33m(\u001b[0m\u001b[1;34m'data.json'\u001b[0m\u001b[1;33m,\u001b[0m \u001b[0morient\u001b[0m\u001b[1;33m=\u001b[0m\u001b[1;34m'records'\u001b[0m\u001b[1;33m)\u001b[0m\u001b[1;33m)\u001b[0m\u001b[1;33m\u001b[0m\u001b[0m\n\u001b[0m\u001b[0;32m      2\u001b[0m \u001b[0mdisp\u001b[0m\u001b[1;33m(\u001b[0m\u001b[0mAudio\u001b[0m\u001b[1;33m(\u001b[0m\u001b[0mos\u001b[0m\u001b[1;33m.\u001b[0m\u001b[0mpath\u001b[0m\u001b[1;33m.\u001b[0m\u001b[0mjoin\u001b[0m\u001b[1;33m(\u001b[0m\u001b[0mos\u001b[0m\u001b[1;33m.\u001b[0m\u001b[0mpardir\u001b[0m\u001b[1;33m,\u001b[0m \u001b[1;34m'mp3'\u001b[0m\u001b[1;33m,\u001b[0m \u001b[1;34m'w.mp3'\u001b[0m\u001b[1;33m)\u001b[0m\u001b[1;33m,\u001b[0m \u001b[0mautoplay\u001b[0m\u001b[1;33m=\u001b[0m\u001b[0mTrue\u001b[0m\u001b[1;33m)\u001b[0m\u001b[1;33m)\u001b[0m\u001b[1;33m\u001b[0m\u001b[0m\n",
        "\u001b[1;31mNameError\u001b[0m: name 'disp' is not defined"
       ]
      }
     ],
     "prompt_number": 1
    },
    {
     "cell_type": "heading",
     "level": 2,
     "metadata": {},
     "source": [
      "``read_json`` (not so simple)"
     ]
    },
    {
     "cell_type": "heading",
     "level": 3,
     "metadata": {},
     "source": [
      "pandas plays nicely with other libraries"
     ]
    },
    {
     "cell_type": "code",
     "collapsed": false,
     "input": [
      "jq = sh.jq.bake('-M')  # -M disables colorizing"
     ],
     "language": "python",
     "metadata": {},
     "outputs": []
    },
    {
     "cell_type": "code",
     "collapsed": false,
     "input": [
      "with open('data.json', 'r') as f:\n",
      "    data = f.read()"
     ],
     "language": "python",
     "metadata": {},
     "outputs": []
    },
    {
     "cell_type": "code",
     "collapsed": false,
     "input": [
      "rule = \"(.region)\"  # this rule is essentially data[\"region\"]\n",
      "out = jq(rule, _in=data).stdout\n",
      "res = pd.read_json(out, orient='columns')\n",
      "res"
     ],
     "language": "python",
     "metadata": {},
     "outputs": []
    },
    {
     "cell_type": "code",
     "collapsed": false,
     "input": [
      "# avoid read_json entirely :)\n",
      "df = DataFrame(json.loads(data)[\"region\"])\n",
      "df"
     ],
     "language": "python",
     "metadata": {},
     "outputs": []
    },
    {
     "cell_type": "heading",
     "level": 2,
     "metadata": {},
     "source": [
      "Let's try something a bit hairier..."
     ]
    },
    {
     "cell_type": "heading",
     "level": 4,
     "metadata": {},
     "source": [
      "adapted from [this StackOverflow question](http://stackoverflow.com/q/21494030/564538)"
     ]
    },
    {
     "cell_type": "code",
     "collapsed": false,
     "input": [
      "%%writefile data.json\n",
      "{\n",
      "  \"intervals\": [\n",
      "    {\n",
      "      \"pivots\": \"Jane Smith\",\n",
      "      \"series\": [\n",
      "        {\n",
      "          \"interval_id\": 0,\n",
      "          \"p_value\": 1\n",
      "        },\n",
      "        {\n",
      "          \"interval_id\": 1,\n",
      "          \"p_value\": 1.1162791357932633e-8\n",
      "        },\n",
      "        {\n",
      "          \"interval_id\": 2,\n",
      "          \"p_value\": 0.0000028675012051504467\n",
      "        }\n",
      "      ]\n",
      "    },\n",
      "    {\n",
      "      \"pivots\": \"Bob Smith\",\n",
      "      \"series\": [\n",
      "        {\n",
      "          \"interval_id\": 0,\n",
      "          \"p_value\": 1\n",
      "        },\n",
      "        {\n",
      "          \"interval_id\": 1,\n",
      "          \"p_value\": 1.1162791357932633e-8\n",
      "        },\n",
      "        {\n",
      "          \"interval_id\": 2,\n",
      "          \"p_value\": 0.0000028675012051504467\n",
      "        }\n",
      "      ]\n",
      "    }\n",
      "  ]\n",
      "}"
     ],
     "language": "python",
     "metadata": {},
     "outputs": []
    },
    {
     "cell_type": "code",
     "collapsed": false,
     "input": [
      "with open('data.json', 'r') as f:\n",
      "    data = f.read()\n",
      "\n",
      "# check out http://stedolan.github.io/jq/manual for more details on these rules\n",
      "rule = \"\"\"[{pivots: .intervals[].pivots,\n",
      "            interval_id: .intervals[].series[].interval_id,\n",
      "            p_value: .intervals[].series[].p_value}] | unique\"\"\"\n",
      "out = jq(rule, _in=data).stdout\n",
      "js = json.loads(out)"
     ],
     "language": "python",
     "metadata": {},
     "outputs": []
    },
    {
     "cell_type": "code",
     "collapsed": false,
     "input": [
      "js[:2]"
     ],
     "language": "python",
     "metadata": {},
     "outputs": []
    },
    {
     "cell_type": "code",
     "collapsed": false,
     "input": [
      "res = pd.read_json(out)"
     ],
     "language": "python",
     "metadata": {},
     "outputs": []
    },
    {
     "cell_type": "code",
     "collapsed": false,
     "input": [
      "with pd.option_context('display.max_rows', 8):\n",
      "    disp(res)"
     ],
     "language": "python",
     "metadata": {},
     "outputs": []
    },
    {
     "cell_type": "code",
     "collapsed": false,
     "input": [
      "res.dtypes"
     ],
     "language": "python",
     "metadata": {},
     "outputs": []
    },
    {
     "cell_type": "heading",
     "level": 1,
     "metadata": {},
     "source": [
      "v0.13"
     ]
    },
    {
     "cell_type": "markdown",
     "metadata": {},
     "source": [
      "* ``DataFrame.isin()``\n",
      "* [``str.extract()``](http://pandas.pydata.org/pandas-docs/stable/generated/pandas.core.strings.StringMethods.extract.html#pandas.core.strings.StringMethods.extract)\n",
      "* ``GroupBy.cumcount()``\n",
      "* [``to_csv``](http://pandas.pydata.org/pandas-docs/stable/generated/pandas.DataFrame.to_csv.html#pandas.DataFrame.to_csv) `date_format` keyword argument"
     ]
    },
    {
     "cell_type": "code",
     "collapsed": false,
     "input": [
      "n = 5\n",
      "df = DataFrame({'a': randint(3, size=n), 'b': rand(n)})\n",
      "df2 = DataFrame({'a': randint(4, size=n),\n",
      "                 'b': df.b + (rand(n) > 0.5).astype('f8')})"
     ],
     "language": "python",
     "metadata": {},
     "outputs": []
    },
    {
     "cell_type": "code",
     "collapsed": false,
     "input": [
      "df"
     ],
     "language": "python",
     "metadata": {},
     "outputs": []
    },
    {
     "cell_type": "code",
     "collapsed": false,
     "input": [
      "df2"
     ],
     "language": "python",
     "metadata": {},
     "outputs": []
    },
    {
     "cell_type": "code",
     "collapsed": false,
     "input": [
      "df.isin({'a': [1]})"
     ],
     "language": "python",
     "metadata": {},
     "outputs": []
    },
    {
     "cell_type": "heading",
     "level": 3,
     "metadata": {},
     "source": [
      "``str.extract()``"
     ]
    },
    {
     "cell_type": "code",
     "collapsed": false,
     "input": [
      "# create some extractable data\n",
      "n = 10\n",
      "nums = randint(n // 2, size=n).astype('S1')\n",
      "names = choice(list('abcde'), size=n)"
     ],
     "language": "python",
     "metadata": {},
     "outputs": []
    },
    {
     "cell_type": "code",
     "collapsed": false,
     "input": [
      "nums"
     ],
     "language": "python",
     "metadata": {},
     "outputs": []
    },
    {
     "cell_type": "code",
     "collapsed": false,
     "input": [
      "names"
     ],
     "language": "python",
     "metadata": {},
     "outputs": []
    },
    {
     "cell_type": "code",
     "collapsed": false,
     "input": [
      "s = Series(list(map(operator.add, nums, names)))\n",
      "s"
     ],
     "language": "python",
     "metadata": {},
     "outputs": []
    },
    {
     "cell_type": "code",
     "collapsed": false,
     "input": [
      "ext = s.str.extract(r'(?P<num>\\d)(?P<letr>[a-z])')\n",
      "ext.dtypes"
     ],
     "language": "python",
     "metadata": {},
     "outputs": []
    },
    {
     "cell_type": "code",
     "collapsed": false,
     "input": [
      "ext = ext.convert_objects(convert_numeric=True)\n",
      "disp(ext.dtypes)\n",
      "ext"
     ],
     "language": "python",
     "metadata": {},
     "outputs": []
    },
    {
     "cell_type": "heading",
     "level": 3,
     "metadata": {},
     "source": [
      "v0.13 Experimental Features"
     ]
    },
    {
     "cell_type": "markdown",
     "metadata": {},
     "source": [
      "* ``query``/``eval``\n",
      "* msgpack IO\n",
      "* Google BigQuery IO"
     ]
    },
    {
     "cell_type": "heading",
     "level": 3,
     "metadata": {},
     "source": [
      "[``query``](http://pandas.pydata.org/pandas-docs/stable/generated/pandas.DataFrame.query.html#pandas.DataFrame.query)/[``eval``](http://pandas.pydata.org/pandas-docs/stable/generated/pandas.DataFrame.eval.html#pandas.DataFrame.eval)"
     ]
    },
    {
     "cell_type": "code",
     "collapsed": true,
     "input": [
      "n = 1e7\n",
      "df = DataFrame({'a': randint(10, size=n),\n",
      "                'b': rand(n),\n",
      "                'c': rand(n)})\n",
      "df.join(DataFrame(randn(n, 40)))\n",
      "df.head()"
     ],
     "language": "python",
     "metadata": {},
     "outputs": []
    },
    {
     "cell_type": "code",
     "collapsed": false,
     "input": [
      "df.query('1 <= a <= 5 and 0.1 < b < 0.4 and 0.5 <= c <= 0.95').head()"
     ],
     "language": "python",
     "metadata": {},
     "outputs": []
    },
    {
     "cell_type": "code",
     "collapsed": false,
     "input": [
      "qtime = %timeit -o df.query('1 <= a <= 5 and 0.1 < b < 0.4 and 0.5 <= c <= 0.95')\n",
      "pytime = %timeit -o df.loc[(1 <= df.a) & (df.a <= 5) & (0.1 <= df.b) & (df.b <= 0.4) & (0.5 <= df.c) & (df.c <= 0.9)]\n",
      "\n",
      "print('query is %.2gx faster than pure Python' % (pytime.best / qtime.best))"
     ],
     "language": "python",
     "metadata": {},
     "outputs": []
    },
    {
     "cell_type": "code",
     "collapsed": false,
     "input": [
      "A, B, C, D = (DataFrame(randn(n, 10)) for _ in range(4))"
     ],
     "language": "python",
     "metadata": {},
     "outputs": []
    },
    {
     "cell_type": "code",
     "collapsed": false,
     "input": [
      "qtime = %timeit -o pd.eval('A + B * 2 + C / D ** 3 * B / C + A ** 10 < A ** 5')\n",
      "pytime = %timeit -o A + B * 2 + C / D ** 3 * B / C + A ** 10 < A ** 5\n",
      "print('query is %.2gx faster than pure Python' % (pytime.best / qtime.best))"
     ],
     "language": "python",
     "metadata": {},
     "outputs": []
    },
    {
     "cell_type": "code",
     "collapsed": false,
     "input": [
      "a = rand()\n",
      "df.query('a <= @a <= b')"
     ],
     "language": "python",
     "metadata": {},
     "outputs": []
    },
    {
     "cell_type": "code",
     "collapsed": true,
     "input": [
      "df = DataFrame(randn(1000, 2), columns=list('ab'))\n",
      "s = Series(randn(500))\n",
      "x = df.a + s\n",
      "y = df.eval('a + @s')\n",
      "y"
     ],
     "language": "python",
     "metadata": {},
     "outputs": []
    },
    {
     "cell_type": "code",
     "collapsed": false,
     "input": [
      "pd.util.testing.assert_series_equal(x, y)"
     ],
     "language": "python",
     "metadata": {},
     "outputs": []
    },
    {
     "cell_type": "code",
     "collapsed": false,
     "input": [
      "r = pd.eval('df.T + s')\n",
      "f = df.T + s\n",
      "f"
     ],
     "language": "python",
     "metadata": {},
     "outputs": []
    },
    {
     "cell_type": "code",
     "collapsed": false,
     "input": [
      "pd.util.testing.assert_frame_equal(r, f)"
     ],
     "language": "python",
     "metadata": {},
     "outputs": []
    },
    {
     "cell_type": "heading",
     "level": 3,
     "metadata": {},
     "source": [
      "[``MessagePack``](http://msgpack.org/) IO (``to_msgpack``/``read_msgpack``)"
     ]
    },
    {
     "cell_type": "heading",
     "level": 4,
     "metadata": {},
     "source": [
      "MessagePack is like JSON but smaller and it's a binary format. Support for this is very experimental."
     ]
    },
    {
     "cell_type": "code",
     "collapsed": false,
     "input": [
      "df = df.head(10)"
     ],
     "language": "python",
     "metadata": {},
     "outputs": []
    },
    {
     "cell_type": "code",
     "collapsed": false,
     "input": [
      "df.to_msgpack()"
     ],
     "language": "python",
     "metadata": {},
     "outputs": []
    },
    {
     "cell_type": "code",
     "collapsed": false,
     "input": [
      "ls"
     ],
     "language": "python",
     "metadata": {},
     "outputs": []
    },
    {
     "cell_type": "code",
     "collapsed": false,
     "input": [
      "pd.to_msgpack(['yep', 'a', 'list'])"
     ],
     "language": "python",
     "metadata": {},
     "outputs": []
    },
    {
     "cell_type": "heading",
     "level": 3,
     "metadata": {},
     "source": [
      "Google BigQuery IO"
     ]
    },
    {
     "cell_type": "markdown",
     "metadata": {},
     "source": [
      "You need to\n",
      "\n",
      "```sh\n",
      "pip install bigquery\n",
      "```\n",
      "\n",
      "as well as set up a Google BigQuery account before this will work\n",
      "\n",
      "I'm using data from [here](https://bigquery.cloud.google.com/table/publicdata:samples.github_timeline)"
     ]
    },
    {
     "cell_type": "code",
     "collapsed": false,
     "input": [
      "query = \"\"\"SELECT payload_pull_request_additions, payload_pull_request_created_at\n",
      "           FROM [publicdata:samples.github_timeline] \n",
      "           WHERE repository_name = 'pandas'\"\"\""
     ],
     "language": "python",
     "metadata": {},
     "outputs": []
    },
    {
     "cell_type": "code",
     "collapsed": false,
     "input": [
      "res = pd.read_gbq(query, project_id='metal-lantern-572')"
     ],
     "language": "python",
     "metadata": {},
     "outputs": []
    },
    {
     "cell_type": "code",
     "collapsed": false,
     "input": [
      "res['payload_pull_request_created_at'] = pd.to_datetime(res.payload_pull_request_created_at)"
     ],
     "language": "python",
     "metadata": {},
     "outputs": []
    },
    {
     "cell_type": "code",
     "collapsed": false,
     "input": [
      "res = res.set_index('payload_pull_request_created_at').sort_index()"
     ],
     "language": "python",
     "metadata": {},
     "outputs": []
    },
    {
     "cell_type": "code",
     "collapsed": false,
     "input": [
      "def prettify_labels(ax):\n",
      "    ax.get_figure().autofmt_xdate()\n",
      "    ax.tick_params(labelcolor='w')\n",
      "    ax.set_ylabel('Count', color='w')\n",
      "    ax.set_xlabel(ax.get_xlabel(), color='w')\n",
      "    ax.set_xticklabels(list(map(lambda x: x.get_text().replace(' 00:00:00', ''), ax.get_xticklabels())))"
     ],
     "language": "python",
     "metadata": {},
     "outputs": []
    },
    {
     "cell_type": "code",
     "collapsed": false,
     "input": [
      "_, ax = plt.subplots(figsize=(16, 9))\n",
      "r = res.payload_pull_request_additions.dropna().resample('B', how='sum')\n",
      "r.plot(kind='bar', ax=ax)\n",
      "prettify_labels(ax)\n",
      "ax.set_title('Commits from %s to %s' % tuple(r.index[[0, -1]].date), color='w')"
     ],
     "language": "python",
     "metadata": {},
     "outputs": []
    },
    {
     "cell_type": "heading",
     "level": 3,
     "metadata": {},
     "source": [
      "Non user facing but worth mentioning:"
     ]
    },
    {
     "cell_type": "heading",
     "level": 4,
     "metadata": {},
     "source": [
      "Jeff Reback's epic refactor of ``Series`` to use composition instead of inheriting from ``numpy.ndarray``. Bravo!"
     ]
    },
    {
     "cell_type": "heading",
     "level": 1,
     "metadata": {},
     "source": [
      "v0.14 (soon to be released)"
     ]
    },
    {
     "cell_type": "markdown",
     "metadata": {},
     "source": [
      "* ``Index(tuples)`` now makes a ``MultiIndex``\n",
      "* hexbin and pie plotting\n",
      "* table plotting\n",
      "* ``MultiIndex`` slicing\n",
      "* ``nlargest``/``nsmallest``"
     ]
    },
    {
     "cell_type": "heading",
     "level": 2,
     "metadata": {},
     "source": [
      "New Plotting Fun!"
     ]
    },
    {
     "cell_type": "heading",
     "level": 3,
     "metadata": {},
     "source": [
      "``hexbin``"
     ]
    },
    {
     "cell_type": "heading",
     "level": 3,
     "metadata": {},
     "source": [
      "``pie``"
     ]
    },
    {
     "cell_type": "heading",
     "level": 3,
     "metadata": {},
     "source": [
      "``table``"
     ]
    },
    {
     "cell_type": "heading",
     "level": 2,
     "metadata": {},
     "source": [
      "Prelude to `MultiIndex` slicing"
     ]
    },
    {
     "cell_type": "markdown",
     "metadata": {},
     "source": [
      "<img src=\"../img/biosemi.jpg\"/>"
     ]
    },
    {
     "cell_type": "markdown",
     "metadata": {},
     "source": [
      "<img src=\"../img/biosemi.png\"/>"
     ]
    },
    {
     "cell_type": "markdown",
     "metadata": {},
     "source": [
      "<img src=\"../img/biosemi_dataset.jpg\" />"
     ]
    },
    {
     "cell_type": "heading",
     "level": 2,
     "metadata": {},
     "source": [
      "``MultiIndex`` Slicing"
     ]
    },
    {
     "cell_type": "code",
     "collapsed": false,
     "input": [
      "def channel_index(name, nchannels):\n",
      "    return list(zip(np.repeat(name, nchannels), range(nchannels)))"
     ],
     "language": "python",
     "metadata": {},
     "outputs": []
    },
    {
     "cell_type": "code",
     "collapsed": true,
     "input": [
      "# simulate our EEG data set\n",
      "\n",
      "fs = 256  # sampling rate\n",
      "neeg = 8  # number of EEG channels\n",
      "nex = 4  # number of auxiliary channels\n",
      "\n",
      "eeg_chan = channel_index('eeg', neeg)\n",
      "ex_chan = channel_index('ex', nex)\n",
      "\n",
      "disp(eeg_chan)\n",
      "columns = pd.MultiIndex.from_tuples(eeg_chan + ex_chan, names=['signal', 'channel'])\n",
      "\n",
      "# 10 seconds of fake data\n",
      "df = pd.DataFrame(np.random.randn(fs * 10, columns.labels[0].size), columns=columns)\n",
      "\n",
      "# add in some nans (e.g., a person moved around during these samples)\n",
      "df.loc[rand(len(df)) < 0.10, 'eeg'] = np.nan\n",
      "df.head()"
     ],
     "language": "python",
     "metadata": {},
     "outputs": []
    },
    {
     "cell_type": "code",
     "collapsed": false,
     "input": [
      "df.loc[:, np.s_[('eeg', 'ex'), :]]"
     ],
     "language": "python",
     "metadata": {},
     "outputs": []
    },
    {
     "cell_type": "code",
     "collapsed": true,
     "input": [
      "# simulate a stimulus marker\n",
      "df['stim'] = np.sort(randint(10, size=len(df)))"
     ],
     "language": "python",
     "metadata": {},
     "outputs": []
    },
    {
     "cell_type": "code",
     "collapsed": false,
     "input": [
      "df.loc[:, np.s_[('ex', 'stim'), :]].head()"
     ],
     "language": "python",
     "metadata": {},
     "outputs": []
    },
    {
     "cell_type": "code",
     "collapsed": false,
     "input": [
      "# the EX and STIM channels where EEG channels 0 and 1 are not null\n",
      "row_idx = df.eeg[[0, 1]].notnull().all(axis=1)\n",
      "col_idx = np.s_[('ex', 'stim'), :]"
     ],
     "language": "python",
     "metadata": {},
     "outputs": []
    },
    {
     "cell_type": "code",
     "collapsed": false,
     "input": [
      "row_idx.head()"
     ],
     "language": "python",
     "metadata": {},
     "outputs": []
    },
    {
     "cell_type": "code",
     "collapsed": false,
     "input": [
      "col_idx"
     ],
     "language": "python",
     "metadata": {},
     "outputs": []
    },
    {
     "cell_type": "code",
     "collapsed": false,
     "input": [
      "res = df.loc[row_idx, col_idx]\n",
      "res.head()"
     ],
     "language": "python",
     "metadata": {},
     "outputs": []
    },
    {
     "cell_type": "markdown",
     "metadata": {},
     "source": [
      "Let's unpack this:\n",
      "\n",
      "1. `df.eeg[[0, 1]].notnull().all(axis=1)`  gives a `bool` array used to index the rows of `df` where the channels 0 and 1 from `eeg` are not `NaN`\n",
      "2. The `np.s_` object is a special `numpy` object that just wraps slice syntax without having to manually construct slices using `slice` so\n",
      "\n",
      "Let's see it:"
     ]
    },
    {
     "cell_type": "code",
     "collapsed": false,
     "input": [
      "# use np.s_ to construct slices\n",
      "assert slice(None, 1000, 2) == np.s_[:1000:2]  # Which would you prefer?\n",
      "assert slice(900, None, -1) == np.s_[900::-1]"
     ],
     "language": "python",
     "metadata": {},
     "outputs": []
    },
    {
     "cell_type": "markdown",
     "metadata": {},
     "source": [
      "Think of the expression\n",
      "\n",
      "```python\n",
      "np.s_[('ex', 'stim'), :]\n",
      "```\n",
      "\n",
      "as saying select `'ex'` and `'stim'` from the first level of the `MultiIndex` and the `:` as saying give me all columns from the second level"
     ]
    },
    {
     "cell_type": "heading",
     "level": 2,
     "metadata": {},
     "source": [
      "``nlargest``/``nsmallest``"
     ]
    },
    {
     "cell_type": "heading",
     "level": 3,
     "metadata": {},
     "source": [
      "If $n << $ ``len(s)`` you'll see much better performance"
     ]
    },
    {
     "cell_type": "code",
     "collapsed": false,
     "input": [
      "s = Series(randn(1000000), name='a')"
     ],
     "language": "python",
     "metadata": {},
     "outputs": []
    },
    {
     "cell_type": "code",
     "collapsed": false,
     "input": [
      "a = %timeit -o s.nlargest(5) # 5 << 1,000,000\n",
      "b = %timeit -o s.order(ascending=False).head()\n",
      "print('nlargest is %.2gx faster than order + head' % (b.best / a.best))"
     ],
     "language": "python",
     "metadata": {},
     "outputs": []
    },
    {
     "cell_type": "code",
     "collapsed": false,
     "input": [
      "a = %timeit -o s.nsmallest(5)\n",
      "b = %timeit -o s.order().head()\n",
      "print('nsmallest is %.2gx faster than order + head' % (b.best / a.best))"
     ],
     "language": "python",
     "metadata": {},
     "outputs": []
    },
    {
     "cell_type": "markdown",
     "metadata": {},
     "source": [
      "### \"Hidden\" methods\n",
      "\n",
      "\n",
      "Well, okay, they *are* public as per Python convention, but I don't find myself calling them that often."
     ]
    },
    {
     "cell_type": "code",
     "collapsed": false,
     "input": [
      "df = DataFrame(randn(10, 2), columns=list('ab'))"
     ],
     "language": "python",
     "metadata": {},
     "outputs": []
    },
    {
     "cell_type": "heading",
     "level": 3,
     "metadata": {},
     "source": [
      "``align``"
     ]
    },
    {
     "cell_type": "code",
     "collapsed": false,
     "input": [
      "df = DataFrame({'a': randn(10)})\n",
      "s = Series(randn(20), name='b')\n",
      "new_df, new_s = df.align(s, axis=0)\n",
      "disp(new_df)\n",
      "disp(new_s)"
     ],
     "language": "python",
     "metadata": {},
     "outputs": []
    },
    {
     "cell_type": "heading",
     "level": 3,
     "metadata": {},
     "source": [
      "``reindex`` and friends"
     ]
    },
    {
     "cell_type": "heading",
     "level": 4,
     "metadata": {},
     "source": [
      "``reindex``"
     ]
    },
    {
     "cell_type": "heading",
     "level": 4,
     "metadata": {},
     "source": [
      "``reindex_like``"
     ]
    },
    {
     "cell_type": "heading",
     "level": 3,
     "metadata": {},
     "source": [
      "``between_time``"
     ]
    },
    {
     "cell_type": "heading",
     "level": 3,
     "metadata": {},
     "source": [
      "``at_time``"
     ]
    },
    {
     "cell_type": "heading",
     "level": 3,
     "metadata": {},
     "source": [
      "``combine``"
     ]
    }
   ],
   "metadata": {}
  }
 ]
}