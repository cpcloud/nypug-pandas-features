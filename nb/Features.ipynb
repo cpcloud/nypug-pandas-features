{
 "metadata": {
  "name": "",
  "signature": "sha256:2ae2f3992428d7ca47384088ada3069ffa376408563cfc04f056bd2ccf0fedbb"
 },
 "nbformat": 3,
 "nbformat_minor": 0,
 "worksheets": [
  {
   "cells": [
    {
     "cell_type": "code",
     "collapsed": false,
     "input": [
      "from IPython.core.display import HTML\n",
      "with open(\"../css/custom_light.css\", \"r\") as f:\n",
      "    styles = f.read()\n",
      "HTML(styles)"
     ],
     "language": "python",
     "metadata": {},
     "outputs": [
      {
       "html": [
        "<link href='http://fonts.googleapis.com/css?family=Source+Code+Pro' rel='stylesheet' type='text/css'>\n",
        "<link href='http://fonts.googleapis.com/css?family=Raleway' rel='stylesheet' type='text/css'>\n",
        "<style>\n",
        "/*\n",
        "Rob's custom notebook CSS\n",
        "*/\n",
        "\n",
        "/*Fonts*/\n",
        "\n",
        "body {\n",
        "    font-family: 'Raleway', sans-serif;\n",
        "}\n",
        "\n",
        "div.CodeMirror {\n",
        "  font-family: \"Source Code Pro\", source-code-pro, \"Anonymous Pro\", Consolas, Inconsolata, monospace;\n",
        "}\n",
        "\n",
        "/*Selectors*/\n",
        "\n",
        "div.code_cell.selected {\n",
        "    border: none;\n",
        "    border-radius: 2px;\n",
        "    box-shadow: 0px 0px 8px #888888;\n",
        "}\n",
        "\n",
        "div.input_area {\n",
        "    margin-left: 5px;\n",
        "    border-radius: 2px;\n",
        "    font-size: 16px !important;\n",
        "}\n",
        "\n",
        "div.prompt {\n",
        "    display: none;\n",
        "}\n",
        "\n",
        "div#maintoolbar, div#header {display: none !important;}\n",
        "\n",
        "div#notebook {border-top: none;}\n",
        "\n",
        ".cm-s-ipython {\n",
        "  border-radius: 2px;\n",
        "  background-color: #fdf6e3;\n",
        "  color: #657b83;\n",
        "}\n",
        ".cm-s-ipython .emphasis {\n",
        "  font-weight: bold;\n",
        "}\n",
        ".cm-s-ipython .dotted {\n",
        "  border-bottom: 1px dotted #cb4b16;\n",
        "}\n",
        ".cm-s-ipython .CodeMirror-gutter {\n",
        "  background-color: #eee8d5;\n",
        "  border-right: 3px solid #eee8d5;\n",
        "}\n",
        ".cm-s-ipython .CodeMirror-gutter .CodeMirror-gutter-text {\n",
        "  color: #93a1a1;\n",
        "}\n",
        ".cm-s-ipython .CodeMirror-cursor {\n",
        "  border-left-color: #002b36 !important;\n",
        "}\n",
        ".cm-s-ipython .CodeMirror-matchingbracket {\n",
        "  color: #002b36;\n",
        "  background-color: #eee8d5;\n",
        "  box-shadow: 0 0 10px #eee8d5;\n",
        "  font-weight: bold;\n",
        "}\n",
        ".cm-s-ipython .CodeMirror-nonmatchingbracket {\n",
        "  color: #002b36;\n",
        "  background-color: #eee8d5;\n",
        "  box-shadow: 0 0 10px #eee8d5;\n",
        "  font-weight: bold;\n",
        "  color: #dc322f;\n",
        "  border-bottom: 1px dotted #cb4b16;\n",
        "}\n",
        ".cm-s-ipython span.cm-keyword {\n",
        "  color: #657b83;\n",
        "  font-weight: bold;\n",
        "}\n",
        ".cm-s-ipython span.cm-atom {\n",
        "  color: #2aa198;\n",
        "}\n",
        ".cm-s-ipython span.cm-number {\n",
        "  color: #586e75;\n",
        "}\n",
        ".cm-s-ipython span.cm-def {\n",
        "  color: #268bd2;\n",
        "}\n",
        ".cm-s-ipython span.cm-variable {\n",
        "  color: #cb4b16;\n",
        "}\n",
        ".cm-s-ipython span.cm-variable-2 {\n",
        "  color: #cb4b16;\n",
        "}\n",
        ".cm-s-ipython span.cm-variable-3 {\n",
        "  color: #cb4b16;\n",
        "}\n",
        ".cm-s-ipython span.cm-comment {\n",
        "  color: #93a1a1;\n",
        "}\n",
        ".cm-s-ipython span.cm-property {\n",
        "  color: #b58900;\n",
        "}\n",
        ".cm-s-ipython span.cm-operator {\n",
        "  color: #657b83;\n",
        "}\n",
        ".cm-s-ipython span.cm-string {\n",
        "  color: #6c71c4;\n",
        "}\n",
        ".cm-s-ipython span.cm-error {\n",
        "  font-weight: bold;\n",
        "  border-bottom: 1px dotted #cb4b16;\n",
        "}\n",
        ".cm-s-ipython span.cm-bracket {\n",
        "  color: #cb4b16;\n",
        "}\n",
        ".cm-s-ipython span.cm-tag {\n",
        "  color: #657b83;\n",
        "}\n",
        ".cm-s-ipython span.cm-attribute {\n",
        "  color: #586e75;\n",
        "  font-weight: bold;\n",
        "}\n",
        ".cm-s-ipython span.cm-meta {\n",
        "  color: #268bd2;\n",
        "}\n",
        "\n",
        "</style>\n"
       ],
       "metadata": {},
       "output_type": "pyout",
       "prompt_number": 18,
       "text": [
        "<IPython.core.display.HTML object>"
       ]
      }
     ],
     "prompt_number": 18
    },
    {
     "cell_type": "heading",
     "level": 3,
     "metadata": {},
     "source": [
      "[Back to the Whirl-torial](Whirl-torial.ipynb)"
     ]
    },
    {
     "cell_type": "heading",
     "level": 1,
     "metadata": {},
     "source": [
      "New Features since v0.11.0"
     ]
    },
    {
     "cell_type": "heading",
     "level": 2,
     "metadata": {},
     "source": [
      "(or Interactive Release Notes)"
     ]
    },
    {
     "cell_type": "heading",
     "level": 1,
     "metadata": {},
     "source": [
      "v0.11"
     ]
    },
    {
     "cell_type": "markdown",
     "metadata": {},
     "source": [
      "* indexers ``loc``/``at``, ``iloc``/``iat``\n",
      "* all dtypes allowed\n",
      "* now using ``numexpr`` to evaluate expressions where possible\n",
      "* ``to_series()`` for ``Index`` objects"
     ]
    },
    {
     "cell_type": "heading",
     "level": 1,
     "metadata": {},
     "source": [
      "v0.12"
     ]
    },
    {
     "cell_type": "markdown",
     "metadata": {},
     "source": [
      "* ``read_html``\n",
      "* ``read_json``\n",
      "* ``read_stata``\n",
      "* ``read_s3``\n",
      "* ``str`` iteration\n",
      "* ``MultiIndex`` column reading and writing\n",
      "* ``GroupBy.filter()``"
     ]
    },
    {
     "cell_type": "heading",
     "level": 1,
     "metadata": {},
     "source": [
      "v0.13"
     ]
    },
    {
     "cell_type": "markdown",
     "metadata": {},
     "source": [
      "* ``DataFrame.isin()``\n",
      "* ``str.extract()``\n",
      "* ``GroupBy.cumcount()``\n",
      "* ``to_csv`` ``date_format`` keyword argument"
     ]
    },
    {
     "cell_type": "heading",
     "level": 3,
     "metadata": {},
     "source": [
      "v0.13 Experimental Features"
     ]
    },
    {
     "cell_type": "markdown",
     "metadata": {},
     "source": [
      "* ``query``/``eval``\n",
      "* msgpack IO\n",
      "* Google BigQuery IO"
     ]
    },
    {
     "cell_type": "heading",
     "level": 4,
     "metadata": {},
     "source": [
      "Non-user-facing-but-worth-mentioning"
     ]
    },
    {
     "cell_type": "markdown",
     "metadata": {},
     "source": [
      "Jeff Reback's epic refactor of ``Series`` to use composition instead of inheriting from ``numpy.ndarray``. Bravo!"
     ]
    },
    {
     "cell_type": "heading",
     "level": 1,
     "metadata": {},
     "source": [
      "v0.14 (soon to be released)"
     ]
    },
    {
     "cell_type": "markdown",
     "metadata": {},
     "source": [
      "* Index(tuples) now makes a ``MultiIndex``\n",
      "* hexbin and pie plotting\n",
      "* table plotting\n",
      "* ``MultiIndex`` slicing\n",
      "* ``topk``/``bottomk``"
     ]
    },
    {
     "cell_type": "heading",
     "level": 2,
     "metadata": {},
     "source": [
      "`MultiIndex` slicing"
     ]
    },
    {
     "cell_type": "code",
     "collapsed": false,
     "input": [
      "# simulate our EEG data set\n",
      "from itertools import repeat\n",
      "\n",
      "def channel_index(name, nchannels):\n",
      "    return list(zip(repeat(name, nchannels), range(nchannels)))"
     ],
     "language": "python",
     "metadata": {},
     "outputs": [],
     "prompt_number": 19
    },
    {
     "cell_type": "code",
     "collapsed": false,
     "input": [
      "fs = 256  # sampling rate\n",
      "neeg = 32  # number of EEG channels\n",
      "nex = 8  # number of auxiliary channels\n",
      "\n",
      "eeg_chan = channel_index('eeg', neeg)\n",
      "ex_chan = channel_index('ex', nex)\n",
      "\n",
      "columns = pd.MultiIndex.from_tuples(eeg_chan + ex_chan, names=['signal', 'channel'])\n",
      "\n",
      "# 10 seconds of fake data\n",
      "df = pd.DataFrame(np.random.randn(fs * 10, columns.labels[0].size), columns=columns)\n",
      "\n",
      "# simulate a stimulus marker\n",
      "df['stim', ''] = np.sort(np.random.randint(3, size=len(df)))\n",
      "\n",
      "# missing data in the stimulus because, e.g., a person moved around\n",
      "df.loc[np.random.rand(len(df)) < 0.25, 'stim'] = np.nan"
     ],
     "language": "python",
     "metadata": {},
     "outputs": [],
     "prompt_number": 20
    },
    {
     "cell_type": "code",
     "collapsed": false,
     "input": [
      "df.stim.count() / df.stim.size"
     ],
     "language": "python",
     "metadata": {},
     "outputs": [
      {
       "metadata": {},
       "output_type": "pyout",
       "prompt_number": 21,
       "text": [
        "0.75468749999999996"
       ]
      }
     ],
     "prompt_number": 21
    },
    {
     "cell_type": "code",
     "collapsed": false,
     "input": [
      "df.loc[:, np.s_[('ex', 'stim'), :]].head()"
     ],
     "language": "python",
     "metadata": {},
     "outputs": [
      {
       "html": [
        "<div style=\"max-height:1000px;max-width:1500px;overflow:auto;\">\n",
        "<table border=\"1\" class=\"dataframe\">\n",
        "  <thead>\n",
        "    <tr>\n",
        "      <th>signal</th>\n",
        "      <th colspan=\"8\" halign=\"left\">ex</th>\n",
        "      <th>stim</th>\n",
        "    </tr>\n",
        "    <tr>\n",
        "      <th>channel</th>\n",
        "      <th>0</th>\n",
        "      <th>1</th>\n",
        "      <th>2</th>\n",
        "      <th>3</th>\n",
        "      <th>4</th>\n",
        "      <th>5</th>\n",
        "      <th>6</th>\n",
        "      <th>7</th>\n",
        "      <th></th>\n",
        "    </tr>\n",
        "  </thead>\n",
        "  <tbody>\n",
        "    <tr>\n",
        "      <th>0</th>\n",
        "      <td> 0.2633</td>\n",
        "      <td>-0.1610</td>\n",
        "      <td> 0.1888</td>\n",
        "      <td> 1.1256</td>\n",
        "      <td> 1.0316</td>\n",
        "      <td> 0.2809</td>\n",
        "      <td>-1.1580</td>\n",
        "      <td>-0.1313</td>\n",
        "      <td>  0</td>\n",
        "    </tr>\n",
        "    <tr>\n",
        "      <th>1</th>\n",
        "      <td> 0.4524</td>\n",
        "      <td> 1.0657</td>\n",
        "      <td> 0.7415</td>\n",
        "      <td> 1.1376</td>\n",
        "      <td>-0.6827</td>\n",
        "      <td> 1.3022</td>\n",
        "      <td>-0.3450</td>\n",
        "      <td>-1.1554</td>\n",
        "      <td>NaN</td>\n",
        "    </tr>\n",
        "    <tr>\n",
        "      <th>2</th>\n",
        "      <td>-0.5368</td>\n",
        "      <td> 0.9370</td>\n",
        "      <td> 1.2359</td>\n",
        "      <td> 0.3835</td>\n",
        "      <td> 1.2078</td>\n",
        "      <td> 1.3582</td>\n",
        "      <td>-1.0688</td>\n",
        "      <td> 0.8184</td>\n",
        "      <td>  0</td>\n",
        "    </tr>\n",
        "    <tr>\n",
        "      <th>3</th>\n",
        "      <td> 0.7689</td>\n",
        "      <td> 1.5360</td>\n",
        "      <td>-1.2752</td>\n",
        "      <td> 1.0888</td>\n",
        "      <td>-0.8993</td>\n",
        "      <td> 1.8472</td>\n",
        "      <td> 1.8525</td>\n",
        "      <td>-0.2275</td>\n",
        "      <td>  0</td>\n",
        "    </tr>\n",
        "    <tr>\n",
        "      <th>4</th>\n",
        "      <td>-3.0764</td>\n",
        "      <td>-0.2509</td>\n",
        "      <td>-1.7030</td>\n",
        "      <td>-1.6225</td>\n",
        "      <td> 0.1057</td>\n",
        "      <td> 0.1904</td>\n",
        "      <td> 0.9379</td>\n",
        "      <td>-0.3749</td>\n",
        "      <td>  0</td>\n",
        "    </tr>\n",
        "  </tbody>\n",
        "</table>\n",
        "<p>5 rows \u00d7 9 columns</p>\n",
        "</div>"
       ],
       "metadata": {},
       "output_type": "pyout",
       "prompt_number": 22,
       "text": [
        "signal       ex                                                          stim\n",
        "channel       0       1       2       3       4       5       6       7      \n",
        "0        0.2633 -0.1610  0.1888  1.1256  1.0316  0.2809 -1.1580 -0.1313     0\n",
        "1        0.4524  1.0657  0.7415  1.1376 -0.6827  1.3022 -0.3450 -1.1554   NaN\n",
        "2       -0.5368  0.9370  1.2359  0.3835  1.2078  1.3582 -1.0688  0.8184     0\n",
        "3        0.7689  1.5360 -1.2752  1.0888 -0.8993  1.8472  1.8525 -0.2275     0\n",
        "4       -3.0764 -0.2509 -1.7030 -1.6225  0.1057  0.1904  0.9379 -0.3749     0\n",
        "\n",
        "[5 rows x 9 columns]"
       ]
      }
     ],
     "prompt_number": 22
    },
    {
     "cell_type": "code",
     "collapsed": true,
     "input": [
      "res = df.loc[df.stim.notnull(), np.s_[('ex', 'stim'), :]]\n",
      "res.head()"
     ],
     "language": "python",
     "metadata": {},
     "outputs": [
      {
       "html": [
        "<div style=\"max-height:1000px;max-width:1500px;overflow:auto;\">\n",
        "<table border=\"1\" class=\"dataframe\">\n",
        "  <thead>\n",
        "    <tr>\n",
        "      <th>signal</th>\n",
        "      <th colspan=\"8\" halign=\"left\">ex</th>\n",
        "      <th>stim</th>\n",
        "    </tr>\n",
        "    <tr>\n",
        "      <th>channel</th>\n",
        "      <th>0</th>\n",
        "      <th>1</th>\n",
        "      <th>2</th>\n",
        "      <th>3</th>\n",
        "      <th>4</th>\n",
        "      <th>5</th>\n",
        "      <th>6</th>\n",
        "      <th>7</th>\n",
        "      <th></th>\n",
        "    </tr>\n",
        "  </thead>\n",
        "  <tbody>\n",
        "    <tr>\n",
        "      <th>0</th>\n",
        "      <td> 0.2633</td>\n",
        "      <td>-0.1610</td>\n",
        "      <td> 0.1888</td>\n",
        "      <td> 1.1256</td>\n",
        "      <td> 1.0316</td>\n",
        "      <td> 0.2809</td>\n",
        "      <td>-1.1580</td>\n",
        "      <td>-0.1313</td>\n",
        "      <td> 0</td>\n",
        "    </tr>\n",
        "    <tr>\n",
        "      <th>2</th>\n",
        "      <td>-0.5368</td>\n",
        "      <td> 0.9370</td>\n",
        "      <td> 1.2359</td>\n",
        "      <td> 0.3835</td>\n",
        "      <td> 1.2078</td>\n",
        "      <td> 1.3582</td>\n",
        "      <td>-1.0688</td>\n",
        "      <td> 0.8184</td>\n",
        "      <td> 0</td>\n",
        "    </tr>\n",
        "    <tr>\n",
        "      <th>3</th>\n",
        "      <td> 0.7689</td>\n",
        "      <td> 1.5360</td>\n",
        "      <td>-1.2752</td>\n",
        "      <td> 1.0888</td>\n",
        "      <td>-0.8993</td>\n",
        "      <td> 1.8472</td>\n",
        "      <td> 1.8525</td>\n",
        "      <td>-0.2275</td>\n",
        "      <td> 0</td>\n",
        "    </tr>\n",
        "    <tr>\n",
        "      <th>4</th>\n",
        "      <td>-3.0764</td>\n",
        "      <td>-0.2509</td>\n",
        "      <td>-1.7030</td>\n",
        "      <td>-1.6225</td>\n",
        "      <td> 0.1057</td>\n",
        "      <td> 0.1904</td>\n",
        "      <td> 0.9379</td>\n",
        "      <td>-0.3749</td>\n",
        "      <td> 0</td>\n",
        "    </tr>\n",
        "    <tr>\n",
        "      <th>6</th>\n",
        "      <td>-0.5505</td>\n",
        "      <td>-0.2625</td>\n",
        "      <td> 0.5588</td>\n",
        "      <td>-0.8725</td>\n",
        "      <td>-0.9273</td>\n",
        "      <td>-0.2697</td>\n",
        "      <td> 1.3379</td>\n",
        "      <td>-0.7634</td>\n",
        "      <td> 0</td>\n",
        "    </tr>\n",
        "  </tbody>\n",
        "</table>\n",
        "<p>5 rows \u00d7 9 columns</p>\n",
        "</div>"
       ],
       "metadata": {},
       "output_type": "pyout",
       "prompt_number": 23,
       "text": [
        "signal       ex                                                          stim\n",
        "channel       0       1       2       3       4       5       6       7      \n",
        "0        0.2633 -0.1610  0.1888  1.1256  1.0316  0.2809 -1.1580 -0.1313     0\n",
        "2       -0.5368  0.9370  1.2359  0.3835  1.2078  1.3582 -1.0688  0.8184     0\n",
        "3        0.7689  1.5360 -1.2752  1.0888 -0.8993  1.8472  1.8525 -0.2275     0\n",
        "4       -3.0764 -0.2509 -1.7030 -1.6225  0.1057  0.1904  0.9379 -0.3749     0\n",
        "6       -0.5505 -0.2625  0.5588 -0.8725 -0.9273 -0.2697  1.3379 -0.7634     0\n",
        "\n",
        "[5 rows x 9 columns]"
       ]
      }
     ],
     "prompt_number": 23
    },
    {
     "cell_type": "markdown",
     "metadata": {},
     "source": [
      "Let's unpack this:\n",
      "\n",
      "1. `df.stim.notnull()`  gives a `bool` dtyped array used to get the rows of `df` where the `stim` column is not `NaN`\n",
      "2. The `np.s_` object is a special `numpy` object that just wraps slice syntax without having to manually construct slices using `slice` so\n",
      "\n",
      "Let's see it:"
     ]
    },
    {
     "cell_type": "code",
     "collapsed": false,
     "input": [
      "df.stim.notnull()"
     ],
     "language": "python",
     "metadata": {},
     "outputs": [
      {
       "metadata": {},
       "output_type": "pyout",
       "prompt_number": 24,
       "text": [
        "0     True\n",
        "1    False\n",
        "2     True\n",
        "3     True\n",
        "4     True\n",
        "5    False\n",
        "6     True\n",
        "7     True\n",
        "8     True\n",
        "9     True\n",
        "...\n",
        "2549     True\n",
        "2550     True\n",
        "2551    False\n",
        "2552     True\n",
        "2553     True\n",
        "2554     True\n",
        "2555    False\n",
        "2556     True\n",
        "2557    False\n",
        "2558    False\n",
        "2559    False\n",
        "Name: stim, Length: 2560, dtype: bool"
       ]
      }
     ],
     "prompt_number": 24
    },
    {
     "cell_type": "code",
     "collapsed": false,
     "input": [
      "# use np._s to construct slices\n",
      "slice(None, 1000) == np.s_[:1000]  # Which would you prefer?"
     ],
     "language": "python",
     "metadata": {},
     "outputs": [
      {
       "metadata": {},
       "output_type": "pyout",
       "prompt_number": 25,
       "text": [
        "True"
       ]
      }
     ],
     "prompt_number": 25
    },
    {
     "cell_type": "code",
     "collapsed": false,
     "input": [
      "slice(999, -1, -1) == np.s_[999:-1:-1]"
     ],
     "language": "python",
     "metadata": {},
     "outputs": [
      {
       "metadata": {},
       "output_type": "pyout",
       "prompt_number": 26,
       "text": [
        "True"
       ]
      }
     ],
     "prompt_number": 26
    },
    {
     "cell_type": "markdown",
     "metadata": {},
     "source": [
      "Think of the expression\n",
      "\n",
      "```python\n",
      "np.s_[('ex', 'stim'), :]\n",
      "```\n",
      "\n",
      "as saying select `'ex'` and `'stim'` from the first level of the `MultiIndex` and the `:` as saying give me all columns from the second level"
     ]
    },
    {
     "cell_type": "heading",
     "level": 2,
     "metadata": {},
     "source": [
      "Slightly more obscure methods"
     ]
    },
    {
     "cell_type": "code",
     "collapsed": false,
     "input": [
      "from pandas import DataFrame\n",
      "from numpy.random import randn, rand, randint, choice\n",
      "df = DataFrame(randn(10, 2), columns=list('ab'))"
     ],
     "language": "python",
     "metadata": {},
     "outputs": [],
     "prompt_number": 27
    },
    {
     "cell_type": "heading",
     "level": 3,
     "metadata": {},
     "source": [
      "align"
     ]
    },
    {
     "cell_type": "heading",
     "level": 3,
     "metadata": {},
     "source": [
      "between_time"
     ]
    },
    {
     "cell_type": "heading",
     "level": 3,
     "metadata": {},
     "source": [
      "at_time"
     ]
    },
    {
     "cell_type": "heading",
     "level": 3,
     "metadata": {},
     "source": [
      "combine"
     ]
    }
   ],
   "metadata": {}
  }
 ]
}