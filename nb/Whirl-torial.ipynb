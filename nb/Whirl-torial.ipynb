{
 "metadata": {
  "name": "",
  "signature": "sha256:8284e29e387ffcb94d3410e05cbef8176ebbadf257f7d3ceb138c96f759ffcf0"
 },
 "nbformat": 3,
 "nbformat_minor": 0,
 "worksheets": [
  {
   "cells": [
    {
     "cell_type": "code",
     "collapsed": true,
     "input": [
      "from __future__ import division, print_function"
     ],
     "language": "python",
     "metadata": {},
     "outputs": [],
     "prompt_number": 44
    },
    {
     "cell_type": "code",
     "collapsed": false,
     "input": [
      "from IPython.display import HTML, Image, display as disp"
     ],
     "language": "python",
     "metadata": {},
     "outputs": [],
     "prompt_number": 45
    },
    {
     "cell_type": "markdown",
     "metadata": {},
     "source": [
      "# Whirlwind Introduction to [Pandas](http://pandas.pydata.org)!\n",
      "---------------\n",
      "\n",
      "### About me: Phillip Cloud\n",
      "\n",
      "## Past:\n",
      "* MA Psychology from CUNY CCNY (analysis of rat spike train data)\n",
      "\n",
      "## Now:\n",
      "* Data infrastructure/research/development @ neuromatters (neurotechnology R & D company)\n",
      "* Core contributer to pandas for a little over 1 year"
     ]
    },
    {
     "cell_type": "code",
     "collapsed": false,
     "input": [
      "!./shortlog.sh ../../pandas"
     ],
     "language": "python",
     "metadata": {},
     "outputs": [
      {
       "output_type": "stream",
       "stream": "stdout",
       "text": [
        "  2985\tWes McKinney\r\n",
        "  1149\tjreback\r\n",
        "   765\ty-p\r\n",
        "   607\tChang She\r\n",
        "   323\tPhillip Cloud\r\n",
        "   315\tAdam Klein\r\n",
        "   120\tJeffrey Tratner\r\n",
        "   109\tVytautas Jancauskas\r\n",
        "    89\tJoris Van den Bossche\r\n",
        "    84\tAndy Hayden\r\n"
       ]
      }
     ],
     "prompt_number": 46
    },
    {
     "cell_type": "heading",
     "level": 1,
     "metadata": {},
     "source": [
      "Why pandas?"
     ]
    },
    {
     "cell_type": "markdown",
     "metadata": {},
     "source": [
      "pandas fills the need for a Python library that is awesome at data munging. With pandas you don't need to go outside of Python to do data analysis. You can write a web app using django and have data dashboards that are backed by pandas."
     ]
    },
    {
     "cell_type": "heading",
     "level": 1,
     "metadata": {},
     "source": [
      "What is pandas?"
     ]
    },
    {
     "cell_type": "markdown",
     "metadata": {},
     "source": [
      "#### Strengths:\n",
      "``pandas`` is *the* library for tabular you've always wished you had. It supports operations such as\n",
      "\n",
      "* ``groupby``\n",
      "* ``merge``\n",
      "* aggregations (``mean``, ``sum``, ``any``, `all`, etc.)\n",
      "* advanced indexing capabilities\n",
      "* automatic data alignment during e.g., arithmetic operations\n",
      "* powerful vectorized text manipulation\n",
      "* missing data handling\n",
      "* comprehensive and extremely flexible IO (e.g., CSV, Excel, HDF5, HTML)\n",
      "\n",
      "#### Limitations:\n",
      "\n",
      "* ``pandas`` was designed to work with \"medium\" data, i.e., data that fit into memory.\n",
      "* That said, I routinely work with $\\approx$ 20-100M row datasets fairly easily with pandas."
     ]
    },
    {
     "cell_type": "heading",
     "level": 2,
     "metadata": {},
     "source": [
      "My reaction after discovering pandas:"
     ]
    },
    {
     "cell_type": "code",
     "collapsed": true,
     "input": [
      "disp(Image(\"../img/m.jpg\"))"
     ],
     "language": "python",
     "metadata": {},
     "outputs": [
      {
       "jpeg": "[encoded data removed]",
       "metadata": {},
       "output_type": "display_data",
       "text": [
        "<IPython.core.display.Image object>"
       ]
      }
     ],
     "prompt_number": 47
    },
    {
     "cell_type": "code",
     "collapsed": true,
     "input": [
      "disp(Image(\"../img/u.jpg\"))"
     ],
     "language": "python",
     "metadata": {},
     "outputs": [
      {
       "jpeg": "[encoded data removed]",
       "metadata": {},
       "output_type": "display_data",
       "text": [
        "<IPython.core.display.Image object>"
       ]
      }
     ],
     "prompt_number": 48
    },
    {
     "cell_type": "heading",
     "level": 2,
     "metadata": {},
     "source": [
      "First rule of pandas talks: they aren't complete without a meme."
     ]
    },
    {
     "cell_type": "markdown",
     "metadata": {},
     "source": [
      "### Deps for the talk\n",
      "\n",
      "* [These notebooks](http://github.com/cpcloud/nypug-pandas-features)\n",
      "* [pandas](http://pandas.pydata.org/pandas-docs/stable/install.html#installation) with *all* [optional deps](http://pandas.pydata.org/pandas-docs/stable/install.html#recommended-dependencies) (Anaconda provides most if not all of these)\n",
      "* [sh](http://amoffat.github.io/sh): ``pip install sh``\n",
      "* [jq](http://stedolan.github.io/jq)\n",
      "* [requests](http://docs.python-requests.org/en/latest) because `urllib` et al are less than desirable\n",
      "\n",
      "### Optional\n",
      "* [mpltools](http://tonysyu.github.io/mpltools) (for nice looking plots by default)"
     ]
    },
    {
     "cell_type": "markdown",
     "metadata": {},
     "source": [
      "### Enough talking, let's see some code."
     ]
    },
    {
     "cell_type": "code",
     "collapsed": true,
     "input": [
      "# imports that I'll use throughout the talk\n",
      "import numpy as np\n",
      "import pandas as pd\n",
      "from pandas import DataFrame, Series, Index\n",
      "from numpy.random import randn, randint, rand, choice\n",
      "import matplotlib.pyplot as plt\n",
      "\n",
      "pd.options.display.max_rows = 10\n",
      "\n",
      "try:\n",
      "    from mpltools import style\n",
      "    style.use('ggplot')\n",
      "except ImportError:\n",
      "    pass\n",
      "\n",
      "\n",
      "# because of our bg color\n",
      "plt.rc('text', color='white')\n",
      "plt.rc('axes', labelcolor='white')\n",
      "plt.rc('xtick', color='white')\n",
      "plt.rc('ytick', color='white')"
     ],
     "language": "python",
     "metadata": {},
     "outputs": [],
     "prompt_number": 49
    },
    {
     "cell_type": "code",
     "collapsed": true,
     "input": [
      "%matplotlib inline"
     ],
     "language": "python",
     "metadata": {},
     "outputs": [],
     "prompt_number": 50
    },
    {
     "cell_type": "heading",
     "level": 1,
     "metadata": {},
     "source": [
      "[``pandas.DataFrame``](http://pandas.pydata.org/pandas-docs/stable/dsintro.html#dataframe)"
     ]
    },
    {
     "cell_type": "heading",
     "level": 3,
     "metadata": {},
     "source": [
      "``DataFrame`` is the flagship data structure in ``pandas``"
     ]
    },
    {
     "cell_type": "code",
     "collapsed": true,
     "input": [
      "df = pd.DataFrame(randn(10, 2), columns=list('ab'))\n",
      "df"
     ],
     "language": "python",
     "metadata": {},
     "outputs": [
      {
       "html": [
        "<div style=\"max-height:1000px;max-width:1500px;overflow:auto;\">\n",
        "<table border=\"1\" class=\"dataframe\">\n",
        "  <thead>\n",
        "    <tr style=\"text-align: right;\">\n",
        "      <th></th>\n",
        "      <th>a</th>\n",
        "      <th>b</th>\n",
        "    </tr>\n",
        "  </thead>\n",
        "  <tbody>\n",
        "    <tr>\n",
        "      <th>0</th>\n",
        "      <td>-0.456704</td>\n",
        "      <td>-0.531249</td>\n",
        "    </tr>\n",
        "    <tr>\n",
        "      <th>1</th>\n",
        "      <td>-2.054106</td>\n",
        "      <td> 2.236674</td>\n",
        "    </tr>\n",
        "    <tr>\n",
        "      <th>2</th>\n",
        "      <td> 0.374630</td>\n",
        "      <td> 1.233532</td>\n",
        "    </tr>\n",
        "    <tr>\n",
        "      <th>3</th>\n",
        "      <td>-0.517373</td>\n",
        "      <td>-0.078912</td>\n",
        "    </tr>\n",
        "    <tr>\n",
        "      <th>4</th>\n",
        "      <td> 1.548786</td>\n",
        "      <td> 0.590062</td>\n",
        "    </tr>\n",
        "    <tr>\n",
        "      <th>5</th>\n",
        "      <td> 1.113478</td>\n",
        "      <td> 0.214608</td>\n",
        "    </tr>\n",
        "    <tr>\n",
        "      <th>6</th>\n",
        "      <td> 0.061228</td>\n",
        "      <td>-0.608083</td>\n",
        "    </tr>\n",
        "    <tr>\n",
        "      <th>7</th>\n",
        "      <td> 0.039792</td>\n",
        "      <td> 0.806043</td>\n",
        "    </tr>\n",
        "    <tr>\n",
        "      <th>8</th>\n",
        "      <td> 2.282368</td>\n",
        "      <td> 0.244769</td>\n",
        "    </tr>\n",
        "    <tr>\n",
        "      <th>9</th>\n",
        "      <td> 0.459747</td>\n",
        "      <td>-0.206413</td>\n",
        "    </tr>\n",
        "  </tbody>\n",
        "</table>\n",
        "</div>"
       ],
       "metadata": {},
       "output_type": "pyout",
       "prompt_number": 51,
       "text": [
        "          a         b\n",
        "0 -0.456704 -0.531249\n",
        "1 -2.054106  2.236674\n",
        "2  0.374630  1.233532\n",
        "3 -0.517373 -0.078912\n",
        "4  1.548786  0.590062\n",
        "5  1.113478  0.214608\n",
        "6  0.061228 -0.608083\n",
        "7  0.039792  0.806043\n",
        "8  2.282368  0.244769\n",
        "9  0.459747 -0.206413"
       ]
      }
     ],
     "prompt_number": 51
    },
    {
     "cell_type": "code",
     "collapsed": true,
     "input": [
      "# if you have boto installed and have set up credentials\n",
      "# df = pd.read_csv('s3://nypug/tips.csv')"
     ],
     "language": "python",
     "metadata": {},
     "outputs": [],
     "prompt_number": 52
    },
    {
     "cell_type": "code",
     "collapsed": true,
     "input": [
      "df = pd.read_csv('https://s3.amazonaws.com/nyqpug/tips.csv')\n",
      "df"
     ],
     "language": "python",
     "metadata": {},
     "outputs": [
      {
       "html": [
        "<div style=\"max-height:1000px;max-width:1500px;overflow:auto;\">\n",
        "<table border=\"1\" class=\"dataframe\">\n",
        "  <thead>\n",
        "    <tr style=\"text-align: right;\">\n",
        "      <th></th>\n",
        "      <th>total_bill</th>\n",
        "      <th>tip</th>\n",
        "      <th>sex</th>\n",
        "      <th>smoker</th>\n",
        "      <th>day</th>\n",
        "      <th>time</th>\n",
        "      <th>size</th>\n",
        "    </tr>\n",
        "  </thead>\n",
        "  <tbody>\n",
        "    <tr>\n",
        "      <th>0  </th>\n",
        "      <td> 16.99</td>\n",
        "      <td> 1.01</td>\n",
        "      <td> Female</td>\n",
        "      <td>  No</td>\n",
        "      <td>  Sun</td>\n",
        "      <td> Dinner</td>\n",
        "      <td> 2</td>\n",
        "    </tr>\n",
        "    <tr>\n",
        "      <th>1  </th>\n",
        "      <td> 10.34</td>\n",
        "      <td> 1.66</td>\n",
        "      <td>   Male</td>\n",
        "      <td>  No</td>\n",
        "      <td>  Sun</td>\n",
        "      <td> Dinner</td>\n",
        "      <td> 3</td>\n",
        "    </tr>\n",
        "    <tr>\n",
        "      <th>2  </th>\n",
        "      <td> 21.01</td>\n",
        "      <td> 3.50</td>\n",
        "      <td>   Male</td>\n",
        "      <td>  No</td>\n",
        "      <td>  Sun</td>\n",
        "      <td> Dinner</td>\n",
        "      <td> 3</td>\n",
        "    </tr>\n",
        "    <tr>\n",
        "      <th>3  </th>\n",
        "      <td> 23.68</td>\n",
        "      <td> 3.31</td>\n",
        "      <td>   Male</td>\n",
        "      <td>  No</td>\n",
        "      <td>  Sun</td>\n",
        "      <td> Dinner</td>\n",
        "      <td> 2</td>\n",
        "    </tr>\n",
        "    <tr>\n",
        "      <th>4  </th>\n",
        "      <td> 24.59</td>\n",
        "      <td> 3.61</td>\n",
        "      <td> Female</td>\n",
        "      <td>  No</td>\n",
        "      <td>  Sun</td>\n",
        "      <td> Dinner</td>\n",
        "      <td> 4</td>\n",
        "    </tr>\n",
        "    <tr>\n",
        "      <th>...</th>\n",
        "      <td>...</td>\n",
        "      <td>...</td>\n",
        "      <td>...</td>\n",
        "      <td>...</td>\n",
        "      <td>...</td>\n",
        "      <td>...</td>\n",
        "      <td>...</td>\n",
        "    </tr>\n",
        "    <tr>\n",
        "      <th>239</th>\n",
        "      <td> 29.03</td>\n",
        "      <td> 5.92</td>\n",
        "      <td>   Male</td>\n",
        "      <td>  No</td>\n",
        "      <td>  Sat</td>\n",
        "      <td> Dinner</td>\n",
        "      <td> 3</td>\n",
        "    </tr>\n",
        "    <tr>\n",
        "      <th>240</th>\n",
        "      <td> 27.18</td>\n",
        "      <td> 2.00</td>\n",
        "      <td> Female</td>\n",
        "      <td> Yes</td>\n",
        "      <td>  Sat</td>\n",
        "      <td> Dinner</td>\n",
        "      <td> 2</td>\n",
        "    </tr>\n",
        "    <tr>\n",
        "      <th>241</th>\n",
        "      <td> 22.67</td>\n",
        "      <td> 2.00</td>\n",
        "      <td>   Male</td>\n",
        "      <td> Yes</td>\n",
        "      <td>  Sat</td>\n",
        "      <td> Dinner</td>\n",
        "      <td> 2</td>\n",
        "    </tr>\n",
        "    <tr>\n",
        "      <th>242</th>\n",
        "      <td> 17.82</td>\n",
        "      <td> 1.75</td>\n",
        "      <td>   Male</td>\n",
        "      <td>  No</td>\n",
        "      <td>  Sat</td>\n",
        "      <td> Dinner</td>\n",
        "      <td> 2</td>\n",
        "    </tr>\n",
        "    <tr>\n",
        "      <th>243</th>\n",
        "      <td> 18.78</td>\n",
        "      <td> 3.00</td>\n",
        "      <td> Female</td>\n",
        "      <td>  No</td>\n",
        "      <td> Thur</td>\n",
        "      <td> Dinner</td>\n",
        "      <td> 2</td>\n",
        "    </tr>\n",
        "  </tbody>\n",
        "</table>\n",
        "<p>244 rows \u00d7 7 columns</p>\n",
        "</div>"
       ],
       "metadata": {},
       "output_type": "pyout",
       "prompt_number": 53,
       "text": [
        "     total_bill   tip     sex smoker   day    time  size\n",
        "0         16.99  1.01  Female     No   Sun  Dinner     2\n",
        "1         10.34  1.66    Male     No   Sun  Dinner     3\n",
        "2         21.01  3.50    Male     No   Sun  Dinner     3\n",
        "3         23.68  3.31    Male     No   Sun  Dinner     2\n",
        "4         24.59  3.61  Female     No   Sun  Dinner     4\n",
        "..          ...   ...     ...    ...   ...     ...   ...\n",
        "239       29.03  5.92    Male     No   Sat  Dinner     3\n",
        "240       27.18  2.00  Female    Yes   Sat  Dinner     2\n",
        "241       22.67  2.00    Male    Yes   Sat  Dinner     2\n",
        "242       17.82  1.75    Male     No   Sat  Dinner     2\n",
        "243       18.78  3.00  Female     No  Thur  Dinner     2\n",
        "\n",
        "[244 rows x 7 columns]"
       ]
      }
     ],
     "prompt_number": 53
    },
    {
     "cell_type": "code",
     "collapsed": true,
     "input": [
      "df.dtypes"
     ],
     "language": "python",
     "metadata": {},
     "outputs": [
      {
       "metadata": {},
       "output_type": "pyout",
       "prompt_number": 54,
       "text": [
        "total_bill    float64\n",
        "tip           float64\n",
        "sex            object\n",
        "smoker         object\n",
        "day            object\n",
        "time           object\n",
        "size            int64\n",
        "dtype: object"
       ]
      }
     ],
     "prompt_number": 54
    },
    {
     "cell_type": "markdown",
     "metadata": {},
     "source": [
      "### One of ``pandas``' most useful and powerful features is its ability to slice and dice data in almost any way you can think of. "
     ]
    },
    {
     "cell_type": "code",
     "collapsed": true,
     "input": [
      "# column access by name\n",
      "df['day']  # \u27f5 that's a Series object"
     ],
     "language": "python",
     "metadata": {},
     "outputs": [
      {
       "metadata": {},
       "output_type": "pyout",
       "prompt_number": 55,
       "text": [
        "0    Sun\n",
        "1    Sun\n",
        "2    Sun\n",
        "...\n",
        "241     Sat\n",
        "242     Sat\n",
        "243    Thur\n",
        "Name: day, Length: 244, dtype: object"
       ]
      }
     ],
     "prompt_number": 55
    },
    {
     "cell_type": "code",
     "collapsed": true,
     "input": [
      "# by attribute\n",
      "df.time"
     ],
     "language": "python",
     "metadata": {},
     "outputs": [
      {
       "metadata": {},
       "output_type": "pyout",
       "prompt_number": 56,
       "text": [
        "0    Dinner\n",
        "1    Dinner\n",
        "2    Dinner\n",
        "...\n",
        "241    Dinner\n",
        "242    Dinner\n",
        "243    Dinner\n",
        "Name: time, Length: 244, dtype: object"
       ]
      }
     ],
     "prompt_number": 56
    },
    {
     "cell_type": "code",
     "collapsed": true,
     "input": [
      "df.time.value_counts()"
     ],
     "language": "python",
     "metadata": {},
     "outputs": [
      {
       "metadata": {},
       "output_type": "pyout",
       "prompt_number": 57,
       "text": [
        "Dinner    176\n",
        "Lunch      68\n",
        "dtype: int64"
       ]
      }
     ],
     "prompt_number": 57
    },
    {
     "cell_type": "code",
     "collapsed": true,
     "input": [
      "# multiple columns\n",
      "df[['tip', 'sex']]"
     ],
     "language": "python",
     "metadata": {},
     "outputs": [
      {
       "html": [
        "<div style=\"max-height:1000px;max-width:1500px;overflow:auto;\">\n",
        "<table border=\"1\" class=\"dataframe\">\n",
        "  <thead>\n",
        "    <tr style=\"text-align: right;\">\n",
        "      <th></th>\n",
        "      <th>tip</th>\n",
        "      <th>sex</th>\n",
        "    </tr>\n",
        "  </thead>\n",
        "  <tbody>\n",
        "    <tr>\n",
        "      <th>0  </th>\n",
        "      <td> 1.01</td>\n",
        "      <td> Female</td>\n",
        "    </tr>\n",
        "    <tr>\n",
        "      <th>1  </th>\n",
        "      <td> 1.66</td>\n",
        "      <td>   Male</td>\n",
        "    </tr>\n",
        "    <tr>\n",
        "      <th>2  </th>\n",
        "      <td> 3.50</td>\n",
        "      <td>   Male</td>\n",
        "    </tr>\n",
        "    <tr>\n",
        "      <th>3  </th>\n",
        "      <td> 3.31</td>\n",
        "      <td>   Male</td>\n",
        "    </tr>\n",
        "    <tr>\n",
        "      <th>4  </th>\n",
        "      <td> 3.61</td>\n",
        "      <td> Female</td>\n",
        "    </tr>\n",
        "    <tr>\n",
        "      <th>...</th>\n",
        "      <td>...</td>\n",
        "      <td>...</td>\n",
        "    </tr>\n",
        "    <tr>\n",
        "      <th>239</th>\n",
        "      <td> 5.92</td>\n",
        "      <td>   Male</td>\n",
        "    </tr>\n",
        "    <tr>\n",
        "      <th>240</th>\n",
        "      <td> 2.00</td>\n",
        "      <td> Female</td>\n",
        "    </tr>\n",
        "    <tr>\n",
        "      <th>241</th>\n",
        "      <td> 2.00</td>\n",
        "      <td>   Male</td>\n",
        "    </tr>\n",
        "    <tr>\n",
        "      <th>242</th>\n",
        "      <td> 1.75</td>\n",
        "      <td>   Male</td>\n",
        "    </tr>\n",
        "    <tr>\n",
        "      <th>243</th>\n",
        "      <td> 3.00</td>\n",
        "      <td> Female</td>\n",
        "    </tr>\n",
        "  </tbody>\n",
        "</table>\n",
        "<p>244 rows \u00d7 2 columns</p>\n",
        "</div>"
       ],
       "metadata": {},
       "output_type": "pyout",
       "prompt_number": 58,
       "text": [
        "      tip     sex\n",
        "0    1.01  Female\n",
        "1    1.66    Male\n",
        "2    3.50    Male\n",
        "3    3.31    Male\n",
        "4    3.61  Female\n",
        "..    ...     ...\n",
        "239  5.92    Male\n",
        "240  2.00  Female\n",
        "241  2.00    Male\n",
        "242  1.75    Male\n",
        "243  3.00  Female\n",
        "\n",
        "[244 rows x 2 columns]"
       ]
      }
     ],
     "prompt_number": 58
    },
    {
     "cell_type": "code",
     "collapsed": true,
     "input": [
      "t = df.set_index('day')\n",
      "t.head()"
     ],
     "language": "python",
     "metadata": {},
     "outputs": [
      {
       "html": [
        "<div style=\"max-height:1000px;max-width:1500px;overflow:auto;\">\n",
        "<table border=\"1\" class=\"dataframe\">\n",
        "  <thead>\n",
        "    <tr style=\"text-align: right;\">\n",
        "      <th></th>\n",
        "      <th>total_bill</th>\n",
        "      <th>tip</th>\n",
        "      <th>sex</th>\n",
        "      <th>smoker</th>\n",
        "      <th>time</th>\n",
        "      <th>size</th>\n",
        "    </tr>\n",
        "    <tr>\n",
        "      <th>day</th>\n",
        "      <th></th>\n",
        "      <th></th>\n",
        "      <th></th>\n",
        "      <th></th>\n",
        "      <th></th>\n",
        "      <th></th>\n",
        "    </tr>\n",
        "  </thead>\n",
        "  <tbody>\n",
        "    <tr>\n",
        "      <th>Sun</th>\n",
        "      <td> 16.99</td>\n",
        "      <td> 1.01</td>\n",
        "      <td> Female</td>\n",
        "      <td> No</td>\n",
        "      <td> Dinner</td>\n",
        "      <td> 2</td>\n",
        "    </tr>\n",
        "    <tr>\n",
        "      <th>Sun</th>\n",
        "      <td> 10.34</td>\n",
        "      <td> 1.66</td>\n",
        "      <td>   Male</td>\n",
        "      <td> No</td>\n",
        "      <td> Dinner</td>\n",
        "      <td> 3</td>\n",
        "    </tr>\n",
        "    <tr>\n",
        "      <th>Sun</th>\n",
        "      <td> 21.01</td>\n",
        "      <td> 3.50</td>\n",
        "      <td>   Male</td>\n",
        "      <td> No</td>\n",
        "      <td> Dinner</td>\n",
        "      <td> 3</td>\n",
        "    </tr>\n",
        "    <tr>\n",
        "      <th>Sun</th>\n",
        "      <td> 23.68</td>\n",
        "      <td> 3.31</td>\n",
        "      <td>   Male</td>\n",
        "      <td> No</td>\n",
        "      <td> Dinner</td>\n",
        "      <td> 2</td>\n",
        "    </tr>\n",
        "    <tr>\n",
        "      <th>Sun</th>\n",
        "      <td> 24.59</td>\n",
        "      <td> 3.61</td>\n",
        "      <td> Female</td>\n",
        "      <td> No</td>\n",
        "      <td> Dinner</td>\n",
        "      <td> 4</td>\n",
        "    </tr>\n",
        "  </tbody>\n",
        "</table>\n",
        "</div>"
       ],
       "metadata": {},
       "output_type": "pyout",
       "prompt_number": 59,
       "text": [
        "     total_bill   tip     sex smoker    time  size\n",
        "day                                               \n",
        "Sun       16.99  1.01  Female     No  Dinner     2\n",
        "Sun       10.34  1.66    Male     No  Dinner     3\n",
        "Sun       21.01  3.50    Male     No  Dinner     3\n",
        "Sun       23.68  3.31    Male     No  Dinner     2\n",
        "Sun       24.59  3.61  Female     No  Dinner     4"
       ]
      }
     ],
     "prompt_number": 59
    },
    {
     "cell_type": "code",
     "collapsed": true,
     "input": [
      "t.loc['Sun']"
     ],
     "language": "python",
     "metadata": {},
     "outputs": [
      {
       "html": [
        "<div style=\"max-height:1000px;max-width:1500px;overflow:auto;\">\n",
        "<table border=\"1\" class=\"dataframe\">\n",
        "  <thead>\n",
        "    <tr style=\"text-align: right;\">\n",
        "      <th></th>\n",
        "      <th>total_bill</th>\n",
        "      <th>tip</th>\n",
        "      <th>sex</th>\n",
        "      <th>smoker</th>\n",
        "      <th>time</th>\n",
        "      <th>size</th>\n",
        "    </tr>\n",
        "    <tr>\n",
        "      <th>day</th>\n",
        "      <th></th>\n",
        "      <th></th>\n",
        "      <th></th>\n",
        "      <th></th>\n",
        "      <th></th>\n",
        "      <th></th>\n",
        "    </tr>\n",
        "  </thead>\n",
        "  <tbody>\n",
        "    <tr>\n",
        "      <th>Sun</th>\n",
        "      <td> 16.99</td>\n",
        "      <td> 1.01</td>\n",
        "      <td> Female</td>\n",
        "      <td>  No</td>\n",
        "      <td> Dinner</td>\n",
        "      <td> 2</td>\n",
        "    </tr>\n",
        "    <tr>\n",
        "      <th>Sun</th>\n",
        "      <td> 10.34</td>\n",
        "      <td> 1.66</td>\n",
        "      <td>   Male</td>\n",
        "      <td>  No</td>\n",
        "      <td> Dinner</td>\n",
        "      <td> 3</td>\n",
        "    </tr>\n",
        "    <tr>\n",
        "      <th>Sun</th>\n",
        "      <td> 21.01</td>\n",
        "      <td> 3.50</td>\n",
        "      <td>   Male</td>\n",
        "      <td>  No</td>\n",
        "      <td> Dinner</td>\n",
        "      <td> 3</td>\n",
        "    </tr>\n",
        "    <tr>\n",
        "      <th>Sun</th>\n",
        "      <td> 23.68</td>\n",
        "      <td> 3.31</td>\n",
        "      <td>   Male</td>\n",
        "      <td>  No</td>\n",
        "      <td> Dinner</td>\n",
        "      <td> 2</td>\n",
        "    </tr>\n",
        "    <tr>\n",
        "      <th>Sun</th>\n",
        "      <td> 24.59</td>\n",
        "      <td> 3.61</td>\n",
        "      <td> Female</td>\n",
        "      <td>  No</td>\n",
        "      <td> Dinner</td>\n",
        "      <td> 4</td>\n",
        "    </tr>\n",
        "    <tr>\n",
        "      <th>...</th>\n",
        "      <td>...</td>\n",
        "      <td>...</td>\n",
        "      <td>...</td>\n",
        "      <td>...</td>\n",
        "      <td>...</td>\n",
        "      <td>...</td>\n",
        "    </tr>\n",
        "    <tr>\n",
        "      <th>Sun</th>\n",
        "      <td> 20.90</td>\n",
        "      <td> 3.50</td>\n",
        "      <td> Female</td>\n",
        "      <td> Yes</td>\n",
        "      <td> Dinner</td>\n",
        "      <td> 3</td>\n",
        "    </tr>\n",
        "    <tr>\n",
        "      <th>Sun</th>\n",
        "      <td> 30.46</td>\n",
        "      <td> 2.00</td>\n",
        "      <td>   Male</td>\n",
        "      <td> Yes</td>\n",
        "      <td> Dinner</td>\n",
        "      <td> 5</td>\n",
        "    </tr>\n",
        "    <tr>\n",
        "      <th>Sun</th>\n",
        "      <td> 18.15</td>\n",
        "      <td> 3.50</td>\n",
        "      <td> Female</td>\n",
        "      <td> Yes</td>\n",
        "      <td> Dinner</td>\n",
        "      <td> 3</td>\n",
        "    </tr>\n",
        "    <tr>\n",
        "      <th>Sun</th>\n",
        "      <td> 23.10</td>\n",
        "      <td> 4.00</td>\n",
        "      <td>   Male</td>\n",
        "      <td> Yes</td>\n",
        "      <td> Dinner</td>\n",
        "      <td> 3</td>\n",
        "    </tr>\n",
        "    <tr>\n",
        "      <th>Sun</th>\n",
        "      <td> 15.69</td>\n",
        "      <td> 1.50</td>\n",
        "      <td>   Male</td>\n",
        "      <td> Yes</td>\n",
        "      <td> Dinner</td>\n",
        "      <td> 2</td>\n",
        "    </tr>\n",
        "  </tbody>\n",
        "</table>\n",
        "<p>76 rows \u00d7 6 columns</p>\n",
        "</div>"
       ],
       "metadata": {},
       "output_type": "pyout",
       "prompt_number": 60,
       "text": [
        "     total_bill   tip     sex smoker    time  size\n",
        "day                                               \n",
        "Sun       16.99  1.01  Female     No  Dinner     2\n",
        "Sun       10.34  1.66    Male     No  Dinner     3\n",
        "Sun       21.01  3.50    Male     No  Dinner     3\n",
        "Sun       23.68  3.31    Male     No  Dinner     2\n",
        "Sun       24.59  3.61  Female     No  Dinner     4\n",
        "..          ...   ...     ...    ...     ...   ...\n",
        "Sun       20.90  3.50  Female    Yes  Dinner     3\n",
        "Sun       30.46  2.00    Male    Yes  Dinner     5\n",
        "Sun       18.15  3.50  Female    Yes  Dinner     3\n",
        "Sun       23.10  4.00    Male    Yes  Dinner     3\n",
        "Sun       15.69  1.50    Male    Yes  Dinner     2\n",
        "\n",
        "[76 rows x 6 columns]"
       ]
      }
     ],
     "prompt_number": 60
    },
    {
     "cell_type": "code",
     "collapsed": true,
     "input": [
      "df.loc[df.day == 'Sun']"
     ],
     "language": "python",
     "metadata": {},
     "outputs": [
      {
       "html": [
        "<div style=\"max-height:1000px;max-width:1500px;overflow:auto;\">\n",
        "<table border=\"1\" class=\"dataframe\">\n",
        "  <thead>\n",
        "    <tr style=\"text-align: right;\">\n",
        "      <th></th>\n",
        "      <th>total_bill</th>\n",
        "      <th>tip</th>\n",
        "      <th>sex</th>\n",
        "      <th>smoker</th>\n",
        "      <th>day</th>\n",
        "      <th>time</th>\n",
        "      <th>size</th>\n",
        "    </tr>\n",
        "  </thead>\n",
        "  <tbody>\n",
        "    <tr>\n",
        "      <th>0  </th>\n",
        "      <td> 16.99</td>\n",
        "      <td> 1.01</td>\n",
        "      <td> Female</td>\n",
        "      <td>  No</td>\n",
        "      <td> Sun</td>\n",
        "      <td> Dinner</td>\n",
        "      <td> 2</td>\n",
        "    </tr>\n",
        "    <tr>\n",
        "      <th>1  </th>\n",
        "      <td> 10.34</td>\n",
        "      <td> 1.66</td>\n",
        "      <td>   Male</td>\n",
        "      <td>  No</td>\n",
        "      <td> Sun</td>\n",
        "      <td> Dinner</td>\n",
        "      <td> 3</td>\n",
        "    </tr>\n",
        "    <tr>\n",
        "      <th>2  </th>\n",
        "      <td> 21.01</td>\n",
        "      <td> 3.50</td>\n",
        "      <td>   Male</td>\n",
        "      <td>  No</td>\n",
        "      <td> Sun</td>\n",
        "      <td> Dinner</td>\n",
        "      <td> 3</td>\n",
        "    </tr>\n",
        "    <tr>\n",
        "      <th>3  </th>\n",
        "      <td> 23.68</td>\n",
        "      <td> 3.31</td>\n",
        "      <td>   Male</td>\n",
        "      <td>  No</td>\n",
        "      <td> Sun</td>\n",
        "      <td> Dinner</td>\n",
        "      <td> 2</td>\n",
        "    </tr>\n",
        "    <tr>\n",
        "      <th>4  </th>\n",
        "      <td> 24.59</td>\n",
        "      <td> 3.61</td>\n",
        "      <td> Female</td>\n",
        "      <td>  No</td>\n",
        "      <td> Sun</td>\n",
        "      <td> Dinner</td>\n",
        "      <td> 4</td>\n",
        "    </tr>\n",
        "    <tr>\n",
        "      <th>...</th>\n",
        "      <td>...</td>\n",
        "      <td>...</td>\n",
        "      <td>...</td>\n",
        "      <td>...</td>\n",
        "      <td>...</td>\n",
        "      <td>...</td>\n",
        "      <td>...</td>\n",
        "    </tr>\n",
        "    <tr>\n",
        "      <th>186</th>\n",
        "      <td> 20.90</td>\n",
        "      <td> 3.50</td>\n",
        "      <td> Female</td>\n",
        "      <td> Yes</td>\n",
        "      <td> Sun</td>\n",
        "      <td> Dinner</td>\n",
        "      <td> 3</td>\n",
        "    </tr>\n",
        "    <tr>\n",
        "      <th>187</th>\n",
        "      <td> 30.46</td>\n",
        "      <td> 2.00</td>\n",
        "      <td>   Male</td>\n",
        "      <td> Yes</td>\n",
        "      <td> Sun</td>\n",
        "      <td> Dinner</td>\n",
        "      <td> 5</td>\n",
        "    </tr>\n",
        "    <tr>\n",
        "      <th>188</th>\n",
        "      <td> 18.15</td>\n",
        "      <td> 3.50</td>\n",
        "      <td> Female</td>\n",
        "      <td> Yes</td>\n",
        "      <td> Sun</td>\n",
        "      <td> Dinner</td>\n",
        "      <td> 3</td>\n",
        "    </tr>\n",
        "    <tr>\n",
        "      <th>189</th>\n",
        "      <td> 23.10</td>\n",
        "      <td> 4.00</td>\n",
        "      <td>   Male</td>\n",
        "      <td> Yes</td>\n",
        "      <td> Sun</td>\n",
        "      <td> Dinner</td>\n",
        "      <td> 3</td>\n",
        "    </tr>\n",
        "    <tr>\n",
        "      <th>190</th>\n",
        "      <td> 15.69</td>\n",
        "      <td> 1.50</td>\n",
        "      <td>   Male</td>\n",
        "      <td> Yes</td>\n",
        "      <td> Sun</td>\n",
        "      <td> Dinner</td>\n",
        "      <td> 2</td>\n",
        "    </tr>\n",
        "  </tbody>\n",
        "</table>\n",
        "<p>76 rows \u00d7 7 columns</p>\n",
        "</div>"
       ],
       "metadata": {},
       "output_type": "pyout",
       "prompt_number": 61,
       "text": [
        "     total_bill   tip     sex smoker  day    time  size\n",
        "0         16.99  1.01  Female     No  Sun  Dinner     2\n",
        "1         10.34  1.66    Male     No  Sun  Dinner     3\n",
        "2         21.01  3.50    Male     No  Sun  Dinner     3\n",
        "3         23.68  3.31    Male     No  Sun  Dinner     2\n",
        "4         24.59  3.61  Female     No  Sun  Dinner     4\n",
        "..          ...   ...     ...    ...  ...     ...   ...\n",
        "186       20.90  3.50  Female    Yes  Sun  Dinner     3\n",
        "187       30.46  2.00    Male    Yes  Sun  Dinner     5\n",
        "188       18.15  3.50  Female    Yes  Sun  Dinner     3\n",
        "189       23.10  4.00    Male    Yes  Sun  Dinner     3\n",
        "190       15.69  1.50    Male    Yes  Sun  Dinner     2\n",
        "\n",
        "[76 rows x 7 columns]"
       ]
      }
     ],
     "prompt_number": 61
    },
    {
     "cell_type": "code",
     "collapsed": true,
     "input": [
      "df.loc[:, 'smoker']"
     ],
     "language": "python",
     "metadata": {},
     "outputs": [
      {
       "metadata": {},
       "output_type": "pyout",
       "prompt_number": 62,
       "text": [
        "0    No\n",
        "1    No\n",
        "2    No\n",
        "...\n",
        "241    Yes\n",
        "242     No\n",
        "243     No\n",
        "Name: smoker, Length: 244, dtype: object"
       ]
      }
     ],
     "prompt_number": 62
    },
    {
     "cell_type": "code",
     "collapsed": true,
     "input": [
      "df.iloc[:, 3]  # same as df.loc[:, 'smoker']"
     ],
     "language": "python",
     "metadata": {},
     "outputs": [
      {
       "metadata": {},
       "output_type": "pyout",
       "prompt_number": 63,
       "text": [
        "0    No\n",
        "1    No\n",
        "2    No\n",
        "...\n",
        "241    Yes\n",
        "242     No\n",
        "243     No\n",
        "Name: smoker, Length: 244, dtype: object"
       ]
      }
     ],
     "prompt_number": 63
    },
    {
     "cell_type": "heading",
     "level": 3,
     "metadata": {},
     "source": [
      "Add and delete columns as you please"
     ]
    },
    {
     "cell_type": "code",
     "collapsed": true,
     "input": [
      "df['pct_tip'] = df.tip / df.total_bill\n",
      "df['avg_price'] = df.total_bill / df.size"
     ],
     "language": "python",
     "metadata": {},
     "outputs": [],
     "prompt_number": 64
    },
    {
     "cell_type": "code",
     "collapsed": true,
     "input": [
      "df.avg_price.hist(bins=20)"
     ],
     "language": "python",
     "metadata": {},
     "outputs": [
      {
       "metadata": {},
       "output_type": "pyout",
       "prompt_number": 65,
       "text": [
        "<matplotlib.axes._subplots.AxesSubplot at 0x663d710>"
       ]
      },
      {
       "metadata": {},
       "output_type": "display_data",
       "png": "[encoded data removed]",
       "text": [
        "<matplotlib.figure.Figure at 0x663da10>"
       ]
      }
     ],
     "prompt_number": 65
    },
    {
     "cell_type": "code",
     "collapsed": false,
     "input": [
      "del df['avg_price']\n",
      "del df['pct_tip']"
     ],
     "language": "python",
     "metadata": {},
     "outputs": [],
     "prompt_number": 66
    },
    {
     "cell_type": "code",
     "collapsed": true,
     "input": [
      "# multiple columns, multiple rows\n",
      "df.loc[[0, 2], ['sex', 'tip']]"
     ],
     "language": "python",
     "metadata": {},
     "outputs": [
      {
       "html": [
        "<div style=\"max-height:1000px;max-width:1500px;overflow:auto;\">\n",
        "<table border=\"1\" class=\"dataframe\">\n",
        "  <thead>\n",
        "    <tr style=\"text-align: right;\">\n",
        "      <th></th>\n",
        "      <th>sex</th>\n",
        "      <th>tip</th>\n",
        "    </tr>\n",
        "  </thead>\n",
        "  <tbody>\n",
        "    <tr>\n",
        "      <th>0</th>\n",
        "      <td> Female</td>\n",
        "      <td> 1.01</td>\n",
        "    </tr>\n",
        "    <tr>\n",
        "      <th>2</th>\n",
        "      <td>   Male</td>\n",
        "      <td> 3.50</td>\n",
        "    </tr>\n",
        "  </tbody>\n",
        "</table>\n",
        "</div>"
       ],
       "metadata": {},
       "output_type": "pyout",
       "prompt_number": 67,
       "text": [
        "      sex   tip\n",
        "0  Female  1.01\n",
        "2    Male  3.50"
       ]
      }
     ],
     "prompt_number": 67
    },
    {
     "cell_type": "code",
     "collapsed": true,
     "input": [
      "df.loc[:10, ['total_bill', 'tip']]  # note this is inclusive"
     ],
     "language": "python",
     "metadata": {},
     "outputs": [
      {
       "html": [
        "<div style=\"max-height:1000px;max-width:1500px;overflow:auto;\">\n",
        "<table border=\"1\" class=\"dataframe\">\n",
        "  <thead>\n",
        "    <tr style=\"text-align: right;\">\n",
        "      <th></th>\n",
        "      <th>total_bill</th>\n",
        "      <th>tip</th>\n",
        "    </tr>\n",
        "  </thead>\n",
        "  <tbody>\n",
        "    <tr>\n",
        "      <th>0 </th>\n",
        "      <td> 16.99</td>\n",
        "      <td> 1.01</td>\n",
        "    </tr>\n",
        "    <tr>\n",
        "      <th>1 </th>\n",
        "      <td> 10.34</td>\n",
        "      <td> 1.66</td>\n",
        "    </tr>\n",
        "    <tr>\n",
        "      <th>2 </th>\n",
        "      <td> 21.01</td>\n",
        "      <td> 3.50</td>\n",
        "    </tr>\n",
        "    <tr>\n",
        "      <th>3 </th>\n",
        "      <td> 23.68</td>\n",
        "      <td> 3.31</td>\n",
        "    </tr>\n",
        "    <tr>\n",
        "      <th>4 </th>\n",
        "      <td> 24.59</td>\n",
        "      <td> 3.61</td>\n",
        "    </tr>\n",
        "    <tr>\n",
        "      <th>...</th>\n",
        "      <td>...</td>\n",
        "      <td>...</td>\n",
        "    </tr>\n",
        "    <tr>\n",
        "      <th>6 </th>\n",
        "      <td>  8.77</td>\n",
        "      <td> 2.00</td>\n",
        "    </tr>\n",
        "    <tr>\n",
        "      <th>7 </th>\n",
        "      <td> 26.88</td>\n",
        "      <td> 3.12</td>\n",
        "    </tr>\n",
        "    <tr>\n",
        "      <th>8 </th>\n",
        "      <td> 15.04</td>\n",
        "      <td> 1.96</td>\n",
        "    </tr>\n",
        "    <tr>\n",
        "      <th>9 </th>\n",
        "      <td> 14.78</td>\n",
        "      <td> 3.23</td>\n",
        "    </tr>\n",
        "    <tr>\n",
        "      <th>10</th>\n",
        "      <td> 10.27</td>\n",
        "      <td> 1.71</td>\n",
        "    </tr>\n",
        "  </tbody>\n",
        "</table>\n",
        "<p>11 rows \u00d7 2 columns</p>\n",
        "</div>"
       ],
       "metadata": {},
       "output_type": "pyout",
       "prompt_number": 68,
       "text": [
        "    total_bill   tip\n",
        "0        16.99  1.01\n",
        "1        10.34  1.66\n",
        "2        21.01  3.50\n",
        "3        23.68  3.31\n",
        "4        24.59  3.61\n",
        "..         ...   ...\n",
        "6         8.77  2.00\n",
        "7        26.88  3.12\n",
        "8        15.04  1.96\n",
        "9        14.78  3.23\n",
        "10       10.27  1.71\n",
        "\n",
        "[11 rows x 2 columns]"
       ]
      }
     ],
     "prompt_number": 68
    },
    {
     "cell_type": "code",
     "collapsed": true,
     "input": [
      "# and with iloc\n",
      "df.iloc[:5]  # exclusive endpoints"
     ],
     "language": "python",
     "metadata": {},
     "outputs": [
      {
       "html": [
        "<div style=\"max-height:1000px;max-width:1500px;overflow:auto;\">\n",
        "<table border=\"1\" class=\"dataframe\">\n",
        "  <thead>\n",
        "    <tr style=\"text-align: right;\">\n",
        "      <th></th>\n",
        "      <th>total_bill</th>\n",
        "      <th>tip</th>\n",
        "      <th>sex</th>\n",
        "      <th>smoker</th>\n",
        "      <th>day</th>\n",
        "      <th>time</th>\n",
        "      <th>size</th>\n",
        "    </tr>\n",
        "  </thead>\n",
        "  <tbody>\n",
        "    <tr>\n",
        "      <th>0</th>\n",
        "      <td> 16.99</td>\n",
        "      <td> 1.01</td>\n",
        "      <td> Female</td>\n",
        "      <td> No</td>\n",
        "      <td> Sun</td>\n",
        "      <td> Dinner</td>\n",
        "      <td> 2</td>\n",
        "    </tr>\n",
        "    <tr>\n",
        "      <th>1</th>\n",
        "      <td> 10.34</td>\n",
        "      <td> 1.66</td>\n",
        "      <td>   Male</td>\n",
        "      <td> No</td>\n",
        "      <td> Sun</td>\n",
        "      <td> Dinner</td>\n",
        "      <td> 3</td>\n",
        "    </tr>\n",
        "    <tr>\n",
        "      <th>2</th>\n",
        "      <td> 21.01</td>\n",
        "      <td> 3.50</td>\n",
        "      <td>   Male</td>\n",
        "      <td> No</td>\n",
        "      <td> Sun</td>\n",
        "      <td> Dinner</td>\n",
        "      <td> 3</td>\n",
        "    </tr>\n",
        "    <tr>\n",
        "      <th>3</th>\n",
        "      <td> 23.68</td>\n",
        "      <td> 3.31</td>\n",
        "      <td>   Male</td>\n",
        "      <td> No</td>\n",
        "      <td> Sun</td>\n",
        "      <td> Dinner</td>\n",
        "      <td> 2</td>\n",
        "    </tr>\n",
        "    <tr>\n",
        "      <th>4</th>\n",
        "      <td> 24.59</td>\n",
        "      <td> 3.61</td>\n",
        "      <td> Female</td>\n",
        "      <td> No</td>\n",
        "      <td> Sun</td>\n",
        "      <td> Dinner</td>\n",
        "      <td> 4</td>\n",
        "    </tr>\n",
        "  </tbody>\n",
        "</table>\n",
        "</div>"
       ],
       "metadata": {},
       "output_type": "pyout",
       "prompt_number": 69,
       "text": [
        "   total_bill   tip     sex smoker  day    time  size\n",
        "0       16.99  1.01  Female     No  Sun  Dinner     2\n",
        "1       10.34  1.66    Male     No  Sun  Dinner     3\n",
        "2       21.01  3.50    Male     No  Sun  Dinner     3\n",
        "3       23.68  3.31    Male     No  Sun  Dinner     2\n",
        "4       24.59  3.61  Female     No  Sun  Dinner     4"
       ]
      }
     ],
     "prompt_number": 69
    },
    {
     "cell_type": "heading",
     "level": 2,
     "metadata": {},
     "source": [
      "Applying Functions to Pandas Objects"
     ]
    },
    {
     "cell_type": "markdown",
     "metadata": {},
     "source": [
      "Apply a function over the columns of a ``DataFrame``"
     ]
    },
    {
     "cell_type": "code",
     "collapsed": false,
     "input": [
      "# np.ptp is point-to-point difference, i.e., range\n",
      "df[['total_bill', 'tip', 'size']].apply(np.ptp)"
     ],
     "language": "python",
     "metadata": {},
     "outputs": [
      {
       "metadata": {},
       "output_type": "pyout",
       "prompt_number": 70,
       "text": [
        "total_bill    47.74\n",
        "tip            9.00\n",
        "size           5.00\n",
        "dtype: float64"
       ]
      }
     ],
     "prompt_number": 70
    },
    {
     "cell_type": "code",
     "collapsed": true,
     "input": [
      "days = ['Sun', 'Mon', 'Tues', 'Wed', 'Thur', 'Fri', 'Sat']"
     ],
     "language": "python",
     "metadata": {},
     "outputs": [],
     "prompt_number": 71
    },
    {
     "cell_type": "code",
     "collapsed": false,
     "input": [
      "df.day.map(days.index)"
     ],
     "language": "python",
     "metadata": {},
     "outputs": [
      {
       "metadata": {},
       "output_type": "pyout",
       "prompt_number": 72,
       "text": [
        "0    0\n",
        "1    0\n",
        "2    0\n",
        "...\n",
        "241    6\n",
        "242    6\n",
        "243    4\n",
        "Name: day, Length: 244, dtype: int64"
       ]
      }
     ],
     "prompt_number": 72
    },
    {
     "cell_type": "heading",
     "level": 2,
     "metadata": {},
     "source": [
      "[Reductions](http://pandas.pydata.org/pandas-docs/stable/basics.html#descriptive-statistics)"
     ]
    },
    {
     "cell_type": "markdown",
     "metadata": {},
     "source": [
      "For example, the ``DataFrame.sum()`` method results in a ``Series`` object and by default sums across the rows. If you want to sum across the columns pass ``axis=1``, similar to the ``numpy`` convention"
     ]
    },
    {
     "cell_type": "markdown",
     "metadata": {},
     "source": [
      "In general, reduction operations result in a ``Series`` object.\n",
      "\n",
      "Some example reduction functions:\n",
      "\n",
      "* ``mean``, ``median``, and ``mode``\n",
      "* ``count``\n",
      "* ``std``, ``var``\n",
      "\n",
      "*NOTE:* **These ignore ``NaN``s**"
     ]
    },
    {
     "cell_type": "code",
     "collapsed": true,
     "input": [
      "df.sum()  # whoa! + is defined for strings"
     ],
     "language": "python",
     "metadata": {},
     "outputs": [
      {
       "metadata": {},
       "output_type": "pyout",
       "prompt_number": 73,
       "text": [
        "total_bill                                              4827.77\n",
        "tip                                                      731.58\n",
        "sex           FemaleMaleMaleMaleFemaleMaleMaleMaleMaleMaleMa...\n",
        "smoker        NoNoNoNoNoNoNoNoNoNoNoNoNoNoNoNoNoNoNoNoNoNoNo...\n",
        "day           SunSunSunSunSunSunSunSunSunSunSunSunSunSunSunS...\n",
        "time          DinnerDinnerDinnerDinnerDinnerDinnerDinnerDinn...\n",
        "size                                                        627\n",
        "dtype: object"
       ]
      }
     ],
     "prompt_number": 73
    },
    {
     "cell_type": "code",
     "collapsed": true,
     "input": [
      "df.sum(numeric_only=True)"
     ],
     "language": "python",
     "metadata": {},
     "outputs": [
      {
       "metadata": {},
       "output_type": "pyout",
       "prompt_number": 74,
       "text": [
        "total_bill    4827.77\n",
        "tip            731.58\n",
        "size           627.00\n",
        "dtype: float64"
       ]
      }
     ],
     "prompt_number": 74
    },
    {
     "cell_type": "code",
     "collapsed": true,
     "input": [
      "df.count() / df.shape[0]  # we don't have any nans"
     ],
     "language": "python",
     "metadata": {},
     "outputs": [
      {
       "metadata": {},
       "output_type": "pyout",
       "prompt_number": 75,
       "text": [
        "total_bill    1\n",
        "tip           1\n",
        "sex           1\n",
        "smoker        1\n",
        "day           1\n",
        "time          1\n",
        "size          1\n",
        "dtype: float64"
       ]
      }
     ],
     "prompt_number": 75
    },
    {
     "cell_type": "code",
     "collapsed": true,
     "input": [
      "df.var()"
     ],
     "language": "python",
     "metadata": {},
     "outputs": [
      {
       "metadata": {},
       "output_type": "pyout",
       "prompt_number": 76,
       "text": [
        "total_bill    79.252939\n",
        "tip            1.914455\n",
        "size           0.904591\n",
        "dtype: float64"
       ]
      }
     ],
     "prompt_number": 76
    },
    {
     "cell_type": "code",
     "collapsed": true,
     "input": [
      "df.mean()"
     ],
     "language": "python",
     "metadata": {},
     "outputs": [
      {
       "metadata": {},
       "output_type": "pyout",
       "prompt_number": 77,
       "text": [
        "total_bill    19.785943\n",
        "tip            2.998279\n",
        "size           2.569672\n",
        "dtype: float64"
       ]
      }
     ],
     "prompt_number": 77
    },
    {
     "cell_type": "heading",
     "level": 2,
     "metadata": {},
     "source": [
      "[``GroupBy``](http://pandas.pydata.org/pandas-docs/stable/groupby.html)"
     ]
    },
    {
     "cell_type": "markdown",
     "metadata": {},
     "source": [
      "``pandas``' ``GroupBy`` functionality allows you to perform operations on subsets of a ``DataFrame`` and then  combines the results for you at the end"
     ]
    },
    {
     "cell_type": "code",
     "collapsed": true,
     "input": [
      "gb = df.groupby('sex')\n",
      "gb.mean()"
     ],
     "language": "python",
     "metadata": {},
     "outputs": [
      {
       "html": [
        "<div style=\"max-height:1000px;max-width:1500px;overflow:auto;\">\n",
        "<table border=\"1\" class=\"dataframe\">\n",
        "  <thead>\n",
        "    <tr style=\"text-align: right;\">\n",
        "      <th></th>\n",
        "      <th>total_bill</th>\n",
        "      <th>tip</th>\n",
        "      <th>size</th>\n",
        "    </tr>\n",
        "    <tr>\n",
        "      <th>sex</th>\n",
        "      <th></th>\n",
        "      <th></th>\n",
        "      <th></th>\n",
        "    </tr>\n",
        "  </thead>\n",
        "  <tbody>\n",
        "    <tr>\n",
        "      <th>Female</th>\n",
        "      <td> 18.056897</td>\n",
        "      <td> 2.833448</td>\n",
        "      <td> 2.459770</td>\n",
        "    </tr>\n",
        "    <tr>\n",
        "      <th>Male</th>\n",
        "      <td> 20.744076</td>\n",
        "      <td> 3.089618</td>\n",
        "      <td> 2.630573</td>\n",
        "    </tr>\n",
        "  </tbody>\n",
        "</table>\n",
        "</div>"
       ],
       "metadata": {},
       "output_type": "pyout",
       "prompt_number": 78,
       "text": [
        "        total_bill       tip      size\n",
        "sex                                   \n",
        "Female   18.056897  2.833448  2.459770\n",
        "Male     20.744076  3.089618  2.630573"
       ]
      }
     ],
     "prompt_number": 78
    },
    {
     "cell_type": "code",
     "collapsed": true,
     "input": [
      "gb = df.groupby(['sex', 'smoker'])\n",
      "gb.std()"
     ],
     "language": "python",
     "metadata": {},
     "outputs": [
      {
       "html": [
        "<div style=\"max-height:1000px;max-width:1500px;overflow:auto;\">\n",
        "<table border=\"1\" class=\"dataframe\">\n",
        "  <thead>\n",
        "    <tr style=\"text-align: right;\">\n",
        "      <th></th>\n",
        "      <th></th>\n",
        "      <th>total_bill</th>\n",
        "      <th>tip</th>\n",
        "      <th>size</th>\n",
        "    </tr>\n",
        "    <tr>\n",
        "      <th>sex</th>\n",
        "      <th>smoker</th>\n",
        "      <th></th>\n",
        "      <th></th>\n",
        "      <th></th>\n",
        "    </tr>\n",
        "  </thead>\n",
        "  <tbody>\n",
        "    <tr>\n",
        "      <th rowspan=\"2\" valign=\"top\">Female</th>\n",
        "      <th>No</th>\n",
        "      <td> 7.286455</td>\n",
        "      <td> 1.128425</td>\n",
        "      <td> 1.073146</td>\n",
        "    </tr>\n",
        "    <tr>\n",
        "      <th>Yes</th>\n",
        "      <td> 9.189751</td>\n",
        "      <td> 1.219916</td>\n",
        "      <td> 0.613917</td>\n",
        "    </tr>\n",
        "    <tr>\n",
        "      <th rowspan=\"2\" valign=\"top\">Male</th>\n",
        "      <th>No</th>\n",
        "      <td> 8.726566</td>\n",
        "      <td> 1.489559</td>\n",
        "      <td> 0.989094</td>\n",
        "    </tr>\n",
        "    <tr>\n",
        "      <th>Yes</th>\n",
        "      <td> 9.911845</td>\n",
        "      <td> 1.500120</td>\n",
        "      <td> 0.892530</td>\n",
        "    </tr>\n",
        "  </tbody>\n",
        "</table>\n",
        "</div>"
       ],
       "metadata": {},
       "output_type": "pyout",
       "prompt_number": 79,
       "text": [
        "               total_bill       tip      size\n",
        "sex    smoker                                \n",
        "Female No        7.286455  1.128425  1.073146\n",
        "       Yes       9.189751  1.219916  0.613917\n",
        "Male   No        8.726566  1.489559  0.989094\n",
        "       Yes       9.911845  1.500120  0.892530"
       ]
      }
     ],
     "prompt_number": 79
    },
    {
     "cell_type": "code",
     "collapsed": true,
     "input": [
      "# can pass multiple reducers to agg\n",
      "gb.agg(['mean', 'std', 'median'])"
     ],
     "language": "python",
     "metadata": {},
     "outputs": [
      {
       "html": [
        "<div style=\"max-height:1000px;max-width:1500px;overflow:auto;\">\n",
        "<table border=\"1\" class=\"dataframe\">\n",
        "  <thead>\n",
        "    <tr>\n",
        "      <th></th>\n",
        "      <th></th>\n",
        "      <th colspan=\"3\" halign=\"left\">total_bill</th>\n",
        "      <th colspan=\"3\" halign=\"left\">tip</th>\n",
        "      <th colspan=\"3\" halign=\"left\">size</th>\n",
        "    </tr>\n",
        "    <tr>\n",
        "      <th></th>\n",
        "      <th></th>\n",
        "      <th>mean</th>\n",
        "      <th>std</th>\n",
        "      <th>median</th>\n",
        "      <th>mean</th>\n",
        "      <th>std</th>\n",
        "      <th>median</th>\n",
        "      <th>mean</th>\n",
        "      <th>std</th>\n",
        "      <th>median</th>\n",
        "    </tr>\n",
        "    <tr>\n",
        "      <th>sex</th>\n",
        "      <th>smoker</th>\n",
        "      <th></th>\n",
        "      <th></th>\n",
        "      <th></th>\n",
        "      <th></th>\n",
        "      <th></th>\n",
        "      <th></th>\n",
        "      <th></th>\n",
        "      <th></th>\n",
        "      <th></th>\n",
        "    </tr>\n",
        "  </thead>\n",
        "  <tbody>\n",
        "    <tr>\n",
        "      <th rowspan=\"2\" valign=\"top\">Female</th>\n",
        "      <th>No</th>\n",
        "      <td> 18.105185</td>\n",
        "      <td> 7.286455</td>\n",
        "      <td> 16.69</td>\n",
        "      <td> 2.773519</td>\n",
        "      <td> 1.128425</td>\n",
        "      <td> 2.68</td>\n",
        "      <td> 2.592593</td>\n",
        "      <td> 1.073146</td>\n",
        "      <td> 2</td>\n",
        "    </tr>\n",
        "    <tr>\n",
        "      <th>Yes</th>\n",
        "      <td> 17.977879</td>\n",
        "      <td> 9.189751</td>\n",
        "      <td> 16.27</td>\n",
        "      <td> 2.931515</td>\n",
        "      <td> 1.219916</td>\n",
        "      <td> 2.88</td>\n",
        "      <td> 2.242424</td>\n",
        "      <td> 0.613917</td>\n",
        "      <td> 2</td>\n",
        "    </tr>\n",
        "    <tr>\n",
        "      <th rowspan=\"2\" valign=\"top\">Male</th>\n",
        "      <th>No</th>\n",
        "      <td> 19.791237</td>\n",
        "      <td> 8.726566</td>\n",
        "      <td> 18.24</td>\n",
        "      <td> 3.113402</td>\n",
        "      <td> 1.489559</td>\n",
        "      <td> 2.74</td>\n",
        "      <td> 2.711340</td>\n",
        "      <td> 0.989094</td>\n",
        "      <td> 2</td>\n",
        "    </tr>\n",
        "    <tr>\n",
        "      <th>Yes</th>\n",
        "      <td> 22.284500</td>\n",
        "      <td> 9.911845</td>\n",
        "      <td> 20.39</td>\n",
        "      <td> 3.051167</td>\n",
        "      <td> 1.500120</td>\n",
        "      <td> 3.00</td>\n",
        "      <td> 2.500000</td>\n",
        "      <td> 0.892530</td>\n",
        "      <td> 2</td>\n",
        "    </tr>\n",
        "  </tbody>\n",
        "</table>\n",
        "</div>"
       ],
       "metadata": {},
       "output_type": "pyout",
       "prompt_number": 80,
       "text": [
        "               total_bill                         tip                    \\\n",
        "                     mean       std  median      mean       std  median   \n",
        "sex    smoker                                                             \n",
        "Female No       18.105185  7.286455   16.69  2.773519  1.128425    2.68   \n",
        "       Yes      17.977879  9.189751   16.27  2.931515  1.219916    2.88   \n",
        "Male   No       19.791237  8.726566   18.24  3.113402  1.489559    2.74   \n",
        "       Yes      22.284500  9.911845   20.39  3.051167  1.500120    3.00   \n",
        "\n",
        "                   size                    \n",
        "                   mean       std  median  \n",
        "sex    smoker                              \n",
        "Female No      2.592593  1.073146       2  \n",
        "       Yes     2.242424  0.613917       2  \n",
        "Male   No      2.711340  0.989094       2  \n",
        "       Yes     2.500000  0.892530       2  "
       ]
      }
     ],
     "prompt_number": 80
    },
    {
     "cell_type": "heading",
     "level": 3,
     "metadata": {},
     "source": [
      "``apply``"
     ]
    },
    {
     "cell_type": "markdown",
     "metadata": {},
     "source": [
      "``GroupBy.apply()`` take a `callable` and calls it on each group"
     ]
    },
    {
     "cell_type": "code",
     "collapsed": true,
     "input": [
      "def stdize(x):\n",
      "    return (x - x.mean()) / x.std()\n",
      "    \n",
      "df['tb_std'] = gb.total_bill.apply(stdize)"
     ],
     "language": "python",
     "metadata": {},
     "outputs": [],
     "prompt_number": 81
    },
    {
     "cell_type": "code",
     "collapsed": true,
     "input": [
      "ax = df.tb_std.plot(kind='kde', lw=3)\n",
      "df.tb_std.hist(ax=ax, normed=True)\n",
      "\n",
      "ax.set_xlabel('$z$-score', fontsize=20)\n",
      "ax.set_title(r'Total Bill Stdized by Sex$\\times$ Smoker')\n",
      "\n",
      "ax.axis('tight')\n",
      "plt.gcf().tight_layout()"
     ],
     "language": "python",
     "metadata": {},
     "outputs": [
      {
       "metadata": {},
       "output_type": "display_data",
       "png": "[encoded data removed]",
       "text": [
        "<matplotlib.figure.Figure at 0x6766ed0>"
       ]
      }
     ],
     "prompt_number": 82
    },
    {
     "cell_type": "heading",
     "level": 2,
     "metadata": {},
     "source": [
      "[``merge``](http://pandas.pydata.org/pandas-docs/stable/merging.html)"
     ]
    },
    {
     "cell_type": "markdown",
     "metadata": {},
     "source": [
      "Often times you have data sets of different shapes with a common column that you want to join on\n",
      "\n",
      "``pandas`` does this a couple of ways, but the main entry point is ``pandas.merge``"
     ]
    },
    {
     "cell_type": "code",
     "collapsed": true,
     "input": [
      "# create some frames\n",
      "n = 2000\n",
      "n2 = n // 2\n",
      "ads = DataFrame({'page_visits_per_day': np.random.poisson(10, size=n),\n",
      "                 'user_id': randint(9, size=n)})\n",
      "users = DataFrame({'likes_per_day': np.random.poisson(30, size=n2),\n",
      "                   'user_id': randint(6, size=n2)})\n",
      "ads"
     ],
     "language": "python",
     "metadata": {},
     "outputs": [
      {
       "html": [
        "<div style=\"max-height:1000px;max-width:1500px;overflow:auto;\">\n",
        "<table border=\"1\" class=\"dataframe\">\n",
        "  <thead>\n",
        "    <tr style=\"text-align: right;\">\n",
        "      <th></th>\n",
        "      <th>page_visits_per_day</th>\n",
        "      <th>user_id</th>\n",
        "    </tr>\n",
        "  </thead>\n",
        "  <tbody>\n",
        "    <tr>\n",
        "      <th>0   </th>\n",
        "      <td> 13</td>\n",
        "      <td> 2</td>\n",
        "    </tr>\n",
        "    <tr>\n",
        "      <th>1   </th>\n",
        "      <td> 11</td>\n",
        "      <td> 3</td>\n",
        "    </tr>\n",
        "    <tr>\n",
        "      <th>2   </th>\n",
        "      <td>  9</td>\n",
        "      <td> 3</td>\n",
        "    </tr>\n",
        "    <tr>\n",
        "      <th>3   </th>\n",
        "      <td> 12</td>\n",
        "      <td> 7</td>\n",
        "    </tr>\n",
        "    <tr>\n",
        "      <th>4   </th>\n",
        "      <td>  6</td>\n",
        "      <td> 8</td>\n",
        "    </tr>\n",
        "    <tr>\n",
        "      <th>...</th>\n",
        "      <td>...</td>\n",
        "      <td>...</td>\n",
        "    </tr>\n",
        "    <tr>\n",
        "      <th>1995</th>\n",
        "      <td>  5</td>\n",
        "      <td> 1</td>\n",
        "    </tr>\n",
        "    <tr>\n",
        "      <th>1996</th>\n",
        "      <td> 11</td>\n",
        "      <td> 8</td>\n",
        "    </tr>\n",
        "    <tr>\n",
        "      <th>1997</th>\n",
        "      <td> 11</td>\n",
        "      <td> 7</td>\n",
        "    </tr>\n",
        "    <tr>\n",
        "      <th>1998</th>\n",
        "      <td>  8</td>\n",
        "      <td> 5</td>\n",
        "    </tr>\n",
        "    <tr>\n",
        "      <th>1999</th>\n",
        "      <td>  9</td>\n",
        "      <td> 6</td>\n",
        "    </tr>\n",
        "  </tbody>\n",
        "</table>\n",
        "<p>2000 rows \u00d7 2 columns</p>\n",
        "</div>"
       ],
       "metadata": {},
       "output_type": "pyout",
       "prompt_number": 83,
       "text": [
        "      page_visits_per_day  user_id\n",
        "0                      13        2\n",
        "1                      11        3\n",
        "2                       9        3\n",
        "3                      12        7\n",
        "4                       6        8\n",
        "...                   ...      ...\n",
        "1995                    5        1\n",
        "1996                   11        8\n",
        "1997                   11        7\n",
        "1998                    8        5\n",
        "1999                    9        6\n",
        "\n",
        "[2000 rows x 2 columns]"
       ]
      }
     ],
     "prompt_number": 83
    },
    {
     "cell_type": "code",
     "collapsed": true,
     "input": [
      "users"
     ],
     "language": "python",
     "metadata": {},
     "outputs": [
      {
       "html": [
        "<div style=\"max-height:1000px;max-width:1500px;overflow:auto;\">\n",
        "<table border=\"1\" class=\"dataframe\">\n",
        "  <thead>\n",
        "    <tr style=\"text-align: right;\">\n",
        "      <th></th>\n",
        "      <th>likes_per_day</th>\n",
        "      <th>user_id</th>\n",
        "    </tr>\n",
        "  </thead>\n",
        "  <tbody>\n",
        "    <tr>\n",
        "      <th>0  </th>\n",
        "      <td> 31</td>\n",
        "      <td> 0</td>\n",
        "    </tr>\n",
        "    <tr>\n",
        "      <th>1  </th>\n",
        "      <td> 30</td>\n",
        "      <td> 3</td>\n",
        "    </tr>\n",
        "    <tr>\n",
        "      <th>2  </th>\n",
        "      <td> 32</td>\n",
        "      <td> 3</td>\n",
        "    </tr>\n",
        "    <tr>\n",
        "      <th>3  </th>\n",
        "      <td> 32</td>\n",
        "      <td> 4</td>\n",
        "    </tr>\n",
        "    <tr>\n",
        "      <th>4  </th>\n",
        "      <td> 36</td>\n",
        "      <td> 3</td>\n",
        "    </tr>\n",
        "    <tr>\n",
        "      <th>...</th>\n",
        "      <td>...</td>\n",
        "      <td>...</td>\n",
        "    </tr>\n",
        "    <tr>\n",
        "      <th>995</th>\n",
        "      <td> 30</td>\n",
        "      <td> 5</td>\n",
        "    </tr>\n",
        "    <tr>\n",
        "      <th>996</th>\n",
        "      <td> 35</td>\n",
        "      <td> 0</td>\n",
        "    </tr>\n",
        "    <tr>\n",
        "      <th>997</th>\n",
        "      <td> 26</td>\n",
        "      <td> 0</td>\n",
        "    </tr>\n",
        "    <tr>\n",
        "      <th>998</th>\n",
        "      <td> 35</td>\n",
        "      <td> 2</td>\n",
        "    </tr>\n",
        "    <tr>\n",
        "      <th>999</th>\n",
        "      <td> 31</td>\n",
        "      <td> 1</td>\n",
        "    </tr>\n",
        "  </tbody>\n",
        "</table>\n",
        "<p>1000 rows \u00d7 2 columns</p>\n",
        "</div>"
       ],
       "metadata": {},
       "output_type": "pyout",
       "prompt_number": 84,
       "text": [
        "     likes_per_day  user_id\n",
        "0               31        0\n",
        "1               30        3\n",
        "2               32        3\n",
        "3               32        4\n",
        "4               36        3\n",
        "..             ...      ...\n",
        "995             30        5\n",
        "996             35        0\n",
        "997             26        0\n",
        "998             35        2\n",
        "999             31        1\n",
        "\n",
        "[1000 rows x 2 columns]"
       ]
      }
     ],
     "prompt_number": 84
    },
    {
     "cell_type": "code",
     "collapsed": true,
     "input": [
      "merg = pd.merge(ads, users)\n",
      "merg.sort('user_id')"
     ],
     "language": "python",
     "metadata": {},
     "outputs": [
      {
       "html": [
        "<div style=\"max-height:1000px;max-width:1500px;overflow:auto;\">\n",
        "<table border=\"1\" class=\"dataframe\">\n",
        "  <thead>\n",
        "    <tr style=\"text-align: right;\">\n",
        "      <th></th>\n",
        "      <th>page_visits_per_day</th>\n",
        "      <th>user_id</th>\n",
        "      <th>likes_per_day</th>\n",
        "    </tr>\n",
        "  </thead>\n",
        "  <tbody>\n",
        "    <tr>\n",
        "      <th>112880</th>\n",
        "      <td>  6</td>\n",
        "      <td> 0</td>\n",
        "      <td> 21</td>\n",
        "    </tr>\n",
        "    <tr>\n",
        "      <th>118732</th>\n",
        "      <td> 13</td>\n",
        "      <td> 0</td>\n",
        "      <td> 32</td>\n",
        "    </tr>\n",
        "    <tr>\n",
        "      <th>118731</th>\n",
        "      <td> 13</td>\n",
        "      <td> 0</td>\n",
        "      <td> 25</td>\n",
        "    </tr>\n",
        "    <tr>\n",
        "      <th>118730</th>\n",
        "      <td> 13</td>\n",
        "      <td> 0</td>\n",
        "      <td> 33</td>\n",
        "    </tr>\n",
        "    <tr>\n",
        "      <th>118729</th>\n",
        "      <td> 13</td>\n",
        "      <td> 0</td>\n",
        "      <td> 25</td>\n",
        "    </tr>\n",
        "    <tr>\n",
        "      <th>...</th>\n",
        "      <td>...</td>\n",
        "      <td>...</td>\n",
        "      <td>...</td>\n",
        "    </tr>\n",
        "    <tr>\n",
        "      <th>198675</th>\n",
        "      <td> 13</td>\n",
        "      <td> 5</td>\n",
        "      <td> 31</td>\n",
        "    </tr>\n",
        "    <tr>\n",
        "      <th>198676</th>\n",
        "      <td> 13</td>\n",
        "      <td> 5</td>\n",
        "      <td> 24</td>\n",
        "    </tr>\n",
        "    <tr>\n",
        "      <th>198677</th>\n",
        "      <td> 13</td>\n",
        "      <td> 5</td>\n",
        "      <td> 28</td>\n",
        "    </tr>\n",
        "    <tr>\n",
        "      <th>198670</th>\n",
        "      <td> 13</td>\n",
        "      <td> 5</td>\n",
        "      <td> 31</td>\n",
        "    </tr>\n",
        "    <tr>\n",
        "      <th>225761</th>\n",
        "      <td>  8</td>\n",
        "      <td> 5</td>\n",
        "      <td> 30</td>\n",
        "    </tr>\n",
        "  </tbody>\n",
        "</table>\n",
        "<p>225762 rows \u00d7 3 columns</p>\n",
        "</div>"
       ],
       "metadata": {},
       "output_type": "pyout",
       "prompt_number": 85,
       "text": [
        "        page_visits_per_day  user_id  likes_per_day\n",
        "112880                    6        0             21\n",
        "118732                   13        0             32\n",
        "118731                   13        0             25\n",
        "118730                   13        0             33\n",
        "118729                   13        0             25\n",
        "...                     ...      ...            ...\n",
        "198675                   13        5             31\n",
        "198676                   13        5             24\n",
        "198677                   13        5             28\n",
        "198670                   13        5             31\n",
        "225761                    8        5             30\n",
        "\n",
        "[225762 rows x 3 columns]"
       ]
      }
     ],
     "prompt_number": 85
    },
    {
     "cell_type": "heading",
     "level": 2,
     "metadata": {},
     "source": [
      "[String Manipulation](http://pandas.pydata.org/pandas-docs/stable/basics.html#vectorized-string-methods)"
     ]
    },
    {
     "cell_type": "code",
     "collapsed": true,
     "input": [
      "s = df.day\n",
      "s"
     ],
     "language": "python",
     "metadata": {},
     "outputs": [
      {
       "metadata": {},
       "output_type": "pyout",
       "prompt_number": 86,
       "text": [
        "0    Sun\n",
        "1    Sun\n",
        "2    Sun\n",
        "...\n",
        "241     Sat\n",
        "242     Sat\n",
        "243    Thur\n",
        "Name: day, Length: 244, dtype: object"
       ]
      }
     ],
     "prompt_number": 86
    },
    {
     "cell_type": "code",
     "collapsed": true,
     "input": [
      "is_weekend = s.str.startswith('S')\n",
      "is_weekend"
     ],
     "language": "python",
     "metadata": {},
     "outputs": [
      {
       "metadata": {},
       "output_type": "pyout",
       "prompt_number": 87,
       "text": [
        "0    True\n",
        "1    True\n",
        "2    True\n",
        "...\n",
        "241     True\n",
        "242     True\n",
        "243    False\n",
        "Name: day, Length: 244, dtype: bool"
       ]
      }
     ],
     "prompt_number": 87
    },
    {
     "cell_type": "code",
     "collapsed": true,
     "input": [
      "correct = s[is_weekend].str.contains(r'^(?:Sat|Sun)$')\n",
      "correct.all()"
     ],
     "language": "python",
     "metadata": {},
     "outputs": [
      {
       "metadata": {},
       "output_type": "pyout",
       "prompt_number": 88,
       "text": [
        "True"
       ]
      }
     ],
     "prompt_number": 88
    },
    {
     "cell_type": "code",
     "collapsed": true,
     "input": [
      "s.str.len()"
     ],
     "language": "python",
     "metadata": {},
     "outputs": [
      {
       "metadata": {},
       "output_type": "pyout",
       "prompt_number": 89,
       "text": [
        "0    3\n",
        "1    3\n",
        "2    3\n",
        "...\n",
        "241    3\n",
        "242    3\n",
        "243    4\n",
        "Name: day, Length: 244, dtype: int64"
       ]
      }
     ],
     "prompt_number": 89
    },
    {
     "cell_type": "code",
     "collapsed": true,
     "input": [
      "s.str[:2]"
     ],
     "language": "python",
     "metadata": {},
     "outputs": [
      {
       "metadata": {},
       "output_type": "pyout",
       "prompt_number": 90,
       "text": [
        "0    Su\n",
        "1    Su\n",
        "2    Su\n",
        "...\n",
        "241    Sa\n",
        "242    Sa\n",
        "243    Th\n",
        "Name: day, Length: 244, dtype: object"
       ]
      }
     ],
     "prompt_number": 90
    },
    {
     "cell_type": "heading",
     "level": 2,
     "metadata": {},
     "source": [
      "[Time Series Functionality](http://pandas.pydata.org/pandas-docs/stable/timeseries.html)"
     ]
    },
    {
     "cell_type": "heading",
     "level": 3,
     "metadata": {},
     "source": [
      "Construction"
     ]
    },
    {
     "cell_type": "code",
     "collapsed": true,
     "input": [
      "n = 10000\n",
      "idx = pd.date_range(start='today', periods=n, freq='D')\n",
      "idx"
     ],
     "language": "python",
     "metadata": {},
     "outputs": [
      {
       "metadata": {},
       "output_type": "pyout",
       "prompt_number": 91,
       "text": [
        "<class 'pandas.tseries.index.DatetimeIndex'>\n",
        "[2014-05-28, ..., 2041-10-12]\n",
        "Length: 10000, Freq: D, Timezone: None"
       ]
      }
     ],
     "prompt_number": 91
    },
    {
     "cell_type": "code",
     "collapsed": true,
     "input": [
      "s = Series(np.random.poisson(10, size=n), index=idx, name='login_count')"
     ],
     "language": "python",
     "metadata": {},
     "outputs": [],
     "prompt_number": 92
    },
    {
     "cell_type": "heading",
     "level": 3,
     "metadata": {},
     "source": [
      "``resample``"
     ]
    },
    {
     "cell_type": "code",
     "collapsed": true,
     "input": [
      "s.resample('W', how='sum')"
     ],
     "language": "python",
     "metadata": {},
     "outputs": [
      {
       "metadata": {},
       "output_type": "pyout",
       "prompt_number": 93,
       "text": [
        "2014-06-01    48\n",
        "2014-06-08    71\n",
        "2014-06-15    85\n",
        "...\n",
        "2041-09-29    86\n",
        "2041-10-06    76\n",
        "2041-10-13    61\n",
        "Freq: W-SUN, Name: login_count, Length: 1429"
       ]
      }
     ],
     "prompt_number": 93
    },
    {
     "cell_type": "code",
     "collapsed": true,
     "input": [
      "# multiple functions\n",
      "rs = s.resample('W', how=['mean', 'std', 'count'])\n",
      "rs"
     ],
     "language": "python",
     "metadata": {},
     "outputs": [
      {
       "html": [
        "<div style=\"max-height:1000px;max-width:1500px;overflow:auto;\">\n",
        "<table border=\"1\" class=\"dataframe\">\n",
        "  <thead>\n",
        "    <tr style=\"text-align: right;\">\n",
        "      <th></th>\n",
        "      <th>mean</th>\n",
        "      <th>std</th>\n",
        "      <th>count</th>\n",
        "    </tr>\n",
        "  </thead>\n",
        "  <tbody>\n",
        "    <tr>\n",
        "      <th>2014-06-01</th>\n",
        "      <td>  9.600000</td>\n",
        "      <td> 2.607681</td>\n",
        "      <td> 5</td>\n",
        "    </tr>\n",
        "    <tr>\n",
        "      <th>2014-06-08</th>\n",
        "      <td> 10.142857</td>\n",
        "      <td> 2.267787</td>\n",
        "      <td> 7</td>\n",
        "    </tr>\n",
        "    <tr>\n",
        "      <th>2014-06-15</th>\n",
        "      <td> 12.142857</td>\n",
        "      <td> 1.573592</td>\n",
        "      <td> 7</td>\n",
        "    </tr>\n",
        "    <tr>\n",
        "      <th>2014-06-22</th>\n",
        "      <td>  9.714286</td>\n",
        "      <td> 3.988077</td>\n",
        "      <td> 7</td>\n",
        "    </tr>\n",
        "    <tr>\n",
        "      <th>2014-06-29</th>\n",
        "      <td> 11.000000</td>\n",
        "      <td> 4.203173</td>\n",
        "      <td> 7</td>\n",
        "    </tr>\n",
        "    <tr>\n",
        "      <th>...</th>\n",
        "      <td>...</td>\n",
        "      <td>...</td>\n",
        "      <td>...</td>\n",
        "    </tr>\n",
        "    <tr>\n",
        "      <th>2041-09-15</th>\n",
        "      <td>  7.142857</td>\n",
        "      <td> 2.794553</td>\n",
        "      <td> 7</td>\n",
        "    </tr>\n",
        "    <tr>\n",
        "      <th>2041-09-22</th>\n",
        "      <td> 12.428571</td>\n",
        "      <td> 2.935821</td>\n",
        "      <td> 7</td>\n",
        "    </tr>\n",
        "    <tr>\n",
        "      <th>2041-09-29</th>\n",
        "      <td> 12.285714</td>\n",
        "      <td> 3.988077</td>\n",
        "      <td> 7</td>\n",
        "    </tr>\n",
        "    <tr>\n",
        "      <th>2041-10-06</th>\n",
        "      <td> 10.857143</td>\n",
        "      <td> 2.794553</td>\n",
        "      <td> 7</td>\n",
        "    </tr>\n",
        "    <tr>\n",
        "      <th>2041-10-13</th>\n",
        "      <td> 10.166667</td>\n",
        "      <td> 2.857738</td>\n",
        "      <td> 6</td>\n",
        "    </tr>\n",
        "  </tbody>\n",
        "</table>\n",
        "<p>1429 rows \u00d7 3 columns</p>\n",
        "</div>"
       ],
       "metadata": {},
       "output_type": "pyout",
       "prompt_number": 94,
       "text": [
        "                 mean       std  count\n",
        "2014-06-01   9.600000  2.607681      5\n",
        "2014-06-08  10.142857  2.267787      7\n",
        "2014-06-15  12.142857  1.573592      7\n",
        "2014-06-22   9.714286  3.988077      7\n",
        "2014-06-29  11.000000  4.203173      7\n",
        "...               ...       ...    ...\n",
        "2041-09-15   7.142857  2.794553      7\n",
        "2041-09-22  12.428571  2.935821      7\n",
        "2041-09-29  12.285714  3.988077      7\n",
        "2041-10-06  10.857143  2.794553      7\n",
        "2041-10-13  10.166667  2.857738      6\n",
        "\n",
        "[1429 rows x 3 columns]"
       ]
      }
     ],
     "prompt_number": 94
    },
    {
     "cell_type": "heading",
     "level": 2,
     "metadata": {},
     "source": [
      "[Plotting](http://pandas.pydata.org/pandas-docs/stable/visualization.html)"
     ]
    },
    {
     "cell_type": "code",
     "collapsed": true,
     "input": [
      "mu = rs['mean']\n",
      "fig, ax = plt.subplots(figsize=(12, 6))\n",
      "ax.step(mu.index[:50], mu.iloc[:50], lw=3, where='post')\n",
      "fig.tight_layout()\n",
      "ax.set_xlabel('Time')\n",
      "ax.set_ylabel('Average Count / Week')\n",
      "ax.set_title('Count vs. Time')"
     ],
     "language": "python",
     "metadata": {},
     "outputs": [
      {
       "metadata": {},
       "output_type": "pyout",
       "prompt_number": 95,
       "text": [
        "<matplotlib.text.Text at 0x66b3a50>"
       ]
      },
      {
       "metadata": {},
       "output_type": "display_data",
       "png": "[encoded data removed]",
       "text": [
        "<matplotlib.figure.Figure at 0x5f11a90>"
       ]
      }
     ],
     "prompt_number": 95
    },
    {
     "cell_type": "heading",
     "level": 2,
     "metadata": {},
     "source": [
      "Basic IO"
     ]
    },
    {
     "cell_type": "heading",
     "level": 3,
     "metadata": {},
     "source": [
      "CSV: [``read_csv``](http://pandas.pydata.org/pandas-docs/stable/io.html#io-read-csv-table)/[``to_csv``](http://pandas.pydata.org/pandas-docs/stable/io.html#io-store-in-csv)"
     ]
    },
    {
     "cell_type": "code",
     "collapsed": true,
     "input": [
      "%%writefile tmp.csv\n",
      "a,b,c\n",
      "1,d,3.0\n",
      "4,e,6.28\n",
      "2,f,4.4"
     ],
     "language": "python",
     "metadata": {},
     "outputs": [
      {
       "output_type": "stream",
       "stream": "stdout",
       "text": [
        "Overwriting tmp.csv\n"
       ]
      }
     ],
     "prompt_number": 96
    },
    {
     "cell_type": "code",
     "collapsed": true,
     "input": [
      "df = pd.read_csv('tmp.csv')\n",
      "df"
     ],
     "language": "python",
     "metadata": {},
     "outputs": [
      {
       "html": [
        "<div style=\"max-height:1000px;max-width:1500px;overflow:auto;\">\n",
        "<table border=\"1\" class=\"dataframe\">\n",
        "  <thead>\n",
        "    <tr style=\"text-align: right;\">\n",
        "      <th></th>\n",
        "      <th>a</th>\n",
        "      <th>b</th>\n",
        "      <th>c</th>\n",
        "    </tr>\n",
        "  </thead>\n",
        "  <tbody>\n",
        "    <tr>\n",
        "      <th>0</th>\n",
        "      <td> 1</td>\n",
        "      <td> d</td>\n",
        "      <td> 3.00</td>\n",
        "    </tr>\n",
        "    <tr>\n",
        "      <th>1</th>\n",
        "      <td> 4</td>\n",
        "      <td> e</td>\n",
        "      <td> 6.28</td>\n",
        "    </tr>\n",
        "    <tr>\n",
        "      <th>2</th>\n",
        "      <td> 2</td>\n",
        "      <td> f</td>\n",
        "      <td> 4.40</td>\n",
        "    </tr>\n",
        "  </tbody>\n",
        "</table>\n",
        "</div>"
       ],
       "metadata": {},
       "output_type": "pyout",
       "prompt_number": 97,
       "text": [
        "   a  b     c\n",
        "0  1  d  3.00\n",
        "1  4  e  6.28\n",
        "2  2  f  4.40"
       ]
      }
     ],
     "prompt_number": 97
    },
    {
     "cell_type": "code",
     "collapsed": true,
     "input": [
      "df.dtypes"
     ],
     "language": "python",
     "metadata": {},
     "outputs": [
      {
       "metadata": {},
       "output_type": "pyout",
       "prompt_number": 98,
       "text": [
        "a      int64\n",
        "b     object\n",
        "c    float64\n",
        "dtype: object"
       ]
      }
     ],
     "prompt_number": 98
    },
    {
     "cell_type": "code",
     "collapsed": true,
     "input": [
      "df.to_csv('tmp.csv')"
     ],
     "language": "python",
     "metadata": {},
     "outputs": [],
     "prompt_number": 99
    },
    {
     "cell_type": "code",
     "collapsed": true,
     "input": [
      "%cat tmp.csv # saves the index created by default"
     ],
     "language": "python",
     "metadata": {},
     "outputs": [
      {
       "output_type": "stream",
       "stream": "stdout",
       "text": [
        ",a,b,c\r\n",
        "0,1,d,3.0\r\n",
        "1,4,e,6.28\r\n",
        "2,2,f,4.4\r\n"
       ]
      }
     ],
     "prompt_number": 100
    },
    {
     "cell_type": "heading",
     "level": 3,
     "metadata": {},
     "source": [
      "HDF5: [``read_hdf``](http://pandas.pydata.org/pandas-docs/stable/io.html#io-hdf5)/[``to_hdf``](http://pandas.pydata.org/pandas-docs/stable/io.html#io-hdf5)"
     ]
    },
    {
     "cell_type": "code",
     "collapsed": true,
     "input": [
      "df = DataFrame(dict(a=randn(10), b=randint(10, size=10),\n",
      "                    c=choice(list('abc'), size=10)))\n",
      "df"
     ],
     "language": "python",
     "metadata": {},
     "outputs": [
      {
       "html": [
        "<div style=\"max-height:1000px;max-width:1500px;overflow:auto;\">\n",
        "<table border=\"1\" class=\"dataframe\">\n",
        "  <thead>\n",
        "    <tr style=\"text-align: right;\">\n",
        "      <th></th>\n",
        "      <th>a</th>\n",
        "      <th>b</th>\n",
        "      <th>c</th>\n",
        "    </tr>\n",
        "  </thead>\n",
        "  <tbody>\n",
        "    <tr>\n",
        "      <th>0</th>\n",
        "      <td>-0.294365</td>\n",
        "      <td> 7</td>\n",
        "      <td> c</td>\n",
        "    </tr>\n",
        "    <tr>\n",
        "      <th>1</th>\n",
        "      <td> 2.625424</td>\n",
        "      <td> 4</td>\n",
        "      <td> b</td>\n",
        "    </tr>\n",
        "    <tr>\n",
        "      <th>2</th>\n",
        "      <td> 0.471059</td>\n",
        "      <td> 5</td>\n",
        "      <td> b</td>\n",
        "    </tr>\n",
        "    <tr>\n",
        "      <th>3</th>\n",
        "      <td> 0.860336</td>\n",
        "      <td> 5</td>\n",
        "      <td> a</td>\n",
        "    </tr>\n",
        "    <tr>\n",
        "      <th>4</th>\n",
        "      <td> 2.384904</td>\n",
        "      <td> 8</td>\n",
        "      <td> b</td>\n",
        "    </tr>\n",
        "    <tr>\n",
        "      <th>5</th>\n",
        "      <td> 0.252611</td>\n",
        "      <td> 0</td>\n",
        "      <td> c</td>\n",
        "    </tr>\n",
        "    <tr>\n",
        "      <th>6</th>\n",
        "      <td>-0.267957</td>\n",
        "      <td> 0</td>\n",
        "      <td> b</td>\n",
        "    </tr>\n",
        "    <tr>\n",
        "      <th>7</th>\n",
        "      <td>-1.326243</td>\n",
        "      <td> 0</td>\n",
        "      <td> a</td>\n",
        "    </tr>\n",
        "    <tr>\n",
        "      <th>8</th>\n",
        "      <td>-0.438239</td>\n",
        "      <td> 3</td>\n",
        "      <td> c</td>\n",
        "    </tr>\n",
        "    <tr>\n",
        "      <th>9</th>\n",
        "      <td> 0.005603</td>\n",
        "      <td> 0</td>\n",
        "      <td> a</td>\n",
        "    </tr>\n",
        "  </tbody>\n",
        "</table>\n",
        "</div>"
       ],
       "metadata": {},
       "output_type": "pyout",
       "prompt_number": 101,
       "text": [
        "          a  b  c\n",
        "0 -0.294365  7  c\n",
        "1  2.625424  4  b\n",
        "2  0.471059  5  b\n",
        "3  0.860336  5  a\n",
        "4  2.384904  8  b\n",
        "5  0.252611  0  c\n",
        "6 -0.267957  0  b\n",
        "7 -1.326243  0  a\n",
        "8 -0.438239  3  c\n",
        "9  0.005603  0  a"
       ]
      }
     ],
     "prompt_number": 101
    },
    {
     "cell_type": "code",
     "collapsed": true,
     "input": [
      "df.to_hdf('tmp.h5', 'df', format='table')"
     ],
     "language": "python",
     "metadata": {},
     "outputs": [],
     "prompt_number": 102
    },
    {
     "cell_type": "code",
     "collapsed": true,
     "input": [
      "pd.read_hdf('tmp.h5', 'df')"
     ],
     "language": "python",
     "metadata": {},
     "outputs": [
      {
       "html": [
        "<div style=\"max-height:1000px;max-width:1500px;overflow:auto;\">\n",
        "<table border=\"1\" class=\"dataframe\">\n",
        "  <thead>\n",
        "    <tr style=\"text-align: right;\">\n",
        "      <th></th>\n",
        "      <th>a</th>\n",
        "      <th>b</th>\n",
        "      <th>c</th>\n",
        "    </tr>\n",
        "  </thead>\n",
        "  <tbody>\n",
        "    <tr>\n",
        "      <th>0</th>\n",
        "      <td>-0.294365</td>\n",
        "      <td> 7</td>\n",
        "      <td> c</td>\n",
        "    </tr>\n",
        "    <tr>\n",
        "      <th>1</th>\n",
        "      <td> 2.625424</td>\n",
        "      <td> 4</td>\n",
        "      <td> b</td>\n",
        "    </tr>\n",
        "    <tr>\n",
        "      <th>2</th>\n",
        "      <td> 0.471059</td>\n",
        "      <td> 5</td>\n",
        "      <td> b</td>\n",
        "    </tr>\n",
        "    <tr>\n",
        "      <th>3</th>\n",
        "      <td> 0.860336</td>\n",
        "      <td> 5</td>\n",
        "      <td> a</td>\n",
        "    </tr>\n",
        "    <tr>\n",
        "      <th>4</th>\n",
        "      <td> 2.384904</td>\n",
        "      <td> 8</td>\n",
        "      <td> b</td>\n",
        "    </tr>\n",
        "    <tr>\n",
        "      <th>5</th>\n",
        "      <td> 0.252611</td>\n",
        "      <td> 0</td>\n",
        "      <td> c</td>\n",
        "    </tr>\n",
        "    <tr>\n",
        "      <th>6</th>\n",
        "      <td>-0.267957</td>\n",
        "      <td> 0</td>\n",
        "      <td> b</td>\n",
        "    </tr>\n",
        "    <tr>\n",
        "      <th>7</th>\n",
        "      <td>-1.326243</td>\n",
        "      <td> 0</td>\n",
        "      <td> a</td>\n",
        "    </tr>\n",
        "    <tr>\n",
        "      <th>8</th>\n",
        "      <td>-0.438239</td>\n",
        "      <td> 3</td>\n",
        "      <td> c</td>\n",
        "    </tr>\n",
        "    <tr>\n",
        "      <th>9</th>\n",
        "      <td> 0.005603</td>\n",
        "      <td> 0</td>\n",
        "      <td> a</td>\n",
        "    </tr>\n",
        "  </tbody>\n",
        "</table>\n",
        "</div>"
       ],
       "metadata": {},
       "output_type": "pyout",
       "prompt_number": 103,
       "text": [
        "          a  b  c\n",
        "0 -0.294365  7  c\n",
        "1  2.625424  4  b\n",
        "2  0.471059  5  b\n",
        "3  0.860336  5  a\n",
        "4  2.384904  8  b\n",
        "5  0.252611  0  c\n",
        "6 -0.267957  0  b\n",
        "7 -1.326243  0  a\n",
        "8 -0.438239  3  c\n",
        "9  0.005603  0  a"
       ]
      }
     ],
     "prompt_number": 103
    },
    {
     "cell_type": "heading",
     "level": 1,
     "metadata": {},
     "source": [
      "Next Up:\n",
      "\n",
      "[Features!](Features.ipynb)"
     ]
    },
    {
     "cell_type": "code",
     "collapsed": true,
     "input": [
      "with open(\"../css/css.css\", \"r\") as f:\n",
      "    style = f.read()\n",
      "HTML(style)"
     ],
     "language": "python",
     "metadata": {},
     "outputs": [
      {
       "html": [
        "<link href='http://fonts.googleapis.com/css?family=Source+Code+Pro' rel='stylesheet' type='text/css'>\n",
        "<link href='http://fonts.googleapis.com/css?family=Raleway' rel='stylesheet' type='text/css'>\n",
        "<style>\n",
        "/*\n",
        "Rob's custom notebook CSS\n",
        "*/\n",
        "\n",
        "/*Fonts*/\n",
        "\n",
        "\n",
        "/*\n",
        "\n",
        "    Name:       Base16 Ocean Dark\n",
        "    Author:     Chris Kempson (http://chriskempson.com)\n",
        "\n",
        "    CodeMirror template adapted for IPython Notebook by Nikhil Sonnad (https://github.com/nsonnad/base16-ipython-notebook)\n",
        "    CodeMirror template by Jan T. Sott (https://github.com/idleberg/base16-chrome-devtools)\n",
        "    Original Base16 color scheme by Chris Kempson (https://github.com/chriskempson/base16)\n",
        "\n",
        "*/\n",
        "\n",
        "/* Uncomment to use a custom font\n",
        "div#notebook, div.CodeMirror, div.output_area pre, div.output_wrapper, div.prompt {\n",
        "  font-family: 'Custom Font Name', monospace !important;\n",
        "}\n",
        "*/\n",
        "body {\n",
        "    font-family: 'Raleway', sans-serif;\n",
        "}\n",
        "\n",
        ".rendered_html pre, .rendered_html code {\n",
        "    background-color: #2b303b;\n",
        "    color: #8fb1bf;\n",
        "    font-weight: bold:\n",
        "}\n",
        "\n",
        "\n",
        ".rendered_html table, .rendered_html th, .rendered_html tr, .rendered_html td {\n",
        "border: 1px #4f5b66 solid;\n",
        "white-space: nowrap;\n",
        "}\n",
        ".rendered_html thead {\n",
        "background-color: #43515c;\n",
        "color: white;\n",
        "}\n",
        ".rendered_html th {font-weight: bold;}\n",
        "table.dataframe tr {border: 1px #4f5b66;}\n",
        "\n",
        "/* GLOBALS */\n",
        "body {background-color: #2b303b;}\n",
        "a {color: #8fa1b3;}\n",
        "\n",
        "/* INTRO PAGE */\n",
        ".toolbar_info, .list_container {color: #dfe1e8;}\n",
        "\n",
        "/* NOTEBOOK */\n",
        "\n",
        "/* comment out this line to bring the toolbar back */\n",
        "div#maintoolbar, div#header {display: none !important;}\n",
        "\n",
        "div#notebook {border-top: none;}\n",
        "\n",
        "div.input_prompt {color: #ab7967;}\n",
        "div.output_prompt {color: #b48ead;}\n",
        "div.input_area {\n",
        "\n",
        "  font-size: 16px !important;\n",
        "  border-radius: 0px;\n",
        "  border: 1px solid #4f5b66;\n",
        "}\n",
        "div.output_area pre {font-weight: normal; color: #c0c5ce;}\n",
        "\n",
        ".rendered_html table, .rendered_html th, .rendered_html tr, .rendered_html td {\n",
        "  border: 1px  #c0c5ce solid;\n",
        "  color: #c0c5ce;\n",
        "}\n",
        "div.output_html { font-family: sans-serif; }\n",
        "table.dataframe tr {border: 1px #c0c5ce;}\n",
        "\n",
        "div.cell.selected {border-radius: 0px;}\n",
        "div.cell.edit_mode {border-radius: 0px; border: thin solid #b48ead;}\n",
        "div.text_cell_render, div.output_html {color: #c0c5ce;}\n",
        "\n",
        "span.ansiblack {color: #343d46;}\n",
        "span.ansiblue {color: #96b5b4;}\n",
        "span.ansigray {color: #a7adba;}\n",
        "span.ansigreen {color: #a3be8c;}\n",
        "span.ansipurple {color: #b48ead;}\n",
        "span.ansired {color: #bf616a;}\n",
        "span.ansiyellow {color: #ebcb8b;}\n",
        "\n",
        "div.output_stderr {background-color: #bf616a;}\n",
        "div.output_stderr pre {color: #dfe1e8;}\n",
        "\n",
        ".cm-s-ipython.CodeMirror {background: #2b303b; color: #dfe1e8;}\n",
        ".cm-s-ipython div.CodeMirror-selected {background: #343d46 !important;}\n",
        ".cm-s-ipython .CodeMirror-gutters {background: #2b303b; border-right: 0px;}\n",
        ".cm-s-ipython .CodeMirror-linenumber {color: #65737e;}\n",
        ".cm-s-ipython .CodeMirror-cursor {border-left: 1px solid #a7adba !important;}\n",
        "\n",
        ".cm-s-ipython span.cm-comment {color: #ab7967;}\n",
        ".cm-s-ipython span.cm-atom {color: #b48ead;}\n",
        ".cm-s-ipython span.cm-number {color: #b48ead;}\n",
        "\n",
        ".cm-s-ipython span.cm-property, .cm-s-ipython span.cm-attribute {color: #a3be8c;}\n",
        ".cm-s-ipython span.cm-keyword {color: #bf616a;}\n",
        ".cm-s-ipython span.cm-string {color: #ebcb8b;}\n",
        ".cm-s-ipython span.cm-operator {color: #ab7967;}\n",
        ".cm-s-ipython span.cm-builtin {color: #b48ead;}\n",
        "\n",
        ".cm-s-ipython span.cm-variable {color: #a3be8c;}\n",
        ".cm-s-ipython span.cm-variable-2 {color: #8fa1b3;}\n",
        ".cm-s-ipython span.cm-def {color: #d08770;}\n",
        ".cm-s-ipython span.cm-error {background: #bf616a; color: #a7adba;}\n",
        ".cm-s-ipython span.cm-bracket {color: #c0c5ce;}\n",
        ".cm-s-ipython span.cm-tag {color: #bf616a;}\n",
        ".cm-s-ipython span.cm-link {color: #b48ead;}\n",
        ".cm-s-ipython span.cm-meta {color: #b49391;}\n",
        "\n",
        ".cm-s-ipython .CodeMirror-matchingbracket { text-decoration: underline; color: #dfe1e8 !important;}\n",
        "</style>\n"
       ],
       "metadata": {},
       "output_type": "pyout",
       "prompt_number": 104,
       "text": [
        "<IPython.core.display.HTML object>"
       ]
      }
     ],
     "prompt_number": 104
    }
   ],
   "metadata": {}
  }
 ]
}