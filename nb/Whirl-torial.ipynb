{
 "metadata": {
  "name": "",
  "signature": "sha256:c82e6faa3a39a79921b50c277709ec7ed341f9fedd2348db65fcc1ce683c7454"
 },
 "nbformat": 3,
 "nbformat_minor": 0,
 "worksheets": [
  {
   "cells": [
    {
     "cell_type": "code",
     "collapsed": false,
     "input": [
      "from IPython.core.display import HTML\n",
      "with open(\"../css/css.css\", \"r\") as f:\n",
      "    style = f.read()\n",
      "HTML(style)"
     ],
     "language": "python",
     "metadata": {},
     "outputs": [
      {
       "html": [
        "<link href='http://fonts.googleapis.com/css?family=Source+Code+Pro' rel='stylesheet' type='text/css'>\n",
        "<link href='http://fonts.googleapis.com/css?family=Raleway' rel='stylesheet' type='text/css'>\n",
        "<style>\n",
        "/*\n",
        "Rob's custom notebook CSS\n",
        "*/\n",
        "\n",
        "/*Fonts*/\n",
        "\n",
        "\n",
        "/*\n",
        "\n",
        "    Name:       Base16 Ocean Dark\n",
        "    Author:     Chris Kempson (http://chriskempson.com)\n",
        "\n",
        "    CodeMirror template adapted for IPython Notebook by Nikhil Sonnad (https://github.com/nsonnad/base16-ipython-notebook)\n",
        "    CodeMirror template by Jan T. Sott (https://github.com/idleberg/base16-chrome-devtools)\n",
        "    Original Base16 color scheme by Chris Kempson (https://github.com/chriskempson/base16)\n",
        "\n",
        "*/\n",
        "\n",
        "/* Uncomment to use a custom font\n",
        "div#notebook, div.CodeMirror, div.output_area pre, div.output_wrapper, div.prompt {\n",
        "  font-family: 'Custom Font Name', monospace !important;\n",
        "}\n",
        "*/\n",
        "body {\n",
        "    font-family: 'Raleway', sans-serif;\n",
        "}\n",
        "\n",
        ".rendered_html pre, .rendered_html code {\n",
        "    background-color: #2b303b;\n",
        "    color: #8fb1bf;\n",
        "    font-weight: bold:\n",
        "}\n",
        "\n",
        "\n",
        ".rendered_html table, .rendered_html th, .rendered_html tr, .rendered_html td {\n",
        "border: 1px #4f5b66 solid;\n",
        "white-space: nowrap;\n",
        "}\n",
        ".rendered_html thead {\n",
        "background-color: #43515c;\n",
        "color: white;\n",
        "}\n",
        ".rendered_html th {font-weight: bold;}\n",
        "table.dataframe tr {border: 1px #4f5b66;}\n",
        "\n",
        "/* GLOBALS */\n",
        "body {background-color: #2b303b;}\n",
        "a {color: #8fa1b3;}\n",
        "\n",
        "/* INTRO PAGE */\n",
        ".toolbar_info, .list_container {color: #dfe1e8;}\n",
        "\n",
        "/* NOTEBOOK */\n",
        "\n",
        "/* comment out this line to bring the toolbar back */\n",
        "div#maintoolbar, div#header {display: none !important;}\n",
        "\n",
        "div#notebook {border-top: none;}\n",
        "\n",
        "div.input_prompt {color: #ab7967;}\n",
        "div.output_prompt {color: #b48ead;}\n",
        "div.input_area {\n",
        "\n",
        "  font-size: 16px !important;\n",
        "  border-radius: 0px;\n",
        "  border: 1px solid #4f5b66;\n",
        "}\n",
        "div.output_area pre {font-weight: normal; color: #c0c5ce;}\n",
        "\n",
        ".rendered_html table, .rendered_html th, .rendered_html tr, .rendered_html td {\n",
        "  border: 1px  #c0c5ce solid;\n",
        "  color: #c0c5ce;\n",
        "}\n",
        "div.output_html { font-family: sans-serif; }\n",
        "table.dataframe tr {border: 1px #c0c5ce;}\n",
        "\n",
        "div.cell.selected {border-radius: 0px;}\n",
        "div.cell.edit_mode {border-radius: 0px; border: thin solid #b48ead;}\n",
        "div.text_cell_render, div.output_html {color: #c0c5ce;}\n",
        "\n",
        "span.ansiblack {color: #343d46;}\n",
        "span.ansiblue {color: #96b5b4;}\n",
        "span.ansigray {color: #a7adba;}\n",
        "span.ansigreen {color: #a3be8c;}\n",
        "span.ansipurple {color: #b48ead;}\n",
        "span.ansired {color: #bf616a;}\n",
        "span.ansiyellow {color: #ebcb8b;}\n",
        "\n",
        "div.output_stderr {background-color: #bf616a;}\n",
        "div.output_stderr pre {color: #dfe1e8;}\n",
        "\n",
        ".cm-s-ipython.CodeMirror {background: #2b303b; color: #dfe1e8;}\n",
        ".cm-s-ipython div.CodeMirror-selected {background: #343d46 !important;}\n",
        ".cm-s-ipython .CodeMirror-gutters {background: #2b303b; border-right: 0px;}\n",
        ".cm-s-ipython .CodeMirror-linenumber {color: #65737e;}\n",
        ".cm-s-ipython .CodeMirror-cursor {border-left: 1px solid #a7adba !important;}\n",
        "\n",
        ".cm-s-ipython span.cm-comment {color: #ab7967;}\n",
        ".cm-s-ipython span.cm-atom {color: #b48ead;}\n",
        ".cm-s-ipython span.cm-number {color: #b48ead;}\n",
        "\n",
        ".cm-s-ipython span.cm-property, .cm-s-ipython span.cm-attribute {color: #a3be8c;}\n",
        ".cm-s-ipython span.cm-keyword {color: #bf616a;}\n",
        ".cm-s-ipython span.cm-string {color: #ebcb8b;}\n",
        ".cm-s-ipython span.cm-operator {color: #ab7967;}\n",
        ".cm-s-ipython span.cm-builtin {color: #b48ead;}\n",
        "\n",
        ".cm-s-ipython span.cm-variable {color: #a3be8c;}\n",
        ".cm-s-ipython span.cm-variable-2 {color: #8fa1b3;}\n",
        ".cm-s-ipython span.cm-def {color: #d08770;}\n",
        ".cm-s-ipython span.cm-error {background: #bf616a; color: #a7adba;}\n",
        ".cm-s-ipython span.cm-bracket {color: #c0c5ce;}\n",
        ".cm-s-ipython span.cm-tag {color: #bf616a;}\n",
        ".cm-s-ipython span.cm-link {color: #b48ead;}\n",
        "\n",
        ".cm-s-ipython .CodeMirror-matchingbracket { text-decoration: underline; color: #dfe1e8 !important;}\n",
        "</style>\n"
       ],
       "metadata": {},
       "output_type": "pyout",
       "prompt_number": 1,
       "text": [
        "<IPython.core.display.HTML object>"
       ]
      }
     ],
     "prompt_number": 1
    },
    {
     "cell_type": "markdown",
     "metadata": {},
     "source": [
      "# Whirlwind Introduction to [Pandas](http://pandas.pydata.org)!\n",
      "---------------\n",
      "\n",
      "### About me: Phillip Cloud\n",
      "\n",
      "## Past:\n",
      "* MA Psychology from CUNY CCNY (analysis of rat spike train data)\n",
      "\n",
      "## Now:\n",
      "* Data infrastructure/research/development @ neuromatters (neurotechnology R & D company)\n",
      "* Core contributer to pandas for roughly 1 year: $\\approx$ 313 non-merge commits\n",
      "\n",
      "* pandas/python/[PyData](http://www.pydata.org) evangelist\n",
      "* Linux nerd (Arch Linux)\n",
      "* vim is all you need (with emacs keys on the command line of course)"
     ]
    },
    {
     "cell_type": "markdown",
     "metadata": {},
     "source": [
      "## ``pandas``\n",
      "--------\n",
      "``pandas`` is a (the one true?) Python library for data analysis\n",
      "\n",
      "If you've ever found yourself looking for a way to read a CSV file into an expressive, easy-to-use, array-like container that **just works** then look no further!"
     ]
    },
    {
     "cell_type": "heading",
     "level": 2,
     "metadata": {},
     "source": [
      "My reaction after discovering pandas:"
     ]
    },
    {
     "cell_type": "markdown",
     "metadata": {},
     "source": [
      "<img src=\"../img/matlab-is-over.jpg\" width=\"50%\" height=\"50%\" />\n",
      "<img src=\"../img/unpossible.jpg\" width=\"50%\" height=\"50%\" />"
     ]
    },
    {
     "cell_type": "heading",
     "level": 2,
     "metadata": {},
     "source": [
      "First rule of talks involving pandas: they aren't complete without at least one meme."
     ]
    },
    {
     "cell_type": "markdown",
     "metadata": {},
     "source": [
      "``pandas`` is *the* tabular data library you've always wished you had. It supports operations such as\n",
      "\n",
      "* ``groupby``\n",
      "* ``merge``\n",
      "* aggregations (``mean``, ``sum``, ``any``, `all`, etc.)\n",
      "* advanced indexing capabilities\n",
      "* automatic data alignment during e.g., arithmetic operations\n",
      "* powerful vectorized text manipulation\n",
      "* missing data handling\n",
      "* comprehensive and extremely flexible IO (e.g., CSV, Excel, HDF5, HTML)\n",
      "\n",
      "``pandas`` also plays nice with *most* ``numpy`` functions (``sin``, ``log``, etc.)\n",
      "\n",
      "#### Notes:\n",
      "\n",
      "* ``pandas`` was designed to work with \"medium\" data.\n",
      "  * Nice support for PyTables queries via the `HDFStore` interface\n",
      "  * But not really any out-of-core support past that (yet?).\n",
      "* That said, I routinely work with $\\approx$ 20-100M row datasets fairly easily with pandas.\n",
      "\n",
      "### Enough talking, let's see some code."
     ]
    },
    {
     "cell_type": "heading",
     "level": 1,
     "metadata": {},
     "source": [
      "[``pandas.DataFrame``](http://pandas.pydata.org/pandas-docs/stable/dsintro.html#dataframe)"
     ]
    },
    {
     "cell_type": "heading",
     "level": 3,
     "metadata": {},
     "source": [
      "``DataFrame`` is the flagship data structure in ``pandas`` and is what you'll be dealing with most of the time"
     ]
    },
    {
     "cell_type": "code",
     "collapsed": true,
     "input": [
      "# imports that I'll use throughout the talk\n",
      "from IPython.display import display as disp  # old MATLAB habits die hard\n",
      "import numpy as np\n",
      "import pandas as pd\n",
      "from pandas import DataFrame, Series, Index\n",
      "from numpy.random import randn, randint, rand, choice"
     ],
     "language": "python",
     "metadata": {},
     "outputs": [],
     "prompt_number": 2
    },
    {
     "cell_type": "code",
     "collapsed": false,
     "input": [
      "df = pd.DataFrame(randn(10, 2), columns=list('ab'))\n",
      "df"
     ],
     "language": "python",
     "metadata": {},
     "outputs": [
      {
       "html": [
        "<div style=\"max-height:1000px;max-width:1500px;overflow:auto;\">\n",
        "<table border=\"1\" class=\"dataframe\">\n",
        "  <thead>\n",
        "    <tr style=\"text-align: right;\">\n",
        "      <th></th>\n",
        "      <th>a</th>\n",
        "      <th>b</th>\n",
        "    </tr>\n",
        "  </thead>\n",
        "  <tbody>\n",
        "    <tr>\n",
        "      <th>0</th>\n",
        "      <td>-0.4949</td>\n",
        "      <td> 1.1053</td>\n",
        "    </tr>\n",
        "    <tr>\n",
        "      <th>1</th>\n",
        "      <td> 1.1330</td>\n",
        "      <td>-0.6811</td>\n",
        "    </tr>\n",
        "    <tr>\n",
        "      <th>2</th>\n",
        "      <td>-0.0687</td>\n",
        "      <td> 0.7662</td>\n",
        "    </tr>\n",
        "    <tr>\n",
        "      <th>3</th>\n",
        "      <td>-0.6297</td>\n",
        "      <td> 0.8918</td>\n",
        "    </tr>\n",
        "    <tr>\n",
        "      <th>4</th>\n",
        "      <td> 1.5495</td>\n",
        "      <td>-2.7099</td>\n",
        "    </tr>\n",
        "    <tr>\n",
        "      <th>5</th>\n",
        "      <td> 1.1288</td>\n",
        "      <td> 1.0424</td>\n",
        "    </tr>\n",
        "    <tr>\n",
        "      <th>6</th>\n",
        "      <td>-2.1454</td>\n",
        "      <td>-0.4555</td>\n",
        "    </tr>\n",
        "    <tr>\n",
        "      <th>7</th>\n",
        "      <td>-2.0965</td>\n",
        "      <td> 2.2104</td>\n",
        "    </tr>\n",
        "    <tr>\n",
        "      <th>8</th>\n",
        "      <td>-0.8118</td>\n",
        "      <td> 0.5317</td>\n",
        "    </tr>\n",
        "    <tr>\n",
        "      <th>9</th>\n",
        "      <td> 0.8242</td>\n",
        "      <td> 0.7220</td>\n",
        "    </tr>\n",
        "  </tbody>\n",
        "</table>\n",
        "</div>"
       ],
       "metadata": {},
       "output_type": "pyout",
       "prompt_number": 3,
       "text": [
        "        a       b\n",
        "0 -0.4949  1.1053\n",
        "1  1.1330 -0.6811\n",
        "2 -0.0687  0.7662\n",
        "3 -0.6297  0.8918\n",
        "4  1.5495 -2.7099\n",
        "5  1.1288  1.0424\n",
        "6 -2.1454 -0.4555\n",
        "7 -2.0965  2.2104\n",
        "8 -0.8118  0.5317\n",
        "9  0.8242  0.7220"
       ]
      }
     ],
     "prompt_number": 3
    },
    {
     "cell_type": "heading",
     "level": 3,
     "metadata": {},
     "source": [
      "You can have columns of any ``dtype`` that ``numpy`` supports except ``numpy``'s string dtype."
     ]
    },
    {
     "cell_type": "heading",
     "level": 3,
     "metadata": {},
     "source": [
      "Strings are represented with the ``object`` ``dtype`` in pandas."
     ]
    },
    {
     "cell_type": "code",
     "collapsed": false,
     "input": [
      "seuss = choice(['green eggs', 'spam'], size=10)\n",
      "df = pd.DataFrame({'int': randint(3, size=10),\n",
      "                   'str': choice(list('abc'), size=10),\n",
      "                   'float32': randn(10).astype(np.float32),\n",
      "                   'not-a-valid-variable-name': seuss})\n",
      "df"
     ],
     "language": "python",
     "metadata": {},
     "outputs": [
      {
       "html": [
        "<div style=\"max-height:1000px;max-width:1500px;overflow:auto;\">\n",
        "<table border=\"1\" class=\"dataframe\">\n",
        "  <thead>\n",
        "    <tr style=\"text-align: right;\">\n",
        "      <th></th>\n",
        "      <th>float32</th>\n",
        "      <th>int</th>\n",
        "      <th>not-a-valid-variable-name</th>\n",
        "      <th>str</th>\n",
        "    </tr>\n",
        "  </thead>\n",
        "  <tbody>\n",
        "    <tr>\n",
        "      <th>0</th>\n",
        "      <td> 1.6340</td>\n",
        "      <td> 1</td>\n",
        "      <td> green eggs</td>\n",
        "      <td> a</td>\n",
        "    </tr>\n",
        "    <tr>\n",
        "      <th>1</th>\n",
        "      <td>-0.3096</td>\n",
        "      <td> 0</td>\n",
        "      <td>       spam</td>\n",
        "      <td> a</td>\n",
        "    </tr>\n",
        "    <tr>\n",
        "      <th>2</th>\n",
        "      <td> 0.1583</td>\n",
        "      <td> 0</td>\n",
        "      <td>       spam</td>\n",
        "      <td> b</td>\n",
        "    </tr>\n",
        "    <tr>\n",
        "      <th>3</th>\n",
        "      <td> 0.2854</td>\n",
        "      <td> 2</td>\n",
        "      <td>       spam</td>\n",
        "      <td> b</td>\n",
        "    </tr>\n",
        "    <tr>\n",
        "      <th>4</th>\n",
        "      <td> 0.8383</td>\n",
        "      <td> 2</td>\n",
        "      <td>       spam</td>\n",
        "      <td> b</td>\n",
        "    </tr>\n",
        "    <tr>\n",
        "      <th>5</th>\n",
        "      <td>-1.3281</td>\n",
        "      <td> 0</td>\n",
        "      <td>       spam</td>\n",
        "      <td> b</td>\n",
        "    </tr>\n",
        "    <tr>\n",
        "      <th>6</th>\n",
        "      <td> 0.4078</td>\n",
        "      <td> 0</td>\n",
        "      <td>       spam</td>\n",
        "      <td> b</td>\n",
        "    </tr>\n",
        "    <tr>\n",
        "      <th>7</th>\n",
        "      <td>-0.4480</td>\n",
        "      <td> 0</td>\n",
        "      <td>       spam</td>\n",
        "      <td> a</td>\n",
        "    </tr>\n",
        "    <tr>\n",
        "      <th>8</th>\n",
        "      <td>-1.7724</td>\n",
        "      <td> 2</td>\n",
        "      <td> green eggs</td>\n",
        "      <td> a</td>\n",
        "    </tr>\n",
        "    <tr>\n",
        "      <th>9</th>\n",
        "      <td> 1.9488</td>\n",
        "      <td> 0</td>\n",
        "      <td> green eggs</td>\n",
        "      <td> b</td>\n",
        "    </tr>\n",
        "  </tbody>\n",
        "</table>\n",
        "</div>"
       ],
       "metadata": {},
       "output_type": "pyout",
       "prompt_number": 4,
       "text": [
        "   float32  int not-a-valid-variable-name str\n",
        "0   1.6340    1                green eggs   a\n",
        "1  -0.3096    0                      spam   a\n",
        "2   0.1583    0                      spam   b\n",
        "3   0.2854    2                      spam   b\n",
        "4   0.8383    2                      spam   b\n",
        "5  -1.3281    0                      spam   b\n",
        "6   0.4078    0                      spam   b\n",
        "7  -0.4480    0                      spam   a\n",
        "8  -1.7724    2                green eggs   a\n",
        "9   1.9488    0                green eggs   b"
       ]
      }
     ],
     "prompt_number": 4
    },
    {
     "cell_type": "code",
     "collapsed": false,
     "input": [
      "df.dtypes"
     ],
     "language": "python",
     "metadata": {},
     "outputs": [
      {
       "metadata": {},
       "output_type": "pyout",
       "prompt_number": 5,
       "text": [
        "float32                      float32\n",
        "int                            int64\n",
        "not-a-valid-variable-name     object\n",
        "str                           object\n",
        "dtype: object"
       ]
      }
     ],
     "prompt_number": 5
    },
    {
     "cell_type": "markdown",
     "metadata": {},
     "source": [
      "### One of ``pandas``' most useful and powerful features is its ability to slice and dice data in almost any way you can think of. "
     ]
    },
    {
     "cell_type": "markdown",
     "metadata": {},
     "source": [
      "### We'll see some slightly more advanced examples of indexing later that take advantage of some new functionality. Let's review the basics."
     ]
    },
    {
     "cell_type": "code",
     "collapsed": false,
     "input": [
      "# column access by name\n",
      "df['int']"
     ],
     "language": "python",
     "metadata": {},
     "outputs": [
      {
       "metadata": {},
       "output_type": "pyout",
       "prompt_number": 6,
       "text": [
        "0    1\n",
        "1    0\n",
        "2    0\n",
        "3    2\n",
        "4    2\n",
        "5    0\n",
        "6    0\n",
        "7    0\n",
        "8    2\n",
        "9    0\n",
        "Name: int, dtype: int64"
       ]
      }
     ],
     "prompt_number": 6
    },
    {
     "cell_type": "code",
     "collapsed": false,
     "input": [
      "# by attribute\n",
      "df.int"
     ],
     "language": "python",
     "metadata": {},
     "outputs": [
      {
       "metadata": {},
       "output_type": "pyout",
       "prompt_number": 7,
       "text": [
        "0    1\n",
        "1    0\n",
        "2    0\n",
        "3    2\n",
        "4    2\n",
        "5    0\n",
        "6    0\n",
        "7    0\n",
        "8    2\n",
        "9    0\n",
        "Name: int, dtype: int64"
       ]
      }
     ],
     "prompt_number": 7
    },
    {
     "cell_type": "code",
     "collapsed": false,
     "input": [
      "# have to use the former for invalid variable names\n",
      "df['not-a-valid-variable-name']"
     ],
     "language": "python",
     "metadata": {},
     "outputs": [
      {
       "metadata": {},
       "output_type": "pyout",
       "prompt_number": 8,
       "text": [
        "0    green eggs\n",
        "1          spam\n",
        "2          spam\n",
        "3          spam\n",
        "4          spam\n",
        "5          spam\n",
        "6          spam\n",
        "7          spam\n",
        "8    green eggs\n",
        "9    green eggs\n",
        "Name: not-a-valid-variable-name, dtype: object"
       ]
      }
     ],
     "prompt_number": 8
    },
    {
     "cell_type": "code",
     "collapsed": false,
     "input": [
      "# multiple columns\n",
      "df[['int', 'str']]"
     ],
     "language": "python",
     "metadata": {},
     "outputs": [
      {
       "html": [
        "<div style=\"max-height:1000px;max-width:1500px;overflow:auto;\">\n",
        "<table border=\"1\" class=\"dataframe\">\n",
        "  <thead>\n",
        "    <tr style=\"text-align: right;\">\n",
        "      <th></th>\n",
        "      <th>int</th>\n",
        "      <th>str</th>\n",
        "    </tr>\n",
        "  </thead>\n",
        "  <tbody>\n",
        "    <tr>\n",
        "      <th>0</th>\n",
        "      <td> 1</td>\n",
        "      <td> a</td>\n",
        "    </tr>\n",
        "    <tr>\n",
        "      <th>1</th>\n",
        "      <td> 0</td>\n",
        "      <td> a</td>\n",
        "    </tr>\n",
        "    <tr>\n",
        "      <th>2</th>\n",
        "      <td> 0</td>\n",
        "      <td> b</td>\n",
        "    </tr>\n",
        "    <tr>\n",
        "      <th>3</th>\n",
        "      <td> 2</td>\n",
        "      <td> b</td>\n",
        "    </tr>\n",
        "    <tr>\n",
        "      <th>4</th>\n",
        "      <td> 2</td>\n",
        "      <td> b</td>\n",
        "    </tr>\n",
        "    <tr>\n",
        "      <th>5</th>\n",
        "      <td> 0</td>\n",
        "      <td> b</td>\n",
        "    </tr>\n",
        "    <tr>\n",
        "      <th>6</th>\n",
        "      <td> 0</td>\n",
        "      <td> b</td>\n",
        "    </tr>\n",
        "    <tr>\n",
        "      <th>7</th>\n",
        "      <td> 0</td>\n",
        "      <td> a</td>\n",
        "    </tr>\n",
        "    <tr>\n",
        "      <th>8</th>\n",
        "      <td> 2</td>\n",
        "      <td> a</td>\n",
        "    </tr>\n",
        "    <tr>\n",
        "      <th>9</th>\n",
        "      <td> 0</td>\n",
        "      <td> b</td>\n",
        "    </tr>\n",
        "  </tbody>\n",
        "</table>\n",
        "</div>"
       ],
       "metadata": {},
       "output_type": "pyout",
       "prompt_number": 9,
       "text": [
        "   int str\n",
        "0    1   a\n",
        "1    0   a\n",
        "2    0   b\n",
        "3    2   b\n",
        "4    2   b\n",
        "5    0   b\n",
        "6    0   b\n",
        "7    0   a\n",
        "8    2   a\n",
        "9    0   b"
       ]
      }
     ],
     "prompt_number": 9
    },
    {
     "cell_type": "code",
     "collapsed": false,
     "input": [
      "# iloc, iat, loc, at\n",
      "import string  # abc's\n",
      "\n",
      "nrows = len(df)\n",
      "lowercase = string.ascii_lowercase\n",
      "print('new index: %s' % list(lowercase[:nrows]))\n",
      "df.index = Index(list(lowercase[:nrows]))\n",
      "df"
     ],
     "language": "python",
     "metadata": {},
     "outputs": [
      {
       "output_type": "stream",
       "stream": "stdout",
       "text": [
        "new index: ['a', 'b', 'c', 'd', 'e', 'f', 'g', 'h', 'i', 'j']\n"
       ]
      },
      {
       "html": [
        "<div style=\"max-height:1000px;max-width:1500px;overflow:auto;\">\n",
        "<table border=\"1\" class=\"dataframe\">\n",
        "  <thead>\n",
        "    <tr style=\"text-align: right;\">\n",
        "      <th></th>\n",
        "      <th>float32</th>\n",
        "      <th>int</th>\n",
        "      <th>not-a-valid-variable-name</th>\n",
        "      <th>str</th>\n",
        "    </tr>\n",
        "  </thead>\n",
        "  <tbody>\n",
        "    <tr>\n",
        "      <th>a</th>\n",
        "      <td> 1.6340</td>\n",
        "      <td> 1</td>\n",
        "      <td> green eggs</td>\n",
        "      <td> a</td>\n",
        "    </tr>\n",
        "    <tr>\n",
        "      <th>b</th>\n",
        "      <td>-0.3096</td>\n",
        "      <td> 0</td>\n",
        "      <td>       spam</td>\n",
        "      <td> a</td>\n",
        "    </tr>\n",
        "    <tr>\n",
        "      <th>c</th>\n",
        "      <td> 0.1583</td>\n",
        "      <td> 0</td>\n",
        "      <td>       spam</td>\n",
        "      <td> b</td>\n",
        "    </tr>\n",
        "    <tr>\n",
        "      <th>d</th>\n",
        "      <td> 0.2854</td>\n",
        "      <td> 2</td>\n",
        "      <td>       spam</td>\n",
        "      <td> b</td>\n",
        "    </tr>\n",
        "    <tr>\n",
        "      <th>e</th>\n",
        "      <td> 0.8383</td>\n",
        "      <td> 2</td>\n",
        "      <td>       spam</td>\n",
        "      <td> b</td>\n",
        "    </tr>\n",
        "    <tr>\n",
        "      <th>f</th>\n",
        "      <td>-1.3281</td>\n",
        "      <td> 0</td>\n",
        "      <td>       spam</td>\n",
        "      <td> b</td>\n",
        "    </tr>\n",
        "    <tr>\n",
        "      <th>g</th>\n",
        "      <td> 0.4078</td>\n",
        "      <td> 0</td>\n",
        "      <td>       spam</td>\n",
        "      <td> b</td>\n",
        "    </tr>\n",
        "    <tr>\n",
        "      <th>h</th>\n",
        "      <td>-0.4480</td>\n",
        "      <td> 0</td>\n",
        "      <td>       spam</td>\n",
        "      <td> a</td>\n",
        "    </tr>\n",
        "    <tr>\n",
        "      <th>i</th>\n",
        "      <td>-1.7724</td>\n",
        "      <td> 2</td>\n",
        "      <td> green eggs</td>\n",
        "      <td> a</td>\n",
        "    </tr>\n",
        "    <tr>\n",
        "      <th>j</th>\n",
        "      <td> 1.9488</td>\n",
        "      <td> 0</td>\n",
        "      <td> green eggs</td>\n",
        "      <td> b</td>\n",
        "    </tr>\n",
        "  </tbody>\n",
        "</table>\n",
        "</div>"
       ],
       "metadata": {},
       "output_type": "pyout",
       "prompt_number": 10,
       "text": [
        "   float32  int not-a-valid-variable-name str\n",
        "a   1.6340    1                green eggs   a\n",
        "b  -0.3096    0                      spam   a\n",
        "c   0.1583    0                      spam   b\n",
        "d   0.2854    2                      spam   b\n",
        "e   0.8383    2                      spam   b\n",
        "f  -1.3281    0                      spam   b\n",
        "g   0.4078    0                      spam   b\n",
        "h  -0.4480    0                      spam   a\n",
        "i  -1.7724    2                green eggs   a\n",
        "j   1.9488    0                green eggs   b"
       ]
      }
     ],
     "prompt_number": 10
    },
    {
     "cell_type": "code",
     "collapsed": false,
     "input": [
      "df.iat[0, 2]"
     ],
     "language": "python",
     "metadata": {},
     "outputs": [
      {
       "metadata": {},
       "output_type": "pyout",
       "prompt_number": 11,
       "text": [
        "'green eggs'"
       ]
      }
     ],
     "prompt_number": 11
    },
    {
     "cell_type": "code",
     "collapsed": false,
     "input": [
      "df.loc[:, 'int'] # same as df.int, more with loc later"
     ],
     "language": "python",
     "metadata": {},
     "outputs": [
      {
       "metadata": {},
       "output_type": "pyout",
       "prompt_number": 12,
       "text": [
        "a    1\n",
        "b    0\n",
        "c    0\n",
        "d    2\n",
        "e    2\n",
        "f    0\n",
        "g    0\n",
        "h    0\n",
        "i    2\n",
        "j    0\n",
        "Name: int, dtype: int64"
       ]
      }
     ],
     "prompt_number": 12
    },
    {
     "cell_type": "code",
     "collapsed": false,
     "input": [
      "df.iloc[:, 1]"
     ],
     "language": "python",
     "metadata": {},
     "outputs": [
      {
       "metadata": {},
       "output_type": "pyout",
       "prompt_number": 13,
       "text": [
        "a    1\n",
        "b    0\n",
        "c    0\n",
        "d    2\n",
        "e    2\n",
        "f    0\n",
        "g    0\n",
        "h    0\n",
        "i    2\n",
        "j    0\n",
        "Name: int, dtype: int64"
       ]
      }
     ],
     "prompt_number": 13
    },
    {
     "cell_type": "markdown",
     "metadata": {},
     "source": [
      "The older `ix` works as well, but I can never remember the semantics for integer labels, so I almost always use either `iloc`/`loc` for slicing.\n",
      "\n",
      "``ix`` uses labels if possible but falls back on location if an integer index is given for a label based axis."
     ]
    },
    {
     "cell_type": "code",
     "collapsed": false,
     "input": [
      "df.ix[:, 1]"
     ],
     "language": "python",
     "metadata": {},
     "outputs": [
      {
       "metadata": {},
       "output_type": "pyout",
       "prompt_number": 14,
       "text": [
        "a    1\n",
        "b    0\n",
        "c    0\n",
        "d    2\n",
        "e    2\n",
        "f    0\n",
        "g    0\n",
        "h    0\n",
        "i    2\n",
        "j    0\n",
        "Name: int, dtype: int64"
       ]
      }
     ],
     "prompt_number": 14
    },
    {
     "cell_type": "code",
     "collapsed": false,
     "input": [
      "df.ix[:, 'int']"
     ],
     "language": "python",
     "metadata": {},
     "outputs": [
      {
       "metadata": {},
       "output_type": "pyout",
       "prompt_number": 15,
       "text": [
        "a    1\n",
        "b    0\n",
        "c    0\n",
        "d    2\n",
        "e    2\n",
        "f    0\n",
        "g    0\n",
        "h    0\n",
        "i    2\n",
        "j    0\n",
        "Name: int, dtype: int64"
       ]
      }
     ],
     "prompt_number": 15
    },
    {
     "cell_type": "markdown",
     "metadata": {},
     "source": [
      "This may seem like a lot to remember, but there's really just two things here:\n",
      "\n",
      "* *label*-based selection ``loc``/``at``\n",
      "* *integer location*-based selection ``iloc``/``iat``"
     ]
    },
    {
     "cell_type": "code",
     "collapsed": false,
     "input": [
      "# multiple columns, multiple rows\n",
      "df.loc[['a', 'c'], ['int', 'float32']]"
     ],
     "language": "python",
     "metadata": {},
     "outputs": [
      {
       "html": [
        "<div style=\"max-height:1000px;max-width:1500px;overflow:auto;\">\n",
        "<table border=\"1\" class=\"dataframe\">\n",
        "  <thead>\n",
        "    <tr style=\"text-align: right;\">\n",
        "      <th></th>\n",
        "      <th>int</th>\n",
        "      <th>float32</th>\n",
        "    </tr>\n",
        "  </thead>\n",
        "  <tbody>\n",
        "    <tr>\n",
        "      <th>a</th>\n",
        "      <td> 1</td>\n",
        "      <td> 1.6340</td>\n",
        "    </tr>\n",
        "    <tr>\n",
        "      <th>c</th>\n",
        "      <td> 0</td>\n",
        "      <td> 0.1583</td>\n",
        "    </tr>\n",
        "  </tbody>\n",
        "</table>\n",
        "</div>"
       ],
       "metadata": {},
       "output_type": "pyout",
       "prompt_number": 16,
       "text": [
        "   int  float32\n",
        "a    1   1.6340\n",
        "c    0   0.1583"
       ]
      }
     ],
     "prompt_number": 16
    },
    {
     "cell_type": "code",
     "collapsed": false,
     "input": [
      "# you can slice with loc\n",
      "# note the INCLUSIVE endpoint here\n",
      "df.loc['a':'e']"
     ],
     "language": "python",
     "metadata": {},
     "outputs": [
      {
       "html": [
        "<div style=\"max-height:1000px;max-width:1500px;overflow:auto;\">\n",
        "<table border=\"1\" class=\"dataframe\">\n",
        "  <thead>\n",
        "    <tr style=\"text-align: right;\">\n",
        "      <th></th>\n",
        "      <th>float32</th>\n",
        "      <th>int</th>\n",
        "      <th>not-a-valid-variable-name</th>\n",
        "      <th>str</th>\n",
        "    </tr>\n",
        "  </thead>\n",
        "  <tbody>\n",
        "    <tr>\n",
        "      <th>a</th>\n",
        "      <td> 1.6340</td>\n",
        "      <td> 1</td>\n",
        "      <td> green eggs</td>\n",
        "      <td> a</td>\n",
        "    </tr>\n",
        "    <tr>\n",
        "      <th>b</th>\n",
        "      <td>-0.3096</td>\n",
        "      <td> 0</td>\n",
        "      <td>       spam</td>\n",
        "      <td> a</td>\n",
        "    </tr>\n",
        "    <tr>\n",
        "      <th>c</th>\n",
        "      <td> 0.1583</td>\n",
        "      <td> 0</td>\n",
        "      <td>       spam</td>\n",
        "      <td> b</td>\n",
        "    </tr>\n",
        "    <tr>\n",
        "      <th>d</th>\n",
        "      <td> 0.2854</td>\n",
        "      <td> 2</td>\n",
        "      <td>       spam</td>\n",
        "      <td> b</td>\n",
        "    </tr>\n",
        "    <tr>\n",
        "      <th>e</th>\n",
        "      <td> 0.8383</td>\n",
        "      <td> 2</td>\n",
        "      <td>       spam</td>\n",
        "      <td> b</td>\n",
        "    </tr>\n",
        "  </tbody>\n",
        "</table>\n",
        "</div>"
       ],
       "metadata": {},
       "output_type": "pyout",
       "prompt_number": 17,
       "text": [
        "   float32  int not-a-valid-variable-name str\n",
        "a   1.6340    1                green eggs   a\n",
        "b  -0.3096    0                      spam   a\n",
        "c   0.1583    0                      spam   b\n",
        "d   0.2854    2                      spam   b\n",
        "e   0.8383    2                      spam   b"
       ]
      }
     ],
     "prompt_number": 17
    },
    {
     "cell_type": "code",
     "collapsed": false,
     "input": [
      "# and with iloc\n",
      "df.iloc[:5]"
     ],
     "language": "python",
     "metadata": {},
     "outputs": [
      {
       "html": [
        "<div style=\"max-height:1000px;max-width:1500px;overflow:auto;\">\n",
        "<table border=\"1\" class=\"dataframe\">\n",
        "  <thead>\n",
        "    <tr style=\"text-align: right;\">\n",
        "      <th></th>\n",
        "      <th>float32</th>\n",
        "      <th>int</th>\n",
        "      <th>not-a-valid-variable-name</th>\n",
        "      <th>str</th>\n",
        "    </tr>\n",
        "  </thead>\n",
        "  <tbody>\n",
        "    <tr>\n",
        "      <th>a</th>\n",
        "      <td> 1.6340</td>\n",
        "      <td> 1</td>\n",
        "      <td> green eggs</td>\n",
        "      <td> a</td>\n",
        "    </tr>\n",
        "    <tr>\n",
        "      <th>b</th>\n",
        "      <td>-0.3096</td>\n",
        "      <td> 0</td>\n",
        "      <td>       spam</td>\n",
        "      <td> a</td>\n",
        "    </tr>\n",
        "    <tr>\n",
        "      <th>c</th>\n",
        "      <td> 0.1583</td>\n",
        "      <td> 0</td>\n",
        "      <td>       spam</td>\n",
        "      <td> b</td>\n",
        "    </tr>\n",
        "    <tr>\n",
        "      <th>d</th>\n",
        "      <td> 0.2854</td>\n",
        "      <td> 2</td>\n",
        "      <td>       spam</td>\n",
        "      <td> b</td>\n",
        "    </tr>\n",
        "    <tr>\n",
        "      <th>e</th>\n",
        "      <td> 0.8383</td>\n",
        "      <td> 2</td>\n",
        "      <td>       spam</td>\n",
        "      <td> b</td>\n",
        "    </tr>\n",
        "  </tbody>\n",
        "</table>\n",
        "</div>"
       ],
       "metadata": {},
       "output_type": "pyout",
       "prompt_number": 18,
       "text": [
        "   float32  int not-a-valid-variable-name str\n",
        "a   1.6340    1                green eggs   a\n",
        "b  -0.3096    0                      spam   a\n",
        "c   0.1583    0                      spam   b\n",
        "d   0.2854    2                      spam   b\n",
        "e   0.8383    2                      spam   b"
       ]
      }
     ],
     "prompt_number": 18
    },
    {
     "cell_type": "code",
     "collapsed": false,
     "input": [
      "%timeit df.iloc[0, 0]"
     ],
     "language": "python",
     "metadata": {},
     "outputs": [
      {
       "output_type": "stream",
       "stream": "stdout",
       "text": [
        "10000 loops, best of 3: 143 \u00b5s per loop\n"
       ]
      }
     ],
     "prompt_number": 19
    },
    {
     "cell_type": "heading",
     "level": 4,
     "metadata": {},
     "source": [
      "at-style access is faster for scalars but don't go using them to \"vectorize\" all the things"
     ]
    },
    {
     "cell_type": "code",
     "collapsed": false,
     "input": [
      "%timeit df.iat[0, 0]"
     ],
     "language": "python",
     "metadata": {},
     "outputs": [
      {
       "output_type": "stream",
       "stream": "stdout",
       "text": [
        "100000 loops, best of 3: 9.37 \u00b5s per loop\n"
       ]
      }
     ],
     "prompt_number": 20
    },
    {
     "cell_type": "heading",
     "level": 2,
     "metadata": {},
     "source": [
      "Miscellaneous Useful Methods"
     ]
    },
    {
     "cell_type": "code",
     "collapsed": false,
     "input": [
      "# sort by particular column\n",
      "df.sort('float32')"
     ],
     "language": "python",
     "metadata": {},
     "outputs": [
      {
       "html": [
        "<div style=\"max-height:1000px;max-width:1500px;overflow:auto;\">\n",
        "<table border=\"1\" class=\"dataframe\">\n",
        "  <thead>\n",
        "    <tr style=\"text-align: right;\">\n",
        "      <th></th>\n",
        "      <th>float32</th>\n",
        "      <th>int</th>\n",
        "      <th>not-a-valid-variable-name</th>\n",
        "      <th>str</th>\n",
        "    </tr>\n",
        "  </thead>\n",
        "  <tbody>\n",
        "    <tr>\n",
        "      <th>i</th>\n",
        "      <td>-1.7724</td>\n",
        "      <td> 2</td>\n",
        "      <td> green eggs</td>\n",
        "      <td> a</td>\n",
        "    </tr>\n",
        "    <tr>\n",
        "      <th>f</th>\n",
        "      <td>-1.3281</td>\n",
        "      <td> 0</td>\n",
        "      <td>       spam</td>\n",
        "      <td> b</td>\n",
        "    </tr>\n",
        "    <tr>\n",
        "      <th>h</th>\n",
        "      <td>-0.4480</td>\n",
        "      <td> 0</td>\n",
        "      <td>       spam</td>\n",
        "      <td> a</td>\n",
        "    </tr>\n",
        "    <tr>\n",
        "      <th>b</th>\n",
        "      <td>-0.3096</td>\n",
        "      <td> 0</td>\n",
        "      <td>       spam</td>\n",
        "      <td> a</td>\n",
        "    </tr>\n",
        "    <tr>\n",
        "      <th>c</th>\n",
        "      <td> 0.1583</td>\n",
        "      <td> 0</td>\n",
        "      <td>       spam</td>\n",
        "      <td> b</td>\n",
        "    </tr>\n",
        "    <tr>\n",
        "      <th>d</th>\n",
        "      <td> 0.2854</td>\n",
        "      <td> 2</td>\n",
        "      <td>       spam</td>\n",
        "      <td> b</td>\n",
        "    </tr>\n",
        "    <tr>\n",
        "      <th>g</th>\n",
        "      <td> 0.4078</td>\n",
        "      <td> 0</td>\n",
        "      <td>       spam</td>\n",
        "      <td> b</td>\n",
        "    </tr>\n",
        "    <tr>\n",
        "      <th>e</th>\n",
        "      <td> 0.8383</td>\n",
        "      <td> 2</td>\n",
        "      <td>       spam</td>\n",
        "      <td> b</td>\n",
        "    </tr>\n",
        "    <tr>\n",
        "      <th>a</th>\n",
        "      <td> 1.6340</td>\n",
        "      <td> 1</td>\n",
        "      <td> green eggs</td>\n",
        "      <td> a</td>\n",
        "    </tr>\n",
        "    <tr>\n",
        "      <th>j</th>\n",
        "      <td> 1.9488</td>\n",
        "      <td> 0</td>\n",
        "      <td> green eggs</td>\n",
        "      <td> b</td>\n",
        "    </tr>\n",
        "  </tbody>\n",
        "</table>\n",
        "</div>"
       ],
       "metadata": {},
       "output_type": "pyout",
       "prompt_number": 21,
       "text": [
        "   float32  int not-a-valid-variable-name str\n",
        "i  -1.7724    2                green eggs   a\n",
        "f  -1.3281    0                      spam   b\n",
        "h  -0.4480    0                      spam   a\n",
        "b  -0.3096    0                      spam   a\n",
        "c   0.1583    0                      spam   b\n",
        "d   0.2854    2                      spam   b\n",
        "g   0.4078    0                      spam   b\n",
        "e   0.8383    2                      spam   b\n",
        "a   1.6340    1                green eggs   a\n",
        "j   1.9488    0                green eggs   b"
       ]
      }
     ],
     "prompt_number": 21
    },
    {
     "cell_type": "code",
     "collapsed": false,
     "input": [
      "# nested sorting\n",
      "df.sort(['int', 'str'])"
     ],
     "language": "python",
     "metadata": {},
     "outputs": [
      {
       "html": [
        "<div style=\"max-height:1000px;max-width:1500px;overflow:auto;\">\n",
        "<table border=\"1\" class=\"dataframe\">\n",
        "  <thead>\n",
        "    <tr style=\"text-align: right;\">\n",
        "      <th></th>\n",
        "      <th>float32</th>\n",
        "      <th>int</th>\n",
        "      <th>not-a-valid-variable-name</th>\n",
        "      <th>str</th>\n",
        "    </tr>\n",
        "  </thead>\n",
        "  <tbody>\n",
        "    <tr>\n",
        "      <th>b</th>\n",
        "      <td>-0.3096</td>\n",
        "      <td> 0</td>\n",
        "      <td>       spam</td>\n",
        "      <td> a</td>\n",
        "    </tr>\n",
        "    <tr>\n",
        "      <th>h</th>\n",
        "      <td>-0.4480</td>\n",
        "      <td> 0</td>\n",
        "      <td>       spam</td>\n",
        "      <td> a</td>\n",
        "    </tr>\n",
        "    <tr>\n",
        "      <th>c</th>\n",
        "      <td> 0.1583</td>\n",
        "      <td> 0</td>\n",
        "      <td>       spam</td>\n",
        "      <td> b</td>\n",
        "    </tr>\n",
        "    <tr>\n",
        "      <th>f</th>\n",
        "      <td>-1.3281</td>\n",
        "      <td> 0</td>\n",
        "      <td>       spam</td>\n",
        "      <td> b</td>\n",
        "    </tr>\n",
        "    <tr>\n",
        "      <th>g</th>\n",
        "      <td> 0.4078</td>\n",
        "      <td> 0</td>\n",
        "      <td>       spam</td>\n",
        "      <td> b</td>\n",
        "    </tr>\n",
        "    <tr>\n",
        "      <th>j</th>\n",
        "      <td> 1.9488</td>\n",
        "      <td> 0</td>\n",
        "      <td> green eggs</td>\n",
        "      <td> b</td>\n",
        "    </tr>\n",
        "    <tr>\n",
        "      <th>a</th>\n",
        "      <td> 1.6340</td>\n",
        "      <td> 1</td>\n",
        "      <td> green eggs</td>\n",
        "      <td> a</td>\n",
        "    </tr>\n",
        "    <tr>\n",
        "      <th>i</th>\n",
        "      <td>-1.7724</td>\n",
        "      <td> 2</td>\n",
        "      <td> green eggs</td>\n",
        "      <td> a</td>\n",
        "    </tr>\n",
        "    <tr>\n",
        "      <th>d</th>\n",
        "      <td> 0.2854</td>\n",
        "      <td> 2</td>\n",
        "      <td>       spam</td>\n",
        "      <td> b</td>\n",
        "    </tr>\n",
        "    <tr>\n",
        "      <th>e</th>\n",
        "      <td> 0.8383</td>\n",
        "      <td> 2</td>\n",
        "      <td>       spam</td>\n",
        "      <td> b</td>\n",
        "    </tr>\n",
        "  </tbody>\n",
        "</table>\n",
        "</div>"
       ],
       "metadata": {},
       "output_type": "pyout",
       "prompt_number": 22,
       "text": [
        "   float32  int not-a-valid-variable-name str\n",
        "b  -0.3096    0                      spam   a\n",
        "h  -0.4480    0                      spam   a\n",
        "c   0.1583    0                      spam   b\n",
        "f  -1.3281    0                      spam   b\n",
        "g   0.4078    0                      spam   b\n",
        "j   1.9488    0                green eggs   b\n",
        "a   1.6340    1                green eggs   a\n",
        "i  -1.7724    2                green eggs   a\n",
        "d   0.2854    2                      spam   b\n",
        "e   0.8383    2                      spam   b"
       ]
      }
     ],
     "prompt_number": 22
    },
    {
     "cell_type": "code",
     "collapsed": false,
     "input": [
      "df.dtypes"
     ],
     "language": "python",
     "metadata": {},
     "outputs": [
      {
       "metadata": {},
       "output_type": "pyout",
       "prompt_number": 23,
       "text": [
        "float32                      float32\n",
        "int                            int64\n",
        "not-a-valid-variable-name     object\n",
        "str                           object\n",
        "dtype: object"
       ]
      }
     ],
     "prompt_number": 23
    },
    {
     "cell_type": "heading",
     "level": 2,
     "metadata": {},
     "source": [
      "Mapping"
     ]
    },
    {
     "cell_type": "markdown",
     "metadata": {},
     "source": [
      "Apply a function over the columns of a ``DataFrame``"
     ]
    },
    {
     "cell_type": "code",
     "collapsed": false,
     "input": [
      "df = pd.DataFrame(randint(3, size=(5, 2)), columns=list('ab'))\n",
      "df"
     ],
     "language": "python",
     "metadata": {},
     "outputs": [
      {
       "html": [
        "<div style=\"max-height:1000px;max-width:1500px;overflow:auto;\">\n",
        "<table border=\"1\" class=\"dataframe\">\n",
        "  <thead>\n",
        "    <tr style=\"text-align: right;\">\n",
        "      <th></th>\n",
        "      <th>a</th>\n",
        "      <th>b</th>\n",
        "    </tr>\n",
        "  </thead>\n",
        "  <tbody>\n",
        "    <tr>\n",
        "      <th>0</th>\n",
        "      <td> 0</td>\n",
        "      <td> 2</td>\n",
        "    </tr>\n",
        "    <tr>\n",
        "      <th>1</th>\n",
        "      <td> 0</td>\n",
        "      <td> 1</td>\n",
        "    </tr>\n",
        "    <tr>\n",
        "      <th>2</th>\n",
        "      <td> 1</td>\n",
        "      <td> 1</td>\n",
        "    </tr>\n",
        "    <tr>\n",
        "      <th>3</th>\n",
        "      <td> 2</td>\n",
        "      <td> 0</td>\n",
        "    </tr>\n",
        "    <tr>\n",
        "      <th>4</th>\n",
        "      <td> 1</td>\n",
        "      <td> 0</td>\n",
        "    </tr>\n",
        "  </tbody>\n",
        "</table>\n",
        "</div>"
       ],
       "metadata": {},
       "output_type": "pyout",
       "prompt_number": 24,
       "text": [
        "   a  b\n",
        "0  0  2\n",
        "1  0  1\n",
        "2  1  1\n",
        "3  2  0\n",
        "4  1  0"
       ]
      }
     ],
     "prompt_number": 24
    },
    {
     "cell_type": "code",
     "collapsed": false,
     "input": [
      "def add_two(column):\n",
      "    return column + 2\n",
      "\n",
      "df.apply(add_two)"
     ],
     "language": "python",
     "metadata": {},
     "outputs": [
      {
       "html": [
        "<div style=\"max-height:1000px;max-width:1500px;overflow:auto;\">\n",
        "<table border=\"1\" class=\"dataframe\">\n",
        "  <thead>\n",
        "    <tr style=\"text-align: right;\">\n",
        "      <th></th>\n",
        "      <th>a</th>\n",
        "      <th>b</th>\n",
        "    </tr>\n",
        "  </thead>\n",
        "  <tbody>\n",
        "    <tr>\n",
        "      <th>0</th>\n",
        "      <td> 2</td>\n",
        "      <td> 4</td>\n",
        "    </tr>\n",
        "    <tr>\n",
        "      <th>1</th>\n",
        "      <td> 2</td>\n",
        "      <td> 3</td>\n",
        "    </tr>\n",
        "    <tr>\n",
        "      <th>2</th>\n",
        "      <td> 3</td>\n",
        "      <td> 3</td>\n",
        "    </tr>\n",
        "    <tr>\n",
        "      <th>3</th>\n",
        "      <td> 4</td>\n",
        "      <td> 2</td>\n",
        "    </tr>\n",
        "    <tr>\n",
        "      <th>4</th>\n",
        "      <td> 3</td>\n",
        "      <td> 2</td>\n",
        "    </tr>\n",
        "  </tbody>\n",
        "</table>\n",
        "</div>"
       ],
       "metadata": {},
       "output_type": "pyout",
       "prompt_number": 25,
       "text": [
        "   a  b\n",
        "0  2  4\n",
        "1  2  3\n",
        "2  3  3\n",
        "3  4  2\n",
        "4  3  2"
       ]
      }
     ],
     "prompt_number": 25
    },
    {
     "cell_type": "code",
     "collapsed": false,
     "input": [
      "# applymap applies a function to each element of the framed\n",
      "\n",
      "def asciify(element):\n",
      "    return chr(element + 50 + randint(1, 40))\n",
      "\n",
      "df.applymap(asciify)"
     ],
     "language": "python",
     "metadata": {},
     "outputs": [
      {
       "html": [
        "<div style=\"max-height:1000px;max-width:1500px;overflow:auto;\">\n",
        "<table border=\"1\" class=\"dataframe\">\n",
        "  <thead>\n",
        "    <tr style=\"text-align: right;\">\n",
        "      <th></th>\n",
        "      <th>a</th>\n",
        "      <th>b</th>\n",
        "    </tr>\n",
        "  </thead>\n",
        "  <tbody>\n",
        "    <tr>\n",
        "      <th>0</th>\n",
        "      <td> A</td>\n",
        "      <td> V</td>\n",
        "    </tr>\n",
        "    <tr>\n",
        "      <th>1</th>\n",
        "      <td> 9</td>\n",
        "      <td> U</td>\n",
        "    </tr>\n",
        "    <tr>\n",
        "      <th>2</th>\n",
        "      <td> ?</td>\n",
        "      <td> :</td>\n",
        "    </tr>\n",
        "    <tr>\n",
        "      <th>3</th>\n",
        "      <td> Y</td>\n",
        "      <td> E</td>\n",
        "    </tr>\n",
        "    <tr>\n",
        "      <th>4</th>\n",
        "      <td> 7</td>\n",
        "      <td> :</td>\n",
        "    </tr>\n",
        "  </tbody>\n",
        "</table>\n",
        "</div>"
       ],
       "metadata": {},
       "output_type": "pyout",
       "prompt_number": 26,
       "text": [
        "   a  b\n",
        "0  A  V\n",
        "1  9  U\n",
        "2  ?  :\n",
        "3  Y  E\n",
        "4  7  :"
       ]
      }
     ],
     "prompt_number": 26
    },
    {
     "cell_type": "code",
     "collapsed": false,
     "input": [
      "# similarly with a Series object\n",
      "# works like builtin (greedy) map function\n",
      "def add_hundy(x):\n",
      "    return x + 100\n",
      "\n",
      "col_a = df.a\n",
      "col_a.map(add_hundy)"
     ],
     "language": "python",
     "metadata": {},
     "outputs": [
      {
       "metadata": {},
       "output_type": "pyout",
       "prompt_number": 27,
       "text": [
        "0    100\n",
        "1    100\n",
        "2    101\n",
        "3    102\n",
        "4    101\n",
        "Name: a, dtype: int64"
       ]
      }
     ],
     "prompt_number": 27
    },
    {
     "cell_type": "code",
     "collapsed": false,
     "input": [
      "# map also speaks dict-like-ese\n",
      "a = Series(list('abce'))\n",
      "a.map({'c': 1, 'e': 3})"
     ],
     "language": "python",
     "metadata": {},
     "outputs": [
      {
       "metadata": {},
       "output_type": "pyout",
       "prompt_number": 28,
       "text": [
        "0   NaN\n",
        "1   NaN\n",
        "2     1\n",
        "3     3\n",
        "dtype: float64"
       ]
      }
     ],
     "prompt_number": 28
    },
    {
     "cell_type": "heading",
     "level": 2,
     "metadata": {},
     "source": [
      "Reductions"
     ]
    },
    {
     "cell_type": "markdown",
     "metadata": {},
     "source": [
      "The ``DataFrame.sum()`` method results in a ``Series`` object and by default sums across the rows. If you want to sum across the columns pass ``axis=1``, similar to the ``numpy`` convention.a"
     ]
    },
    {
     "cell_type": "markdown",
     "metadata": {},
     "source": [
      "In general, reduction operations result in a ``Series`` object.\n",
      "\n",
      "Some example reduction functions:\n",
      "\n",
      "* ``mean``\n",
      "* ``median``\n",
      "* ``mode``\n",
      "* ``count``\n",
      "* ``std``/``var`` (normalizes by $n - 1$ by default; `numpy` uses $n$)\n",
      "\n",
      "**NOTE:** These ignore ``NaN`` in the computation"
     ]
    },
    {
     "cell_type": "heading",
     "level": 2,
     "metadata": {},
     "source": [
      "[``GroupBy``](http://pandas.pydata.org/pandas-docs/stable/groupby.html)"
     ]
    },
    {
     "cell_type": "markdown",
     "metadata": {},
     "source": [
      "``pandas``' ``GroupBy`` functionality allows you to perform operations on subsets of a ``DataFrame`` and then  combines the results for you at the end"
     ]
    },
    {
     "cell_type": "code",
     "collapsed": false,
     "input": [
      "df = DataFrame({'category': choice(list('ab'), size=10),\n",
      "                'measure': randn(10)})\n",
      "df"
     ],
     "language": "python",
     "metadata": {},
     "outputs": [
      {
       "html": [
        "<div style=\"max-height:1000px;max-width:1500px;overflow:auto;\">\n",
        "<table border=\"1\" class=\"dataframe\">\n",
        "  <thead>\n",
        "    <tr style=\"text-align: right;\">\n",
        "      <th></th>\n",
        "      <th>category</th>\n",
        "      <th>measure</th>\n",
        "    </tr>\n",
        "  </thead>\n",
        "  <tbody>\n",
        "    <tr>\n",
        "      <th>0</th>\n",
        "      <td> a</td>\n",
        "      <td>-0.7614</td>\n",
        "    </tr>\n",
        "    <tr>\n",
        "      <th>1</th>\n",
        "      <td> b</td>\n",
        "      <td> 2.2646</td>\n",
        "    </tr>\n",
        "    <tr>\n",
        "      <th>2</th>\n",
        "      <td> b</td>\n",
        "      <td>-1.2685</td>\n",
        "    </tr>\n",
        "    <tr>\n",
        "      <th>3</th>\n",
        "      <td> b</td>\n",
        "      <td> 1.4907</td>\n",
        "    </tr>\n",
        "    <tr>\n",
        "      <th>4</th>\n",
        "      <td> b</td>\n",
        "      <td> 0.5336</td>\n",
        "    </tr>\n",
        "    <tr>\n",
        "      <th>5</th>\n",
        "      <td> b</td>\n",
        "      <td> 0.2989</td>\n",
        "    </tr>\n",
        "    <tr>\n",
        "      <th>6</th>\n",
        "      <td> a</td>\n",
        "      <td> 0.4765</td>\n",
        "    </tr>\n",
        "    <tr>\n",
        "      <th>7</th>\n",
        "      <td> a</td>\n",
        "      <td> 1.2651</td>\n",
        "    </tr>\n",
        "    <tr>\n",
        "      <th>8</th>\n",
        "      <td> b</td>\n",
        "      <td> 0.0980</td>\n",
        "    </tr>\n",
        "    <tr>\n",
        "      <th>9</th>\n",
        "      <td> a</td>\n",
        "      <td>-0.1291</td>\n",
        "    </tr>\n",
        "  </tbody>\n",
        "</table>\n",
        "</div>"
       ],
       "metadata": {},
       "output_type": "pyout",
       "prompt_number": 29,
       "text": [
        "  category  measure\n",
        "0        a  -0.7614\n",
        "1        b   2.2646\n",
        "2        b  -1.2685\n",
        "3        b   1.4907\n",
        "4        b   0.5336\n",
        "5        b   0.2989\n",
        "6        a   0.4765\n",
        "7        a   1.2651\n",
        "8        b   0.0980\n",
        "9        a  -0.1291"
       ]
      }
     ],
     "prompt_number": 29
    },
    {
     "cell_type": "code",
     "collapsed": true,
     "input": [
      "gb = df.groupby('category')\n",
      "gb  # not the most useful repr, open to suggestions/PRs here"
     ],
     "language": "python",
     "metadata": {},
     "outputs": [
      {
       "metadata": {},
       "output_type": "pyout",
       "prompt_number": 30,
       "text": [
        "<pandas.core.groupby.DataFrameGroupBy object at 0x58d4650>"
       ]
      }
     ],
     "prompt_number": 30
    },
    {
     "cell_type": "heading",
     "level": 3,
     "metadata": {},
     "source": [
      "Reductions"
     ]
    },
    {
     "cell_type": "code",
     "collapsed": false,
     "input": [
      "# you can reduce across groups using the same methods you would on a DataFrame\n",
      "print('mean')\n",
      "disp(gb.mean())\n",
      "print('std')\n",
      "disp(gb.std())"
     ],
     "language": "python",
     "metadata": {},
     "outputs": [
      {
       "output_type": "stream",
       "stream": "stdout",
       "text": [
        "mean\n"
       ]
      },
      {
       "html": [
        "<div style=\"max-height:1000px;max-width:1500px;overflow:auto;\">\n",
        "<table border=\"1\" class=\"dataframe\">\n",
        "  <thead>\n",
        "    <tr style=\"text-align: right;\">\n",
        "      <th></th>\n",
        "      <th>measure</th>\n",
        "    </tr>\n",
        "    <tr>\n",
        "      <th>category</th>\n",
        "      <th></th>\n",
        "    </tr>\n",
        "  </thead>\n",
        "  <tbody>\n",
        "    <tr>\n",
        "      <th>a</th>\n",
        "      <td> 0.2128</td>\n",
        "    </tr>\n",
        "    <tr>\n",
        "      <th>b</th>\n",
        "      <td> 0.5695</td>\n",
        "    </tr>\n",
        "  </tbody>\n",
        "</table>\n",
        "</div>"
       ],
       "metadata": {},
       "output_type": "display_data",
       "text": [
        "          measure\n",
        "category         \n",
        "a          0.2128\n",
        "b          0.5695"
       ]
      },
      {
       "output_type": "stream",
       "stream": "stdout",
       "text": [
        "std\n"
       ]
      },
      {
       "html": [
        "<div style=\"max-height:1000px;max-width:1500px;overflow:auto;\">\n",
        "<table border=\"1\" class=\"dataframe\">\n",
        "  <thead>\n",
        "    <tr style=\"text-align: right;\">\n",
        "      <th></th>\n",
        "      <th>measure</th>\n",
        "    </tr>\n",
        "    <tr>\n",
        "      <th>category</th>\n",
        "      <th></th>\n",
        "    </tr>\n",
        "  </thead>\n",
        "  <tbody>\n",
        "    <tr>\n",
        "      <th>a</th>\n",
        "      <td> 0.8647</td>\n",
        "    </tr>\n",
        "    <tr>\n",
        "      <th>b</th>\n",
        "      <td> 1.2163</td>\n",
        "    </tr>\n",
        "  </tbody>\n",
        "</table>\n",
        "</div>"
       ],
       "metadata": {},
       "output_type": "display_data",
       "text": [
        "          measure\n",
        "category         \n",
        "a          0.8647\n",
        "b          1.2163"
       ]
      }
     ],
     "prompt_number": 31
    },
    {
     "cell_type": "code",
     "collapsed": false,
     "input": [
      "# can pass multiple reducers to agg\n",
      "gb.agg(['mean', 'std'])"
     ],
     "language": "python",
     "metadata": {},
     "outputs": [
      {
       "html": [
        "<div style=\"max-height:1000px;max-width:1500px;overflow:auto;\">\n",
        "<table border=\"1\" class=\"dataframe\">\n",
        "  <thead>\n",
        "    <tr>\n",
        "      <th></th>\n",
        "      <th colspan=\"2\" halign=\"left\">measure</th>\n",
        "    </tr>\n",
        "    <tr>\n",
        "      <th></th>\n",
        "      <th>mean</th>\n",
        "      <th>std</th>\n",
        "    </tr>\n",
        "    <tr>\n",
        "      <th>category</th>\n",
        "      <th></th>\n",
        "      <th></th>\n",
        "    </tr>\n",
        "  </thead>\n",
        "  <tbody>\n",
        "    <tr>\n",
        "      <th>a</th>\n",
        "      <td> 0.2128</td>\n",
        "      <td> 0.8647</td>\n",
        "    </tr>\n",
        "    <tr>\n",
        "      <th>b</th>\n",
        "      <td> 0.5695</td>\n",
        "      <td> 1.2163</td>\n",
        "    </tr>\n",
        "  </tbody>\n",
        "</table>\n",
        "</div>"
       ],
       "metadata": {},
       "output_type": "pyout",
       "prompt_number": 32,
       "text": [
        "          measure        \n",
        "             mean     std\n",
        "category                 \n",
        "a          0.2128  0.8647\n",
        "b          0.5695  1.2163"
       ]
      }
     ],
     "prompt_number": 32
    },
    {
     "cell_type": "heading",
     "level": 3,
     "metadata": {},
     "source": [
      "``apply``"
     ]
    },
    {
     "cell_type": "markdown",
     "metadata": {},
     "source": [
      "``GroupBy.apply()`` take a `callable` and calls it on each group"
     ]
    },
    {
     "cell_type": "code",
     "collapsed": false,
     "input": [
      "def try_add_one(x):\n",
      "    print('group name: %s' % x.name)\n",
      "    disp(x)\n",
      "    print('\\n', end='')\n",
      "    try:\n",
      "        return x + 1\n",
      "    except TypeError:\n",
      "        return x\n",
      "    \n",
      "r = gb.apply(try_add_one)\n",
      "print('result')\n",
      "r"
     ],
     "language": "python",
     "metadata": {},
     "outputs": [
      {
       "output_type": "stream",
       "stream": "stdout",
       "text": [
        "group name: a\n"
       ]
      },
      {
       "html": [
        "<div style=\"max-height:1000px;max-width:1500px;overflow:auto;\">\n",
        "<table border=\"1\" class=\"dataframe\">\n",
        "  <thead>\n",
        "    <tr style=\"text-align: right;\">\n",
        "      <th></th>\n",
        "      <th>category</th>\n",
        "      <th>measure</th>\n",
        "    </tr>\n",
        "  </thead>\n",
        "  <tbody>\n",
        "    <tr>\n",
        "      <th>0</th>\n",
        "      <td> a</td>\n",
        "      <td>-0.7614</td>\n",
        "    </tr>\n",
        "    <tr>\n",
        "      <th>6</th>\n",
        "      <td> a</td>\n",
        "      <td> 0.4765</td>\n",
        "    </tr>\n",
        "    <tr>\n",
        "      <th>7</th>\n",
        "      <td> a</td>\n",
        "      <td> 1.2651</td>\n",
        "    </tr>\n",
        "    <tr>\n",
        "      <th>9</th>\n",
        "      <td> a</td>\n",
        "      <td>-0.1291</td>\n",
        "    </tr>\n",
        "  </tbody>\n",
        "</table>\n",
        "</div>"
       ],
       "metadata": {},
       "output_type": "display_data",
       "text": [
        "  category  measure\n",
        "0        a  -0.7614\n",
        "6        a   0.4765\n",
        "7        a   1.2651\n",
        "9        a  -0.1291"
       ]
      },
      {
       "output_type": "stream",
       "stream": "stdout",
       "text": [
        "\n",
        "group name: b\n"
       ]
      },
      {
       "html": [
        "<div style=\"max-height:1000px;max-width:1500px;overflow:auto;\">\n",
        "<table border=\"1\" class=\"dataframe\">\n",
        "  <thead>\n",
        "    <tr style=\"text-align: right;\">\n",
        "      <th></th>\n",
        "      <th>category</th>\n",
        "      <th>measure</th>\n",
        "    </tr>\n",
        "  </thead>\n",
        "  <tbody>\n",
        "    <tr>\n",
        "      <th>1</th>\n",
        "      <td> b</td>\n",
        "      <td> 2.2646</td>\n",
        "    </tr>\n",
        "    <tr>\n",
        "      <th>2</th>\n",
        "      <td> b</td>\n",
        "      <td>-1.2685</td>\n",
        "    </tr>\n",
        "    <tr>\n",
        "      <th>3</th>\n",
        "      <td> b</td>\n",
        "      <td> 1.4907</td>\n",
        "    </tr>\n",
        "    <tr>\n",
        "      <th>4</th>\n",
        "      <td> b</td>\n",
        "      <td> 0.5336</td>\n",
        "    </tr>\n",
        "    <tr>\n",
        "      <th>5</th>\n",
        "      <td> b</td>\n",
        "      <td> 0.2989</td>\n",
        "    </tr>\n",
        "    <tr>\n",
        "      <th>8</th>\n",
        "      <td> b</td>\n",
        "      <td> 0.0980</td>\n",
        "    </tr>\n",
        "  </tbody>\n",
        "</table>\n",
        "</div>"
       ],
       "metadata": {},
       "output_type": "display_data",
       "text": [
        "  category  measure\n",
        "1        b   2.2646\n",
        "2        b  -1.2685\n",
        "3        b   1.4907\n",
        "4        b   0.5336\n",
        "5        b   0.2989\n",
        "8        b   0.0980"
       ]
      },
      {
       "output_type": "stream",
       "stream": "stdout",
       "text": [
        "\n",
        "result\n"
       ]
      },
      {
       "html": [
        "<div style=\"max-height:1000px;max-width:1500px;overflow:auto;\">\n",
        "<table border=\"1\" class=\"dataframe\">\n",
        "  <thead>\n",
        "    <tr style=\"text-align: right;\">\n",
        "      <th></th>\n",
        "      <th>category</th>\n",
        "      <th>measure</th>\n",
        "    </tr>\n",
        "  </thead>\n",
        "  <tbody>\n",
        "    <tr>\n",
        "      <th>0</th>\n",
        "      <td> a</td>\n",
        "      <td>-0.7614</td>\n",
        "    </tr>\n",
        "    <tr>\n",
        "      <th>1</th>\n",
        "      <td> b</td>\n",
        "      <td> 2.2646</td>\n",
        "    </tr>\n",
        "    <tr>\n",
        "      <th>2</th>\n",
        "      <td> b</td>\n",
        "      <td>-1.2685</td>\n",
        "    </tr>\n",
        "    <tr>\n",
        "      <th>3</th>\n",
        "      <td> b</td>\n",
        "      <td> 1.4907</td>\n",
        "    </tr>\n",
        "    <tr>\n",
        "      <th>4</th>\n",
        "      <td> b</td>\n",
        "      <td> 0.5336</td>\n",
        "    </tr>\n",
        "    <tr>\n",
        "      <th>5</th>\n",
        "      <td> b</td>\n",
        "      <td> 0.2989</td>\n",
        "    </tr>\n",
        "    <tr>\n",
        "      <th>6</th>\n",
        "      <td> a</td>\n",
        "      <td> 0.4765</td>\n",
        "    </tr>\n",
        "    <tr>\n",
        "      <th>7</th>\n",
        "      <td> a</td>\n",
        "      <td> 1.2651</td>\n",
        "    </tr>\n",
        "    <tr>\n",
        "      <th>8</th>\n",
        "      <td> b</td>\n",
        "      <td> 0.0980</td>\n",
        "    </tr>\n",
        "    <tr>\n",
        "      <th>9</th>\n",
        "      <td> a</td>\n",
        "      <td>-0.1291</td>\n",
        "    </tr>\n",
        "  </tbody>\n",
        "</table>\n",
        "</div>"
       ],
       "metadata": {},
       "output_type": "pyout",
       "prompt_number": 33,
       "text": [
        "  category  measure\n",
        "0        a  -0.7614\n",
        "1        b   2.2646\n",
        "2        b  -1.2685\n",
        "3        b   1.4907\n",
        "4        b   0.5336\n",
        "5        b   0.2989\n",
        "6        a   0.4765\n",
        "7        a   1.2651\n",
        "8        b   0.0980\n",
        "9        a  -0.1291"
       ]
      }
     ],
     "prompt_number": 33
    },
    {
     "cell_type": "heading",
     "level": 2,
     "metadata": {},
     "source": [
      "``merge``"
     ]
    },
    {
     "cell_type": "markdown",
     "metadata": {},
     "source": [
      "Often times you have data sets of different shapes with a common column that you want to join on\n",
      "\n",
      "``pandas`` does this a couple of ways, but the main entry point is ``pandas.merge``"
     ]
    },
    {
     "cell_type": "code",
     "collapsed": false,
     "input": [
      "# create some frames\n",
      "n = 10\n",
      "n2 = 2 * n\n",
      "df1 = DataFrame({'avg_like_time': randn(n), \n",
      "                 'ad_id': randint(n // 2, size=n), 'user_id': randint(3, size=n)})\n",
      "df2 = DataFrame({'likes': randint(0, 30, size=n2),\n",
      "                 'user_id': randint(6, size=n2)})"
     ],
     "language": "python",
     "metadata": {},
     "outputs": [],
     "prompt_number": 45
    },
    {
     "cell_type": "code",
     "collapsed": true,
     "input": [
      "merg = pd.merge(df1, df2, on='user_id')\n",
      "merg"
     ],
     "language": "python",
     "metadata": {},
     "outputs": [
      {
       "html": [
        "<div style=\"max-height:1000px;max-width:1500px;overflow:auto;\">\n",
        "<table border=\"1\" class=\"dataframe\">\n",
        "  <thead>\n",
        "    <tr style=\"text-align: right;\">\n",
        "      <th></th>\n",
        "      <th>ad_id</th>\n",
        "      <th>avg_like_time</th>\n",
        "      <th>user_id</th>\n",
        "      <th>likes</th>\n",
        "    </tr>\n",
        "  </thead>\n",
        "  <tbody>\n",
        "    <tr>\n",
        "      <th>0 </th>\n",
        "      <td> 3</td>\n",
        "      <td> 0.8222</td>\n",
        "      <td> 2</td>\n",
        "      <td> 14</td>\n",
        "    </tr>\n",
        "    <tr>\n",
        "      <th>1 </th>\n",
        "      <td> 3</td>\n",
        "      <td> 0.8222</td>\n",
        "      <td> 2</td>\n",
        "      <td> 25</td>\n",
        "    </tr>\n",
        "    <tr>\n",
        "      <th>2 </th>\n",
        "      <td> 3</td>\n",
        "      <td> 0.8222</td>\n",
        "      <td> 2</td>\n",
        "      <td>  6</td>\n",
        "    </tr>\n",
        "    <tr>\n",
        "      <th>3 </th>\n",
        "      <td> 3</td>\n",
        "      <td> 0.8222</td>\n",
        "      <td> 2</td>\n",
        "      <td> 13</td>\n",
        "    </tr>\n",
        "    <tr>\n",
        "      <th>4 </th>\n",
        "      <td> 2</td>\n",
        "      <td>-0.1033</td>\n",
        "      <td> 2</td>\n",
        "      <td> 14</td>\n",
        "    </tr>\n",
        "    <tr>\n",
        "      <th>5 </th>\n",
        "      <td> 2</td>\n",
        "      <td>-0.1033</td>\n",
        "      <td> 2</td>\n",
        "      <td> 25</td>\n",
        "    </tr>\n",
        "    <tr>\n",
        "      <th>6 </th>\n",
        "      <td> 2</td>\n",
        "      <td>-0.1033</td>\n",
        "      <td> 2</td>\n",
        "      <td>  6</td>\n",
        "    </tr>\n",
        "    <tr>\n",
        "      <th>7 </th>\n",
        "      <td> 2</td>\n",
        "      <td>-0.1033</td>\n",
        "      <td> 2</td>\n",
        "      <td> 13</td>\n",
        "    </tr>\n",
        "    <tr>\n",
        "      <th>8 </th>\n",
        "      <td> 2</td>\n",
        "      <td> 0.9682</td>\n",
        "      <td> 2</td>\n",
        "      <td> 14</td>\n",
        "    </tr>\n",
        "    <tr>\n",
        "      <th>9 </th>\n",
        "      <td> 2</td>\n",
        "      <td> 0.9682</td>\n",
        "      <td> 2</td>\n",
        "      <td> 25</td>\n",
        "    </tr>\n",
        "    <tr>\n",
        "      <th>10</th>\n",
        "      <td> 2</td>\n",
        "      <td> 0.9682</td>\n",
        "      <td> 2</td>\n",
        "      <td>  6</td>\n",
        "    </tr>\n",
        "    <tr>\n",
        "      <th>11</th>\n",
        "      <td> 2</td>\n",
        "      <td> 0.9682</td>\n",
        "      <td> 2</td>\n",
        "      <td> 13</td>\n",
        "    </tr>\n",
        "    <tr>\n",
        "      <th>...</th>\n",
        "      <td>...</td>\n",
        "      <td>...</td>\n",
        "      <td>...</td>\n",
        "      <td>...</td>\n",
        "    </tr>\n",
        "    <tr>\n",
        "      <th>26</th>\n",
        "      <td> 0</td>\n",
        "      <td> 0.3607</td>\n",
        "      <td> 0</td>\n",
        "      <td> 11</td>\n",
        "    </tr>\n",
        "    <tr>\n",
        "      <th>27</th>\n",
        "      <td> 0</td>\n",
        "      <td> 0.3607</td>\n",
        "      <td> 0</td>\n",
        "      <td>  0</td>\n",
        "    </tr>\n",
        "    <tr>\n",
        "      <th>28</th>\n",
        "      <td> 0</td>\n",
        "      <td>-0.2242</td>\n",
        "      <td> 0</td>\n",
        "      <td> 19</td>\n",
        "    </tr>\n",
        "    <tr>\n",
        "      <th>29</th>\n",
        "      <td> 0</td>\n",
        "      <td>-0.2242</td>\n",
        "      <td> 0</td>\n",
        "      <td>  9</td>\n",
        "    </tr>\n",
        "    <tr>\n",
        "      <th>30</th>\n",
        "      <td> 0</td>\n",
        "      <td>-0.2242</td>\n",
        "      <td> 0</td>\n",
        "      <td> 11</td>\n",
        "    </tr>\n",
        "    <tr>\n",
        "      <th>31</th>\n",
        "      <td> 0</td>\n",
        "      <td>-0.2242</td>\n",
        "      <td> 0</td>\n",
        "      <td>  0</td>\n",
        "    </tr>\n",
        "    <tr>\n",
        "      <th>32</th>\n",
        "      <td> 2</td>\n",
        "      <td>-0.8409</td>\n",
        "      <td> 1</td>\n",
        "      <td>  8</td>\n",
        "    </tr>\n",
        "    <tr>\n",
        "      <th>33</th>\n",
        "      <td> 2</td>\n",
        "      <td>-0.8409</td>\n",
        "      <td> 1</td>\n",
        "      <td> 18</td>\n",
        "    </tr>\n",
        "    <tr>\n",
        "      <th>34</th>\n",
        "      <td> 2</td>\n",
        "      <td>-0.8409</td>\n",
        "      <td> 1</td>\n",
        "      <td> 13</td>\n",
        "    </tr>\n",
        "    <tr>\n",
        "      <th>35</th>\n",
        "      <td> 4</td>\n",
        "      <td> 0.1527</td>\n",
        "      <td> 1</td>\n",
        "      <td>  8</td>\n",
        "    </tr>\n",
        "    <tr>\n",
        "      <th>36</th>\n",
        "      <td> 4</td>\n",
        "      <td> 0.1527</td>\n",
        "      <td> 1</td>\n",
        "      <td> 18</td>\n",
        "    </tr>\n",
        "    <tr>\n",
        "      <th>37</th>\n",
        "      <td> 4</td>\n",
        "      <td> 0.1527</td>\n",
        "      <td> 1</td>\n",
        "      <td> 13</td>\n",
        "    </tr>\n",
        "  </tbody>\n",
        "</table>\n",
        "<p>38 rows \u00d7 4 columns</p>\n",
        "</div>"
       ],
       "metadata": {},
       "output_type": "pyout",
       "prompt_number": 47,
       "text": [
        "    ad_id  avg_like_time  user_id  likes\n",
        "0       3         0.8222        2     14\n",
        "1       3         0.8222        2     25\n",
        "2       3         0.8222        2      6\n",
        "3       3         0.8222        2     13\n",
        "4       2        -0.1033        2     14\n",
        "5       2        -0.1033        2     25\n",
        "6       2        -0.1033        2      6\n",
        "7       2        -0.1033        2     13\n",
        "8       2         0.9682        2     14\n",
        "9       2         0.9682        2     25\n",
        "10      2         0.9682        2      6\n",
        "11      2         0.9682        2     13\n",
        "..    ...            ...      ...    ...\n",
        "26      0         0.3607        0     11\n",
        "27      0         0.3607        0      0\n",
        "28      0        -0.2242        0     19\n",
        "29      0        -0.2242        0      9\n",
        "30      0        -0.2242        0     11\n",
        "31      0        -0.2242        0      0\n",
        "32      2        -0.8409        1      8\n",
        "33      2        -0.8409        1     18\n",
        "34      2        -0.8409        1     13\n",
        "35      4         0.1527        1      8\n",
        "36      4         0.1527        1     18\n",
        "37      4         0.1527        1     13\n",
        "\n",
        "[38 rows x 4 columns]"
       ]
      }
     ],
     "prompt_number": 47
    },
    {
     "cell_type": "heading",
     "level": 2,
     "metadata": {},
     "source": [
      "Time Series Functionality"
     ]
    },
    {
     "cell_type": "heading",
     "level": 3,
     "metadata": {},
     "source": [
      "Construction"
     ]
    },
    {
     "cell_type": "code",
     "collapsed": false,
     "input": [
      "n = 10000\n",
      "idx = pd.date_range(start='20140101', periods=n, freq='T', tz='EST')\n",
      "s = Series(randn(n), index=idx)\n",
      "s"
     ],
     "language": "python",
     "metadata": {},
     "outputs": [
      {
       "metadata": {},
       "output_type": "pyout",
       "prompt_number": 36,
       "text": [
        "2014-01-01 00:00:00-05:00    2.0273\n",
        "2014-01-01 00:01:00-05:00   -0.1633\n",
        "2014-01-01 00:02:00-05:00    0.6636\n",
        "2014-01-01 00:03:00-05:00    0.4071\n",
        "2014-01-01 00:04:00-05:00    1.2754\n",
        "2014-01-01 00:05:00-05:00    1.2767\n",
        "2014-01-01 00:06:00-05:00   -0.1523\n",
        "2014-01-01 00:07:00-05:00    0.3553\n",
        "2014-01-01 00:08:00-05:00   -1.4021\n",
        "2014-01-01 00:09:00-05:00    1.6742\n",
        "...\n",
        "2014-01-07 22:29:00-05:00   -1.6015\n",
        "2014-01-07 22:30:00-05:00   -0.3608\n",
        "2014-01-07 22:31:00-05:00    1.3096\n",
        "2014-01-07 22:32:00-05:00   -0.1024\n",
        "2014-01-07 22:33:00-05:00   -0.2849\n",
        "2014-01-07 22:34:00-05:00    0.1713\n",
        "2014-01-07 22:35:00-05:00    1.4317\n",
        "2014-01-07 22:36:00-05:00   -0.4978\n",
        "2014-01-07 22:37:00-05:00    0.4163\n",
        "2014-01-07 22:38:00-05:00    1.9857\n",
        "2014-01-07 22:39:00-05:00   -0.8362\n",
        "Freq: T, Length: 10000"
       ]
      }
     ],
     "prompt_number": 36
    },
    {
     "cell_type": "heading",
     "level": 3,
     "metadata": {},
     "source": [
      "``resample``"
     ]
    },
    {
     "cell_type": "code",
     "collapsed": false,
     "input": [
      "s.resample('H', how='last')"
     ],
     "language": "python",
     "metadata": {},
     "outputs": [
      {
       "metadata": {},
       "output_type": "pyout",
       "prompt_number": 52,
       "text": [
        "2014-01-01 00:00:00-05:00    0.4529\n",
        "2014-01-01 01:00:00-05:00   -1.1549\n",
        "2014-01-01 02:00:00-05:00   -0.2596\n",
        "2014-01-01 03:00:00-05:00   -0.9384\n",
        "2014-01-01 04:00:00-05:00    0.4034\n",
        "2014-01-01 05:00:00-05:00    0.7370\n",
        "2014-01-01 06:00:00-05:00   -0.2981\n",
        "2014-01-01 07:00:00-05:00    1.8180\n",
        "2014-01-01 08:00:00-05:00   -1.1924\n",
        "2014-01-01 09:00:00-05:00   -0.4888\n",
        "...\n",
        "2014-01-07 12:00:00-05:00   -1.3036\n",
        "2014-01-07 13:00:00-05:00    1.0790\n",
        "2014-01-07 14:00:00-05:00   -0.4175\n",
        "2014-01-07 15:00:00-05:00   -0.3635\n",
        "2014-01-07 16:00:00-05:00   -0.1982\n",
        "2014-01-07 17:00:00-05:00    1.2631\n",
        "2014-01-07 18:00:00-05:00    0.8772\n",
        "2014-01-07 19:00:00-05:00   -1.1054\n",
        "2014-01-07 20:00:00-05:00    0.9540\n",
        "2014-01-07 21:00:00-05:00   -0.1034\n",
        "2014-01-07 22:00:00-05:00   -0.8362\n",
        "Freq: H, Length: 167"
       ]
      }
     ],
     "prompt_number": 52
    },
    {
     "cell_type": "code",
     "collapsed": false,
     "input": [
      "# multiple functions\n",
      "s.resample('H', how=['mean', 'sum', 'std']).head()"
     ],
     "language": "python",
     "metadata": {},
     "outputs": [
      {
       "html": [
        "<div style=\"max-height:1000px;max-width:1500px;overflow:auto;\">\n",
        "<table border=\"1\" class=\"dataframe\">\n",
        "  <thead>\n",
        "    <tr style=\"text-align: right;\">\n",
        "      <th></th>\n",
        "      <th>mean</th>\n",
        "      <th>sum</th>\n",
        "      <th>std</th>\n",
        "    </tr>\n",
        "  </thead>\n",
        "  <tbody>\n",
        "    <tr>\n",
        "      <th>2014-01-01 00:00:00-05:00</th>\n",
        "      <td> 0.0770</td>\n",
        "      <td>  4.6201</td>\n",
        "      <td> 0.9913</td>\n",
        "    </tr>\n",
        "    <tr>\n",
        "      <th>2014-01-01 01:00:00-05:00</th>\n",
        "      <td> 0.3392</td>\n",
        "      <td> 20.3498</td>\n",
        "      <td> 0.9045</td>\n",
        "    </tr>\n",
        "    <tr>\n",
        "      <th>2014-01-01 02:00:00-05:00</th>\n",
        "      <td>-0.1765</td>\n",
        "      <td>-10.5878</td>\n",
        "      <td> 1.1734</td>\n",
        "    </tr>\n",
        "    <tr>\n",
        "      <th>2014-01-01 03:00:00-05:00</th>\n",
        "      <td> 0.2111</td>\n",
        "      <td> 12.6673</td>\n",
        "      <td> 1.1786</td>\n",
        "    </tr>\n",
        "    <tr>\n",
        "      <th>2014-01-01 04:00:00-05:00</th>\n",
        "      <td> 0.0240</td>\n",
        "      <td>  1.4373</td>\n",
        "      <td> 0.8839</td>\n",
        "    </tr>\n",
        "  </tbody>\n",
        "</table>\n",
        "</div>"
       ],
       "metadata": {},
       "output_type": "pyout",
       "prompt_number": 53,
       "text": [
        "                             mean      sum     std\n",
        "2014-01-01 00:00:00-05:00  0.0770   4.6201  0.9913\n",
        "2014-01-01 01:00:00-05:00  0.3392  20.3498  0.9045\n",
        "2014-01-01 02:00:00-05:00 -0.1765 -10.5878  1.1734\n",
        "2014-01-01 03:00:00-05:00  0.2111  12.6673  1.1786\n",
        "2014-01-01 04:00:00-05:00  0.0240   1.4373  0.8839"
       ]
      }
     ],
     "prompt_number": 53
    },
    {
     "cell_type": "heading",
     "level": 2,
     "metadata": {},
     "source": [
      "Basic IO"
     ]
    },
    {
     "cell_type": "heading",
     "level": 3,
     "metadata": {},
     "source": [
      "CSV: [``read_csv``](http://pandas.pydata.org/pandas-docs/stable/io.html#io-read-csv-table)/[``to_csv``](http://pandas.pydata.org/pandas-docs/stable/io.html#io-store-in-csv)"
     ]
    },
    {
     "cell_type": "code",
     "collapsed": false,
     "input": [
      "%%writefile /tmp/tmp.csv\n",
      "a,b,c\n",
      "1,d,3.0\n",
      "4,e,6.28\n",
      "2,f,4.4"
     ],
     "language": "python",
     "metadata": {},
     "outputs": [
      {
       "output_type": "stream",
       "stream": "stdout",
       "text": [
        "Overwriting /tmp/tmp.csv\n"
       ]
      }
     ],
     "prompt_number": 54
    },
    {
     "cell_type": "code",
     "collapsed": false,
     "input": [
      "df = pd.read_csv('/tmp/tmp.csv')\n",
      "df"
     ],
     "language": "python",
     "metadata": {},
     "outputs": [
      {
       "html": [
        "<div style=\"max-height:1000px;max-width:1500px;overflow:auto;\">\n",
        "<table border=\"1\" class=\"dataframe\">\n",
        "  <thead>\n",
        "    <tr style=\"text-align: right;\">\n",
        "      <th></th>\n",
        "      <th>a</th>\n",
        "      <th>b</th>\n",
        "      <th>c</th>\n",
        "    </tr>\n",
        "  </thead>\n",
        "  <tbody>\n",
        "    <tr>\n",
        "      <th>0</th>\n",
        "      <td> 1</td>\n",
        "      <td> d</td>\n",
        "      <td> 3.00</td>\n",
        "    </tr>\n",
        "    <tr>\n",
        "      <th>1</th>\n",
        "      <td> 4</td>\n",
        "      <td> e</td>\n",
        "      <td> 6.28</td>\n",
        "    </tr>\n",
        "    <tr>\n",
        "      <th>2</th>\n",
        "      <td> 2</td>\n",
        "      <td> f</td>\n",
        "      <td> 4.40</td>\n",
        "    </tr>\n",
        "  </tbody>\n",
        "</table>\n",
        "</div>"
       ],
       "metadata": {},
       "output_type": "pyout",
       "prompt_number": 55,
       "text": [
        "   a  b     c\n",
        "0  1  d  3.00\n",
        "1  4  e  6.28\n",
        "2  2  f  4.40"
       ]
      }
     ],
     "prompt_number": 55
    },
    {
     "cell_type": "code",
     "collapsed": false,
     "input": [
      "df.dtypes"
     ],
     "language": "python",
     "metadata": {},
     "outputs": [
      {
       "metadata": {},
       "output_type": "pyout",
       "prompt_number": 40,
       "text": [
        "a      int64\n",
        "b     object\n",
        "c    float64\n",
        "dtype: object"
       ]
      }
     ],
     "prompt_number": 40
    },
    {
     "cell_type": "code",
     "collapsed": false,
     "input": [
      "df.to_csv('/tmp/tmp_out.csv')\n",
      "%cat /tmp/tmp_out.csv\n",
      "# saves the index created by default"
     ],
     "language": "python",
     "metadata": {},
     "outputs": [
      {
       "output_type": "stream",
       "stream": "stdout",
       "text": [
        ",a,b,c\r\n",
        "0,1,d,3.0\r\n",
        "1,4,e,6.28\r\n",
        "2,2,f,4.4\r\n"
       ]
      }
     ],
     "prompt_number": 41
    },
    {
     "cell_type": "heading",
     "level": 3,
     "metadata": {},
     "source": [
      "HDF5: [``read_hdf``](http://pandas.pydata.org/pandas-docs/stable/io.html#io-hdf5)/[``to_hdf``](http://pandas.pydata.org/pandas-docs/stable/io.html#io-hdf5)"
     ]
    },
    {
     "cell_type": "code",
     "collapsed": false,
     "input": [
      "df = DataFrame(dict(a=randn(10), b=randint(10, size=10),\n",
      "                    c=choice(list('abc'), size=10)))\n",
      "df"
     ],
     "language": "python",
     "metadata": {},
     "outputs": [
      {
       "html": [
        "<div style=\"max-height:1000px;max-width:1500px;overflow:auto;\">\n",
        "<table border=\"1\" class=\"dataframe\">\n",
        "  <thead>\n",
        "    <tr style=\"text-align: right;\">\n",
        "      <th></th>\n",
        "      <th>a</th>\n",
        "      <th>b</th>\n",
        "      <th>c</th>\n",
        "    </tr>\n",
        "  </thead>\n",
        "  <tbody>\n",
        "    <tr>\n",
        "      <th>0</th>\n",
        "      <td> 0.3658</td>\n",
        "      <td> 4</td>\n",
        "      <td> c</td>\n",
        "    </tr>\n",
        "    <tr>\n",
        "      <th>1</th>\n",
        "      <td>-0.8123</td>\n",
        "      <td> 7</td>\n",
        "      <td> c</td>\n",
        "    </tr>\n",
        "    <tr>\n",
        "      <th>2</th>\n",
        "      <td>-1.0925</td>\n",
        "      <td> 2</td>\n",
        "      <td> a</td>\n",
        "    </tr>\n",
        "    <tr>\n",
        "      <th>3</th>\n",
        "      <td> 0.1906</td>\n",
        "      <td> 3</td>\n",
        "      <td> a</td>\n",
        "    </tr>\n",
        "    <tr>\n",
        "      <th>4</th>\n",
        "      <td>-0.6207</td>\n",
        "      <td> 0</td>\n",
        "      <td> c</td>\n",
        "    </tr>\n",
        "    <tr>\n",
        "      <th>5</th>\n",
        "      <td>-0.2061</td>\n",
        "      <td> 8</td>\n",
        "      <td> b</td>\n",
        "    </tr>\n",
        "    <tr>\n",
        "      <th>6</th>\n",
        "      <td> 1.1670</td>\n",
        "      <td> 0</td>\n",
        "      <td> b</td>\n",
        "    </tr>\n",
        "    <tr>\n",
        "      <th>7</th>\n",
        "      <td>-2.1951</td>\n",
        "      <td> 2</td>\n",
        "      <td> c</td>\n",
        "    </tr>\n",
        "    <tr>\n",
        "      <th>8</th>\n",
        "      <td> 0.5867</td>\n",
        "      <td> 3</td>\n",
        "      <td> b</td>\n",
        "    </tr>\n",
        "    <tr>\n",
        "      <th>9</th>\n",
        "      <td>-1.1728</td>\n",
        "      <td> 7</td>\n",
        "      <td> c</td>\n",
        "    </tr>\n",
        "  </tbody>\n",
        "</table>\n",
        "</div>"
       ],
       "metadata": {},
       "output_type": "pyout",
       "prompt_number": 42,
       "text": [
        "        a  b  c\n",
        "0  0.3658  4  c\n",
        "1 -0.8123  7  c\n",
        "2 -1.0925  2  a\n",
        "3  0.1906  3  a\n",
        "4 -0.6207  0  c\n",
        "5 -0.2061  8  b\n",
        "6  1.1670  0  b\n",
        "7 -2.1951  2  c\n",
        "8  0.5867  3  b\n",
        "9 -1.1728  7  c"
       ]
      }
     ],
     "prompt_number": 42
    },
    {
     "cell_type": "code",
     "collapsed": false,
     "input": [
      "df.to_hdf('/tmp/tmp.h5', 'df', format='table')"
     ],
     "language": "python",
     "metadata": {},
     "outputs": [],
     "prompt_number": 43
    },
    {
     "cell_type": "code",
     "collapsed": false,
     "input": [
      "pd.read_hdf('/tmp/tmp.h5', 'df')"
     ],
     "language": "python",
     "metadata": {},
     "outputs": [
      {
       "html": [
        "<div style=\"max-height:1000px;max-width:1500px;overflow:auto;\">\n",
        "<table border=\"1\" class=\"dataframe\">\n",
        "  <thead>\n",
        "    <tr style=\"text-align: right;\">\n",
        "      <th></th>\n",
        "      <th>a</th>\n",
        "      <th>b</th>\n",
        "      <th>c</th>\n",
        "    </tr>\n",
        "  </thead>\n",
        "  <tbody>\n",
        "    <tr>\n",
        "      <th>0</th>\n",
        "      <td> 0.3658</td>\n",
        "      <td> 4</td>\n",
        "      <td> c</td>\n",
        "    </tr>\n",
        "    <tr>\n",
        "      <th>1</th>\n",
        "      <td>-0.8123</td>\n",
        "      <td> 7</td>\n",
        "      <td> c</td>\n",
        "    </tr>\n",
        "    <tr>\n",
        "      <th>2</th>\n",
        "      <td>-1.0925</td>\n",
        "      <td> 2</td>\n",
        "      <td> a</td>\n",
        "    </tr>\n",
        "    <tr>\n",
        "      <th>3</th>\n",
        "      <td> 0.1906</td>\n",
        "      <td> 3</td>\n",
        "      <td> a</td>\n",
        "    </tr>\n",
        "    <tr>\n",
        "      <th>4</th>\n",
        "      <td>-0.6207</td>\n",
        "      <td> 0</td>\n",
        "      <td> c</td>\n",
        "    </tr>\n",
        "    <tr>\n",
        "      <th>5</th>\n",
        "      <td>-0.2061</td>\n",
        "      <td> 8</td>\n",
        "      <td> b</td>\n",
        "    </tr>\n",
        "    <tr>\n",
        "      <th>6</th>\n",
        "      <td> 1.1670</td>\n",
        "      <td> 0</td>\n",
        "      <td> b</td>\n",
        "    </tr>\n",
        "    <tr>\n",
        "      <th>7</th>\n",
        "      <td>-2.1951</td>\n",
        "      <td> 2</td>\n",
        "      <td> c</td>\n",
        "    </tr>\n",
        "    <tr>\n",
        "      <th>8</th>\n",
        "      <td> 0.5867</td>\n",
        "      <td> 3</td>\n",
        "      <td> b</td>\n",
        "    </tr>\n",
        "    <tr>\n",
        "      <th>9</th>\n",
        "      <td>-1.1728</td>\n",
        "      <td> 7</td>\n",
        "      <td> c</td>\n",
        "    </tr>\n",
        "  </tbody>\n",
        "</table>\n",
        "</div>"
       ],
       "metadata": {},
       "output_type": "pyout",
       "prompt_number": 44,
       "text": [
        "        a  b  c\n",
        "0  0.3658  4  c\n",
        "1 -0.8123  7  c\n",
        "2 -1.0925  2  a\n",
        "3  0.1906  3  a\n",
        "4 -0.6207  0  c\n",
        "5 -0.2061  8  b\n",
        "6  1.1670  0  b\n",
        "7 -2.1951  2  c\n",
        "8  0.5867  3  b\n",
        "9 -1.1728  7  c"
       ]
      }
     ],
     "prompt_number": 44
    },
    {
     "cell_type": "heading",
     "level": 1,
     "metadata": {},
     "source": [
      "Next Up:\n",
      "\n",
      "[Features!](Features.ipynb)"
     ]
    }
   ],
   "metadata": {}
  }
 ]
}