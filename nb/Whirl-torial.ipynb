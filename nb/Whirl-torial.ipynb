{
 "metadata": {
  "name": "",
  "signature": "sha256:1e17e54c3ea8c30f26eac65be231610398822d34b45ca84a420c108094c5096a"
 },
 "nbformat": 3,
 "nbformat_minor": 0,
 "worksheets": [
  {
   "cells": [
    {
     "cell_type": "code",
     "collapsed": true,
     "input": [
      "from __future__ import division, print_function"
     ],
     "language": "python",
     "metadata": {},
     "outputs": []
    },
    {
     "cell_type": "code",
     "collapsed": true,
     "input": [
      "from IPython.core.display import HTML, Image, display as disp\n",
      "with open(\"../css/css.css\", \"r\") as f:\n",
      "    style = f.read()\n",
      "HTML(style)"
     ],
     "language": "python",
     "metadata": {},
     "outputs": []
    },
    {
     "cell_type": "markdown",
     "metadata": {},
     "source": [
      "# Whirlwind Introduction to [Pandas](http://pandas.pydata.org)!\n",
      "---------------\n",
      "\n",
      "### About me: Phillip Cloud\n",
      "\n",
      "## Past:\n",
      "* MA Psychology from CUNY CCNY (analysis of rat spike train data)\n",
      "\n",
      "## Now:\n",
      "* Data infrastructure/research/development @ neuromatters (neurotechnology R & D company)\n",
      "* Core contributer to pandas for a little over 1 year"
     ]
    },
    {
     "cell_type": "code",
     "collapsed": false,
     "input": [
      "!./shortlog.sh ../../pandas"
     ],
     "language": "python",
     "metadata": {},
     "outputs": []
    },
    {
     "cell_type": "heading",
     "level": 1,
     "metadata": {},
     "source": [
      "Why pandas?"
     ]
    },
    {
     "cell_type": "markdown",
     "metadata": {},
     "source": [
      "pandas fills the need for a Python library that is awesome at data munging. With pandas you don't need to go outside of Python to do data analysis. You can write a web app using django and have data dashboards that are backed by pandas."
     ]
    },
    {
     "cell_type": "heading",
     "level": 1,
     "metadata": {},
     "source": [
      "What is pandas?"
     ]
    },
    {
     "cell_type": "markdown",
     "metadata": {},
     "source": [
      "#### Strengths:\n",
      "``pandas`` is *the* library for tabular you've always wished you had. It supports operations such as\n",
      "\n",
      "* ``groupby``\n",
      "* ``merge``\n",
      "* aggregations (``mean``, ``sum``, ``any``, `all`, etc.)\n",
      "* advanced indexing capabilities\n",
      "* automatic data alignment during e.g., arithmetic operations\n",
      "* powerful vectorized text manipulation\n",
      "* missing data handling\n",
      "* comprehensive and extremely flexible IO (e.g., CSV, Excel, HDF5, HTML)\n",
      "\n",
      "#### Limitations:\n",
      "\n",
      "* ``pandas`` was designed to work with \"medium\" data, i.e., data that fit into memory.\n",
      "* That said, I routinely work with $\\approx$ 20-100M row datasets fairly easily with pandas."
     ]
    },
    {
     "cell_type": "heading",
     "level": 2,
     "metadata": {},
     "source": [
      "My reaction after discovering pandas:"
     ]
    },
    {
     "cell_type": "code",
     "collapsed": true,
     "input": [
      "disp(Image(\"../img/m.jpg\"))"
     ],
     "language": "python",
     "metadata": {},
     "outputs": []
    },
    {
     "cell_type": "code",
     "collapsed": true,
     "input": [
      "disp(Image(\"../img/u.jpg\"))"
     ],
     "language": "python",
     "metadata": {},
     "outputs": []
    },
    {
     "cell_type": "heading",
     "level": 2,
     "metadata": {},
     "source": [
      "First rule of pandas talks: they aren't complete without a meme."
     ]
    },
    {
     "cell_type": "markdown",
     "metadata": {},
     "source": [
      "### Deps for the talk\n",
      "\n",
      "* [These notebooks](http://github.com/cpcloud/nypug-pandas-features)\n",
      "* [pandas](http://pandas.pydata.org/pandas-docs/stable/install.html#installation) with *all* [optional deps](http://pandas.pydata.org/pandas-docs/stable/install.html#recommended-dependencies) (Anaconda provides most if not all of these)\n",
      "* [sh](http://amoffat.github.io/sh): ``pip install sh``\n",
      "* [jq](http://stedolan.github.io/jq)\n",
      "* [requests](http://docs.python-requests.org/en/latest) because `urllib` et al are less than desirable\n",
      "\n",
      "### Optional\n",
      "* [mpltools](http://tonysyu.github.io/mpltools) (for nice looking plots by default)"
     ]
    },
    {
     "cell_type": "markdown",
     "metadata": {},
     "source": [
      "### Enough talking, let's see some code."
     ]
    },
    {
     "cell_type": "code",
     "collapsed": true,
     "input": [
      "# imports that I'll use throughout the talk\n",
      "import numpy as np\n",
      "import pandas as pd\n",
      "from pandas import DataFrame, Series, Index\n",
      "from numpy.random import randn, randint, rand, choice\n",
      "import matplotlib.pyplot as plt\n",
      "\n",
      "pd.options.display.max_rows = 10\n",
      "\n",
      "try:\n",
      "    from mpltools import style\n",
      "    style.use('ggplot')\n",
      "except ImportError:\n",
      "    pass\n",
      "\n",
      "\n",
      "# because of our bg color\n",
      "plt.rc('text', color='white')\n",
      "plt.rc('axes', labelcolor='white')\n",
      "plt.rc('xtick', color='white')\n",
      "plt.rc('ytick', color='white')"
     ],
     "language": "python",
     "metadata": {},
     "outputs": []
    },
    {
     "cell_type": "code",
     "collapsed": true,
     "input": [
      "%matplotlib inline"
     ],
     "language": "python",
     "metadata": {},
     "outputs": []
    },
    {
     "cell_type": "heading",
     "level": 1,
     "metadata": {},
     "source": [
      "[``pandas.DataFrame``](http://pandas.pydata.org/pandas-docs/stable/dsintro.html#dataframe)"
     ]
    },
    {
     "cell_type": "heading",
     "level": 3,
     "metadata": {},
     "source": [
      "``DataFrame`` is the flagship data structure in ``pandas``"
     ]
    },
    {
     "cell_type": "code",
     "collapsed": true,
     "input": [
      "df = pd.DataFrame(randn(10, 2), columns=list('ab'))\n",
      "df"
     ],
     "language": "python",
     "metadata": {},
     "outputs": []
    },
    {
     "cell_type": "code",
     "collapsed": true,
     "input": [
      "# if you have boto installed and have set up credentials\n",
      "# df = pd.read_csv('s3://nypug/tips.csv')"
     ],
     "language": "python",
     "metadata": {},
     "outputs": []
    },
    {
     "cell_type": "code",
     "collapsed": true,
     "input": [
      "df = pd.read_csv('https://s3.amazonaws.com/nypug/tips.csv')\n",
      "df"
     ],
     "language": "python",
     "metadata": {},
     "outputs": []
    },
    {
     "cell_type": "code",
     "collapsed": true,
     "input": [
      "df.dtypes"
     ],
     "language": "python",
     "metadata": {},
     "outputs": []
    },
    {
     "cell_type": "markdown",
     "metadata": {},
     "source": [
      "### One of ``pandas``' most useful and powerful features is its ability to slice and dice data in almost any way you can think of. "
     ]
    },
    {
     "cell_type": "code",
     "collapsed": true,
     "input": [
      "# column access by name\n",
      "df['day']  # \u27f5 that's a Series object"
     ],
     "language": "python",
     "metadata": {},
     "outputs": []
    },
    {
     "cell_type": "code",
     "collapsed": true,
     "input": [
      "# by attribute\n",
      "df.time"
     ],
     "language": "python",
     "metadata": {},
     "outputs": []
    },
    {
     "cell_type": "code",
     "collapsed": true,
     "input": [
      "df.time.value_counts()"
     ],
     "language": "python",
     "metadata": {},
     "outputs": []
    },
    {
     "cell_type": "code",
     "collapsed": true,
     "input": [
      "# multiple columns\n",
      "df[['tip', 'sex']]"
     ],
     "language": "python",
     "metadata": {},
     "outputs": []
    },
    {
     "cell_type": "code",
     "collapsed": true,
     "input": [
      "t = df.set_index('day')\n",
      "t.head()"
     ],
     "language": "python",
     "metadata": {},
     "outputs": []
    },
    {
     "cell_type": "code",
     "collapsed": true,
     "input": [
      "t.loc['Sun']"
     ],
     "language": "python",
     "metadata": {},
     "outputs": []
    },
    {
     "cell_type": "code",
     "collapsed": true,
     "input": [
      "df.loc[df.day == 'Sun']"
     ],
     "language": "python",
     "metadata": {},
     "outputs": []
    },
    {
     "cell_type": "code",
     "collapsed": true,
     "input": [
      "df.loc[:, 'smoker']"
     ],
     "language": "python",
     "metadata": {},
     "outputs": []
    },
    {
     "cell_type": "code",
     "collapsed": true,
     "input": [
      "df.iloc[:, 3]  # same as df.loc[:, 'smoker']"
     ],
     "language": "python",
     "metadata": {},
     "outputs": []
    },
    {
     "cell_type": "heading",
     "level": 3,
     "metadata": {},
     "source": [
      "Add and delete columns as you please"
     ]
    },
    {
     "cell_type": "code",
     "collapsed": true,
     "input": [
      "df['pct_tip'] = df.tip / df.total_bill\n",
      "df['avg_price'] = df.total_bill / df.size"
     ],
     "language": "python",
     "metadata": {},
     "outputs": []
    },
    {
     "cell_type": "code",
     "collapsed": true,
     "input": [
      "df.avg_price.hist(bins=20)"
     ],
     "language": "python",
     "metadata": {},
     "outputs": []
    },
    {
     "cell_type": "code",
     "collapsed": false,
     "input": [
      "del df['avg_price']\n",
      "del df['pct_tip']"
     ],
     "language": "python",
     "metadata": {},
     "outputs": []
    },
    {
     "cell_type": "code",
     "collapsed": true,
     "input": [
      "# multiple columns, multiple rows\n",
      "df.loc[[0, 2], ['sex', 'tip']]"
     ],
     "language": "python",
     "metadata": {},
     "outputs": []
    },
    {
     "cell_type": "code",
     "collapsed": true,
     "input": [
      "df.loc[:10, ['total_bill', 'tip']]  # note this is inclusive"
     ],
     "language": "python",
     "metadata": {},
     "outputs": []
    },
    {
     "cell_type": "code",
     "collapsed": true,
     "input": [
      "# and with iloc\n",
      "df.iloc[:5]  # exclusive endpoints"
     ],
     "language": "python",
     "metadata": {},
     "outputs": []
    },
    {
     "cell_type": "heading",
     "level": 2,
     "metadata": {},
     "source": [
      "Applying Functions to Pandas Objects"
     ]
    },
    {
     "cell_type": "markdown",
     "metadata": {},
     "source": [
      "Apply a function over the columns of a ``DataFrame``"
     ]
    },
    {
     "cell_type": "code",
     "collapsed": false,
     "input": [
      "# np.ptp is point-to-point difference, i.e., range\n",
      "df[['total_bill', 'tip', 'size']].apply(np.ptp)"
     ],
     "language": "python",
     "metadata": {},
     "outputs": []
    },
    {
     "cell_type": "code",
     "collapsed": true,
     "input": [
      "days = ['Sun', 'Mon', 'Tues', 'Wed', 'Thur', 'Fri', 'Sat']"
     ],
     "language": "python",
     "metadata": {},
     "outputs": []
    },
    {
     "cell_type": "code",
     "collapsed": false,
     "input": [
      "df.day.map(days.index)"
     ],
     "language": "python",
     "metadata": {},
     "outputs": []
    },
    {
     "cell_type": "heading",
     "level": 2,
     "metadata": {},
     "source": [
      "[Reductions](http://pandas.pydata.org/pandas-docs/stable/basics.html#descriptive-statistics)"
     ]
    },
    {
     "cell_type": "markdown",
     "metadata": {},
     "source": [
      "For example, the ``DataFrame.sum()`` method results in a ``Series`` object and by default sums across the rows. If you want to sum across the columns pass ``axis=1``, similar to the ``numpy`` convention"
     ]
    },
    {
     "cell_type": "markdown",
     "metadata": {},
     "source": [
      "In general, reduction operations result in a ``Series`` object.\n",
      "\n",
      "Some example reduction functions:\n",
      "\n",
      "* ``mean``, ``median``, and ``mode``\n",
      "* ``count``\n",
      "* ``std``, ``var``\n",
      "\n",
      "*NOTE:* **These ignore ``NaN``s**"
     ]
    },
    {
     "cell_type": "code",
     "collapsed": true,
     "input": [
      "df.sum()  # whoa! + is defined for strings"
     ],
     "language": "python",
     "metadata": {},
     "outputs": []
    },
    {
     "cell_type": "code",
     "collapsed": true,
     "input": [
      "df.sum(numeric_only=True)"
     ],
     "language": "python",
     "metadata": {},
     "outputs": []
    },
    {
     "cell_type": "code",
     "collapsed": true,
     "input": [
      "df.count() / df.shape[0]  # we don't have any nans"
     ],
     "language": "python",
     "metadata": {},
     "outputs": []
    },
    {
     "cell_type": "code",
     "collapsed": true,
     "input": [
      "df.var()"
     ],
     "language": "python",
     "metadata": {},
     "outputs": []
    },
    {
     "cell_type": "code",
     "collapsed": true,
     "input": [
      "df.mean()"
     ],
     "language": "python",
     "metadata": {},
     "outputs": []
    },
    {
     "cell_type": "heading",
     "level": 2,
     "metadata": {},
     "source": [
      "[``GroupBy``](http://pandas.pydata.org/pandas-docs/stable/groupby.html)"
     ]
    },
    {
     "cell_type": "markdown",
     "metadata": {},
     "source": [
      "``pandas``' ``GroupBy`` functionality allows you to perform operations on subsets of a ``DataFrame`` and then  combines the results for you at the end"
     ]
    },
    {
     "cell_type": "code",
     "collapsed": true,
     "input": [
      "gb = df.groupby('sex')\n",
      "gb.mean()"
     ],
     "language": "python",
     "metadata": {},
     "outputs": []
    },
    {
     "cell_type": "code",
     "collapsed": true,
     "input": [
      "gb = df.groupby(['sex', 'smoker'])\n",
      "gb.std()"
     ],
     "language": "python",
     "metadata": {},
     "outputs": []
    },
    {
     "cell_type": "code",
     "collapsed": true,
     "input": [
      "# can pass multiple reducers to agg\n",
      "gb.agg(['mean', 'std', 'median'])"
     ],
     "language": "python",
     "metadata": {},
     "outputs": []
    },
    {
     "cell_type": "heading",
     "level": 3,
     "metadata": {},
     "source": [
      "``apply``"
     ]
    },
    {
     "cell_type": "markdown",
     "metadata": {},
     "source": [
      "``GroupBy.apply()`` take a `callable` and calls it on each group"
     ]
    },
    {
     "cell_type": "code",
     "collapsed": true,
     "input": [
      "def stdize(x):\n",
      "    return (x - x.mean()) / x.std()\n",
      "    \n",
      "df['tb_std'] = gb.total_bill.apply(stdize)"
     ],
     "language": "python",
     "metadata": {},
     "outputs": []
    },
    {
     "cell_type": "code",
     "collapsed": true,
     "input": [
      "ax = df.tb_std.plot(kind='kde', lw=3)\n",
      "df.tb_std.hist(ax=ax, normed=True)\n",
      "\n",
      "ax.set_xlabel('$z$-score', fontsize=20)\n",
      "ax.set_title(r'Total Bill Stdized by Sex$\\times$ Smoker')\n",
      "\n",
      "ax.axis('tight')\n",
      "fig.tight_layout()"
     ],
     "language": "python",
     "metadata": {},
     "outputs": []
    },
    {
     "cell_type": "heading",
     "level": 2,
     "metadata": {},
     "source": [
      "[``merge``](http://pandas.pydata.org/pandas-docs/stable/merging.html)"
     ]
    },
    {
     "cell_type": "markdown",
     "metadata": {},
     "source": [
      "Often times you have data sets of different shapes with a common column that you want to join on\n",
      "\n",
      "``pandas`` does this a couple of ways, but the main entry point is ``pandas.merge``"
     ]
    },
    {
     "cell_type": "code",
     "collapsed": true,
     "input": [
      "# create some frames\n",
      "n = 2000\n",
      "n2 = n // 2\n",
      "ads = DataFrame({'page_visits_per_day': np.random.poisson(10, size=n),\n",
      "                 'user_id': randint(9, size=n)})\n",
      "users = DataFrame({'likes_per_day': np.random.poisson(30, size=n2),\n",
      "                   'user_id': randint(6, size=n2)})\n",
      "ads"
     ],
     "language": "python",
     "metadata": {},
     "outputs": []
    },
    {
     "cell_type": "code",
     "collapsed": true,
     "input": [
      "users"
     ],
     "language": "python",
     "metadata": {},
     "outputs": []
    },
    {
     "cell_type": "code",
     "collapsed": true,
     "input": [
      "merg = pd.merge(ads, users)\n",
      "merg.sort('user_id')"
     ],
     "language": "python",
     "metadata": {},
     "outputs": []
    },
    {
     "cell_type": "heading",
     "level": 2,
     "metadata": {},
     "source": [
      "[String Manipulation](http://pandas.pydata.org/pandas-docs/stable/basics.html#vectorized-string-methods)"
     ]
    },
    {
     "cell_type": "code",
     "collapsed": true,
     "input": [
      "s = df.day\n",
      "s"
     ],
     "language": "python",
     "metadata": {},
     "outputs": []
    },
    {
     "cell_type": "code",
     "collapsed": true,
     "input": [
      "is_weekend = s.str.startswith('S')\n",
      "is_weekend"
     ],
     "language": "python",
     "metadata": {},
     "outputs": []
    },
    {
     "cell_type": "code",
     "collapsed": true,
     "input": [
      "correct = s[is_weekend].str.contains(r'^(?:Sat|Sun)$')\n",
      "correct.all()"
     ],
     "language": "python",
     "metadata": {},
     "outputs": []
    },
    {
     "cell_type": "code",
     "collapsed": true,
     "input": [
      "s.str.len()"
     ],
     "language": "python",
     "metadata": {},
     "outputs": []
    },
    {
     "cell_type": "code",
     "collapsed": true,
     "input": [
      "s.str[:2]"
     ],
     "language": "python",
     "metadata": {},
     "outputs": []
    },
    {
     "cell_type": "heading",
     "level": 2,
     "metadata": {},
     "source": [
      "[Time Series Functionality](http://pandas.pydata.org/pandas-docs/stable/timeseries.html)"
     ]
    },
    {
     "cell_type": "heading",
     "level": 3,
     "metadata": {},
     "source": [
      "Construction"
     ]
    },
    {
     "cell_type": "code",
     "collapsed": true,
     "input": [
      "n = 10000\n",
      "idx = pd.date_range(start='today', periods=n, freq='D')\n",
      "idx"
     ],
     "language": "python",
     "metadata": {},
     "outputs": []
    },
    {
     "cell_type": "code",
     "collapsed": true,
     "input": [
      "s = Series(np.random.poisson(10, size=n), index=idx, name='login_count')"
     ],
     "language": "python",
     "metadata": {},
     "outputs": []
    },
    {
     "cell_type": "heading",
     "level": 3,
     "metadata": {},
     "source": [
      "``resample``"
     ]
    },
    {
     "cell_type": "code",
     "collapsed": true,
     "input": [
      "s.resample('W', how='sum')"
     ],
     "language": "python",
     "metadata": {},
     "outputs": []
    },
    {
     "cell_type": "code",
     "collapsed": true,
     "input": [
      "# multiple functions\n",
      "rs = s.resample('W', how=['mean', 'std', 'count'])\n",
      "rs"
     ],
     "language": "python",
     "metadata": {},
     "outputs": []
    },
    {
     "cell_type": "heading",
     "level": 2,
     "metadata": {},
     "source": [
      "[Plotting](http://pandas.pydata.org/pandas-docs/stable/visualization.html)"
     ]
    },
    {
     "cell_type": "code",
     "collapsed": true,
     "input": [
      "mu = rs['mean']\n",
      "fig, ax = plt.subplots(figsize=(12, 6))\n",
      "ax.step(mu.index[:50], mu.iloc[:50], lw=3, where='post')\n",
      "fig.tight_layout()\n",
      "ax.set_xlabel('Time')\n",
      "ax.set_ylabel('Average Count / Week')\n",
      "ax.set_title('Count vs. Time')"
     ],
     "language": "python",
     "metadata": {},
     "outputs": []
    },
    {
     "cell_type": "heading",
     "level": 2,
     "metadata": {},
     "source": [
      "Basic IO"
     ]
    },
    {
     "cell_type": "heading",
     "level": 3,
     "metadata": {},
     "source": [
      "CSV: [``read_csv``](http://pandas.pydata.org/pandas-docs/stable/io.html#io-read-csv-table)/[``to_csv``](http://pandas.pydata.org/pandas-docs/stable/io.html#io-store-in-csv)"
     ]
    },
    {
     "cell_type": "code",
     "collapsed": true,
     "input": [
      "%%writefile tmp.csv\n",
      "a,b,c\n",
      "1,d,3.0\n",
      "4,e,6.28\n",
      "2,f,4.4"
     ],
     "language": "python",
     "metadata": {},
     "outputs": []
    },
    {
     "cell_type": "code",
     "collapsed": true,
     "input": [
      "df = pd.read_csv('tmp.csv')\n",
      "df"
     ],
     "language": "python",
     "metadata": {},
     "outputs": []
    },
    {
     "cell_type": "code",
     "collapsed": true,
     "input": [
      "df.dtypes"
     ],
     "language": "python",
     "metadata": {},
     "outputs": []
    },
    {
     "cell_type": "code",
     "collapsed": true,
     "input": [
      "df.to_csv('tmp.csv')"
     ],
     "language": "python",
     "metadata": {},
     "outputs": []
    },
    {
     "cell_type": "code",
     "collapsed": true,
     "input": [
      "%cat tmp.csv # saves the index created by default"
     ],
     "language": "python",
     "metadata": {},
     "outputs": []
    },
    {
     "cell_type": "heading",
     "level": 3,
     "metadata": {},
     "source": [
      "HDF5: [``read_hdf``](http://pandas.pydata.org/pandas-docs/stable/io.html#io-hdf5)/[``to_hdf``](http://pandas.pydata.org/pandas-docs/stable/io.html#io-hdf5)"
     ]
    },
    {
     "cell_type": "code",
     "collapsed": true,
     "input": [
      "df = DataFrame(dict(a=randn(10), b=randint(10, size=10),\n",
      "                    c=choice(list('abc'), size=10)))\n",
      "df"
     ],
     "language": "python",
     "metadata": {},
     "outputs": []
    },
    {
     "cell_type": "code",
     "collapsed": true,
     "input": [
      "df.to_hdf('tmp.h5', 'df', format='table')"
     ],
     "language": "python",
     "metadata": {},
     "outputs": []
    },
    {
     "cell_type": "code",
     "collapsed": true,
     "input": [
      "pd.read_hdf('tmp.h5', 'df')"
     ],
     "language": "python",
     "metadata": {},
     "outputs": []
    },
    {
     "cell_type": "heading",
     "level": 1,
     "metadata": {},
     "source": [
      "Next Up:\n",
      "\n",
      "[Features!](Features.ipynb)"
     ]
    }
   ],
   "metadata": {}
  }
 ]
}