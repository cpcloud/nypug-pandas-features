{
 "metadata": {
  "name": "",
  "signature": "sha256:5a315758513165fbfe39192bd2da9471e7c0bae78d3e54dc040bde56afe8c586"
 },
 "nbformat": 3,
 "nbformat_minor": 0,
 "worksheets": [
  {
   "cells": [
    {
     "cell_type": "code",
     "collapsed": false,
     "input": [
      "from IPython.core.display import HTML\n",
      "with open(\"../css/custom_light.css\", \"r\") as f:\n",
      "    styles = f.read()\n",
      "HTML(styles)"
     ],
     "language": "python",
     "metadata": {},
     "outputs": [
      {
       "html": [
        "<link href='http://fonts.googleapis.com/css?family=Source+Code+Pro' rel='stylesheet' type='text/css'>\n",
        "<link href='http://fonts.googleapis.com/css?family=Raleway' rel='stylesheet' type='text/css'>\n",
        "<style>\n",
        "/*\n",
        "Rob's custom notebook CSS\n",
        "*/\n",
        "\n",
        "/*Fonts*/\n",
        "\n",
        "body {\n",
        "    font-family: 'Raleway', sans-serif;\n",
        "}\n",
        "\n",
        "div.CodeMirror {\n",
        "  font-family: \"Source Code Pro\", source-code-pro, \"Anonymous Pro\", Consolas, Inconsolata, monospace;\n",
        "}\n",
        "\n",
        "/*Selectors*/\n",
        "\n",
        "div.code_cell.selected {\n",
        "    border: none;\n",
        "    border-radius: 2px;\n",
        "    box-shadow: 0px 0px 8px #888888;\n",
        "}\n",
        "\n",
        "div.input_area {\n",
        "    margin-left: 5px;\n",
        "    border-radius: 2px;\n",
        "    font-size: 16px !important;\n",
        "}\n",
        "\n",
        "div.prompt {\n",
        "    display: none;\n",
        "}\n",
        "\n",
        "div#maintoolbar, div#header {display: none !important;}\n",
        "\n",
        "div#notebook {border-top: none;}\n",
        "\n",
        ".cm-s-ipython {\n",
        "  border-radius: 2px;\n",
        "  background-color: #fdf6e3;\n",
        "  color: #657b83;\n",
        "}\n",
        ".cm-s-ipython .emphasis {\n",
        "  font-weight: bold;\n",
        "}\n",
        ".cm-s-ipython .dotted {\n",
        "  border-bottom: 1px dotted #cb4b16;\n",
        "}\n",
        ".cm-s-ipython .CodeMirror-gutter {\n",
        "  background-color: #eee8d5;\n",
        "  border-right: 3px solid #eee8d5;\n",
        "}\n",
        ".cm-s-ipython .CodeMirror-gutter .CodeMirror-gutter-text {\n",
        "  color: #93a1a1;\n",
        "}\n",
        ".cm-s-ipython .CodeMirror-cursor {\n",
        "  border-left-color: #002b36 !important;\n",
        "}\n",
        ".cm-s-ipython .CodeMirror-matchingbracket {\n",
        "  color: #002b36;\n",
        "  background-color: #eee8d5;\n",
        "  box-shadow: 0 0 10px #eee8d5;\n",
        "  font-weight: bold;\n",
        "}\n",
        ".cm-s-ipython .CodeMirror-nonmatchingbracket {\n",
        "  color: #002b36;\n",
        "  background-color: #eee8d5;\n",
        "  box-shadow: 0 0 10px #eee8d5;\n",
        "  font-weight: bold;\n",
        "  color: #dc322f;\n",
        "  border-bottom: 1px dotted #cb4b16;\n",
        "}\n",
        ".cm-s-ipython span.cm-keyword {\n",
        "  color: #657b83;\n",
        "  font-weight: bold;\n",
        "}\n",
        ".cm-s-ipython span.cm-atom {\n",
        "  color: #2aa198;\n",
        "}\n",
        ".cm-s-ipython span.cm-number {\n",
        "  color: #586e75;\n",
        "}\n",
        ".cm-s-ipython span.cm-def {\n",
        "  color: #268bd2;\n",
        "}\n",
        ".cm-s-ipython span.cm-variable {\n",
        "  color: #cb4b16;\n",
        "}\n",
        ".cm-s-ipython span.cm-variable-2 {\n",
        "  color: #cb4b16;\n",
        "}\n",
        ".cm-s-ipython span.cm-variable-3 {\n",
        "  color: #cb4b16;\n",
        "}\n",
        ".cm-s-ipython span.cm-comment {\n",
        "  color: #93a1a1;\n",
        "}\n",
        ".cm-s-ipython span.cm-property {\n",
        "  color: #b58900;\n",
        "}\n",
        ".cm-s-ipython span.cm-operator {\n",
        "  color: #657b83;\n",
        "}\n",
        ".cm-s-ipython span.cm-string {\n",
        "  color: #6c71c4;\n",
        "}\n",
        ".cm-s-ipython span.cm-error {\n",
        "  font-weight: bold;\n",
        "  border-bottom: 1px dotted #cb4b16;\n",
        "}\n",
        ".cm-s-ipython span.cm-bracket {\n",
        "  color: #cb4b16;\n",
        "}\n",
        ".cm-s-ipython span.cm-tag {\n",
        "  color: #657b83;\n",
        "}\n",
        ".cm-s-ipython span.cm-attribute {\n",
        "  color: #586e75;\n",
        "  font-weight: bold;\n",
        "}\n",
        ".cm-s-ipython span.cm-meta {\n",
        "  color: #268bd2;\n",
        "}\n",
        "\n",
        "</style>\n"
       ],
       "metadata": {},
       "output_type": "pyout",
       "prompt_number": 7,
       "text": [
        "<IPython.core.display.HTML object>"
       ]
      }
     ],
     "prompt_number": 7
    },
    {
     "cell_type": "markdown",
     "metadata": {},
     "source": [
      "# Whirlwind Introduction to [Pandas](http://pandas.pydata.org)!\n",
      "---------------\n",
      "\n",
      "### About me: Phillip Cloud\n",
      "\n",
      "## Past:\n",
      "* MA Psychology from CUNY CCNY (thesis on analysis of rodent neural spike train data)\n",
      "\n",
      "## Now:\n",
      "* Data infrastructure and research @ neuromatters (neuroscience R & D company)\n",
      "* Core contributer to pandas for roughly 1 year: $\\approx$ 313 non-merge commits\n",
      "\n",
      "* pandas/python/[PyData](http://www.pydata.org) evangelist\n",
      "* Linux nerd (Arch Linux)\n",
      "* vim is all you need (with emacs keys on the command line of course)"
     ]
    },
    {
     "cell_type": "markdown",
     "metadata": {},
     "source": [
      "## ``pandas``\n",
      "--------\n",
      "``pandas`` is a (the one true?) Python library for data analysis\n",
      "\n",
      "If you've ever found yourself looking for a way to read a CSV file into an expressive, easy-to-use, array-like container that **just works** then look no further!"
     ]
    },
    {
     "cell_type": "heading",
     "level": 2,
     "metadata": {},
     "source": [
      "My reaction after discovering pandas:"
     ]
    },
    {
     "cell_type": "markdown",
     "metadata": {},
     "source": [
      "<img src=\"../img/matlab-is-over.jpg\" width=\"50%\" height=\"50%\" />"
     ]
    },
    {
     "cell_type": "heading",
     "level": 2,
     "metadata": {},
     "source": [
      "Followed by:"
     ]
    },
    {
     "cell_type": "markdown",
     "metadata": {},
     "source": [
      "<img src=\"../img/unpossible.jpg\" width=\"50%\" height=\"50%\" />"
     ]
    },
    {
     "cell_type": "heading",
     "level": 2,
     "metadata": {},
     "source": [
      "First rule of talks involving pandas: they aren't complete without at least one meme."
     ]
    },
    {
     "cell_type": "markdown",
     "metadata": {},
     "source": [
      "``pandas`` is the tabular data library you've always wished you had. It supports operations such as\n",
      "\n",
      "* ``groupby``\n",
      "* ``merge``\n",
      "* aggregations (``mean``, ``sum``, ``any``, `all`, etc.)\n",
      "* advanced indexing capabilities\n",
      "* automatic data alignment during e.g., arithmetic operations\n",
      "* powerful vectorized text manipulation\n",
      "* missing data handling\n",
      "* comprehensive and extremely flexible IO\n",
      "\n",
      "in addition to playing nice with most ``numpy`` functions (``sin``, ``log``, etc.)\n",
      "\n",
      "#### Notes:\n",
      "\n",
      "* Keep in mind is that ``pandas`` was designed to work with \"medium\" data.\n",
      "  * Nice support for PyTables queries via the `HDFStore` interface\n",
      "  * But not really any out-of-core support past that.\n",
      "* That said, I've routinely worked with 10-20M row datasets easily with pandas.\n",
      "\n",
      "### Enough talking, let's see some code."
     ]
    },
    {
     "cell_type": "heading",
     "level": 1,
     "metadata": {},
     "source": [
      "[``pandas.DataFrame``](http://pandas.pydata.org/pandas-docs/stable/dsintro.html#dataframe)"
     ]
    },
    {
     "cell_type": "heading",
     "level": 3,
     "metadata": {},
     "source": [
      "``DataFrame`` is the flagship data structure in ``pandas`` and is what you'll be dealing with most of the time"
     ]
    },
    {
     "cell_type": "code",
     "collapsed": true,
     "input": [
      "import numpy as np\n",
      "import pandas as pd\n",
      "from numpy.random import randn, randint, rand, choice"
     ],
     "language": "python",
     "metadata": {},
     "outputs": [],
     "prompt_number": 8
    },
    {
     "cell_type": "code",
     "collapsed": false,
     "input": [
      "df = pd.DataFrame(randn(10, 2), columns=list('ab'))\n",
      "df  # IPython has an awesome custom display mechanism!"
     ],
     "language": "python",
     "metadata": {},
     "outputs": [
      {
       "html": [
        "<div style=\"max-height:1000px;max-width:1500px;overflow:auto;\">\n",
        "<table border=\"1\" class=\"dataframe\">\n",
        "  <thead>\n",
        "    <tr style=\"text-align: right;\">\n",
        "      <th></th>\n",
        "      <th>a</th>\n",
        "      <th>b</th>\n",
        "    </tr>\n",
        "  </thead>\n",
        "  <tbody>\n",
        "    <tr>\n",
        "      <th>0</th>\n",
        "      <td> 0.8841</td>\n",
        "      <td>-0.7136</td>\n",
        "    </tr>\n",
        "    <tr>\n",
        "      <th>1</th>\n",
        "      <td> 2.2924</td>\n",
        "      <td>-0.1747</td>\n",
        "    </tr>\n",
        "    <tr>\n",
        "      <th>2</th>\n",
        "      <td> 1.3431</td>\n",
        "      <td> 0.5043</td>\n",
        "    </tr>\n",
        "    <tr>\n",
        "      <th>3</th>\n",
        "      <td> 1.6593</td>\n",
        "      <td> 0.1522</td>\n",
        "    </tr>\n",
        "    <tr>\n",
        "      <th>4</th>\n",
        "      <td> 1.2375</td>\n",
        "      <td>-0.9041</td>\n",
        "    </tr>\n",
        "    <tr>\n",
        "      <th>5</th>\n",
        "      <td>-2.4459</td>\n",
        "      <td> 1.9288</td>\n",
        "    </tr>\n",
        "    <tr>\n",
        "      <th>6</th>\n",
        "      <td> 1.1752</td>\n",
        "      <td>-0.3117</td>\n",
        "    </tr>\n",
        "    <tr>\n",
        "      <th>7</th>\n",
        "      <td>-0.6799</td>\n",
        "      <td>-0.3410</td>\n",
        "    </tr>\n",
        "    <tr>\n",
        "      <th>8</th>\n",
        "      <td> 1.8750</td>\n",
        "      <td> 0.5461</td>\n",
        "    </tr>\n",
        "    <tr>\n",
        "      <th>9</th>\n",
        "      <td>-0.0409</td>\n",
        "      <td> 0.8989</td>\n",
        "    </tr>\n",
        "  </tbody>\n",
        "</table>\n",
        "<p>10 rows \u00d7 2 columns</p>\n",
        "</div>"
       ],
       "metadata": {},
       "output_type": "pyout",
       "prompt_number": 9,
       "text": [
        "        a       b\n",
        "0  0.8841 -0.7136\n",
        "1  2.2924 -0.1747\n",
        "2  1.3431  0.5043\n",
        "3  1.6593  0.1522\n",
        "4  1.2375 -0.9041\n",
        "5 -2.4459  1.9288\n",
        "6  1.1752 -0.3117\n",
        "7 -0.6799 -0.3410\n",
        "8  1.8750  0.5461\n",
        "9 -0.0409  0.8989\n",
        "\n",
        "[10 rows x 2 columns]"
       ]
      }
     ],
     "prompt_number": 9
    },
    {
     "cell_type": "heading",
     "level": 3,
     "metadata": {},
     "source": [
      "You can have columns of any ``dtype`` that ``numpy`` supports except ``numpy``'s string dtype. Strings are represented with the ``object`` ``dtype`` in pandas."
     ]
    },
    {
     "cell_type": "code",
     "collapsed": false,
     "input": [
      "seuss = choice(['green eggs', 'spam'], size=10)\n",
      "df = pd.DataFrame({'int': randint(3, size=10),\n",
      "                   'str': choice(list('abc'), size=10),\n",
      "                   'float32': randn(10).astype(np.float32),\n",
      "                   'not-a-valid-variable-name': seuss})\n",
      "df"
     ],
     "language": "python",
     "metadata": {},
     "outputs": [
      {
       "html": [
        "<div style=\"max-height:1000px;max-width:1500px;overflow:auto;\">\n",
        "<table border=\"1\" class=\"dataframe\">\n",
        "  <thead>\n",
        "    <tr style=\"text-align: right;\">\n",
        "      <th></th>\n",
        "      <th>float32</th>\n",
        "      <th>int</th>\n",
        "      <th>not-a-valid-variable-name</th>\n",
        "      <th>str</th>\n",
        "    </tr>\n",
        "  </thead>\n",
        "  <tbody>\n",
        "    <tr>\n",
        "      <th>0</th>\n",
        "      <td>-0.0445</td>\n",
        "      <td> 0</td>\n",
        "      <td> green eggs</td>\n",
        "      <td> b</td>\n",
        "    </tr>\n",
        "    <tr>\n",
        "      <th>1</th>\n",
        "      <td> 0.6352</td>\n",
        "      <td> 0</td>\n",
        "      <td> green eggs</td>\n",
        "      <td> a</td>\n",
        "    </tr>\n",
        "    <tr>\n",
        "      <th>2</th>\n",
        "      <td> 0.6514</td>\n",
        "      <td> 1</td>\n",
        "      <td> green eggs</td>\n",
        "      <td> b</td>\n",
        "    </tr>\n",
        "    <tr>\n",
        "      <th>3</th>\n",
        "      <td> 0.4338</td>\n",
        "      <td> 1</td>\n",
        "      <td> green eggs</td>\n",
        "      <td> b</td>\n",
        "    </tr>\n",
        "    <tr>\n",
        "      <th>4</th>\n",
        "      <td>-1.0691</td>\n",
        "      <td> 2</td>\n",
        "      <td>       spam</td>\n",
        "      <td> a</td>\n",
        "    </tr>\n",
        "    <tr>\n",
        "      <th>5</th>\n",
        "      <td> 0.3943</td>\n",
        "      <td> 1</td>\n",
        "      <td> green eggs</td>\n",
        "      <td> b</td>\n",
        "    </tr>\n",
        "    <tr>\n",
        "      <th>6</th>\n",
        "      <td>-0.3060</td>\n",
        "      <td> 1</td>\n",
        "      <td>       spam</td>\n",
        "      <td> c</td>\n",
        "    </tr>\n",
        "    <tr>\n",
        "      <th>7</th>\n",
        "      <td>-0.3664</td>\n",
        "      <td> 2</td>\n",
        "      <td>       spam</td>\n",
        "      <td> a</td>\n",
        "    </tr>\n",
        "    <tr>\n",
        "      <th>8</th>\n",
        "      <td>-2.1285</td>\n",
        "      <td> 0</td>\n",
        "      <td>       spam</td>\n",
        "      <td> b</td>\n",
        "    </tr>\n",
        "    <tr>\n",
        "      <th>9</th>\n",
        "      <td>-1.1488</td>\n",
        "      <td> 0</td>\n",
        "      <td>       spam</td>\n",
        "      <td> a</td>\n",
        "    </tr>\n",
        "  </tbody>\n",
        "</table>\n",
        "<p>10 rows \u00d7 4 columns</p>\n",
        "</div>"
       ],
       "metadata": {},
       "output_type": "pyout",
       "prompt_number": 10,
       "text": [
        "   float32  int not-a-valid-variable-name str\n",
        "0  -0.0445    0                green eggs   b\n",
        "1   0.6352    0                green eggs   a\n",
        "2   0.6514    1                green eggs   b\n",
        "3   0.4338    1                green eggs   b\n",
        "4  -1.0691    2                      spam   a\n",
        "5   0.3943    1                green eggs   b\n",
        "6  -0.3060    1                      spam   c\n",
        "7  -0.3664    2                      spam   a\n",
        "8  -2.1285    0                      spam   b\n",
        "9  -1.1488    0                      spam   a\n",
        "\n",
        "[10 rows x 4 columns]"
       ]
      }
     ],
     "prompt_number": 10
    },
    {
     "cell_type": "code",
     "collapsed": false,
     "input": [
      "df.dtypes"
     ],
     "language": "python",
     "metadata": {},
     "outputs": [
      {
       "metadata": {},
       "output_type": "pyout",
       "prompt_number": 11,
       "text": [
        "float32                      float32\n",
        "int                            int64\n",
        "not-a-valid-variable-name     object\n",
        "str                           object\n",
        "dtype: object"
       ]
      }
     ],
     "prompt_number": 11
    },
    {
     "cell_type": "markdown",
     "metadata": {},
     "source": [
      "### One of ``pandas``' most useful and powerful features is its ability to slice and dice data in almost any way you can think of. "
     ]
    },
    {
     "cell_type": "markdown",
     "metadata": {},
     "source": [
      "### We'll see some advanced examples of indexing later that take advantage of some new functionality. Let's review the basics."
     ]
    },
    {
     "cell_type": "code",
     "collapsed": false,
     "input": [
      "# column access by name\n",
      "df['int']"
     ],
     "language": "python",
     "metadata": {},
     "outputs": [
      {
       "metadata": {},
       "output_type": "pyout",
       "prompt_number": 12,
       "text": [
        "0    0\n",
        "1    0\n",
        "2    1\n",
        "3    1\n",
        "4    2\n",
        "5    1\n",
        "6    1\n",
        "7    2\n",
        "8    0\n",
        "9    0\n",
        "Name: int, dtype: int64"
       ]
      }
     ],
     "prompt_number": 12
    },
    {
     "cell_type": "code",
     "collapsed": false,
     "input": [
      "# by attribute\n",
      "df.int"
     ],
     "language": "python",
     "metadata": {},
     "outputs": [
      {
       "metadata": {},
       "output_type": "pyout",
       "prompt_number": 13,
       "text": [
        "0    0\n",
        "1    0\n",
        "2    1\n",
        "3    1\n",
        "4    2\n",
        "5    1\n",
        "6    1\n",
        "7    2\n",
        "8    0\n",
        "9    0\n",
        "Name: int, dtype: int64"
       ]
      }
     ],
     "prompt_number": 13
    },
    {
     "cell_type": "code",
     "collapsed": false,
     "input": [
      "# have to use the former for invalid variable names\n",
      "df['not-a-valid-variable-name']"
     ],
     "language": "python",
     "metadata": {},
     "outputs": [
      {
       "metadata": {},
       "output_type": "pyout",
       "prompt_number": 14,
       "text": [
        "0    green eggs\n",
        "1    green eggs\n",
        "2    green eggs\n",
        "3    green eggs\n",
        "4          spam\n",
        "5    green eggs\n",
        "6          spam\n",
        "7          spam\n",
        "8          spam\n",
        "9          spam\n",
        "Name: not-a-valid-variable-name, dtype: object"
       ]
      }
     ],
     "prompt_number": 14
    },
    {
     "cell_type": "code",
     "collapsed": false,
     "input": [
      "# multiple columns\n",
      "df[['int', 'str']]"
     ],
     "language": "python",
     "metadata": {},
     "outputs": [
      {
       "html": [
        "<div style=\"max-height:1000px;max-width:1500px;overflow:auto;\">\n",
        "<table border=\"1\" class=\"dataframe\">\n",
        "  <thead>\n",
        "    <tr style=\"text-align: right;\">\n",
        "      <th></th>\n",
        "      <th>int</th>\n",
        "      <th>str</th>\n",
        "    </tr>\n",
        "  </thead>\n",
        "  <tbody>\n",
        "    <tr>\n",
        "      <th>0</th>\n",
        "      <td> 0</td>\n",
        "      <td> b</td>\n",
        "    </tr>\n",
        "    <tr>\n",
        "      <th>1</th>\n",
        "      <td> 0</td>\n",
        "      <td> a</td>\n",
        "    </tr>\n",
        "    <tr>\n",
        "      <th>2</th>\n",
        "      <td> 1</td>\n",
        "      <td> b</td>\n",
        "    </tr>\n",
        "    <tr>\n",
        "      <th>3</th>\n",
        "      <td> 1</td>\n",
        "      <td> b</td>\n",
        "    </tr>\n",
        "    <tr>\n",
        "      <th>4</th>\n",
        "      <td> 2</td>\n",
        "      <td> a</td>\n",
        "    </tr>\n",
        "    <tr>\n",
        "      <th>5</th>\n",
        "      <td> 1</td>\n",
        "      <td> b</td>\n",
        "    </tr>\n",
        "    <tr>\n",
        "      <th>6</th>\n",
        "      <td> 1</td>\n",
        "      <td> c</td>\n",
        "    </tr>\n",
        "    <tr>\n",
        "      <th>7</th>\n",
        "      <td> 2</td>\n",
        "      <td> a</td>\n",
        "    </tr>\n",
        "    <tr>\n",
        "      <th>8</th>\n",
        "      <td> 0</td>\n",
        "      <td> b</td>\n",
        "    </tr>\n",
        "    <tr>\n",
        "      <th>9</th>\n",
        "      <td> 0</td>\n",
        "      <td> a</td>\n",
        "    </tr>\n",
        "  </tbody>\n",
        "</table>\n",
        "<p>10 rows \u00d7 2 columns</p>\n",
        "</div>"
       ],
       "metadata": {},
       "output_type": "pyout",
       "prompt_number": 15,
       "text": [
        "   int str\n",
        "0    0   b\n",
        "1    0   a\n",
        "2    1   b\n",
        "3    1   b\n",
        "4    2   a\n",
        "5    1   b\n",
        "6    1   c\n",
        "7    2   a\n",
        "8    0   b\n",
        "9    0   a\n",
        "\n",
        "[10 rows x 2 columns]"
       ]
      }
     ],
     "prompt_number": 15
    },
    {
     "cell_type": "code",
     "collapsed": false,
     "input": [
      "# iloc, iat, loc, at\n",
      "import string  # abc's\n",
      "nrows = len(df)\n",
      "print('new index: %s' % list(string.ascii_lowercase[:nrows]))\n",
      "df.index = Index(list(string.ascii_lowercase[:nrows]))\n",
      "df"
     ],
     "language": "python",
     "metadata": {},
     "outputs": [
      {
       "output_type": "stream",
       "stream": "stdout",
       "text": [
        "new index: ['a', 'b', 'c', 'd', 'e']\n"
       ]
      },
      {
       "html": [
        "<div style=\"max-height:1000px;max-width:1500px;overflow:auto;\">\n",
        "<table border=\"1\" class=\"dataframe\">\n",
        "  <thead>\n",
        "    <tr style=\"text-align: right;\">\n",
        "      <th></th>\n",
        "      <th>a</th>\n",
        "      <th>b</th>\n",
        "    </tr>\n",
        "  </thead>\n",
        "  <tbody>\n",
        "    <tr>\n",
        "      <th>a</th>\n",
        "      <td> 1</td>\n",
        "      <td> 0</td>\n",
        "    </tr>\n",
        "    <tr>\n",
        "      <th>b</th>\n",
        "      <td> 1</td>\n",
        "      <td> 0</td>\n",
        "    </tr>\n",
        "    <tr>\n",
        "      <th>c</th>\n",
        "      <td> 0</td>\n",
        "      <td> 1</td>\n",
        "    </tr>\n",
        "    <tr>\n",
        "      <th>d</th>\n",
        "      <td> 0</td>\n",
        "      <td> 2</td>\n",
        "    </tr>\n",
        "    <tr>\n",
        "      <th>e</th>\n",
        "      <td> 2</td>\n",
        "      <td> 0</td>\n",
        "    </tr>\n",
        "  </tbody>\n",
        "</table>\n",
        "<p>5 rows \u00d7 2 columns</p>\n",
        "</div>"
       ],
       "metadata": {},
       "output_type": "pyout",
       "prompt_number": 35,
       "text": [
        "   a  b\n",
        "a  1  0\n",
        "b  1  0\n",
        "c  0  1\n",
        "d  0  2\n",
        "e  2  0\n",
        "\n",
        "[5 rows x 2 columns]"
       ]
      }
     ],
     "prompt_number": 35
    },
    {
     "cell_type": "code",
     "collapsed": false,
     "input": [
      "df.iat[0, 2]"
     ],
     "language": "python",
     "metadata": {},
     "outputs": [
      {
       "metadata": {},
       "output_type": "pyout",
       "prompt_number": 17,
       "text": [
        "'green eggs'"
       ]
      }
     ],
     "prompt_number": 17
    },
    {
     "cell_type": "code",
     "collapsed": false,
     "input": [
      "df.loc[:, 'int'] # same as df.int, more with loc later"
     ],
     "language": "python",
     "metadata": {},
     "outputs": [
      {
       "metadata": {},
       "output_type": "pyout",
       "prompt_number": 18,
       "text": [
        "a    0\n",
        "b    0\n",
        "c    1\n",
        "d    1\n",
        "e    2\n",
        "f    1\n",
        "g    1\n",
        "h    2\n",
        "i    0\n",
        "j    0\n",
        "Name: int, dtype: int64"
       ]
      }
     ],
     "prompt_number": 18
    },
    {
     "cell_type": "code",
     "collapsed": false,
     "input": [
      "df.iloc[:, 1]"
     ],
     "language": "python",
     "metadata": {},
     "outputs": [
      {
       "metadata": {},
       "output_type": "pyout",
       "prompt_number": 19,
       "text": [
        "a    0\n",
        "b    0\n",
        "c    1\n",
        "d    1\n",
        "e    2\n",
        "f    1\n",
        "g    1\n",
        "h    2\n",
        "i    0\n",
        "j    0\n",
        "Name: int, dtype: int64"
       ]
      }
     ],
     "prompt_number": 19
    },
    {
     "cell_type": "markdown",
     "metadata": {},
     "source": [
      "The older `ix` works as well, but I can never remember the semantics for integer lables, so I almost always use either `iloc`/`loc` for slicing.\n",
      "\n",
      "It uses labels if possible but falls back on location if an integer index is given for a label based axis."
     ]
    },
    {
     "cell_type": "code",
     "collapsed": false,
     "input": [
      "df.ix[:, 1]"
     ],
     "language": "python",
     "metadata": {},
     "outputs": [
      {
       "metadata": {},
       "output_type": "pyout",
       "prompt_number": 20,
       "text": [
        "a    0\n",
        "b    0\n",
        "c    1\n",
        "d    1\n",
        "e    2\n",
        "f    1\n",
        "g    1\n",
        "h    2\n",
        "i    0\n",
        "j    0\n",
        "Name: int, dtype: int64"
       ]
      }
     ],
     "prompt_number": 20
    },
    {
     "cell_type": "code",
     "collapsed": false,
     "input": [
      "df.ix[:, 'int']"
     ],
     "language": "python",
     "metadata": {},
     "outputs": [
      {
       "metadata": {},
       "output_type": "pyout",
       "prompt_number": 21,
       "text": [
        "a    0\n",
        "b    0\n",
        "c    1\n",
        "d    1\n",
        "e    2\n",
        "f    1\n",
        "g    1\n",
        "h    2\n",
        "i    0\n",
        "j    0\n",
        "Name: int, dtype: int64"
       ]
      }
     ],
     "prompt_number": 21
    },
    {
     "cell_type": "markdown",
     "metadata": {},
     "source": [
      "This may seem like a lot to remember, but there's really just two things here:\n",
      "\n",
      "* *label*-based selection ``loc``/``at``\n",
      "* *integer location*-based selection ``iloc``/``iat``"
     ]
    },
    {
     "cell_type": "code",
     "collapsed": false,
     "input": [
      "# multiple columns, multiple rows\n",
      "df.loc[['a', 'c'], ['int', 'float32']]"
     ],
     "language": "python",
     "metadata": {},
     "outputs": [
      {
       "html": [
        "<div style=\"max-height:1000px;max-width:1500px;overflow:auto;\">\n",
        "<table border=\"1\" class=\"dataframe\">\n",
        "  <thead>\n",
        "    <tr style=\"text-align: right;\">\n",
        "      <th></th>\n",
        "      <th>int</th>\n",
        "      <th>float32</th>\n",
        "    </tr>\n",
        "  </thead>\n",
        "  <tbody>\n",
        "    <tr>\n",
        "      <th>a</th>\n",
        "      <td> 0</td>\n",
        "      <td>-0.0445</td>\n",
        "    </tr>\n",
        "    <tr>\n",
        "      <th>c</th>\n",
        "      <td> 1</td>\n",
        "      <td> 0.6514</td>\n",
        "    </tr>\n",
        "  </tbody>\n",
        "</table>\n",
        "<p>2 rows \u00d7 2 columns</p>\n",
        "</div>"
       ],
       "metadata": {},
       "output_type": "pyout",
       "prompt_number": 22,
       "text": [
        "   int  float32\n",
        "a    0  -0.0445\n",
        "c    1   0.6514\n",
        "\n",
        "[2 rows x 2 columns]"
       ]
      }
     ],
     "prompt_number": 22
    },
    {
     "cell_type": "code",
     "collapsed": false,
     "input": [
      "# you can slice with loc\n",
      "# note the INCLUSIVE endpoint here\n",
      "df.loc['a':'e']"
     ],
     "language": "python",
     "metadata": {},
     "outputs": [
      {
       "html": [
        "<div style=\"max-height:1000px;max-width:1500px;overflow:auto;\">\n",
        "<table border=\"1\" class=\"dataframe\">\n",
        "  <thead>\n",
        "    <tr style=\"text-align: right;\">\n",
        "      <th></th>\n",
        "      <th>float32</th>\n",
        "      <th>int</th>\n",
        "      <th>not-a-valid-variable-name</th>\n",
        "      <th>str</th>\n",
        "    </tr>\n",
        "  </thead>\n",
        "  <tbody>\n",
        "    <tr>\n",
        "      <th>a</th>\n",
        "      <td>-0.0445</td>\n",
        "      <td> 0</td>\n",
        "      <td> green eggs</td>\n",
        "      <td> b</td>\n",
        "    </tr>\n",
        "    <tr>\n",
        "      <th>b</th>\n",
        "      <td> 0.6352</td>\n",
        "      <td> 0</td>\n",
        "      <td> green eggs</td>\n",
        "      <td> a</td>\n",
        "    </tr>\n",
        "    <tr>\n",
        "      <th>c</th>\n",
        "      <td> 0.6514</td>\n",
        "      <td> 1</td>\n",
        "      <td> green eggs</td>\n",
        "      <td> b</td>\n",
        "    </tr>\n",
        "    <tr>\n",
        "      <th>d</th>\n",
        "      <td> 0.4338</td>\n",
        "      <td> 1</td>\n",
        "      <td> green eggs</td>\n",
        "      <td> b</td>\n",
        "    </tr>\n",
        "    <tr>\n",
        "      <th>e</th>\n",
        "      <td>-1.0691</td>\n",
        "      <td> 2</td>\n",
        "      <td>       spam</td>\n",
        "      <td> a</td>\n",
        "    </tr>\n",
        "  </tbody>\n",
        "</table>\n",
        "<p>5 rows \u00d7 4 columns</p>\n",
        "</div>"
       ],
       "metadata": {},
       "output_type": "pyout",
       "prompt_number": 23,
       "text": [
        "   float32  int not-a-valid-variable-name str\n",
        "a  -0.0445    0                green eggs   b\n",
        "b   0.6352    0                green eggs   a\n",
        "c   0.6514    1                green eggs   b\n",
        "d   0.4338    1                green eggs   b\n",
        "e  -1.0691    2                      spam   a\n",
        "\n",
        "[5 rows x 4 columns]"
       ]
      }
     ],
     "prompt_number": 23
    },
    {
     "cell_type": "code",
     "collapsed": false,
     "input": [
      "# and with iloc\n",
      "df.iloc[:5]"
     ],
     "language": "python",
     "metadata": {},
     "outputs": [
      {
       "html": [
        "<div style=\"max-height:1000px;max-width:1500px;overflow:auto;\">\n",
        "<table border=\"1\" class=\"dataframe\">\n",
        "  <thead>\n",
        "    <tr style=\"text-align: right;\">\n",
        "      <th></th>\n",
        "      <th>float32</th>\n",
        "      <th>int</th>\n",
        "      <th>not-a-valid-variable-name</th>\n",
        "      <th>str</th>\n",
        "    </tr>\n",
        "  </thead>\n",
        "  <tbody>\n",
        "    <tr>\n",
        "      <th>a</th>\n",
        "      <td>-0.0445</td>\n",
        "      <td> 0</td>\n",
        "      <td> green eggs</td>\n",
        "      <td> b</td>\n",
        "    </tr>\n",
        "    <tr>\n",
        "      <th>b</th>\n",
        "      <td> 0.6352</td>\n",
        "      <td> 0</td>\n",
        "      <td> green eggs</td>\n",
        "      <td> a</td>\n",
        "    </tr>\n",
        "    <tr>\n",
        "      <th>c</th>\n",
        "      <td> 0.6514</td>\n",
        "      <td> 1</td>\n",
        "      <td> green eggs</td>\n",
        "      <td> b</td>\n",
        "    </tr>\n",
        "    <tr>\n",
        "      <th>d</th>\n",
        "      <td> 0.4338</td>\n",
        "      <td> 1</td>\n",
        "      <td> green eggs</td>\n",
        "      <td> b</td>\n",
        "    </tr>\n",
        "    <tr>\n",
        "      <th>e</th>\n",
        "      <td>-1.0691</td>\n",
        "      <td> 2</td>\n",
        "      <td>       spam</td>\n",
        "      <td> a</td>\n",
        "    </tr>\n",
        "  </tbody>\n",
        "</table>\n",
        "<p>5 rows \u00d7 4 columns</p>\n",
        "</div>"
       ],
       "metadata": {},
       "output_type": "pyout",
       "prompt_number": 24,
       "text": [
        "   float32  int not-a-valid-variable-name str\n",
        "a  -0.0445    0                green eggs   b\n",
        "b   0.6352    0                green eggs   a\n",
        "c   0.6514    1                green eggs   b\n",
        "d   0.4338    1                green eggs   b\n",
        "e  -1.0691    2                      spam   a\n",
        "\n",
        "[5 rows x 4 columns]"
       ]
      }
     ],
     "prompt_number": 24
    },
    {
     "cell_type": "code",
     "collapsed": false,
     "input": [
      "%timeit df.iloc[0, 0]"
     ],
     "language": "python",
     "metadata": {},
     "outputs": [
      {
       "output_type": "stream",
       "stream": "stdout",
       "text": [
        "10000 loops, best of 3: 140 \u00b5s per loop\n"
       ]
      }
     ],
     "prompt_number": 25
    },
    {
     "cell_type": "code",
     "collapsed": false,
     "input": [
      "# at-style access is faster for scalars\n",
      "# but don't go using them to \"vectorize\" all the things\n",
      "%timeit df.iat[0, 0]"
     ],
     "language": "python",
     "metadata": {},
     "outputs": [
      {
       "output_type": "stream",
       "stream": "stdout",
       "text": [
        "100000 loops, best of 3: 9.47 \u00b5s per loop\n"
       ]
      }
     ],
     "prompt_number": 26
    },
    {
     "cell_type": "heading",
     "level": 2,
     "metadata": {},
     "source": [
      "Miscellaneous Useful Methods"
     ]
    },
    {
     "cell_type": "code",
     "collapsed": false,
     "input": [
      "# sort by particular column\n",
      "df.sort('float32')"
     ],
     "language": "python",
     "metadata": {},
     "outputs": [
      {
       "html": [
        "<div style=\"max-height:1000px;max-width:1500px;overflow:auto;\">\n",
        "<table border=\"1\" class=\"dataframe\">\n",
        "  <thead>\n",
        "    <tr style=\"text-align: right;\">\n",
        "      <th></th>\n",
        "      <th>float32</th>\n",
        "      <th>int</th>\n",
        "      <th>not-a-valid-variable-name</th>\n",
        "      <th>str</th>\n",
        "    </tr>\n",
        "  </thead>\n",
        "  <tbody>\n",
        "    <tr>\n",
        "      <th>i</th>\n",
        "      <td>-2.1285</td>\n",
        "      <td> 0</td>\n",
        "      <td>       spam</td>\n",
        "      <td> b</td>\n",
        "    </tr>\n",
        "    <tr>\n",
        "      <th>j</th>\n",
        "      <td>-1.1488</td>\n",
        "      <td> 0</td>\n",
        "      <td>       spam</td>\n",
        "      <td> a</td>\n",
        "    </tr>\n",
        "    <tr>\n",
        "      <th>e</th>\n",
        "      <td>-1.0691</td>\n",
        "      <td> 2</td>\n",
        "      <td>       spam</td>\n",
        "      <td> a</td>\n",
        "    </tr>\n",
        "    <tr>\n",
        "      <th>h</th>\n",
        "      <td>-0.3664</td>\n",
        "      <td> 2</td>\n",
        "      <td>       spam</td>\n",
        "      <td> a</td>\n",
        "    </tr>\n",
        "    <tr>\n",
        "      <th>g</th>\n",
        "      <td>-0.3060</td>\n",
        "      <td> 1</td>\n",
        "      <td>       spam</td>\n",
        "      <td> c</td>\n",
        "    </tr>\n",
        "    <tr>\n",
        "      <th>a</th>\n",
        "      <td>-0.0445</td>\n",
        "      <td> 0</td>\n",
        "      <td> green eggs</td>\n",
        "      <td> b</td>\n",
        "    </tr>\n",
        "    <tr>\n",
        "      <th>f</th>\n",
        "      <td> 0.3943</td>\n",
        "      <td> 1</td>\n",
        "      <td> green eggs</td>\n",
        "      <td> b</td>\n",
        "    </tr>\n",
        "    <tr>\n",
        "      <th>d</th>\n",
        "      <td> 0.4338</td>\n",
        "      <td> 1</td>\n",
        "      <td> green eggs</td>\n",
        "      <td> b</td>\n",
        "    </tr>\n",
        "    <tr>\n",
        "      <th>b</th>\n",
        "      <td> 0.6352</td>\n",
        "      <td> 0</td>\n",
        "      <td> green eggs</td>\n",
        "      <td> a</td>\n",
        "    </tr>\n",
        "    <tr>\n",
        "      <th>c</th>\n",
        "      <td> 0.6514</td>\n",
        "      <td> 1</td>\n",
        "      <td> green eggs</td>\n",
        "      <td> b</td>\n",
        "    </tr>\n",
        "  </tbody>\n",
        "</table>\n",
        "<p>10 rows \u00d7 4 columns</p>\n",
        "</div>"
       ],
       "metadata": {},
       "output_type": "pyout",
       "prompt_number": 27,
       "text": [
        "   float32  int not-a-valid-variable-name str\n",
        "i  -2.1285    0                      spam   b\n",
        "j  -1.1488    0                      spam   a\n",
        "e  -1.0691    2                      spam   a\n",
        "h  -0.3664    2                      spam   a\n",
        "g  -0.3060    1                      spam   c\n",
        "a  -0.0445    0                green eggs   b\n",
        "f   0.3943    1                green eggs   b\n",
        "d   0.4338    1                green eggs   b\n",
        "b   0.6352    0                green eggs   a\n",
        "c   0.6514    1                green eggs   b\n",
        "\n",
        "[10 rows x 4 columns]"
       ]
      }
     ],
     "prompt_number": 27
    },
    {
     "cell_type": "code",
     "collapsed": false,
     "input": [
      "# nested sorting\n",
      "df.sort(['int', 'str'])"
     ],
     "language": "python",
     "metadata": {},
     "outputs": [
      {
       "html": [
        "<div style=\"max-height:1000px;max-width:1500px;overflow:auto;\">\n",
        "<table border=\"1\" class=\"dataframe\">\n",
        "  <thead>\n",
        "    <tr style=\"text-align: right;\">\n",
        "      <th></th>\n",
        "      <th>float32</th>\n",
        "      <th>int</th>\n",
        "      <th>not-a-valid-variable-name</th>\n",
        "      <th>str</th>\n",
        "    </tr>\n",
        "  </thead>\n",
        "  <tbody>\n",
        "    <tr>\n",
        "      <th>b</th>\n",
        "      <td> 0.6352</td>\n",
        "      <td> 0</td>\n",
        "      <td> green eggs</td>\n",
        "      <td> a</td>\n",
        "    </tr>\n",
        "    <tr>\n",
        "      <th>j</th>\n",
        "      <td>-1.1488</td>\n",
        "      <td> 0</td>\n",
        "      <td>       spam</td>\n",
        "      <td> a</td>\n",
        "    </tr>\n",
        "    <tr>\n",
        "      <th>a</th>\n",
        "      <td>-0.0445</td>\n",
        "      <td> 0</td>\n",
        "      <td> green eggs</td>\n",
        "      <td> b</td>\n",
        "    </tr>\n",
        "    <tr>\n",
        "      <th>i</th>\n",
        "      <td>-2.1285</td>\n",
        "      <td> 0</td>\n",
        "      <td>       spam</td>\n",
        "      <td> b</td>\n",
        "    </tr>\n",
        "    <tr>\n",
        "      <th>c</th>\n",
        "      <td> 0.6514</td>\n",
        "      <td> 1</td>\n",
        "      <td> green eggs</td>\n",
        "      <td> b</td>\n",
        "    </tr>\n",
        "    <tr>\n",
        "      <th>d</th>\n",
        "      <td> 0.4338</td>\n",
        "      <td> 1</td>\n",
        "      <td> green eggs</td>\n",
        "      <td> b</td>\n",
        "    </tr>\n",
        "    <tr>\n",
        "      <th>f</th>\n",
        "      <td> 0.3943</td>\n",
        "      <td> 1</td>\n",
        "      <td> green eggs</td>\n",
        "      <td> b</td>\n",
        "    </tr>\n",
        "    <tr>\n",
        "      <th>g</th>\n",
        "      <td>-0.3060</td>\n",
        "      <td> 1</td>\n",
        "      <td>       spam</td>\n",
        "      <td> c</td>\n",
        "    </tr>\n",
        "    <tr>\n",
        "      <th>e</th>\n",
        "      <td>-1.0691</td>\n",
        "      <td> 2</td>\n",
        "      <td>       spam</td>\n",
        "      <td> a</td>\n",
        "    </tr>\n",
        "    <tr>\n",
        "      <th>h</th>\n",
        "      <td>-0.3664</td>\n",
        "      <td> 2</td>\n",
        "      <td>       spam</td>\n",
        "      <td> a</td>\n",
        "    </tr>\n",
        "  </tbody>\n",
        "</table>\n",
        "<p>10 rows \u00d7 4 columns</p>\n",
        "</div>"
       ],
       "metadata": {},
       "output_type": "pyout",
       "prompt_number": 28,
       "text": [
        "   float32  int not-a-valid-variable-name str\n",
        "b   0.6352    0                green eggs   a\n",
        "j  -1.1488    0                      spam   a\n",
        "a  -0.0445    0                green eggs   b\n",
        "i  -2.1285    0                      spam   b\n",
        "c   0.6514    1                green eggs   b\n",
        "d   0.4338    1                green eggs   b\n",
        "f   0.3943    1                green eggs   b\n",
        "g  -0.3060    1                      spam   c\n",
        "e  -1.0691    2                      spam   a\n",
        "h  -0.3664    2                      spam   a\n",
        "\n",
        "[10 rows x 4 columns]"
       ]
      }
     ],
     "prompt_number": 28
    },
    {
     "cell_type": "code",
     "collapsed": false,
     "input": [
      "df.dtypes"
     ],
     "language": "python",
     "metadata": {},
     "outputs": [
      {
       "metadata": {},
       "output_type": "pyout",
       "prompt_number": 29,
       "text": [
        "float32                      float32\n",
        "int                            int64\n",
        "not-a-valid-variable-name     object\n",
        "str                           object\n",
        "dtype: object"
       ]
      }
     ],
     "prompt_number": 29
    },
    {
     "cell_type": "heading",
     "level": 2,
     "metadata": {},
     "source": [
      "Mapping"
     ]
    },
    {
     "cell_type": "markdown",
     "metadata": {},
     "source": [
      "Apply a function over the columns of a ``DataFrame``"
     ]
    },
    {
     "cell_type": "code",
     "collapsed": false,
     "input": [
      "df = pd.DataFrame(randint(3, size=(5, 2)), columns=list('ab'))\n",
      "df"
     ],
     "language": "python",
     "metadata": {},
     "outputs": [
      {
       "html": [
        "<div style=\"max-height:1000px;max-width:1500px;overflow:auto;\">\n",
        "<table border=\"1\" class=\"dataframe\">\n",
        "  <thead>\n",
        "    <tr style=\"text-align: right;\">\n",
        "      <th></th>\n",
        "      <th>a</th>\n",
        "      <th>b</th>\n",
        "    </tr>\n",
        "  </thead>\n",
        "  <tbody>\n",
        "    <tr>\n",
        "      <th>0</th>\n",
        "      <td> 1</td>\n",
        "      <td> 0</td>\n",
        "    </tr>\n",
        "    <tr>\n",
        "      <th>1</th>\n",
        "      <td> 1</td>\n",
        "      <td> 0</td>\n",
        "    </tr>\n",
        "    <tr>\n",
        "      <th>2</th>\n",
        "      <td> 0</td>\n",
        "      <td> 1</td>\n",
        "    </tr>\n",
        "    <tr>\n",
        "      <th>3</th>\n",
        "      <td> 0</td>\n",
        "      <td> 2</td>\n",
        "    </tr>\n",
        "    <tr>\n",
        "      <th>4</th>\n",
        "      <td> 2</td>\n",
        "      <td> 0</td>\n",
        "    </tr>\n",
        "  </tbody>\n",
        "</table>\n",
        "<p>5 rows \u00d7 2 columns</p>\n",
        "</div>"
       ],
       "metadata": {},
       "output_type": "pyout",
       "prompt_number": 30,
       "text": [
        "   a  b\n",
        "0  1  0\n",
        "1  1  0\n",
        "2  0  1\n",
        "3  0  2\n",
        "4  2  0\n",
        "\n",
        "[5 rows x 2 columns]"
       ]
      }
     ],
     "prompt_number": 30
    },
    {
     "cell_type": "code",
     "collapsed": false,
     "input": [
      "def add_two(column):\n",
      "    return column + 2\n",
      "\n",
      "df.apply(add_two)"
     ],
     "language": "python",
     "metadata": {},
     "outputs": [
      {
       "html": [
        "<div style=\"max-height:1000px;max-width:1500px;overflow:auto;\">\n",
        "<table border=\"1\" class=\"dataframe\">\n",
        "  <thead>\n",
        "    <tr style=\"text-align: right;\">\n",
        "      <th></th>\n",
        "      <th>a</th>\n",
        "      <th>b</th>\n",
        "    </tr>\n",
        "  </thead>\n",
        "  <tbody>\n",
        "    <tr>\n",
        "      <th>0</th>\n",
        "      <td> 3</td>\n",
        "      <td> 2</td>\n",
        "    </tr>\n",
        "    <tr>\n",
        "      <th>1</th>\n",
        "      <td> 3</td>\n",
        "      <td> 2</td>\n",
        "    </tr>\n",
        "    <tr>\n",
        "      <th>2</th>\n",
        "      <td> 2</td>\n",
        "      <td> 3</td>\n",
        "    </tr>\n",
        "    <tr>\n",
        "      <th>3</th>\n",
        "      <td> 2</td>\n",
        "      <td> 4</td>\n",
        "    </tr>\n",
        "    <tr>\n",
        "      <th>4</th>\n",
        "      <td> 4</td>\n",
        "      <td> 2</td>\n",
        "    </tr>\n",
        "  </tbody>\n",
        "</table>\n",
        "<p>5 rows \u00d7 2 columns</p>\n",
        "</div>"
       ],
       "metadata": {},
       "output_type": "pyout",
       "prompt_number": 31,
       "text": [
        "   a  b\n",
        "0  3  2\n",
        "1  3  2\n",
        "2  2  3\n",
        "3  2  4\n",
        "4  4  2\n",
        "\n",
        "[5 rows x 2 columns]"
       ]
      }
     ],
     "prompt_number": 31
    },
    {
     "cell_type": "code",
     "collapsed": false,
     "input": [
      "# applymap applies a function to each element of the framed\n",
      "\n",
      "def asciify(element):\n",
      "    return chr(element + 50 + randint(1, 40))\n",
      "\n",
      "df.applymap(asciify)"
     ],
     "language": "python",
     "metadata": {},
     "outputs": [
      {
       "html": [
        "<div style=\"max-height:1000px;max-width:1500px;overflow:auto;\">\n",
        "<table border=\"1\" class=\"dataframe\">\n",
        "  <thead>\n",
        "    <tr style=\"text-align: right;\">\n",
        "      <th></th>\n",
        "      <th>a</th>\n",
        "      <th>b</th>\n",
        "    </tr>\n",
        "  </thead>\n",
        "  <tbody>\n",
        "    <tr>\n",
        "      <th>0</th>\n",
        "      <td> U</td>\n",
        "      <td> D</td>\n",
        "    </tr>\n",
        "    <tr>\n",
        "      <th>1</th>\n",
        "      <td> C</td>\n",
        "      <td> :</td>\n",
        "    </tr>\n",
        "    <tr>\n",
        "      <th>2</th>\n",
        "      <td> P</td>\n",
        "      <td> ;</td>\n",
        "    </tr>\n",
        "    <tr>\n",
        "      <th>3</th>\n",
        "      <td> F</td>\n",
        "      <td> [</td>\n",
        "    </tr>\n",
        "    <tr>\n",
        "      <th>4</th>\n",
        "      <td> Y</td>\n",
        "      <td> =</td>\n",
        "    </tr>\n",
        "  </tbody>\n",
        "</table>\n",
        "<p>5 rows \u00d7 2 columns</p>\n",
        "</div>"
       ],
       "metadata": {},
       "output_type": "pyout",
       "prompt_number": 32,
       "text": [
        "   a  b\n",
        "0  U  D\n",
        "1  C  :\n",
        "2  P  ;\n",
        "3  F  [\n",
        "4  Y  =\n",
        "\n",
        "[5 rows x 2 columns]"
       ]
      }
     ],
     "prompt_number": 32
    },
    {
     "cell_type": "code",
     "collapsed": false,
     "input": [
      "# similarly with a Series object\n",
      "# works like builtin (greedy) map function\n",
      "def add_hundy(x):\n",
      "    return x + 100\n",
      "\n",
      "col_a = df.a\n",
      "col_a.map(add_hundy)\n",
      "\n"
     ],
     "language": "python",
     "metadata": {},
     "outputs": [
      {
       "metadata": {},
       "output_type": "pyout",
       "prompt_number": 33,
       "text": [
        "0    101\n",
        "1    101\n",
        "2    100\n",
        "3    100\n",
        "4    102\n",
        "Name: a, dtype: int64"
       ]
      }
     ],
     "prompt_number": 33
    },
    {
     "cell_type": "code",
     "collapsed": false,
     "input": [
      "# map also speaks dict-like-ese\n",
      "a = Series(list('abce'))\n",
      "a.map({'c': 1, 'e': 3})"
     ],
     "language": "python",
     "metadata": {},
     "outputs": [
      {
       "metadata": {},
       "output_type": "pyout",
       "prompt_number": 34,
       "text": [
        "0   NaN\n",
        "1   NaN\n",
        "2     1\n",
        "3     3\n",
        "dtype: float64"
       ]
      }
     ],
     "prompt_number": 34
    },
    {
     "cell_type": "heading",
     "level": 2,
     "metadata": {},
     "source": [
      "Reductions"
     ]
    },
    {
     "cell_type": "markdown",
     "metadata": {},
     "source": [
      "The ``DataFrame.sum()`` method results in a ``Series`` object and by default sums across the rows. If you want to sum across the columns pass ``axis=1``, similar to the ``numpy`` convention.a"
     ]
    },
    {
     "cell_type": "markdown",
     "metadata": {},
     "source": [
      "In general, reduction operations result in a ``Series`` object.\n",
      "\n",
      "Some example reduction functions:\n",
      "\n",
      "* ``mean``\n",
      "* ``median``\n",
      "* ``mode``\n",
      "* ``count``\n",
      "* ``std``/``var`` (normalizes by $n - 1$ by default [numpy uses $n$])\n",
      "\n",
      "**NOTE:** These ignore ``NaN`` in the computation"
     ]
    },
    {
     "cell_type": "heading",
     "level": 2,
     "metadata": {},
     "source": [
      "``GroupBy``"
     ]
    },
    {
     "cell_type": "heading",
     "level": 3,
     "metadata": {},
     "source": [
      "Reductions"
     ]
    },
    {
     "cell_type": "heading",
     "level": 3,
     "metadata": {},
     "source": [
      "``apply``"
     ]
    },
    {
     "cell_type": "heading",
     "level": 2,
     "metadata": {},
     "source": [
      "``merge``"
     ]
    },
    {
     "cell_type": "heading",
     "level": 2,
     "metadata": {},
     "source": [
      "Time Series Functionality"
     ]
    },
    {
     "cell_type": "heading",
     "level": 3,
     "metadata": {},
     "source": [
      "Construction"
     ]
    },
    {
     "cell_type": "heading",
     "level": 3,
     "metadata": {},
     "source": [
      "``resample``"
     ]
    },
    {
     "cell_type": "heading",
     "level": 2,
     "metadata": {},
     "source": [
      "Basic IO"
     ]
    },
    {
     "cell_type": "heading",
     "level": 3,
     "metadata": {},
     "source": [
      "CSV"
     ]
    },
    {
     "cell_type": "heading",
     "level": 3,
     "metadata": {},
     "source": [
      "HDF5"
     ]
    },
    {
     "cell_type": "heading",
     "level": 1,
     "metadata": {},
     "source": [
      "Next Up:\n",
      "\n",
      "[Teh Featurez!](Features.ipynb)"
     ]
    }
   ],
   "metadata": {}
  }
 ]
}