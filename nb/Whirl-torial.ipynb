{
 "metadata": {
  "name": "",
  "signature": "sha256:68a381d1c6386d36dfb4bd306c5a3e537b4fae3aa4c8c834b84e55b0c97a425c"
 },
 "nbformat": 3,
 "nbformat_minor": 0,
 "worksheets": [
  {
   "cells": [
    {
     "cell_type": "code",
     "collapsed": false,
     "input": [
      "from IPython.core.display import HTML\n",
      "styles = open(\"../css/custom_light.css\", \"r\").read()\n",
      "HTML(styles)"
     ],
     "language": "python",
     "metadata": {},
     "outputs": [
      {
       "html": [
        "<style>\n",
        "/*\n",
        "Rob's custom notebook CSS\n",
        "*/\n",
        "\n",
        "/*Fonts*/\n",
        "\n",
        "body {\n",
        "    font-family: 'Raleway', sans-serif;\n",
        "}\n",
        "\n",
        "div.CodeMirror {\n",
        "  font-family: \"Source Code Pro\", source-code-pro, \"Anonymous Pro\", Consolas, Inconsolata, monospace;\n",
        "}\n",
        "\n",
        "/*Selectors*/\n",
        "\n",
        "div.cell.selected {\n",
        "    border: none;\n",
        "}\n",
        "\n",
        "div.input_area {\n",
        "    border-radius: 2px;\n",
        "    font-size: 20px !important;\n",
        "}\n",
        "\n",
        "div.prompt {\n",
        "    display: none;\n",
        "}\n",
        "\n",
        "\n",
        "div#maintoolbar, div#header {display: none !important;}\n",
        "\n",
        "div#notebook {border-top: none;}\n",
        "\n",
        ".cm-s-ipython {\n",
        "  background-color: #fdf6e3;\n",
        "  color: #657b83;\n",
        "}\n",
        ".cm-s-ipython .emphasis {\n",
        "  font-weight: bold;\n",
        "}\n",
        ".cm-s-ipython .dotted {\n",
        "  border-bottom: 1px dotted #cb4b16;\n",
        "}\n",
        ".cm-s-ipython .CodeMirror-gutter {\n",
        "  background-color: #eee8d5;\n",
        "  border-right: 3px solid #eee8d5;\n",
        "}\n",
        ".cm-s-ipython .CodeMirror-gutter .CodeMirror-gutter-text {\n",
        "  color: #93a1a1;\n",
        "}\n",
        ".cm-s-ipython .CodeMirror-cursor {\n",
        "  border-left-color: #002b36 !important;\n",
        "}\n",
        ".cm-s-ipython .CodeMirror-matchingbracket {\n",
        "  color: #002b36;\n",
        "  background-color: #eee8d5;\n",
        "  box-shadow: 0 0 10px #eee8d5;\n",
        "  font-weight: bold;\n",
        "}\n",
        ".cm-s-ipython .CodeMirror-nonmatchingbracket {\n",
        "  color: #002b36;\n",
        "  background-color: #eee8d5;\n",
        "  box-shadow: 0 0 10px #eee8d5;\n",
        "  font-weight: bold;\n",
        "  color: #dc322f;\n",
        "  border-bottom: 1px dotted #cb4b16;\n",
        "}\n",
        ".cm-s-ipython span.cm-keyword {\n",
        "  color: #657b83;\n",
        "  font-weight: bold;\n",
        "}\n",
        ".cm-s-ipython span.cm-atom {\n",
        "  color: #2aa198;\n",
        "}\n",
        ".cm-s-ipython span.cm-number {\n",
        "  color: #586e75;\n",
        "}\n",
        ".cm-s-ipython span.cm-def {\n",
        "  color: #268bd2;\n",
        "}\n",
        ".cm-s-ipython span.cm-variable {\n",
        "  color: #cb4b16;\n",
        "}\n",
        ".cm-s-ipython span.cm-variable-2 {\n",
        "  color: #cb4b16;\n",
        "}\n",
        ".cm-s-ipython span.cm-variable-3 {\n",
        "  color: #cb4b16;\n",
        "}\n",
        ".cm-s-ipython span.cm-comment {\n",
        "  color: #93a1a1;\n",
        "}\n",
        ".cm-s-ipython span.cm-property {\n",
        "  color: #b58900;\n",
        "}\n",
        ".cm-s-ipython span.cm-operator {\n",
        "  color: #657b83;\n",
        "}\n",
        ".cm-s-ipython span.cm-string {\n",
        "  color: #6c71c4;\n",
        "}\n",
        ".cm-s-ipython span.cm-error {\n",
        "  font-weight: bold;\n",
        "  border-bottom: 1px dotted #cb4b16;\n",
        "}\n",
        ".cm-s-ipython span.cm-bracket {\n",
        "  color: #cb4b16;\n",
        "}\n",
        ".cm-s-ipython span.cm-tag {\n",
        "  color: #657b83;\n",
        "}\n",
        ".cm-s-ipython span.cm-attribute {\n",
        "  color: #586e75;\n",
        "  font-weight: bold;\n",
        "}\n",
        ".cm-s-ipython span.cm-meta {\n",
        "  color: #268bd2;\n",
        "}\n",
        "\n",
        "</style>\n"
       ],
       "metadata": {},
       "output_type": "pyout",
       "prompt_number": 9,
       "text": [
        "<IPython.core.display.HTML object>"
       ]
      }
     ],
     "prompt_number": 9
    },
    {
     "cell_type": "markdown",
     "metadata": {},
     "source": [
      "# Whirlwind Introduction to [Pandas](http://pandas.pydata.org)!\n",
      "---------------\n",
      "\n",
      "### About me: Phillip Cloud\n",
      "\n",
      "## Past:\n",
      "* MA Psychology from CUNY CCNY (analysis of rodent neural spike train data)\n",
      "\n",
      "## Now:\n",
      "* Data infrastructure and research @ neuromatters (neuroscience R & D company)\n",
      "* Core contributer to pandas for roughly 1 year: $\\approx$ 313 non-merge commits\n",
      "\n",
      "* pandas/python/PyData evangelist\n",
      "* Linux nerd (Arch Linux)\n",
      "* VIM is all you need (with emacs keys on the command line of course)\n",
      "* [PyData](http://www.pydata.org) FTW"
     ]
    },
    {
     "cell_type": "markdown",
     "metadata": {},
     "source": [
      "## ``pandas``\n",
      "--------\n",
      "``pandas`` is a (the one true?) Python library for data analysis\n",
      "\n",
      "For example, if you've ever found yourself looking for a way to read a CSV file into an expressive, easy-to-use, array-like container that **just works** then look no further!"
     ]
    },
    {
     "cell_type": "heading",
     "level": 2,
     "metadata": {},
     "source": [
      "My reaction after discovering pandas:"
     ]
    },
    {
     "cell_type": "markdown",
     "metadata": {},
     "source": [
      "<img src=\"../img/matlab-is-over.jpg\" width=\"50%\" height=\"50%\" />"
     ]
    },
    {
     "cell_type": "heading",
     "level": 2,
     "metadata": {},
     "source": [
      "Followed by:"
     ]
    },
    {
     "cell_type": "markdown",
     "metadata": {},
     "source": [
      "<img src=\"../img/unpossible.jpg\" width=\"50%\" height=\"50%\" />"
     ]
    },
    {
     "cell_type": "heading",
     "level": 2,
     "metadata": {},
     "source": [
      "First rule of talks involving pandas: they aren't complete without at least one meme."
     ]
    },
    {
     "cell_type": "markdown",
     "metadata": {},
     "source": [
      "``pandas`` is the tabular data library you've always wished you had. It supports operations such as\n",
      "\n",
      "* ``groupby``\n",
      "* ``merge``\n",
      "* aggregations (``mean``, ``sum``, ``any``, `all`, etc.)\n",
      "* advanced indexing capabilities\n",
      "* automatic data alignment during e.g., arithmetic operations\n",
      "* powerful vectorized text manipulation\n",
      "* missing data handling\n",
      "* comprehensive and extremely flexible IO\n",
      "\n",
      "in addition to playing nice with most ``numpy`` functions (``sin``, ``log``, etc.)\n",
      "\n",
      "#### Notes:\n",
      "\n",
      "* Keep in mind is that ``pandas`` was designed to work with \"medium\" data.\n",
      "  * Nice support for PyTables queries via the `HDFStore` interface\n",
      "  * But not really any out-of-core support past that.\n",
      "* That said, I've routinely worked with 10-20M row datasets easily with pandas.\n",
      "\n",
      "### Enough talking, let's see some code."
     ]
    },
    {
     "cell_type": "heading",
     "level": 1,
     "metadata": {},
     "source": [
      "[``pandas.DataFrame``](http://pandas.pydata.org/pandas-docs/stable/dsintro.html#dataframe)"
     ]
    },
    {
     "cell_type": "heading",
     "level": 3,
     "metadata": {},
     "source": [
      "``DataFrame`` is the flagship data structure in ``pandas`` and is what you'll be dealing with most of the time"
     ]
    },
    {
     "cell_type": "code",
     "collapsed": true,
     "input": [
      "import numpy as np\n",
      "import pandas as pd\n",
      "from numpy.random import randn, randint, rand, choice"
     ],
     "language": "python",
     "metadata": {},
     "outputs": [],
     "prompt_number": 45
    },
    {
     "cell_type": "code",
     "collapsed": false,
     "input": [
      "df = pd.DataFrame(randn(10, 2), columns=list('ab'))\n",
      "df  # IPython has an awesome custom display mechanism!"
     ],
     "language": "python",
     "metadata": {},
     "outputs": [
      {
       "html": [
        "<div style=\"max-height:1000px;max-width:1500px;overflow:auto;\">\n",
        "<table border=\"1\" class=\"dataframe\">\n",
        "  <thead>\n",
        "    <tr style=\"text-align: right;\">\n",
        "      <th></th>\n",
        "      <th>a</th>\n",
        "      <th>b</th>\n",
        "    </tr>\n",
        "  </thead>\n",
        "  <tbody>\n",
        "    <tr>\n",
        "      <th>0</th>\n",
        "      <td>-0.2980</td>\n",
        "      <td> 0.4123</td>\n",
        "    </tr>\n",
        "    <tr>\n",
        "      <th>1</th>\n",
        "      <td>-0.8290</td>\n",
        "      <td> 0.4271</td>\n",
        "    </tr>\n",
        "    <tr>\n",
        "      <th>2</th>\n",
        "      <td> 0.3792</td>\n",
        "      <td>-0.9463</td>\n",
        "    </tr>\n",
        "    <tr>\n",
        "      <th>3</th>\n",
        "      <td>-1.5383</td>\n",
        "      <td>-0.1515</td>\n",
        "    </tr>\n",
        "    <tr>\n",
        "      <th>4</th>\n",
        "      <td>-1.1028</td>\n",
        "      <td> 0.4827</td>\n",
        "    </tr>\n",
        "    <tr>\n",
        "      <th>5</th>\n",
        "      <td> 1.6774</td>\n",
        "      <td> 0.7542</td>\n",
        "    </tr>\n",
        "    <tr>\n",
        "      <th>6</th>\n",
        "      <td>-0.0952</td>\n",
        "      <td> 2.5535</td>\n",
        "    </tr>\n",
        "    <tr>\n",
        "      <th>7</th>\n",
        "      <td>-0.2205</td>\n",
        "      <td>-0.2917</td>\n",
        "    </tr>\n",
        "    <tr>\n",
        "      <th>8</th>\n",
        "      <td> 0.0852</td>\n",
        "      <td> 1.1777</td>\n",
        "    </tr>\n",
        "    <tr>\n",
        "      <th>9</th>\n",
        "      <td> 2.2841</td>\n",
        "      <td> 0.0478</td>\n",
        "    </tr>\n",
        "  </tbody>\n",
        "</table>\n",
        "<p>10 rows \u00d7 2 columns</p>\n",
        "</div>"
       ],
       "metadata": {},
       "output_type": "pyout",
       "prompt_number": 46,
       "text": [
        "        a       b\n",
        "0 -0.2980  0.4123\n",
        "1 -0.8290  0.4271\n",
        "2  0.3792 -0.9463\n",
        "3 -1.5383 -0.1515\n",
        "4 -1.1028  0.4827\n",
        "5  1.6774  0.7542\n",
        "6 -0.0952  2.5535\n",
        "7 -0.2205 -0.2917\n",
        "8  0.0852  1.1777\n",
        "9  2.2841  0.0478\n",
        "\n",
        "[10 rows x 2 columns]"
       ]
      }
     ],
     "prompt_number": 46
    },
    {
     "cell_type": "heading",
     "level": 3,
     "metadata": {},
     "source": [
      "You can have columns of any ``dtype`` that ``numpy`` supports except ``numpy``'s string dtype. Strings are represented with the ``object`` ``dtype`` in pandas."
     ]
    },
    {
     "cell_type": "code",
     "collapsed": false,
     "input": [
      "df = pd.DataFrame({'int': randint(3, size=10),\n",
      "                   'str': choice(list('abc'), size=10),\n",
      "                   'float32': randn(10).astype(np.float32),\n",
      "                   'not-a-valid-variable-name': choice(['green eggs',\n",
      "                                                        'spam'], size=10)})\n",
      "df"
     ],
     "language": "python",
     "metadata": {},
     "outputs": [
      {
       "html": [
        "<div style=\"max-height:1000px;max-width:1500px;overflow:auto;\">\n",
        "<table border=\"1\" class=\"dataframe\">\n",
        "  <thead>\n",
        "    <tr style=\"text-align: right;\">\n",
        "      <th></th>\n",
        "      <th>float32</th>\n",
        "      <th>int</th>\n",
        "      <th>not-a-valid-variable-name</th>\n",
        "      <th>str</th>\n",
        "    </tr>\n",
        "  </thead>\n",
        "  <tbody>\n",
        "    <tr>\n",
        "      <th>0</th>\n",
        "      <td>-0.8636</td>\n",
        "      <td> 2</td>\n",
        "      <td> green eggs</td>\n",
        "      <td> b</td>\n",
        "    </tr>\n",
        "    <tr>\n",
        "      <th>1</th>\n",
        "      <td> 0.5886</td>\n",
        "      <td> 2</td>\n",
        "      <td> green eggs</td>\n",
        "      <td> c</td>\n",
        "    </tr>\n",
        "    <tr>\n",
        "      <th>2</th>\n",
        "      <td> 0.9790</td>\n",
        "      <td> 0</td>\n",
        "      <td>       spam</td>\n",
        "      <td> b</td>\n",
        "    </tr>\n",
        "    <tr>\n",
        "      <th>3</th>\n",
        "      <td>-0.1607</td>\n",
        "      <td> 2</td>\n",
        "      <td> green eggs</td>\n",
        "      <td> a</td>\n",
        "    </tr>\n",
        "    <tr>\n",
        "      <th>4</th>\n",
        "      <td> 0.0145</td>\n",
        "      <td> 1</td>\n",
        "      <td> green eggs</td>\n",
        "      <td> b</td>\n",
        "    </tr>\n",
        "    <tr>\n",
        "      <th>5</th>\n",
        "      <td>-1.5580</td>\n",
        "      <td> 0</td>\n",
        "      <td>       spam</td>\n",
        "      <td> a</td>\n",
        "    </tr>\n",
        "    <tr>\n",
        "      <th>6</th>\n",
        "      <td> 1.2568</td>\n",
        "      <td> 2</td>\n",
        "      <td>       spam</td>\n",
        "      <td> a</td>\n",
        "    </tr>\n",
        "    <tr>\n",
        "      <th>7</th>\n",
        "      <td> 0.4319</td>\n",
        "      <td> 0</td>\n",
        "      <td>       spam</td>\n",
        "      <td> c</td>\n",
        "    </tr>\n",
        "    <tr>\n",
        "      <th>8</th>\n",
        "      <td>-0.3216</td>\n",
        "      <td> 1</td>\n",
        "      <td>       spam</td>\n",
        "      <td> a</td>\n",
        "    </tr>\n",
        "    <tr>\n",
        "      <th>9</th>\n",
        "      <td>-0.1983</td>\n",
        "      <td> 0</td>\n",
        "      <td>       spam</td>\n",
        "      <td> c</td>\n",
        "    </tr>\n",
        "  </tbody>\n",
        "</table>\n",
        "<p>10 rows \u00d7 4 columns</p>\n",
        "</div>"
       ],
       "metadata": {},
       "output_type": "pyout",
       "prompt_number": 47,
       "text": [
        "   float32  int not-a-valid-variable-name str\n",
        "0  -0.8636    2                green eggs   b\n",
        "1   0.5886    2                green eggs   c\n",
        "2   0.9790    0                      spam   b\n",
        "3  -0.1607    2                green eggs   a\n",
        "4   0.0145    1                green eggs   b\n",
        "5  -1.5580    0                      spam   a\n",
        "6   1.2568    2                      spam   a\n",
        "7   0.4319    0                      spam   c\n",
        "8  -0.3216    1                      spam   a\n",
        "9  -0.1983    0                      spam   c\n",
        "\n",
        "[10 rows x 4 columns]"
       ]
      }
     ],
     "prompt_number": 47
    },
    {
     "cell_type": "code",
     "collapsed": false,
     "input": [
      "df.dtypes"
     ],
     "language": "python",
     "metadata": {},
     "outputs": [
      {
       "metadata": {},
       "output_type": "pyout",
       "prompt_number": 48,
       "text": [
        "float32                      float32\n",
        "int                            int64\n",
        "not-a-valid-variable-name     object\n",
        "str                           object\n",
        "dtype: object"
       ]
      }
     ],
     "prompt_number": 48
    },
    {
     "cell_type": "markdown",
     "metadata": {},
     "source": [
      "#### One of ``pandas``' most useful and powerful features is its ability to slice and dice data in almost any way you can think of. We'll see some advanced examples of indexing later that take advantage of some new functionality.\n",
      "#### Let's review the basics."
     ]
    },
    {
     "cell_type": "code",
     "collapsed": false,
     "input": [
      "# column access by name\n",
      "df['int']"
     ],
     "language": "python",
     "metadata": {},
     "outputs": [
      {
       "metadata": {},
       "output_type": "pyout",
       "prompt_number": 49,
       "text": [
        "0    2\n",
        "1    2\n",
        "2    0\n",
        "3    2\n",
        "4    1\n",
        "5    0\n",
        "6    2\n",
        "7    0\n",
        "8    1\n",
        "9    0\n",
        "Name: int, dtype: int64"
       ]
      }
     ],
     "prompt_number": 49
    },
    {
     "cell_type": "code",
     "collapsed": false,
     "input": [
      "# by attribute\n",
      "df.int"
     ],
     "language": "python",
     "metadata": {},
     "outputs": [
      {
       "metadata": {},
       "output_type": "pyout",
       "prompt_number": 50,
       "text": [
        "0    2\n",
        "1    2\n",
        "2    0\n",
        "3    2\n",
        "4    1\n",
        "5    0\n",
        "6    2\n",
        "7    0\n",
        "8    1\n",
        "9    0\n",
        "Name: int, dtype: int64"
       ]
      }
     ],
     "prompt_number": 50
    },
    {
     "cell_type": "code",
     "collapsed": false,
     "input": [
      "# have to use the former for invalid variable names\n",
      "df['not-a-valid-variable-name']"
     ],
     "language": "python",
     "metadata": {},
     "outputs": [
      {
       "metadata": {},
       "output_type": "pyout",
       "prompt_number": 51,
       "text": [
        "0    green eggs\n",
        "1    green eggs\n",
        "2          spam\n",
        "3    green eggs\n",
        "4    green eggs\n",
        "5          spam\n",
        "6          spam\n",
        "7          spam\n",
        "8          spam\n",
        "9          spam\n",
        "Name: not-a-valid-variable-name, dtype: object"
       ]
      }
     ],
     "prompt_number": 51
    },
    {
     "cell_type": "code",
     "collapsed": false,
     "input": [
      "# multiple columns\n",
      "df[['int', 'str']]"
     ],
     "language": "python",
     "metadata": {},
     "outputs": [
      {
       "html": [
        "<div style=\"max-height:1000px;max-width:1500px;overflow:auto;\">\n",
        "<table border=\"1\" class=\"dataframe\">\n",
        "  <thead>\n",
        "    <tr style=\"text-align: right;\">\n",
        "      <th></th>\n",
        "      <th>int</th>\n",
        "      <th>str</th>\n",
        "    </tr>\n",
        "  </thead>\n",
        "  <tbody>\n",
        "    <tr>\n",
        "      <th>0</th>\n",
        "      <td> 2</td>\n",
        "      <td> b</td>\n",
        "    </tr>\n",
        "    <tr>\n",
        "      <th>1</th>\n",
        "      <td> 2</td>\n",
        "      <td> c</td>\n",
        "    </tr>\n",
        "    <tr>\n",
        "      <th>2</th>\n",
        "      <td> 0</td>\n",
        "      <td> b</td>\n",
        "    </tr>\n",
        "    <tr>\n",
        "      <th>3</th>\n",
        "      <td> 2</td>\n",
        "      <td> a</td>\n",
        "    </tr>\n",
        "    <tr>\n",
        "      <th>4</th>\n",
        "      <td> 1</td>\n",
        "      <td> b</td>\n",
        "    </tr>\n",
        "    <tr>\n",
        "      <th>5</th>\n",
        "      <td> 0</td>\n",
        "      <td> a</td>\n",
        "    </tr>\n",
        "    <tr>\n",
        "      <th>6</th>\n",
        "      <td> 2</td>\n",
        "      <td> a</td>\n",
        "    </tr>\n",
        "    <tr>\n",
        "      <th>7</th>\n",
        "      <td> 0</td>\n",
        "      <td> c</td>\n",
        "    </tr>\n",
        "    <tr>\n",
        "      <th>8</th>\n",
        "      <td> 1</td>\n",
        "      <td> a</td>\n",
        "    </tr>\n",
        "    <tr>\n",
        "      <th>9</th>\n",
        "      <td> 0</td>\n",
        "      <td> c</td>\n",
        "    </tr>\n",
        "  </tbody>\n",
        "</table>\n",
        "<p>10 rows \u00d7 2 columns</p>\n",
        "</div>"
       ],
       "metadata": {},
       "output_type": "pyout",
       "prompt_number": 52,
       "text": [
        "   int str\n",
        "0    2   b\n",
        "1    2   c\n",
        "2    0   b\n",
        "3    2   a\n",
        "4    1   b\n",
        "5    0   a\n",
        "6    2   a\n",
        "7    0   c\n",
        "8    1   a\n",
        "9    0   c\n",
        "\n",
        "[10 rows x 2 columns]"
       ]
      }
     ],
     "prompt_number": 52
    },
    {
     "cell_type": "code",
     "collapsed": false,
     "input": [
      "# iloc, iat, loc, at\n",
      "import string  # abc's\n",
      "df = pd.DataFrame(df.to_records(index=False),\n",
      "                  index=list(string.ascii_lowercase[:len(df)]),\n",
      "                  columns=df.columns)\n",
      "df"
     ],
     "language": "python",
     "metadata": {},
     "outputs": [
      {
       "html": [
        "<div style=\"max-height:1000px;max-width:1500px;overflow:auto;\">\n",
        "<table border=\"1\" class=\"dataframe\">\n",
        "  <thead>\n",
        "    <tr style=\"text-align: right;\">\n",
        "      <th></th>\n",
        "      <th>float32</th>\n",
        "      <th>int</th>\n",
        "      <th>not-a-valid-variable-name</th>\n",
        "      <th>str</th>\n",
        "    </tr>\n",
        "  </thead>\n",
        "  <tbody>\n",
        "    <tr>\n",
        "      <th>a</th>\n",
        "      <td>-0.8636</td>\n",
        "      <td> 2</td>\n",
        "      <td> green eggs</td>\n",
        "      <td> b</td>\n",
        "    </tr>\n",
        "    <tr>\n",
        "      <th>b</th>\n",
        "      <td> 0.5886</td>\n",
        "      <td> 2</td>\n",
        "      <td> green eggs</td>\n",
        "      <td> c</td>\n",
        "    </tr>\n",
        "    <tr>\n",
        "      <th>c</th>\n",
        "      <td> 0.9790</td>\n",
        "      <td> 0</td>\n",
        "      <td>       spam</td>\n",
        "      <td> b</td>\n",
        "    </tr>\n",
        "    <tr>\n",
        "      <th>d</th>\n",
        "      <td>-0.1607</td>\n",
        "      <td> 2</td>\n",
        "      <td> green eggs</td>\n",
        "      <td> a</td>\n",
        "    </tr>\n",
        "    <tr>\n",
        "      <th>e</th>\n",
        "      <td> 0.0145</td>\n",
        "      <td> 1</td>\n",
        "      <td> green eggs</td>\n",
        "      <td> b</td>\n",
        "    </tr>\n",
        "    <tr>\n",
        "      <th>f</th>\n",
        "      <td>-1.5580</td>\n",
        "      <td> 0</td>\n",
        "      <td>       spam</td>\n",
        "      <td> a</td>\n",
        "    </tr>\n",
        "    <tr>\n",
        "      <th>g</th>\n",
        "      <td> 1.2568</td>\n",
        "      <td> 2</td>\n",
        "      <td>       spam</td>\n",
        "      <td> a</td>\n",
        "    </tr>\n",
        "    <tr>\n",
        "      <th>h</th>\n",
        "      <td> 0.4319</td>\n",
        "      <td> 0</td>\n",
        "      <td>       spam</td>\n",
        "      <td> c</td>\n",
        "    </tr>\n",
        "    <tr>\n",
        "      <th>i</th>\n",
        "      <td>-0.3216</td>\n",
        "      <td> 1</td>\n",
        "      <td>       spam</td>\n",
        "      <td> a</td>\n",
        "    </tr>\n",
        "    <tr>\n",
        "      <th>j</th>\n",
        "      <td>-0.1983</td>\n",
        "      <td> 0</td>\n",
        "      <td>       spam</td>\n",
        "      <td> c</td>\n",
        "    </tr>\n",
        "  </tbody>\n",
        "</table>\n",
        "<p>10 rows \u00d7 4 columns</p>\n",
        "</div>"
       ],
       "metadata": {},
       "output_type": "pyout",
       "prompt_number": 53,
       "text": [
        "   float32  int not-a-valid-variable-name str\n",
        "a  -0.8636    2                green eggs   b\n",
        "b   0.5886    2                green eggs   c\n",
        "c   0.9790    0                      spam   b\n",
        "d  -0.1607    2                green eggs   a\n",
        "e   0.0145    1                green eggs   b\n",
        "f  -1.5580    0                      spam   a\n",
        "g   1.2568    2                      spam   a\n",
        "h   0.4319    0                      spam   c\n",
        "i  -0.3216    1                      spam   a\n",
        "j  -0.1983    0                      spam   c\n",
        "\n",
        "[10 rows x 4 columns]"
       ]
      }
     ],
     "prompt_number": 53
    },
    {
     "cell_type": "code",
     "collapsed": false,
     "input": [
      "df.iat[0, 2]"
     ],
     "language": "python",
     "metadata": {},
     "outputs": [
      {
       "metadata": {},
       "output_type": "pyout",
       "prompt_number": 54,
       "text": [
        "'green eggs'"
       ]
      }
     ],
     "prompt_number": 54
    },
    {
     "cell_type": "code",
     "collapsed": false,
     "input": [
      "df.loc[:, 'int'] # same as df.int, more with loc later"
     ],
     "language": "python",
     "metadata": {},
     "outputs": [
      {
       "metadata": {},
       "output_type": "pyout",
       "prompt_number": 55,
       "text": [
        "a    2\n",
        "b    2\n",
        "c    0\n",
        "d    2\n",
        "e    1\n",
        "f    0\n",
        "g    2\n",
        "h    0\n",
        "i    1\n",
        "j    0\n",
        "Name: int, dtype: int64"
       ]
      }
     ],
     "prompt_number": 55
    },
    {
     "cell_type": "code",
     "collapsed": false,
     "input": [
      "df.iloc[:, 1]"
     ],
     "language": "python",
     "metadata": {},
     "outputs": [
      {
       "metadata": {},
       "output_type": "pyout",
       "prompt_number": 56,
       "text": [
        "a    2\n",
        "b    2\n",
        "c    0\n",
        "d    2\n",
        "e    1\n",
        "f    0\n",
        "g    2\n",
        "h    0\n",
        "i    1\n",
        "j    0\n",
        "Name: int, dtype: int64"
       ]
      }
     ],
     "prompt_number": 56
    },
    {
     "cell_type": "markdown",
     "metadata": {},
     "source": [
      "This may seem like a lot to remember, but there's really just two things here:\n",
      "\n",
      "* *label*-based selection ``loc``/``at``\n",
      "* *integer index*-based selection ``iloc``/``iat``"
     ]
    },
    {
     "cell_type": "code",
     "collapsed": false,
     "input": [
      "# multiple columns, multiple rows\n",
      "df.loc[['a', 'c'], ['int', 'float32']]"
     ],
     "language": "python",
     "metadata": {},
     "outputs": [
      {
       "html": [
        "<div style=\"max-height:1000px;max-width:1500px;overflow:auto;\">\n",
        "<table border=\"1\" class=\"dataframe\">\n",
        "  <thead>\n",
        "    <tr style=\"text-align: right;\">\n",
        "      <th></th>\n",
        "      <th>int</th>\n",
        "      <th>float32</th>\n",
        "    </tr>\n",
        "  </thead>\n",
        "  <tbody>\n",
        "    <tr>\n",
        "      <th>a</th>\n",
        "      <td> 2</td>\n",
        "      <td>-0.8636</td>\n",
        "    </tr>\n",
        "    <tr>\n",
        "      <th>c</th>\n",
        "      <td> 0</td>\n",
        "      <td> 0.9790</td>\n",
        "    </tr>\n",
        "  </tbody>\n",
        "</table>\n",
        "<p>2 rows \u00d7 2 columns</p>\n",
        "</div>"
       ],
       "metadata": {},
       "output_type": "pyout",
       "prompt_number": 57,
       "text": [
        "   int  float32\n",
        "a    2  -0.8636\n",
        "c    0   0.9790\n",
        "\n",
        "[2 rows x 2 columns]"
       ]
      }
     ],
     "prompt_number": 57
    },
    {
     "cell_type": "code",
     "collapsed": false,
     "input": [
      "# you can slice with loc\n",
      "# note the INCLUSIVE endpoint here\n",
      "df.loc['a':'e']"
     ],
     "language": "python",
     "metadata": {},
     "outputs": [
      {
       "html": [
        "<div style=\"max-height:1000px;max-width:1500px;overflow:auto;\">\n",
        "<table border=\"1\" class=\"dataframe\">\n",
        "  <thead>\n",
        "    <tr style=\"text-align: right;\">\n",
        "      <th></th>\n",
        "      <th>float32</th>\n",
        "      <th>int</th>\n",
        "      <th>not-a-valid-variable-name</th>\n",
        "      <th>str</th>\n",
        "    </tr>\n",
        "  </thead>\n",
        "  <tbody>\n",
        "    <tr>\n",
        "      <th>a</th>\n",
        "      <td>-0.8636</td>\n",
        "      <td> 2</td>\n",
        "      <td> green eggs</td>\n",
        "      <td> b</td>\n",
        "    </tr>\n",
        "    <tr>\n",
        "      <th>b</th>\n",
        "      <td> 0.5886</td>\n",
        "      <td> 2</td>\n",
        "      <td> green eggs</td>\n",
        "      <td> c</td>\n",
        "    </tr>\n",
        "    <tr>\n",
        "      <th>c</th>\n",
        "      <td> 0.9790</td>\n",
        "      <td> 0</td>\n",
        "      <td>       spam</td>\n",
        "      <td> b</td>\n",
        "    </tr>\n",
        "    <tr>\n",
        "      <th>d</th>\n",
        "      <td>-0.1607</td>\n",
        "      <td> 2</td>\n",
        "      <td> green eggs</td>\n",
        "      <td> a</td>\n",
        "    </tr>\n",
        "    <tr>\n",
        "      <th>e</th>\n",
        "      <td> 0.0145</td>\n",
        "      <td> 1</td>\n",
        "      <td> green eggs</td>\n",
        "      <td> b</td>\n",
        "    </tr>\n",
        "  </tbody>\n",
        "</table>\n",
        "<p>5 rows \u00d7 4 columns</p>\n",
        "</div>"
       ],
       "metadata": {},
       "output_type": "pyout",
       "prompt_number": 58,
       "text": [
        "   float32  int not-a-valid-variable-name str\n",
        "a  -0.8636    2                green eggs   b\n",
        "b   0.5886    2                green eggs   c\n",
        "c   0.9790    0                      spam   b\n",
        "d  -0.1607    2                green eggs   a\n",
        "e   0.0145    1                green eggs   b\n",
        "\n",
        "[5 rows x 4 columns]"
       ]
      }
     ],
     "prompt_number": 58
    },
    {
     "cell_type": "code",
     "collapsed": false,
     "input": [
      "# and with iloc\n",
      "df.iloc[:5]"
     ],
     "language": "python",
     "metadata": {},
     "outputs": [
      {
       "html": [
        "<div style=\"max-height:1000px;max-width:1500px;overflow:auto;\">\n",
        "<table border=\"1\" class=\"dataframe\">\n",
        "  <thead>\n",
        "    <tr style=\"text-align: right;\">\n",
        "      <th></th>\n",
        "      <th>float32</th>\n",
        "      <th>int</th>\n",
        "      <th>not-a-valid-variable-name</th>\n",
        "      <th>str</th>\n",
        "    </tr>\n",
        "  </thead>\n",
        "  <tbody>\n",
        "    <tr>\n",
        "      <th>a</th>\n",
        "      <td>-0.8636</td>\n",
        "      <td> 2</td>\n",
        "      <td> green eggs</td>\n",
        "      <td> b</td>\n",
        "    </tr>\n",
        "    <tr>\n",
        "      <th>b</th>\n",
        "      <td> 0.5886</td>\n",
        "      <td> 2</td>\n",
        "      <td> green eggs</td>\n",
        "      <td> c</td>\n",
        "    </tr>\n",
        "    <tr>\n",
        "      <th>c</th>\n",
        "      <td> 0.9790</td>\n",
        "      <td> 0</td>\n",
        "      <td>       spam</td>\n",
        "      <td> b</td>\n",
        "    </tr>\n",
        "    <tr>\n",
        "      <th>d</th>\n",
        "      <td>-0.1607</td>\n",
        "      <td> 2</td>\n",
        "      <td> green eggs</td>\n",
        "      <td> a</td>\n",
        "    </tr>\n",
        "    <tr>\n",
        "      <th>e</th>\n",
        "      <td> 0.0145</td>\n",
        "      <td> 1</td>\n",
        "      <td> green eggs</td>\n",
        "      <td> b</td>\n",
        "    </tr>\n",
        "  </tbody>\n",
        "</table>\n",
        "<p>5 rows \u00d7 4 columns</p>\n",
        "</div>"
       ],
       "metadata": {},
       "output_type": "pyout",
       "prompt_number": 59,
       "text": [
        "   float32  int not-a-valid-variable-name str\n",
        "a  -0.8636    2                green eggs   b\n",
        "b   0.5886    2                green eggs   c\n",
        "c   0.9790    0                      spam   b\n",
        "d  -0.1607    2                green eggs   a\n",
        "e   0.0145    1                green eggs   b\n",
        "\n",
        "[5 rows x 4 columns]"
       ]
      }
     ],
     "prompt_number": 59
    },
    {
     "cell_type": "code",
     "collapsed": false,
     "input": [
      "# at-style access is faster for scalars\n",
      "# but don't go using them to \"vectorize\" all the things\n",
      "%timeit df.iat[0, 0]"
     ],
     "language": "python",
     "metadata": {},
     "outputs": [
      {
       "output_type": "stream",
       "stream": "stdout",
       "text": [
        "100000 loops, best of 3: 9.72 \u00b5s per loop\n"
       ]
      }
     ],
     "prompt_number": 60
    },
    {
     "cell_type": "code",
     "collapsed": false,
     "input": [
      "%timeit df.iloc[0, 0]"
     ],
     "language": "python",
     "metadata": {},
     "outputs": [
      {
       "output_type": "stream",
       "stream": "stdout",
       "text": [
        "10000 loops, best of 3: 142 \u00b5s per loop\n"
       ]
      }
     ],
     "prompt_number": 61
    },
    {
     "cell_type": "heading",
     "level": 2,
     "metadata": {},
     "source": [
      "Miscellaneous Useful Methods"
     ]
    },
    {
     "cell_type": "code",
     "collapsed": false,
     "input": [
      "# sort by particular column\n",
      "df.sort('float32')"
     ],
     "language": "python",
     "metadata": {},
     "outputs": [
      {
       "html": [
        "<div style=\"max-height:1000px;max-width:1500px;overflow:auto;\">\n",
        "<table border=\"1\" class=\"dataframe\">\n",
        "  <thead>\n",
        "    <tr style=\"text-align: right;\">\n",
        "      <th></th>\n",
        "      <th>float32</th>\n",
        "      <th>int</th>\n",
        "      <th>not-a-valid-variable-name</th>\n",
        "      <th>str</th>\n",
        "    </tr>\n",
        "  </thead>\n",
        "  <tbody>\n",
        "    <tr>\n",
        "      <th>f</th>\n",
        "      <td>-1.5580</td>\n",
        "      <td> 0</td>\n",
        "      <td>       spam</td>\n",
        "      <td> a</td>\n",
        "    </tr>\n",
        "    <tr>\n",
        "      <th>a</th>\n",
        "      <td>-0.8636</td>\n",
        "      <td> 2</td>\n",
        "      <td> green eggs</td>\n",
        "      <td> b</td>\n",
        "    </tr>\n",
        "    <tr>\n",
        "      <th>i</th>\n",
        "      <td>-0.3216</td>\n",
        "      <td> 1</td>\n",
        "      <td>       spam</td>\n",
        "      <td> a</td>\n",
        "    </tr>\n",
        "    <tr>\n",
        "      <th>j</th>\n",
        "      <td>-0.1983</td>\n",
        "      <td> 0</td>\n",
        "      <td>       spam</td>\n",
        "      <td> c</td>\n",
        "    </tr>\n",
        "    <tr>\n",
        "      <th>d</th>\n",
        "      <td>-0.1607</td>\n",
        "      <td> 2</td>\n",
        "      <td> green eggs</td>\n",
        "      <td> a</td>\n",
        "    </tr>\n",
        "    <tr>\n",
        "      <th>e</th>\n",
        "      <td> 0.0145</td>\n",
        "      <td> 1</td>\n",
        "      <td> green eggs</td>\n",
        "      <td> b</td>\n",
        "    </tr>\n",
        "    <tr>\n",
        "      <th>h</th>\n",
        "      <td> 0.4319</td>\n",
        "      <td> 0</td>\n",
        "      <td>       spam</td>\n",
        "      <td> c</td>\n",
        "    </tr>\n",
        "    <tr>\n",
        "      <th>b</th>\n",
        "      <td> 0.5886</td>\n",
        "      <td> 2</td>\n",
        "      <td> green eggs</td>\n",
        "      <td> c</td>\n",
        "    </tr>\n",
        "    <tr>\n",
        "      <th>c</th>\n",
        "      <td> 0.9790</td>\n",
        "      <td> 0</td>\n",
        "      <td>       spam</td>\n",
        "      <td> b</td>\n",
        "    </tr>\n",
        "    <tr>\n",
        "      <th>g</th>\n",
        "      <td> 1.2568</td>\n",
        "      <td> 2</td>\n",
        "      <td>       spam</td>\n",
        "      <td> a</td>\n",
        "    </tr>\n",
        "  </tbody>\n",
        "</table>\n",
        "<p>10 rows \u00d7 4 columns</p>\n",
        "</div>"
       ],
       "metadata": {},
       "output_type": "pyout",
       "prompt_number": 62,
       "text": [
        "   float32  int not-a-valid-variable-name str\n",
        "f  -1.5580    0                      spam   a\n",
        "a  -0.8636    2                green eggs   b\n",
        "i  -0.3216    1                      spam   a\n",
        "j  -0.1983    0                      spam   c\n",
        "d  -0.1607    2                green eggs   a\n",
        "e   0.0145    1                green eggs   b\n",
        "h   0.4319    0                      spam   c\n",
        "b   0.5886    2                green eggs   c\n",
        "c   0.9790    0                      spam   b\n",
        "g   1.2568    2                      spam   a\n",
        "\n",
        "[10 rows x 4 columns]"
       ]
      }
     ],
     "prompt_number": 62
    },
    {
     "cell_type": "code",
     "collapsed": false,
     "input": [
      "# nested sorting\n",
      "df.sort(['int', 'str'])"
     ],
     "language": "python",
     "metadata": {},
     "outputs": [
      {
       "html": [
        "<div style=\"max-height:1000px;max-width:1500px;overflow:auto;\">\n",
        "<table border=\"1\" class=\"dataframe\">\n",
        "  <thead>\n",
        "    <tr style=\"text-align: right;\">\n",
        "      <th></th>\n",
        "      <th>float32</th>\n",
        "      <th>int</th>\n",
        "      <th>not-a-valid-variable-name</th>\n",
        "      <th>str</th>\n",
        "    </tr>\n",
        "  </thead>\n",
        "  <tbody>\n",
        "    <tr>\n",
        "      <th>f</th>\n",
        "      <td>-1.5580</td>\n",
        "      <td> 0</td>\n",
        "      <td>       spam</td>\n",
        "      <td> a</td>\n",
        "    </tr>\n",
        "    <tr>\n",
        "      <th>c</th>\n",
        "      <td> 0.9790</td>\n",
        "      <td> 0</td>\n",
        "      <td>       spam</td>\n",
        "      <td> b</td>\n",
        "    </tr>\n",
        "    <tr>\n",
        "      <th>h</th>\n",
        "      <td> 0.4319</td>\n",
        "      <td> 0</td>\n",
        "      <td>       spam</td>\n",
        "      <td> c</td>\n",
        "    </tr>\n",
        "    <tr>\n",
        "      <th>j</th>\n",
        "      <td>-0.1983</td>\n",
        "      <td> 0</td>\n",
        "      <td>       spam</td>\n",
        "      <td> c</td>\n",
        "    </tr>\n",
        "    <tr>\n",
        "      <th>i</th>\n",
        "      <td>-0.3216</td>\n",
        "      <td> 1</td>\n",
        "      <td>       spam</td>\n",
        "      <td> a</td>\n",
        "    </tr>\n",
        "    <tr>\n",
        "      <th>e</th>\n",
        "      <td> 0.0145</td>\n",
        "      <td> 1</td>\n",
        "      <td> green eggs</td>\n",
        "      <td> b</td>\n",
        "    </tr>\n",
        "    <tr>\n",
        "      <th>d</th>\n",
        "      <td>-0.1607</td>\n",
        "      <td> 2</td>\n",
        "      <td> green eggs</td>\n",
        "      <td> a</td>\n",
        "    </tr>\n",
        "    <tr>\n",
        "      <th>g</th>\n",
        "      <td> 1.2568</td>\n",
        "      <td> 2</td>\n",
        "      <td>       spam</td>\n",
        "      <td> a</td>\n",
        "    </tr>\n",
        "    <tr>\n",
        "      <th>a</th>\n",
        "      <td>-0.8636</td>\n",
        "      <td> 2</td>\n",
        "      <td> green eggs</td>\n",
        "      <td> b</td>\n",
        "    </tr>\n",
        "    <tr>\n",
        "      <th>b</th>\n",
        "      <td> 0.5886</td>\n",
        "      <td> 2</td>\n",
        "      <td> green eggs</td>\n",
        "      <td> c</td>\n",
        "    </tr>\n",
        "  </tbody>\n",
        "</table>\n",
        "<p>10 rows \u00d7 4 columns</p>\n",
        "</div>"
       ],
       "metadata": {},
       "output_type": "pyout",
       "prompt_number": 63,
       "text": [
        "   float32  int not-a-valid-variable-name str\n",
        "f  -1.5580    0                      spam   a\n",
        "c   0.9790    0                      spam   b\n",
        "h   0.4319    0                      spam   c\n",
        "j  -0.1983    0                      spam   c\n",
        "i  -0.3216    1                      spam   a\n",
        "e   0.0145    1                green eggs   b\n",
        "d  -0.1607    2                green eggs   a\n",
        "g   1.2568    2                      spam   a\n",
        "a  -0.8636    2                green eggs   b\n",
        "b   0.5886    2                green eggs   c\n",
        "\n",
        "[10 rows x 4 columns]"
       ]
      }
     ],
     "prompt_number": 63
    },
    {
     "cell_type": "code",
     "collapsed": false,
     "input": [
      "df.dtypes"
     ],
     "language": "python",
     "metadata": {},
     "outputs": [
      {
       "metadata": {},
       "output_type": "pyout",
       "prompt_number": 64,
       "text": [
        "float32                      float32\n",
        "int                            int64\n",
        "not-a-valid-variable-name     object\n",
        "str                           object\n",
        "dtype: object"
       ]
      }
     ],
     "prompt_number": 64
    },
    {
     "cell_type": "heading",
     "level": 2,
     "metadata": {},
     "source": [
      "Mapping"
     ]
    },
    {
     "cell_type": "markdown",
     "metadata": {},
     "source": [
      "Apply a function over the columns of a ``DataFrame``"
     ]
    },
    {
     "cell_type": "code",
     "collapsed": false,
     "input": [
      "df = pd.DataFrame(randint(3, size=(5, 2)), columns=list('ab'))\n",
      "df"
     ],
     "language": "python",
     "metadata": {},
     "outputs": [
      {
       "html": [
        "<div style=\"max-height:1000px;max-width:1500px;overflow:auto;\">\n",
        "<table border=\"1\" class=\"dataframe\">\n",
        "  <thead>\n",
        "    <tr style=\"text-align: right;\">\n",
        "      <th></th>\n",
        "      <th>a</th>\n",
        "      <th>b</th>\n",
        "    </tr>\n",
        "  </thead>\n",
        "  <tbody>\n",
        "    <tr>\n",
        "      <th>0</th>\n",
        "      <td> 1</td>\n",
        "      <td> 0</td>\n",
        "    </tr>\n",
        "    <tr>\n",
        "      <th>1</th>\n",
        "      <td> 0</td>\n",
        "      <td> 0</td>\n",
        "    </tr>\n",
        "    <tr>\n",
        "      <th>2</th>\n",
        "      <td> 2</td>\n",
        "      <td> 2</td>\n",
        "    </tr>\n",
        "    <tr>\n",
        "      <th>3</th>\n",
        "      <td> 1</td>\n",
        "      <td> 1</td>\n",
        "    </tr>\n",
        "    <tr>\n",
        "      <th>4</th>\n",
        "      <td> 0</td>\n",
        "      <td> 0</td>\n",
        "    </tr>\n",
        "  </tbody>\n",
        "</table>\n",
        "<p>5 rows \u00d7 2 columns</p>\n",
        "</div>"
       ],
       "metadata": {},
       "output_type": "pyout",
       "prompt_number": 65,
       "text": [
        "   a  b\n",
        "0  1  0\n",
        "1  0  0\n",
        "2  2  2\n",
        "3  1  1\n",
        "4  0  0\n",
        "\n",
        "[5 rows x 2 columns]"
       ]
      }
     ],
     "prompt_number": 65
    },
    {
     "cell_type": "code",
     "collapsed": false,
     "input": [
      "def add_two(column):\n",
      "    return column + 2\n",
      "\n",
      "df.apply(add_two)"
     ],
     "language": "python",
     "metadata": {},
     "outputs": [
      {
       "html": [
        "<div style=\"max-height:1000px;max-width:1500px;overflow:auto;\">\n",
        "<table border=\"1\" class=\"dataframe\">\n",
        "  <thead>\n",
        "    <tr style=\"text-align: right;\">\n",
        "      <th></th>\n",
        "      <th>a</th>\n",
        "      <th>b</th>\n",
        "    </tr>\n",
        "  </thead>\n",
        "  <tbody>\n",
        "    <tr>\n",
        "      <th>0</th>\n",
        "      <td> 3</td>\n",
        "      <td> 2</td>\n",
        "    </tr>\n",
        "    <tr>\n",
        "      <th>1</th>\n",
        "      <td> 2</td>\n",
        "      <td> 2</td>\n",
        "    </tr>\n",
        "    <tr>\n",
        "      <th>2</th>\n",
        "      <td> 4</td>\n",
        "      <td> 4</td>\n",
        "    </tr>\n",
        "    <tr>\n",
        "      <th>3</th>\n",
        "      <td> 3</td>\n",
        "      <td> 3</td>\n",
        "    </tr>\n",
        "    <tr>\n",
        "      <th>4</th>\n",
        "      <td> 2</td>\n",
        "      <td> 2</td>\n",
        "    </tr>\n",
        "  </tbody>\n",
        "</table>\n",
        "<p>5 rows \u00d7 2 columns</p>\n",
        "</div>"
       ],
       "metadata": {},
       "output_type": "pyout",
       "prompt_number": 66,
       "text": [
        "   a  b\n",
        "0  3  2\n",
        "1  2  2\n",
        "2  4  4\n",
        "3  3  3\n",
        "4  2  2\n",
        "\n",
        "[5 rows x 2 columns]"
       ]
      }
     ],
     "prompt_number": 66
    },
    {
     "cell_type": "code",
     "collapsed": false,
     "input": [
      "# applymap applies a function to each element of the framed\n",
      "\n",
      "def asciify(element):\n",
      "    return chr(element + 50 + randint(1, 40))\n",
      "\n",
      "df.applymap(asciify)"
     ],
     "language": "python",
     "metadata": {},
     "outputs": [
      {
       "html": [
        "<div style=\"max-height:1000px;max-width:1500px;overflow:auto;\">\n",
        "<table border=\"1\" class=\"dataframe\">\n",
        "  <thead>\n",
        "    <tr style=\"text-align: right;\">\n",
        "      <th></th>\n",
        "      <th>a</th>\n",
        "      <th>b</th>\n",
        "    </tr>\n",
        "  </thead>\n",
        "  <tbody>\n",
        "    <tr>\n",
        "      <th>0</th>\n",
        "      <td> W</td>\n",
        "      <td> Q</td>\n",
        "    </tr>\n",
        "    <tr>\n",
        "      <th>1</th>\n",
        "      <td> ?</td>\n",
        "      <td> D</td>\n",
        "    </tr>\n",
        "    <tr>\n",
        "      <th>2</th>\n",
        "      <td> B</td>\n",
        "      <td> C</td>\n",
        "    </tr>\n",
        "    <tr>\n",
        "      <th>3</th>\n",
        "      <td> 8</td>\n",
        "      <td> R</td>\n",
        "    </tr>\n",
        "    <tr>\n",
        "      <th>4</th>\n",
        "      <td> E</td>\n",
        "      <td> ;</td>\n",
        "    </tr>\n",
        "  </tbody>\n",
        "</table>\n",
        "<p>5 rows \u00d7 2 columns</p>\n",
        "</div>"
       ],
       "metadata": {},
       "output_type": "pyout",
       "prompt_number": 67,
       "text": [
        "   a  b\n",
        "0  W  Q\n",
        "1  ?  D\n",
        "2  B  C\n",
        "3  8  R\n",
        "4  E  ;\n",
        "\n",
        "[5 rows x 2 columns]"
       ]
      }
     ],
     "prompt_number": 67
    },
    {
     "cell_type": "heading",
     "level": 2,
     "metadata": {},
     "source": [
      "Reductions"
     ]
    },
    {
     "cell_type": "markdown",
     "metadata": {},
     "source": [
      "The ``DataFrame.sum()`` method results in a ``Series`` object and by default sums across the rows. If you want to sum across the columns pass ``axis=1``, similar to the ``numpy`` convention.a"
     ]
    },
    {
     "cell_type": "markdown",
     "metadata": {},
     "source": [
      "In general, reduction operations result in a ``Series`` object.\n",
      "\n",
      "Some example reduction functions:\n",
      "\n",
      "* ``mean``\n",
      "* ``median``\n",
      "* ``mode``\n",
      "* ``count``\n",
      "* ``std``/``var`` (normalizes by $n - 1$ by default [numpy uses $n$])\n",
      "\n",
      "**NOTE:** These ignore ``NaN`` in the computation"
     ]
    },
    {
     "cell_type": "heading",
     "level": 2,
     "metadata": {},
     "source": [
      "``GroupBy``"
     ]
    },
    {
     "cell_type": "heading",
     "level": 3,
     "metadata": {},
     "source": [
      "Reductions"
     ]
    },
    {
     "cell_type": "heading",
     "level": 3,
     "metadata": {},
     "source": [
      "``apply``"
     ]
    },
    {
     "cell_type": "heading",
     "level": 2,
     "metadata": {},
     "source": [
      "``merge``"
     ]
    },
    {
     "cell_type": "heading",
     "level": 2,
     "metadata": {},
     "source": [
      "Time Series Functionality"
     ]
    },
    {
     "cell_type": "heading",
     "level": 3,
     "metadata": {},
     "source": [
      "Construction"
     ]
    },
    {
     "cell_type": "heading",
     "level": 3,
     "metadata": {},
     "source": [
      "``resample``"
     ]
    },
    {
     "cell_type": "heading",
     "level": 2,
     "metadata": {},
     "source": [
      "Basic IO"
     ]
    },
    {
     "cell_type": "heading",
     "level": 3,
     "metadata": {},
     "source": [
      "CSV"
     ]
    },
    {
     "cell_type": "heading",
     "level": 3,
     "metadata": {},
     "source": [
      "HDF5"
     ]
    },
    {
     "cell_type": "heading",
     "level": 1,
     "metadata": {},
     "source": [
      "Next Up:\n",
      "\n",
      "[Teh Featurez!](Features.ipynb)"
     ]
    }
   ],
   "metadata": {}
  }
 ]
}