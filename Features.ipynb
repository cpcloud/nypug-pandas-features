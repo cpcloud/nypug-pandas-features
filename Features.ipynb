{
 "metadata": {
  "name": "",
  "signature": "sha256:1a776cdcfc0e13a3b36ced1052dbef63c6d99c6bcb6bdcf8c76d5a5684249d38"
 },
 "nbformat": 3,
 "nbformat_minor": 0,
 "worksheets": [
  {
   "cells": [
    {
     "cell_type": "heading",
     "level": 3,
     "metadata": {},
     "source": [
      "[Back to the Whir-torial](Whir-torial.ipynb)"
     ]
    },
    {
     "cell_type": "heading",
     "level": 1,
     "metadata": {},
     "source": [
      "New Features"
     ]
    },
    {
     "cell_type": "heading",
     "level": 2,
     "metadata": {},
     "source": [
      "v0.11"
     ]
    },
    {
     "cell_type": "heading",
     "level": 2,
     "metadata": {},
     "source": [
      "v0.12"
     ]
    },
    {
     "cell_type": "heading",
     "level": 2,
     "metadata": {},
     "source": [
      "v0.13"
     ]
    },
    {
     "cell_type": "heading",
     "level": 2,
     "metadata": {},
     "source": [
      "v0.14 (soon to be released)"
     ]
    }
   ],
   "metadata": {}
  }
 ]
}